{
 "cells": [
  {
   "cell_type": "code",
   "execution_count": 2,
   "outputs": [
    {
     "name": "stderr",
     "output_type": "stream",
     "text": [
      "/var/folders/qc/xp9q1kcj79315fgc2jdgwtv00000gn/T/ipykernel_48179/2070473354.py:8: DtypeWarning: Columns (8,12,14,21,24,28,33,45,46,51) have mixed types. Specify dtype option on import or set low_memory=False.\n",
      "  df = pd.read_csv(PATH)\n"
     ]
    },
    {
     "data": {
      "text/plain": "Unnamed: 0    2502427\niso_o             325\niso_d             325\nyear              188\nFLOW           787987\n               ...   \nOECD_d              2\nEU_o                2\nEU_d                2\nGATT_o              2\nGATT_d              2\nLength: 64, dtype: int64"
     },
     "execution_count": 1,
     "metadata": {},
     "output_type": "execute_result"
    },
    {
     "name": "stderr",
     "output_type": "stream",
     "text": [
      "/var/folders/qc/xp9q1kcj79315fgc2jdgwtv00000gn/T/ipykernel_48179/4161963862.py:8: DtypeWarning: Columns (8,12,14,21,24,28,33,45,46,51) have mixed types. Specify dtype option on import or set low_memory=False.\n",
      "  df = pd.read_csv(PATH)\n"
     ]
    },
    {
     "data": {
      "text/plain": "Unnamed: 0    2502427\niso_o             325\niso_d             325\nyear              188\nFLOW           787987\n               ...   \nOECD_d              2\nEU_o                2\nEU_d                2\nGATT_o              2\nGATT_d              2\nLength: 64, dtype: int64"
     },
     "execution_count": 2,
     "metadata": {},
     "output_type": "execute_result"
    }
   ],
   "source": [
    "import tensorflow as tf\n",
    "from tensorflow import keras\n",
    "import numpy as np\n",
    "import pandas as pd\n",
    "import matplotlib.pyplot as plt\n",
    "\n",
    "PATH = \"../datasets/tradhist.csv\"\n",
    "df = pd.read_csv(PATH)\n",
    "\n",
    "df.nunique()"
   ],
   "metadata": {
    "collapsed": false,
    "pycharm": {
     "name": "#%%\n"
    }
   }
  },
  {
   "cell_type": "code",
   "execution_count": null,
   "outputs": [],
   "source": [
    "df[df[\"FLOW\"] > 10000][\"FLOW\"]"
   ],
   "metadata": {
    "collapsed": false,
    "pycharm": {
     "name": "#%%\n"
    }
   }
  }
 ],
 "metadata": {
  "kernelspec": {
   "display_name": "Python 3",
   "language": "python",
   "name": "python3"
  },
  "language_info": {
   "codemirror_mode": {
    "name": "ipython",
    "version": 2
   },
   "file_extension": ".py",
   "mimetype": "text/x-python",
   "name": "python",
   "nbconvert_exporter": "python",
   "pygments_lexer": "ipython2",
   "version": "2.7.6"
  }
 },
 "nbformat": 4,
 "nbformat_minor": 0
}