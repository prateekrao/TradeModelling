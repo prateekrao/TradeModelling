{
 "cells": [
  {
   "cell_type": "code",
   "execution_count": 155,
   "outputs": [],
   "source": [
    "import numpy as np\n",
    "import pandas as pd\n",
    "import matplotlib.pyplot as plt\n",
    "from statsmodels.graphics.tsaplots import plot_acf, plot_pacf\n",
    "from statsmodels.tsa.arima.model import ARIMA"
   ],
   "metadata": {
    "collapsed": false,
    "pycharm": {
     "name": "#%%\n"
    }
   }
  },
  {
   "cell_type": "code",
   "execution_count": 215,
   "outputs": [
    {
     "name": "stderr",
     "output_type": "stream",
     "text": [
      "/var/folders/qc/xp9q1kcj79315fgc2jdgwtv00000gn/T/ipykernel_8524/562444793.py:2: DtypeWarning: Columns (8,12,14,21,24,28,33,45,46,51) have mixed types. Specify dtype option on import or set low_memory=False.\n",
      "  df = pd.read_csv(PATH)\n"
     ]
    }
   ],
   "source": [
    "PATH = \"../datasets/tradhist.csv\"\n",
    "df = pd.read_csv(PATH)"
   ],
   "metadata": {
    "collapsed": false,
    "pycharm": {
     "name": "#%%\n"
    }
   }
  },
  {
   "cell_type": "code",
   "execution_count": 216,
   "outputs": [],
   "source": [
    "df_new = df.loc[(df[\"iso_o\"] == \"USA\") & (df[\"iso_d\"] == \"CHN\")]"
   ],
   "metadata": {
    "collapsed": false,
    "pycharm": {
     "name": "#%%\n"
    }
   }
  },
  {
   "cell_type": "code",
   "execution_count": 217,
   "outputs": [],
   "source": [
    "features = ['GDP_o', 'GDP_d', 'POP_o','POP_d',\n",
    "            'Distw', 'Comlang', 'Contig', 'XPTOT_o', 'IPTOT_d', 'IPTOT_o', 'XPTOT_d'\n",
    "    , \"year\", \"FLOW\"]"
   ],
   "metadata": {
    "collapsed": false,
    "pycharm": {
     "name": "#%%\n"
    }
   }
  },
  {
   "cell_type": "code",
   "execution_count": 218,
   "outputs": [],
   "source": [
    "df_new = df_new[features]"
   ],
   "metadata": {
    "collapsed": false,
    "pycharm": {
     "name": "#%%\n"
    }
   }
  },
  {
   "cell_type": "code",
   "execution_count": 219,
   "outputs": [
    {
     "data": {
      "text/plain": "                GDP_o         GDP_d       POP_o      POP_d         Distw  \\\n2332099  9.577647e+08  2.716856e+09   35192.434   369281.9  11183.428123   \n2332100  1.297010e+09  1.974545e+09   36031.387   367377.2  11183.428123   \n2332101  1.320378e+09  2.091302e+09   36869.367   365482.3  11183.428123   \n2332102  1.247594e+09  1.674092e+09   37708.380   363597.2  11183.428123   \n2332103  1.204816e+09  1.435407e+09   38546.414   361721.8  11183.428123   \n...               ...           ...         ...        ...           ...   \n2332245  9.684627e+12  3.908740e+12  309346.880  1337705.0  11183.428123   \n2332246  9.685374e+12  4.676334e+12  311718.840  1344130.0  11183.428123   \n2332247  1.022704e+13  5.356605e+12  314102.620  1350695.0  11183.428123   \n2332248  1.065877e+13  6.070768e+12  316427.400  1357380.0  11183.428123   \n2332249  1.054294e+13  6.290681e+12  318907.400  1364270.0  11183.428123   \n\n         Comlang  Contig       XPTOT_o       IPTOT_d       IPTOT_o  \\\n2332099      0.0     0.0  1.444320e+07  1.350781e+07  3.189540e+07   \n2332100      0.0     0.0  1.781000e+07  1.932630e+07  3.146000e+07   \n2332101      0.0     0.0  4.914520e+07  2.333031e+07  6.368520e+07   \n2332102      0.0     0.0  4.146800e+07  2.137470e+07  5.938810e+07   \n2332103      0.0     0.0  3.940850e+07  2.160084e+07  5.303300e+07   \n...          ...     ...           ...           ...           ...   \n2332245      0.0     0.0  8.267647e+11  9.021093e+11  1.273726e+12   \n2332246      0.0     0.0  9.252765e+11  1.086898e+12  1.378072e+12   \n2332247      0.0     0.0  9.785577e+11  1.150462e+12  1.440980e+12   \n2332248      0.0     0.0  1.009660e+12  1.246891e+12  1.450988e+12   \n2332249      0.0     0.0  9.848143e+11  1.193041e+12  1.426755e+12   \n\n              XPTOT_d  year          FLOW  \n2332099  1.766651e+07  1864  1.041224e+06  \n2332100  1.876707e+07  1865  1.508103e+05  \n2332101  1.757253e+07  1866  9.068586e+04  \n2332102  1.784953e+07  1867  2.166406e+05  \n2332103  2.099144e+07  1868  2.531170e+05  \n...               ...   ...           ...  \n2332245  1.160983e+12  2010  6.598572e+10  \n2332246  1.285863e+12  2011  7.437514e+10  \n2332247  1.356310e+12  2012  8.143390e+10  \n2332248  1.428233e+12  2013  9.401673e+10  \n2332249  1.439870e+12  2014  9.367307e+10  \n\n[120 rows x 13 columns]",
      "text/html": "<div>\n<style scoped>\n    .dataframe tbody tr th:only-of-type {\n        vertical-align: middle;\n    }\n\n    .dataframe tbody tr th {\n        vertical-align: top;\n    }\n\n    .dataframe thead th {\n        text-align: right;\n    }\n</style>\n<table border=\"1\" class=\"dataframe\">\n  <thead>\n    <tr style=\"text-align: right;\">\n      <th></th>\n      <th>GDP_o</th>\n      <th>GDP_d</th>\n      <th>POP_o</th>\n      <th>POP_d</th>\n      <th>Distw</th>\n      <th>Comlang</th>\n      <th>Contig</th>\n      <th>XPTOT_o</th>\n      <th>IPTOT_d</th>\n      <th>IPTOT_o</th>\n      <th>XPTOT_d</th>\n      <th>year</th>\n      <th>FLOW</th>\n    </tr>\n  </thead>\n  <tbody>\n    <tr>\n      <th>2332099</th>\n      <td>9.577647e+08</td>\n      <td>2.716856e+09</td>\n      <td>35192.434</td>\n      <td>369281.9</td>\n      <td>11183.428123</td>\n      <td>0.0</td>\n      <td>0.0</td>\n      <td>1.444320e+07</td>\n      <td>1.350781e+07</td>\n      <td>3.189540e+07</td>\n      <td>1.766651e+07</td>\n      <td>1864</td>\n      <td>1.041224e+06</td>\n    </tr>\n    <tr>\n      <th>2332100</th>\n      <td>1.297010e+09</td>\n      <td>1.974545e+09</td>\n      <td>36031.387</td>\n      <td>367377.2</td>\n      <td>11183.428123</td>\n      <td>0.0</td>\n      <td>0.0</td>\n      <td>1.781000e+07</td>\n      <td>1.932630e+07</td>\n      <td>3.146000e+07</td>\n      <td>1.876707e+07</td>\n      <td>1865</td>\n      <td>1.508103e+05</td>\n    </tr>\n    <tr>\n      <th>2332101</th>\n      <td>1.320378e+09</td>\n      <td>2.091302e+09</td>\n      <td>36869.367</td>\n      <td>365482.3</td>\n      <td>11183.428123</td>\n      <td>0.0</td>\n      <td>0.0</td>\n      <td>4.914520e+07</td>\n      <td>2.333031e+07</td>\n      <td>6.368520e+07</td>\n      <td>1.757253e+07</td>\n      <td>1866</td>\n      <td>9.068586e+04</td>\n    </tr>\n    <tr>\n      <th>2332102</th>\n      <td>1.247594e+09</td>\n      <td>1.674092e+09</td>\n      <td>37708.380</td>\n      <td>363597.2</td>\n      <td>11183.428123</td>\n      <td>0.0</td>\n      <td>0.0</td>\n      <td>4.146800e+07</td>\n      <td>2.137470e+07</td>\n      <td>5.938810e+07</td>\n      <td>1.784953e+07</td>\n      <td>1867</td>\n      <td>2.166406e+05</td>\n    </tr>\n    <tr>\n      <th>2332103</th>\n      <td>1.204816e+09</td>\n      <td>1.435407e+09</td>\n      <td>38546.414</td>\n      <td>361721.8</td>\n      <td>11183.428123</td>\n      <td>0.0</td>\n      <td>0.0</td>\n      <td>3.940850e+07</td>\n      <td>2.160084e+07</td>\n      <td>5.303300e+07</td>\n      <td>2.099144e+07</td>\n      <td>1868</td>\n      <td>2.531170e+05</td>\n    </tr>\n    <tr>\n      <th>...</th>\n      <td>...</td>\n      <td>...</td>\n      <td>...</td>\n      <td>...</td>\n      <td>...</td>\n      <td>...</td>\n      <td>...</td>\n      <td>...</td>\n      <td>...</td>\n      <td>...</td>\n      <td>...</td>\n      <td>...</td>\n      <td>...</td>\n    </tr>\n    <tr>\n      <th>2332245</th>\n      <td>9.684627e+12</td>\n      <td>3.908740e+12</td>\n      <td>309346.880</td>\n      <td>1337705.0</td>\n      <td>11183.428123</td>\n      <td>0.0</td>\n      <td>0.0</td>\n      <td>8.267647e+11</td>\n      <td>9.021093e+11</td>\n      <td>1.273726e+12</td>\n      <td>1.160983e+12</td>\n      <td>2010</td>\n      <td>6.598572e+10</td>\n    </tr>\n    <tr>\n      <th>2332246</th>\n      <td>9.685374e+12</td>\n      <td>4.676334e+12</td>\n      <td>311718.840</td>\n      <td>1344130.0</td>\n      <td>11183.428123</td>\n      <td>0.0</td>\n      <td>0.0</td>\n      <td>9.252765e+11</td>\n      <td>1.086898e+12</td>\n      <td>1.378072e+12</td>\n      <td>1.285863e+12</td>\n      <td>2011</td>\n      <td>7.437514e+10</td>\n    </tr>\n    <tr>\n      <th>2332247</th>\n      <td>1.022704e+13</td>\n      <td>5.356605e+12</td>\n      <td>314102.620</td>\n      <td>1350695.0</td>\n      <td>11183.428123</td>\n      <td>0.0</td>\n      <td>0.0</td>\n      <td>9.785577e+11</td>\n      <td>1.150462e+12</td>\n      <td>1.440980e+12</td>\n      <td>1.356310e+12</td>\n      <td>2012</td>\n      <td>8.143390e+10</td>\n    </tr>\n    <tr>\n      <th>2332248</th>\n      <td>1.065877e+13</td>\n      <td>6.070768e+12</td>\n      <td>316427.400</td>\n      <td>1357380.0</td>\n      <td>11183.428123</td>\n      <td>0.0</td>\n      <td>0.0</td>\n      <td>1.009660e+12</td>\n      <td>1.246891e+12</td>\n      <td>1.450988e+12</td>\n      <td>1.428233e+12</td>\n      <td>2013</td>\n      <td>9.401673e+10</td>\n    </tr>\n    <tr>\n      <th>2332249</th>\n      <td>1.054294e+13</td>\n      <td>6.290681e+12</td>\n      <td>318907.400</td>\n      <td>1364270.0</td>\n      <td>11183.428123</td>\n      <td>0.0</td>\n      <td>0.0</td>\n      <td>9.848143e+11</td>\n      <td>1.193041e+12</td>\n      <td>1.426755e+12</td>\n      <td>1.439870e+12</td>\n      <td>2014</td>\n      <td>9.367307e+10</td>\n    </tr>\n  </tbody>\n</table>\n<p>120 rows × 13 columns</p>\n</div>"
     },
     "execution_count": 219,
     "metadata": {},
     "output_type": "execute_result"
    }
   ],
   "source": [
    "df_new = df_new.dropna()\n",
    "df_new"
   ],
   "metadata": {
    "collapsed": false,
    "pycharm": {
     "name": "#%%\n"
    }
   }
  },
  {
   "cell_type": "code",
   "execution_count": 220,
   "outputs": [
    {
     "data": {
      "text/plain": "             GDP_o         GDP_d       POP_o      POP_d         Distw  \\\nyear                                                                    \n1864  9.577647e+08  2.716856e+09   35192.434   369281.9  11183.428123   \n1865  1.297010e+09  1.974545e+09   36031.387   367377.2  11183.428123   \n1866  1.320378e+09  2.091302e+09   36869.367   365482.3  11183.428123   \n1867  1.247594e+09  1.674092e+09   37708.380   363597.2  11183.428123   \n1868  1.204816e+09  1.435407e+09   38546.414   361721.8  11183.428123   \n...            ...           ...         ...        ...           ...   \n2010  9.684627e+12  3.908740e+12  309346.880  1337705.0  11183.428123   \n2011  9.685374e+12  4.676334e+12  311718.840  1344130.0  11183.428123   \n2012  1.022704e+13  5.356605e+12  314102.620  1350695.0  11183.428123   \n2013  1.065877e+13  6.070768e+12  316427.400  1357380.0  11183.428123   \n2014  1.054294e+13  6.290681e+12  318907.400  1364270.0  11183.428123   \n\n      Comlang  Contig       XPTOT_o       IPTOT_d       IPTOT_o       XPTOT_d  \\\nyear                                                                            \n1864      0.0     0.0  1.444320e+07  1.350781e+07  3.189540e+07  1.766651e+07   \n1865      0.0     0.0  1.781000e+07  1.932630e+07  3.146000e+07  1.876707e+07   \n1866      0.0     0.0  4.914520e+07  2.333031e+07  6.368520e+07  1.757253e+07   \n1867      0.0     0.0  4.146800e+07  2.137470e+07  5.938810e+07  1.784953e+07   \n1868      0.0     0.0  3.940850e+07  2.160084e+07  5.303300e+07  2.099144e+07   \n...       ...     ...           ...           ...           ...           ...   \n2010      0.0     0.0  8.267647e+11  9.021093e+11  1.273726e+12  1.160983e+12   \n2011      0.0     0.0  9.252765e+11  1.086898e+12  1.378072e+12  1.285863e+12   \n2012      0.0     0.0  9.785577e+11  1.150462e+12  1.440980e+12  1.356310e+12   \n2013      0.0     0.0  1.009660e+12  1.246891e+12  1.450988e+12  1.428233e+12   \n2014      0.0     0.0  9.848143e+11  1.193041e+12  1.426755e+12  1.439870e+12   \n\n              FLOW  \nyear                \n1864  1.041224e+06  \n1865  1.508103e+05  \n1866  9.068586e+04  \n1867  2.166406e+05  \n1868  2.531170e+05  \n...            ...  \n2010  6.598572e+10  \n2011  7.437514e+10  \n2012  8.143390e+10  \n2013  9.401673e+10  \n2014  9.367307e+10  \n\n[120 rows x 12 columns]",
      "text/html": "<div>\n<style scoped>\n    .dataframe tbody tr th:only-of-type {\n        vertical-align: middle;\n    }\n\n    .dataframe tbody tr th {\n        vertical-align: top;\n    }\n\n    .dataframe thead th {\n        text-align: right;\n    }\n</style>\n<table border=\"1\" class=\"dataframe\">\n  <thead>\n    <tr style=\"text-align: right;\">\n      <th></th>\n      <th>GDP_o</th>\n      <th>GDP_d</th>\n      <th>POP_o</th>\n      <th>POP_d</th>\n      <th>Distw</th>\n      <th>Comlang</th>\n      <th>Contig</th>\n      <th>XPTOT_o</th>\n      <th>IPTOT_d</th>\n      <th>IPTOT_o</th>\n      <th>XPTOT_d</th>\n      <th>FLOW</th>\n    </tr>\n    <tr>\n      <th>year</th>\n      <th></th>\n      <th></th>\n      <th></th>\n      <th></th>\n      <th></th>\n      <th></th>\n      <th></th>\n      <th></th>\n      <th></th>\n      <th></th>\n      <th></th>\n      <th></th>\n    </tr>\n  </thead>\n  <tbody>\n    <tr>\n      <th>1864</th>\n      <td>9.577647e+08</td>\n      <td>2.716856e+09</td>\n      <td>35192.434</td>\n      <td>369281.9</td>\n      <td>11183.428123</td>\n      <td>0.0</td>\n      <td>0.0</td>\n      <td>1.444320e+07</td>\n      <td>1.350781e+07</td>\n      <td>3.189540e+07</td>\n      <td>1.766651e+07</td>\n      <td>1.041224e+06</td>\n    </tr>\n    <tr>\n      <th>1865</th>\n      <td>1.297010e+09</td>\n      <td>1.974545e+09</td>\n      <td>36031.387</td>\n      <td>367377.2</td>\n      <td>11183.428123</td>\n      <td>0.0</td>\n      <td>0.0</td>\n      <td>1.781000e+07</td>\n      <td>1.932630e+07</td>\n      <td>3.146000e+07</td>\n      <td>1.876707e+07</td>\n      <td>1.508103e+05</td>\n    </tr>\n    <tr>\n      <th>1866</th>\n      <td>1.320378e+09</td>\n      <td>2.091302e+09</td>\n      <td>36869.367</td>\n      <td>365482.3</td>\n      <td>11183.428123</td>\n      <td>0.0</td>\n      <td>0.0</td>\n      <td>4.914520e+07</td>\n      <td>2.333031e+07</td>\n      <td>6.368520e+07</td>\n      <td>1.757253e+07</td>\n      <td>9.068586e+04</td>\n    </tr>\n    <tr>\n      <th>1867</th>\n      <td>1.247594e+09</td>\n      <td>1.674092e+09</td>\n      <td>37708.380</td>\n      <td>363597.2</td>\n      <td>11183.428123</td>\n      <td>0.0</td>\n      <td>0.0</td>\n      <td>4.146800e+07</td>\n      <td>2.137470e+07</td>\n      <td>5.938810e+07</td>\n      <td>1.784953e+07</td>\n      <td>2.166406e+05</td>\n    </tr>\n    <tr>\n      <th>1868</th>\n      <td>1.204816e+09</td>\n      <td>1.435407e+09</td>\n      <td>38546.414</td>\n      <td>361721.8</td>\n      <td>11183.428123</td>\n      <td>0.0</td>\n      <td>0.0</td>\n      <td>3.940850e+07</td>\n      <td>2.160084e+07</td>\n      <td>5.303300e+07</td>\n      <td>2.099144e+07</td>\n      <td>2.531170e+05</td>\n    </tr>\n    <tr>\n      <th>...</th>\n      <td>...</td>\n      <td>...</td>\n      <td>...</td>\n      <td>...</td>\n      <td>...</td>\n      <td>...</td>\n      <td>...</td>\n      <td>...</td>\n      <td>...</td>\n      <td>...</td>\n      <td>...</td>\n      <td>...</td>\n    </tr>\n    <tr>\n      <th>2010</th>\n      <td>9.684627e+12</td>\n      <td>3.908740e+12</td>\n      <td>309346.880</td>\n      <td>1337705.0</td>\n      <td>11183.428123</td>\n      <td>0.0</td>\n      <td>0.0</td>\n      <td>8.267647e+11</td>\n      <td>9.021093e+11</td>\n      <td>1.273726e+12</td>\n      <td>1.160983e+12</td>\n      <td>6.598572e+10</td>\n    </tr>\n    <tr>\n      <th>2011</th>\n      <td>9.685374e+12</td>\n      <td>4.676334e+12</td>\n      <td>311718.840</td>\n      <td>1344130.0</td>\n      <td>11183.428123</td>\n      <td>0.0</td>\n      <td>0.0</td>\n      <td>9.252765e+11</td>\n      <td>1.086898e+12</td>\n      <td>1.378072e+12</td>\n      <td>1.285863e+12</td>\n      <td>7.437514e+10</td>\n    </tr>\n    <tr>\n      <th>2012</th>\n      <td>1.022704e+13</td>\n      <td>5.356605e+12</td>\n      <td>314102.620</td>\n      <td>1350695.0</td>\n      <td>11183.428123</td>\n      <td>0.0</td>\n      <td>0.0</td>\n      <td>9.785577e+11</td>\n      <td>1.150462e+12</td>\n      <td>1.440980e+12</td>\n      <td>1.356310e+12</td>\n      <td>8.143390e+10</td>\n    </tr>\n    <tr>\n      <th>2013</th>\n      <td>1.065877e+13</td>\n      <td>6.070768e+12</td>\n      <td>316427.400</td>\n      <td>1357380.0</td>\n      <td>11183.428123</td>\n      <td>0.0</td>\n      <td>0.0</td>\n      <td>1.009660e+12</td>\n      <td>1.246891e+12</td>\n      <td>1.450988e+12</td>\n      <td>1.428233e+12</td>\n      <td>9.401673e+10</td>\n    </tr>\n    <tr>\n      <th>2014</th>\n      <td>1.054294e+13</td>\n      <td>6.290681e+12</td>\n      <td>318907.400</td>\n      <td>1364270.0</td>\n      <td>11183.428123</td>\n      <td>0.0</td>\n      <td>0.0</td>\n      <td>9.848143e+11</td>\n      <td>1.193041e+12</td>\n      <td>1.426755e+12</td>\n      <td>1.439870e+12</td>\n      <td>9.367307e+10</td>\n    </tr>\n  </tbody>\n</table>\n<p>120 rows × 12 columns</p>\n</div>"
     },
     "execution_count": 220,
     "metadata": {},
     "output_type": "execute_result"
    }
   ],
   "source": [
    "df_new.set_index(\"year\")"
   ],
   "metadata": {
    "collapsed": false,
    "pycharm": {
     "name": "#%%\n"
    }
   }
  },
  {
   "cell_type": "code",
   "execution_count": 221,
   "outputs": [],
   "source": [
    "df_new = df_new.loc[df_new[\"year\"] > 2000]"
   ],
   "metadata": {
    "collapsed": false,
    "pycharm": {
     "name": "#%%\n"
    }
   }
  },
  {
   "cell_type": "code",
   "execution_count": 222,
   "outputs": [
    {
     "data": {
      "text/plain": "                GDP_o         GDP_d      POP_o      POP_d         Distw  \\\n2332236  7.378503e+12  9.254435e+11  284968.97  1271850.0  11183.428123   \n2332237  7.324450e+12  9.754176e+11  287625.20  1280400.0  11183.428123   \n2332238  7.049963e+12  1.010535e+12  290107.94  1288400.0  11183.428123   \n2332239  6.704321e+12  1.060543e+12  292805.30  1296075.0  11183.428123   \n2332240  7.201523e+12  1.247725e+12  295516.60  1303720.0  11183.428123   \n2332241  7.530495e+12  1.483602e+12  298379.90  1311020.0  11183.428123   \n2332242  7.235517e+12  1.760744e+12  301231.22  1317885.0  11183.428123   \n2332243  8.006408e+12  2.479631e+12  304093.97  1324655.0  11183.428123   \n2332244  9.255663e+12  3.247738e+12  306771.53  1331260.0  11183.428123   \n2332245  9.684627e+12  3.908740e+12  309346.88  1337705.0  11183.428123   \n2332246  9.685374e+12  4.676334e+12  311718.84  1344130.0  11183.428123   \n2332247  1.022704e+13  5.356605e+12  314102.62  1350695.0  11183.428123   \n2332248  1.065877e+13  6.070768e+12  316427.40  1357380.0  11183.428123   \n2332249  1.054294e+13  6.290681e+12  318907.40  1364270.0  11183.428123   \n\n         Comlang  Contig       XPTOT_o       IPTOT_d       IPTOT_o  \\\n2332236      0.0     0.0  5.301281e+11  1.691950e+11  8.198111e+11   \n2332237      0.0     0.0  4.876326e+11  1.971244e+11  8.022755e+11   \n2332238      0.0     0.0  4.671654e+11  2.528505e+11  7.994658e+11   \n2332239      0.0     0.0  4.692705e+11  3.063038e+11  8.331812e+11   \n2332240      0.0     0.0  5.131972e+11  3.631191e+11  9.528826e+11   \n2332241      0.0     0.0  5.636124e+11  4.303292e+11  1.043082e+12   \n2332242      0.0     0.0  5.810549e+11  4.779125e+11  1.008230e+12   \n2332243      0.0     0.0  7.071993e+11  6.157260e+11  1.178219e+12   \n2332244      0.0     0.0  6.784442e+11  6.444161e+11  1.029349e+12   \n2332245      0.0     0.0  8.267647e+11  9.021093e+11  1.273726e+12   \n2332246      0.0     0.0  9.252765e+11  1.086898e+12  1.378072e+12   \n2332247      0.0     0.0  9.785577e+11  1.150462e+12  1.440980e+12   \n2332248      0.0     0.0  1.009660e+12  1.246891e+12  1.450988e+12   \n2332249      0.0     0.0  9.848143e+11  1.193041e+12  1.426755e+12   \n\n              XPTOT_d  year          FLOW  \n2332236  2.822862e+11  2001  1.821455e+10  \n2332237  3.161568e+11  2002  1.818276e+10  \n2332238  3.647914e+11  2003  2.078663e+10  \n2332239  4.272286e+11  2004  2.443822e+10  \n2332240  5.384827e+11  2005  2.694688e+10  \n2332241  6.415434e+11  2006  3.224296e+10  \n2332242  7.191396e+11  2007  3.498284e+10  \n2332243  8.980015e+11  2008  4.445431e+10  \n2332244  9.063443e+11  2009  4.992364e+10  \n2332245  1.160983e+12  2010  6.598572e+10  \n2332246  1.285863e+12  2011  7.437514e+10  \n2332247  1.356310e+12  2012  8.143390e+10  \n2332248  1.428233e+12  2013  9.401673e+10  \n2332249  1.439870e+12  2014  9.367307e+10  ",
      "text/html": "<div>\n<style scoped>\n    .dataframe tbody tr th:only-of-type {\n        vertical-align: middle;\n    }\n\n    .dataframe tbody tr th {\n        vertical-align: top;\n    }\n\n    .dataframe thead th {\n        text-align: right;\n    }\n</style>\n<table border=\"1\" class=\"dataframe\">\n  <thead>\n    <tr style=\"text-align: right;\">\n      <th></th>\n      <th>GDP_o</th>\n      <th>GDP_d</th>\n      <th>POP_o</th>\n      <th>POP_d</th>\n      <th>Distw</th>\n      <th>Comlang</th>\n      <th>Contig</th>\n      <th>XPTOT_o</th>\n      <th>IPTOT_d</th>\n      <th>IPTOT_o</th>\n      <th>XPTOT_d</th>\n      <th>year</th>\n      <th>FLOW</th>\n    </tr>\n  </thead>\n  <tbody>\n    <tr>\n      <th>2332236</th>\n      <td>7.378503e+12</td>\n      <td>9.254435e+11</td>\n      <td>284968.97</td>\n      <td>1271850.0</td>\n      <td>11183.428123</td>\n      <td>0.0</td>\n      <td>0.0</td>\n      <td>5.301281e+11</td>\n      <td>1.691950e+11</td>\n      <td>8.198111e+11</td>\n      <td>2.822862e+11</td>\n      <td>2001</td>\n      <td>1.821455e+10</td>\n    </tr>\n    <tr>\n      <th>2332237</th>\n      <td>7.324450e+12</td>\n      <td>9.754176e+11</td>\n      <td>287625.20</td>\n      <td>1280400.0</td>\n      <td>11183.428123</td>\n      <td>0.0</td>\n      <td>0.0</td>\n      <td>4.876326e+11</td>\n      <td>1.971244e+11</td>\n      <td>8.022755e+11</td>\n      <td>3.161568e+11</td>\n      <td>2002</td>\n      <td>1.818276e+10</td>\n    </tr>\n    <tr>\n      <th>2332238</th>\n      <td>7.049963e+12</td>\n      <td>1.010535e+12</td>\n      <td>290107.94</td>\n      <td>1288400.0</td>\n      <td>11183.428123</td>\n      <td>0.0</td>\n      <td>0.0</td>\n      <td>4.671654e+11</td>\n      <td>2.528505e+11</td>\n      <td>7.994658e+11</td>\n      <td>3.647914e+11</td>\n      <td>2003</td>\n      <td>2.078663e+10</td>\n    </tr>\n    <tr>\n      <th>2332239</th>\n      <td>6.704321e+12</td>\n      <td>1.060543e+12</td>\n      <td>292805.30</td>\n      <td>1296075.0</td>\n      <td>11183.428123</td>\n      <td>0.0</td>\n      <td>0.0</td>\n      <td>4.692705e+11</td>\n      <td>3.063038e+11</td>\n      <td>8.331812e+11</td>\n      <td>4.272286e+11</td>\n      <td>2004</td>\n      <td>2.443822e+10</td>\n    </tr>\n    <tr>\n      <th>2332240</th>\n      <td>7.201523e+12</td>\n      <td>1.247725e+12</td>\n      <td>295516.60</td>\n      <td>1303720.0</td>\n      <td>11183.428123</td>\n      <td>0.0</td>\n      <td>0.0</td>\n      <td>5.131972e+11</td>\n      <td>3.631191e+11</td>\n      <td>9.528826e+11</td>\n      <td>5.384827e+11</td>\n      <td>2005</td>\n      <td>2.694688e+10</td>\n    </tr>\n    <tr>\n      <th>2332241</th>\n      <td>7.530495e+12</td>\n      <td>1.483602e+12</td>\n      <td>298379.90</td>\n      <td>1311020.0</td>\n      <td>11183.428123</td>\n      <td>0.0</td>\n      <td>0.0</td>\n      <td>5.636124e+11</td>\n      <td>4.303292e+11</td>\n      <td>1.043082e+12</td>\n      <td>6.415434e+11</td>\n      <td>2006</td>\n      <td>3.224296e+10</td>\n    </tr>\n    <tr>\n      <th>2332242</th>\n      <td>7.235517e+12</td>\n      <td>1.760744e+12</td>\n      <td>301231.22</td>\n      <td>1317885.0</td>\n      <td>11183.428123</td>\n      <td>0.0</td>\n      <td>0.0</td>\n      <td>5.810549e+11</td>\n      <td>4.779125e+11</td>\n      <td>1.008230e+12</td>\n      <td>7.191396e+11</td>\n      <td>2007</td>\n      <td>3.498284e+10</td>\n    </tr>\n    <tr>\n      <th>2332243</th>\n      <td>8.006408e+12</td>\n      <td>2.479631e+12</td>\n      <td>304093.97</td>\n      <td>1324655.0</td>\n      <td>11183.428123</td>\n      <td>0.0</td>\n      <td>0.0</td>\n      <td>7.071993e+11</td>\n      <td>6.157260e+11</td>\n      <td>1.178219e+12</td>\n      <td>8.980015e+11</td>\n      <td>2008</td>\n      <td>4.445431e+10</td>\n    </tr>\n    <tr>\n      <th>2332244</th>\n      <td>9.255663e+12</td>\n      <td>3.247738e+12</td>\n      <td>306771.53</td>\n      <td>1331260.0</td>\n      <td>11183.428123</td>\n      <td>0.0</td>\n      <td>0.0</td>\n      <td>6.784442e+11</td>\n      <td>6.444161e+11</td>\n      <td>1.029349e+12</td>\n      <td>9.063443e+11</td>\n      <td>2009</td>\n      <td>4.992364e+10</td>\n    </tr>\n    <tr>\n      <th>2332245</th>\n      <td>9.684627e+12</td>\n      <td>3.908740e+12</td>\n      <td>309346.88</td>\n      <td>1337705.0</td>\n      <td>11183.428123</td>\n      <td>0.0</td>\n      <td>0.0</td>\n      <td>8.267647e+11</td>\n      <td>9.021093e+11</td>\n      <td>1.273726e+12</td>\n      <td>1.160983e+12</td>\n      <td>2010</td>\n      <td>6.598572e+10</td>\n    </tr>\n    <tr>\n      <th>2332246</th>\n      <td>9.685374e+12</td>\n      <td>4.676334e+12</td>\n      <td>311718.84</td>\n      <td>1344130.0</td>\n      <td>11183.428123</td>\n      <td>0.0</td>\n      <td>0.0</td>\n      <td>9.252765e+11</td>\n      <td>1.086898e+12</td>\n      <td>1.378072e+12</td>\n      <td>1.285863e+12</td>\n      <td>2011</td>\n      <td>7.437514e+10</td>\n    </tr>\n    <tr>\n      <th>2332247</th>\n      <td>1.022704e+13</td>\n      <td>5.356605e+12</td>\n      <td>314102.62</td>\n      <td>1350695.0</td>\n      <td>11183.428123</td>\n      <td>0.0</td>\n      <td>0.0</td>\n      <td>9.785577e+11</td>\n      <td>1.150462e+12</td>\n      <td>1.440980e+12</td>\n      <td>1.356310e+12</td>\n      <td>2012</td>\n      <td>8.143390e+10</td>\n    </tr>\n    <tr>\n      <th>2332248</th>\n      <td>1.065877e+13</td>\n      <td>6.070768e+12</td>\n      <td>316427.40</td>\n      <td>1357380.0</td>\n      <td>11183.428123</td>\n      <td>0.0</td>\n      <td>0.0</td>\n      <td>1.009660e+12</td>\n      <td>1.246891e+12</td>\n      <td>1.450988e+12</td>\n      <td>1.428233e+12</td>\n      <td>2013</td>\n      <td>9.401673e+10</td>\n    </tr>\n    <tr>\n      <th>2332249</th>\n      <td>1.054294e+13</td>\n      <td>6.290681e+12</td>\n      <td>318907.40</td>\n      <td>1364270.0</td>\n      <td>11183.428123</td>\n      <td>0.0</td>\n      <td>0.0</td>\n      <td>9.848143e+11</td>\n      <td>1.193041e+12</td>\n      <td>1.426755e+12</td>\n      <td>1.439870e+12</td>\n      <td>2014</td>\n      <td>9.367307e+10</td>\n    </tr>\n  </tbody>\n</table>\n</div>"
     },
     "execution_count": 222,
     "metadata": {},
     "output_type": "execute_result"
    }
   ],
   "source": [
    "df_new"
   ],
   "metadata": {
    "collapsed": false,
    "pycharm": {
     "name": "#%%\n"
    }
   }
  },
  {
   "cell_type": "code",
   "execution_count": 223,
   "outputs": [],
   "source": [
    "df_new = df_new.set_index(\"year\")"
   ],
   "metadata": {
    "collapsed": false,
    "pycharm": {
     "name": "#%%\n"
    }
   }
  },
  {
   "cell_type": "code",
   "execution_count": 224,
   "outputs": [
    {
     "data": {
      "text/plain": "             GDP_o         GDP_d      POP_o      POP_d         Distw  Comlang  \\\nyear                                                                            \n2001  7.378503e+12  9.254435e+11  284968.97  1271850.0  11183.428123      0.0   \n2002  7.324450e+12  9.754176e+11  287625.20  1280400.0  11183.428123      0.0   \n2003  7.049963e+12  1.010535e+12  290107.94  1288400.0  11183.428123      0.0   \n2004  6.704321e+12  1.060543e+12  292805.30  1296075.0  11183.428123      0.0   \n2005  7.201523e+12  1.247725e+12  295516.60  1303720.0  11183.428123      0.0   \n2006  7.530495e+12  1.483602e+12  298379.90  1311020.0  11183.428123      0.0   \n2007  7.235517e+12  1.760744e+12  301231.22  1317885.0  11183.428123      0.0   \n2008  8.006408e+12  2.479631e+12  304093.97  1324655.0  11183.428123      0.0   \n2009  9.255663e+12  3.247738e+12  306771.53  1331260.0  11183.428123      0.0   \n2010  9.684627e+12  3.908740e+12  309346.88  1337705.0  11183.428123      0.0   \n2011  9.685374e+12  4.676334e+12  311718.84  1344130.0  11183.428123      0.0   \n2012  1.022704e+13  5.356605e+12  314102.62  1350695.0  11183.428123      0.0   \n2013  1.065877e+13  6.070768e+12  316427.40  1357380.0  11183.428123      0.0   \n2014  1.054294e+13  6.290681e+12  318907.40  1364270.0  11183.428123      0.0   \n\n      Contig       XPTOT_o       IPTOT_d       IPTOT_o       XPTOT_d  \\\nyear                                                                   \n2001     0.0  5.301281e+11  1.691950e+11  8.198111e+11  2.822862e+11   \n2002     0.0  4.876326e+11  1.971244e+11  8.022755e+11  3.161568e+11   \n2003     0.0  4.671654e+11  2.528505e+11  7.994658e+11  3.647914e+11   \n2004     0.0  4.692705e+11  3.063038e+11  8.331812e+11  4.272286e+11   \n2005     0.0  5.131972e+11  3.631191e+11  9.528826e+11  5.384827e+11   \n2006     0.0  5.636124e+11  4.303292e+11  1.043082e+12  6.415434e+11   \n2007     0.0  5.810549e+11  4.779125e+11  1.008230e+12  7.191396e+11   \n2008     0.0  7.071993e+11  6.157260e+11  1.178219e+12  8.980015e+11   \n2009     0.0  6.784442e+11  6.444161e+11  1.029349e+12  9.063443e+11   \n2010     0.0  8.267647e+11  9.021093e+11  1.273726e+12  1.160983e+12   \n2011     0.0  9.252765e+11  1.086898e+12  1.378072e+12  1.285863e+12   \n2012     0.0  9.785577e+11  1.150462e+12  1.440980e+12  1.356310e+12   \n2013     0.0  1.009660e+12  1.246891e+12  1.450988e+12  1.428233e+12   \n2014     0.0  9.848143e+11  1.193041e+12  1.426755e+12  1.439870e+12   \n\n              FLOW  \nyear                \n2001  1.821455e+10  \n2002  1.818276e+10  \n2003  2.078663e+10  \n2004  2.443822e+10  \n2005  2.694688e+10  \n2006  3.224296e+10  \n2007  3.498284e+10  \n2008  4.445431e+10  \n2009  4.992364e+10  \n2010  6.598572e+10  \n2011  7.437514e+10  \n2012  8.143390e+10  \n2013  9.401673e+10  \n2014  9.367307e+10  ",
      "text/html": "<div>\n<style scoped>\n    .dataframe tbody tr th:only-of-type {\n        vertical-align: middle;\n    }\n\n    .dataframe tbody tr th {\n        vertical-align: top;\n    }\n\n    .dataframe thead th {\n        text-align: right;\n    }\n</style>\n<table border=\"1\" class=\"dataframe\">\n  <thead>\n    <tr style=\"text-align: right;\">\n      <th></th>\n      <th>GDP_o</th>\n      <th>GDP_d</th>\n      <th>POP_o</th>\n      <th>POP_d</th>\n      <th>Distw</th>\n      <th>Comlang</th>\n      <th>Contig</th>\n      <th>XPTOT_o</th>\n      <th>IPTOT_d</th>\n      <th>IPTOT_o</th>\n      <th>XPTOT_d</th>\n      <th>FLOW</th>\n    </tr>\n    <tr>\n      <th>year</th>\n      <th></th>\n      <th></th>\n      <th></th>\n      <th></th>\n      <th></th>\n      <th></th>\n      <th></th>\n      <th></th>\n      <th></th>\n      <th></th>\n      <th></th>\n      <th></th>\n    </tr>\n  </thead>\n  <tbody>\n    <tr>\n      <th>2001</th>\n      <td>7.378503e+12</td>\n      <td>9.254435e+11</td>\n      <td>284968.97</td>\n      <td>1271850.0</td>\n      <td>11183.428123</td>\n      <td>0.0</td>\n      <td>0.0</td>\n      <td>5.301281e+11</td>\n      <td>1.691950e+11</td>\n      <td>8.198111e+11</td>\n      <td>2.822862e+11</td>\n      <td>1.821455e+10</td>\n    </tr>\n    <tr>\n      <th>2002</th>\n      <td>7.324450e+12</td>\n      <td>9.754176e+11</td>\n      <td>287625.20</td>\n      <td>1280400.0</td>\n      <td>11183.428123</td>\n      <td>0.0</td>\n      <td>0.0</td>\n      <td>4.876326e+11</td>\n      <td>1.971244e+11</td>\n      <td>8.022755e+11</td>\n      <td>3.161568e+11</td>\n      <td>1.818276e+10</td>\n    </tr>\n    <tr>\n      <th>2003</th>\n      <td>7.049963e+12</td>\n      <td>1.010535e+12</td>\n      <td>290107.94</td>\n      <td>1288400.0</td>\n      <td>11183.428123</td>\n      <td>0.0</td>\n      <td>0.0</td>\n      <td>4.671654e+11</td>\n      <td>2.528505e+11</td>\n      <td>7.994658e+11</td>\n      <td>3.647914e+11</td>\n      <td>2.078663e+10</td>\n    </tr>\n    <tr>\n      <th>2004</th>\n      <td>6.704321e+12</td>\n      <td>1.060543e+12</td>\n      <td>292805.30</td>\n      <td>1296075.0</td>\n      <td>11183.428123</td>\n      <td>0.0</td>\n      <td>0.0</td>\n      <td>4.692705e+11</td>\n      <td>3.063038e+11</td>\n      <td>8.331812e+11</td>\n      <td>4.272286e+11</td>\n      <td>2.443822e+10</td>\n    </tr>\n    <tr>\n      <th>2005</th>\n      <td>7.201523e+12</td>\n      <td>1.247725e+12</td>\n      <td>295516.60</td>\n      <td>1303720.0</td>\n      <td>11183.428123</td>\n      <td>0.0</td>\n      <td>0.0</td>\n      <td>5.131972e+11</td>\n      <td>3.631191e+11</td>\n      <td>9.528826e+11</td>\n      <td>5.384827e+11</td>\n      <td>2.694688e+10</td>\n    </tr>\n    <tr>\n      <th>2006</th>\n      <td>7.530495e+12</td>\n      <td>1.483602e+12</td>\n      <td>298379.90</td>\n      <td>1311020.0</td>\n      <td>11183.428123</td>\n      <td>0.0</td>\n      <td>0.0</td>\n      <td>5.636124e+11</td>\n      <td>4.303292e+11</td>\n      <td>1.043082e+12</td>\n      <td>6.415434e+11</td>\n      <td>3.224296e+10</td>\n    </tr>\n    <tr>\n      <th>2007</th>\n      <td>7.235517e+12</td>\n      <td>1.760744e+12</td>\n      <td>301231.22</td>\n      <td>1317885.0</td>\n      <td>11183.428123</td>\n      <td>0.0</td>\n      <td>0.0</td>\n      <td>5.810549e+11</td>\n      <td>4.779125e+11</td>\n      <td>1.008230e+12</td>\n      <td>7.191396e+11</td>\n      <td>3.498284e+10</td>\n    </tr>\n    <tr>\n      <th>2008</th>\n      <td>8.006408e+12</td>\n      <td>2.479631e+12</td>\n      <td>304093.97</td>\n      <td>1324655.0</td>\n      <td>11183.428123</td>\n      <td>0.0</td>\n      <td>0.0</td>\n      <td>7.071993e+11</td>\n      <td>6.157260e+11</td>\n      <td>1.178219e+12</td>\n      <td>8.980015e+11</td>\n      <td>4.445431e+10</td>\n    </tr>\n    <tr>\n      <th>2009</th>\n      <td>9.255663e+12</td>\n      <td>3.247738e+12</td>\n      <td>306771.53</td>\n      <td>1331260.0</td>\n      <td>11183.428123</td>\n      <td>0.0</td>\n      <td>0.0</td>\n      <td>6.784442e+11</td>\n      <td>6.444161e+11</td>\n      <td>1.029349e+12</td>\n      <td>9.063443e+11</td>\n      <td>4.992364e+10</td>\n    </tr>\n    <tr>\n      <th>2010</th>\n      <td>9.684627e+12</td>\n      <td>3.908740e+12</td>\n      <td>309346.88</td>\n      <td>1337705.0</td>\n      <td>11183.428123</td>\n      <td>0.0</td>\n      <td>0.0</td>\n      <td>8.267647e+11</td>\n      <td>9.021093e+11</td>\n      <td>1.273726e+12</td>\n      <td>1.160983e+12</td>\n      <td>6.598572e+10</td>\n    </tr>\n    <tr>\n      <th>2011</th>\n      <td>9.685374e+12</td>\n      <td>4.676334e+12</td>\n      <td>311718.84</td>\n      <td>1344130.0</td>\n      <td>11183.428123</td>\n      <td>0.0</td>\n      <td>0.0</td>\n      <td>9.252765e+11</td>\n      <td>1.086898e+12</td>\n      <td>1.378072e+12</td>\n      <td>1.285863e+12</td>\n      <td>7.437514e+10</td>\n    </tr>\n    <tr>\n      <th>2012</th>\n      <td>1.022704e+13</td>\n      <td>5.356605e+12</td>\n      <td>314102.62</td>\n      <td>1350695.0</td>\n      <td>11183.428123</td>\n      <td>0.0</td>\n      <td>0.0</td>\n      <td>9.785577e+11</td>\n      <td>1.150462e+12</td>\n      <td>1.440980e+12</td>\n      <td>1.356310e+12</td>\n      <td>8.143390e+10</td>\n    </tr>\n    <tr>\n      <th>2013</th>\n      <td>1.065877e+13</td>\n      <td>6.070768e+12</td>\n      <td>316427.40</td>\n      <td>1357380.0</td>\n      <td>11183.428123</td>\n      <td>0.0</td>\n      <td>0.0</td>\n      <td>1.009660e+12</td>\n      <td>1.246891e+12</td>\n      <td>1.450988e+12</td>\n      <td>1.428233e+12</td>\n      <td>9.401673e+10</td>\n    </tr>\n    <tr>\n      <th>2014</th>\n      <td>1.054294e+13</td>\n      <td>6.290681e+12</td>\n      <td>318907.40</td>\n      <td>1364270.0</td>\n      <td>11183.428123</td>\n      <td>0.0</td>\n      <td>0.0</td>\n      <td>9.848143e+11</td>\n      <td>1.193041e+12</td>\n      <td>1.426755e+12</td>\n      <td>1.439870e+12</td>\n      <td>9.367307e+10</td>\n    </tr>\n  </tbody>\n</table>\n</div>"
     },
     "execution_count": 224,
     "metadata": {},
     "output_type": "execute_result"
    }
   ],
   "source": [
    "df_new"
   ],
   "metadata": {
    "collapsed": false,
    "pycharm": {
     "name": "#%%\n"
    }
   }
  },
  {
   "cell_type": "markdown",
   "source": [
    "# Augmented Dickey-Fuller Test"
   ],
   "metadata": {
    "collapsed": false,
    "pycharm": {
     "name": "#%% md\n"
    }
   }
  },
  {
   "cell_type": "code",
   "execution_count": 225,
   "outputs": [
    {
     "name": "stdout",
     "output_type": "stream",
     "text": [
      "Test parameters : 2.330858815841947\n",
      "p-value : 0.99897396224656\n",
      "#Lags Used : 5\n",
      "Dataset observations : 8\n",
      "Dataset is non-stationary \n"
     ]
    }
   ],
   "source": [
    "from statsmodels.tsa.stattools import adfuller\n",
    "\n",
    "passing_data = adfuller(df_new.FLOW)\n",
    "passing_data\n",
    "\n",
    "\n",
    "def adf_test(sales):\n",
    "    result = adfuller(sales)\n",
    "    labels = ['Test parameters', 'p-value', '#Lags Used', 'Dataset observations']\n",
    "    for value, label in zip(result, labels):\n",
    "        print(label + ' : ' + str(value))\n",
    "    if result[1] <= 0.05:\n",
    "        print(\"Dataset is stationary\")\n",
    "    else:\n",
    "        print(\"Dataset is non-stationary \")\n",
    "\n",
    "\n",
    "adf_test(df_new['FLOW'])"
   ],
   "metadata": {
    "collapsed": false,
    "pycharm": {
     "name": "#%%\n"
    }
   }
  },
  {
   "cell_type": "code",
   "execution_count": 226,
   "outputs": [
    {
     "ename": "AttributeError",
     "evalue": "'Figure' object has no attribute 'plot'",
     "output_type": "error",
     "traceback": [
      "\u001B[0;31m---------------------------------------------------------------------------\u001B[0m",
      "\u001B[0;31mAttributeError\u001B[0m                            Traceback (most recent call last)",
      "Input \u001B[0;32mIn [226]\u001B[0m, in \u001B[0;36m<cell line: 3>\u001B[0;34m()\u001B[0m\n\u001B[1;32m      1\u001B[0m \u001B[38;5;28;01mimport\u001B[39;00m \u001B[38;5;21;01mstatsmodels\u001B[39;00m\u001B[38;5;21;01m.\u001B[39;00m\u001B[38;5;21;01mapi\u001B[39;00m \u001B[38;5;28;01mas\u001B[39;00m \u001B[38;5;21;01msm\u001B[39;00m\n\u001B[0;32m----> 3\u001B[0m \u001B[43msm\u001B[49m\u001B[38;5;241;43m.\u001B[39;49m\u001B[43mgraphics\u001B[49m\u001B[38;5;241;43m.\u001B[39;49m\u001B[43mtsa\u001B[49m\u001B[38;5;241;43m.\u001B[39;49m\u001B[43mplot_acf\u001B[49m\u001B[43m(\u001B[49m\u001B[43mdf_new\u001B[49m\u001B[38;5;241;43m.\u001B[39;49m\u001B[43mFLOW\u001B[49m\u001B[43m,\u001B[49m\u001B[43m \u001B[49m\u001B[43mlags\u001B[49m\u001B[38;5;241;43m=\u001B[39;49m\u001B[38;5;241;43m12\u001B[39;49m\u001B[43m)\u001B[49m\u001B[38;5;241;43m.\u001B[39;49m\u001B[43mplot\u001B[49m()\n",
      "\u001B[0;31mAttributeError\u001B[0m: 'Figure' object has no attribute 'plot'"
     ]
    },
    {
     "data": {
      "text/plain": "<Figure size 432x288 with 1 Axes>",
      "image/png": "[encoded data removed]"
     },
     "metadata": {},
     "output_type": "display_data"
    }
   ],
   "source": [
    "import statsmodels.api as sm\n",
    "\n",
    "sm.graphics.tsa.plot_acf(df_new.FLOW, lags=12).plot()"
   ],
   "metadata": {
    "collapsed": false,
    "pycharm": {
     "name": "#%%\n"
    }
   }
  },
  {
   "cell_type": "code",
   "execution_count": 227,
   "outputs": [
    {
     "name": "stderr",
     "output_type": "stream",
     "text": [
      "/Users/prateekrao/miniforge3/envs/mlb/lib/python3.8/site-packages/statsmodels/graphics/tsaplots.py:348: FutureWarning: The default method 'yw' can produce PACF values outside of the [-1,1] interval. After 0.13, the default will change tounadjusted Yule-Walker ('ywm'). You can use this method now by setting method='ywm'.\n",
      "  warnings.warn(\n"
     ]
    },
    {
     "ename": "AttributeError",
     "evalue": "'Figure' object has no attribute 'plot'",
     "output_type": "error",
     "traceback": [
      "\u001B[0;31m---------------------------------------------------------------------------\u001B[0m",
      "\u001B[0;31mAttributeError\u001B[0m                            Traceback (most recent call last)",
      "Input \u001B[0;32mIn [227]\u001B[0m, in \u001B[0;36m<cell line: 1>\u001B[0;34m()\u001B[0m\n\u001B[0;32m----> 1\u001B[0m \u001B[43msm\u001B[49m\u001B[38;5;241;43m.\u001B[39;49m\u001B[43mgraphics\u001B[49m\u001B[38;5;241;43m.\u001B[39;49m\u001B[43mtsa\u001B[49m\u001B[38;5;241;43m.\u001B[39;49m\u001B[43mplot_pacf\u001B[49m\u001B[43m(\u001B[49m\u001B[43mdf_new\u001B[49m\u001B[38;5;241;43m.\u001B[39;49m\u001B[43mFLOW\u001B[49m\u001B[43m,\u001B[49m\u001B[43m \u001B[49m\u001B[43mlags\u001B[49m\u001B[38;5;241;43m=\u001B[39;49m\u001B[38;5;241;43m6\u001B[39;49m\u001B[43m)\u001B[49m\u001B[38;5;241;43m.\u001B[39;49m\u001B[43mplot\u001B[49m()\n",
      "\u001B[0;31mAttributeError\u001B[0m: 'Figure' object has no attribute 'plot'"
     ]
    },
    {
     "data": {
      "text/plain": "<Figure size 432x288 with 1 Axes>",
      "image/png": "[encoded data removed]"
     },
     "metadata": {},
     "output_type": "display_data"
    }
   ],
   "source": [
    "sm.graphics.tsa.plot_pacf(df_new.FLOW, lags=6).plot()"
   ],
   "metadata": {
    "collapsed": false,
    "pycharm": {
     "name": "#%%\n"
    }
   }
  },
  {
   "cell_type": "code",
   "execution_count": 228,
   "outputs": [],
   "source": [
    "df_new.index = pd.to_datetime(df_new.index, format=\"%Y\")"
   ],
   "metadata": {
    "collapsed": false,
    "pycharm": {
     "name": "#%%\n"
    }
   }
  },
  {
   "cell_type": "code",
   "execution_count": 229,
   "outputs": [
    {
     "data": {
      "text/plain": "                   GDP_o         GDP_d      POP_o      POP_d         Distw  \\\nyear                                                                         \n2001-01-01  7.378503e+12  9.254435e+11  284968.97  1271850.0  11183.428123   \n2002-01-01  7.324450e+12  9.754176e+11  287625.20  1280400.0  11183.428123   \n2003-01-01  7.049963e+12  1.010535e+12  290107.94  1288400.0  11183.428123   \n2004-01-01  6.704321e+12  1.060543e+12  292805.30  1296075.0  11183.428123   \n2005-01-01  7.201523e+12  1.247725e+12  295516.60  1303720.0  11183.428123   \n2006-01-01  7.530495e+12  1.483602e+12  298379.90  1311020.0  11183.428123   \n2007-01-01  7.235517e+12  1.760744e+12  301231.22  1317885.0  11183.428123   \n2008-01-01  8.006408e+12  2.479631e+12  304093.97  1324655.0  11183.428123   \n2009-01-01  9.255663e+12  3.247738e+12  306771.53  1331260.0  11183.428123   \n2010-01-01  9.684627e+12  3.908740e+12  309346.88  1337705.0  11183.428123   \n2011-01-01  9.685374e+12  4.676334e+12  311718.84  1344130.0  11183.428123   \n2012-01-01  1.022704e+13  5.356605e+12  314102.62  1350695.0  11183.428123   \n2013-01-01  1.065877e+13  6.070768e+12  316427.40  1357380.0  11183.428123   \n2014-01-01  1.054294e+13  6.290681e+12  318907.40  1364270.0  11183.428123   \n\n            Comlang  Contig       XPTOT_o       IPTOT_d       IPTOT_o  \\\nyear                                                                    \n2001-01-01      0.0     0.0  5.301281e+11  1.691950e+11  8.198111e+11   \n2002-01-01      0.0     0.0  4.876326e+11  1.971244e+11  8.022755e+11   \n2003-01-01      0.0     0.0  4.671654e+11  2.528505e+11  7.994658e+11   \n2004-01-01      0.0     0.0  4.692705e+11  3.063038e+11  8.331812e+11   \n2005-01-01      0.0     0.0  5.131972e+11  3.631191e+11  9.528826e+11   \n2006-01-01      0.0     0.0  5.636124e+11  4.303292e+11  1.043082e+12   \n2007-01-01      0.0     0.0  5.810549e+11  4.779125e+11  1.008230e+12   \n2008-01-01      0.0     0.0  7.071993e+11  6.157260e+11  1.178219e+12   \n2009-01-01      0.0     0.0  6.784442e+11  6.444161e+11  1.029349e+12   \n2010-01-01      0.0     0.0  8.267647e+11  9.021093e+11  1.273726e+12   \n2011-01-01      0.0     0.0  9.252765e+11  1.086898e+12  1.378072e+12   \n2012-01-01      0.0     0.0  9.785577e+11  1.150462e+12  1.440980e+12   \n2013-01-01      0.0     0.0  1.009660e+12  1.246891e+12  1.450988e+12   \n2014-01-01      0.0     0.0  9.848143e+11  1.193041e+12  1.426755e+12   \n\n                 XPTOT_d          FLOW  \nyear                                    \n2001-01-01  2.822862e+11  1.821455e+10  \n2002-01-01  3.161568e+11  1.818276e+10  \n2003-01-01  3.647914e+11  2.078663e+10  \n2004-01-01  4.272286e+11  2.443822e+10  \n2005-01-01  5.384827e+11  2.694688e+10  \n2006-01-01  6.415434e+11  3.224296e+10  \n2007-01-01  7.191396e+11  3.498284e+10  \n2008-01-01  8.980015e+11  4.445431e+10  \n2009-01-01  9.063443e+11  4.992364e+10  \n2010-01-01  1.160983e+12  6.598572e+10  \n2011-01-01  1.285863e+12  7.437514e+10  \n2012-01-01  1.356310e+12  8.143390e+10  \n2013-01-01  1.428233e+12  9.401673e+10  \n2014-01-01  1.439870e+12  9.367307e+10  ",
      "text/html": "<div>\n<style scoped>\n    .dataframe tbody tr th:only-of-type {\n        vertical-align: middle;\n    }\n\n    .dataframe tbody tr th {\n        vertical-align: top;\n    }\n\n    .dataframe thead th {\n        text-align: right;\n    }\n</style>\n<table border=\"1\" class=\"dataframe\">\n  <thead>\n    <tr style=\"text-align: right;\">\n      <th></th>\n      <th>GDP_o</th>\n      <th>GDP_d</th>\n      <th>POP_o</th>\n      <th>POP_d</th>\n      <th>Distw</th>\n      <th>Comlang</th>\n      <th>Contig</th>\n      <th>XPTOT_o</th>\n      <th>IPTOT_d</th>\n      <th>IPTOT_o</th>\n      <th>XPTOT_d</th>\n      <th>FLOW</th>\n    </tr>\n    <tr>\n      <th>year</th>\n      <th></th>\n      <th></th>\n      <th></th>\n      <th></th>\n      <th></th>\n      <th></th>\n      <th></th>\n      <th></th>\n      <th></th>\n      <th></th>\n      <th></th>\n      <th></th>\n    </tr>\n  </thead>\n  <tbody>\n    <tr>\n      <th>2001-01-01</th>\n      <td>7.378503e+12</td>\n      <td>9.254435e+11</td>\n      <td>284968.97</td>\n      <td>1271850.0</td>\n      <td>11183.428123</td>\n      <td>0.0</td>\n      <td>0.0</td>\n      <td>5.301281e+11</td>\n      <td>1.691950e+11</td>\n      <td>8.198111e+11</td>\n      <td>2.822862e+11</td>\n      <td>1.821455e+10</td>\n    </tr>\n    <tr>\n      <th>2002-01-01</th>\n      <td>7.324450e+12</td>\n      <td>9.754176e+11</td>\n      <td>287625.20</td>\n      <td>1280400.0</td>\n      <td>11183.428123</td>\n      <td>0.0</td>\n      <td>0.0</td>\n      <td>4.876326e+11</td>\n      <td>1.971244e+11</td>\n      <td>8.022755e+11</td>\n      <td>3.161568e+11</td>\n      <td>1.818276e+10</td>\n    </tr>\n    <tr>\n      <th>2003-01-01</th>\n      <td>7.049963e+12</td>\n      <td>1.010535e+12</td>\n      <td>290107.94</td>\n      <td>1288400.0</td>\n      <td>11183.428123</td>\n      <td>0.0</td>\n      <td>0.0</td>\n      <td>4.671654e+11</td>\n      <td>2.528505e+11</td>\n      <td>7.994658e+11</td>\n      <td>3.647914e+11</td>\n      <td>2.078663e+10</td>\n    </tr>\n    <tr>\n      <th>2004-01-01</th>\n      <td>6.704321e+12</td>\n      <td>1.060543e+12</td>\n      <td>292805.30</td>\n      <td>1296075.0</td>\n      <td>11183.428123</td>\n      <td>0.0</td>\n      <td>0.0</td>\n      <td>4.692705e+11</td>\n      <td>3.063038e+11</td>\n      <td>8.331812e+11</td>\n      <td>4.272286e+11</td>\n      <td>2.443822e+10</td>\n    </tr>\n    <tr>\n      <th>2005-01-01</th>\n      <td>7.201523e+12</td>\n      <td>1.247725e+12</td>\n      <td>295516.60</td>\n      <td>1303720.0</td>\n      <td>11183.428123</td>\n      <td>0.0</td>\n      <td>0.0</td>\n      <td>5.131972e+11</td>\n      <td>3.631191e+11</td>\n      <td>9.528826e+11</td>\n      <td>5.384827e+11</td>\n      <td>2.694688e+10</td>\n    </tr>\n    <tr>\n      <th>2006-01-01</th>\n      <td>7.530495e+12</td>\n      <td>1.483602e+12</td>\n      <td>298379.90</td>\n      <td>1311020.0</td>\n      <td>11183.428123</td>\n      <td>0.0</td>\n      <td>0.0</td>\n      <td>5.636124e+11</td>\n      <td>4.303292e+11</td>\n      <td>1.043082e+12</td>\n      <td>6.415434e+11</td>\n      <td>3.224296e+10</td>\n    </tr>\n    <tr>\n      <th>2007-01-01</th>\n      <td>7.235517e+12</td>\n      <td>1.760744e+12</td>\n      <td>301231.22</td>\n      <td>1317885.0</td>\n      <td>11183.428123</td>\n      <td>0.0</td>\n      <td>0.0</td>\n      <td>5.810549e+11</td>\n      <td>4.779125e+11</td>\n      <td>1.008230e+12</td>\n      <td>7.191396e+11</td>\n      <td>3.498284e+10</td>\n    </tr>\n    <tr>\n      <th>2008-01-01</th>\n      <td>8.006408e+12</td>\n      <td>2.479631e+12</td>\n      <td>304093.97</td>\n      <td>1324655.0</td>\n      <td>11183.428123</td>\n      <td>0.0</td>\n      <td>0.0</td>\n      <td>7.071993e+11</td>\n      <td>6.157260e+11</td>\n      <td>1.178219e+12</td>\n      <td>8.980015e+11</td>\n      <td>4.445431e+10</td>\n    </tr>\n    <tr>\n      <th>2009-01-01</th>\n      <td>9.255663e+12</td>\n      <td>3.247738e+12</td>\n      <td>306771.53</td>\n      <td>1331260.0</td>\n      <td>11183.428123</td>\n      <td>0.0</td>\n      <td>0.0</td>\n      <td>6.784442e+11</td>\n      <td>6.444161e+11</td>\n      <td>1.029349e+12</td>\n      <td>9.063443e+11</td>\n      <td>4.992364e+10</td>\n    </tr>\n    <tr>\n      <th>2010-01-01</th>\n      <td>9.684627e+12</td>\n      <td>3.908740e+12</td>\n      <td>309346.88</td>\n      <td>1337705.0</td>\n      <td>11183.428123</td>\n      <td>0.0</td>\n      <td>0.0</td>\n      <td>8.267647e+11</td>\n      <td>9.021093e+11</td>\n      <td>1.273726e+12</td>\n      <td>1.160983e+12</td>\n      <td>6.598572e+10</td>\n    </tr>\n    <tr>\n      <th>2011-01-01</th>\n      <td>9.685374e+12</td>\n      <td>4.676334e+12</td>\n      <td>311718.84</td>\n      <td>1344130.0</td>\n      <td>11183.428123</td>\n      <td>0.0</td>\n      <td>0.0</td>\n      <td>9.252765e+11</td>\n      <td>1.086898e+12</td>\n      <td>1.378072e+12</td>\n      <td>1.285863e+12</td>\n      <td>7.437514e+10</td>\n    </tr>\n    <tr>\n      <th>2012-01-01</th>\n      <td>1.022704e+13</td>\n      <td>5.356605e+12</td>\n      <td>314102.62</td>\n      <td>1350695.0</td>\n      <td>11183.428123</td>\n      <td>0.0</td>\n      <td>0.0</td>\n      <td>9.785577e+11</td>\n      <td>1.150462e+12</td>\n      <td>1.440980e+12</td>\n      <td>1.356310e+12</td>\n      <td>8.143390e+10</td>\n    </tr>\n    <tr>\n      <th>2013-01-01</th>\n      <td>1.065877e+13</td>\n      <td>6.070768e+12</td>\n      <td>316427.40</td>\n      <td>1357380.0</td>\n      <td>11183.428123</td>\n      <td>0.0</td>\n      <td>0.0</td>\n      <td>1.009660e+12</td>\n      <td>1.246891e+12</td>\n      <td>1.450988e+12</td>\n      <td>1.428233e+12</td>\n      <td>9.401673e+10</td>\n    </tr>\n    <tr>\n      <th>2014-01-01</th>\n      <td>1.054294e+13</td>\n      <td>6.290681e+12</td>\n      <td>318907.40</td>\n      <td>1364270.0</td>\n      <td>11183.428123</td>\n      <td>0.0</td>\n      <td>0.0</td>\n      <td>9.848143e+11</td>\n      <td>1.193041e+12</td>\n      <td>1.426755e+12</td>\n      <td>1.439870e+12</td>\n      <td>9.367307e+10</td>\n    </tr>\n  </tbody>\n</table>\n</div>"
     },
     "execution_count": 229,
     "metadata": {},
     "output_type": "execute_result"
    }
   ],
   "source": [
    "df_new"
   ],
   "metadata": {
    "collapsed": false,
    "pycharm": {
     "name": "#%%\n"
    }
   }
  },
  {
   "cell_type": "code",
   "execution_count": 332,
   "outputs": [],
   "source": [
    "exogenous_numeric = df_new[[\"GDP_d\", \"XPTOT_o\"]]"
   ],
   "metadata": {
    "collapsed": false,
    "pycharm": {
     "name": "#%%\n"
    }
   }
  },
  {
   "cell_type": "code",
   "execution_count": 333,
   "outputs": [],
   "source": [
    "exogenous_numeric = np.log(exogenous_numeric)"
   ],
   "metadata": {
    "collapsed": false,
    "pycharm": {
     "name": "#%%\n"
    }
   }
  },
  {
   "cell_type": "code",
   "execution_count": 334,
   "outputs": [
    {
     "data": {
      "text/plain": "                GDP_d    XPTOT_o\nyear                            \n2001-01-01  27.553539  26.996385\n2002-01-01  27.606132  26.912828\n2003-01-01  27.641501  26.869949\n2004-01-01  27.689802  26.874445\n2005-01-01  27.852343  26.963926\n2006-01-01  28.025494  27.057633\n2007-01-01  28.196758  27.088111\n2008-01-01  28.539131  27.284578\n2009-01-01  28.808980  27.243068\n2010-01-01  28.994236  27.440786\n2011-01-01  29.173536  27.553358\n2012-01-01  29.309351  27.609346\n2013-01-01  29.434506  27.640635\n2014-01-01  29.470090  27.615719",
      "text/html": "<div>\n<style scoped>\n    .dataframe tbody tr th:only-of-type {\n        vertical-align: middle;\n    }\n\n    .dataframe tbody tr th {\n        vertical-align: top;\n    }\n\n    .dataframe thead th {\n        text-align: right;\n    }\n</style>\n<table border=\"1\" class=\"dataframe\">\n  <thead>\n    <tr style=\"text-align: right;\">\n      <th></th>\n      <th>GDP_d</th>\n      <th>XPTOT_o</th>\n    </tr>\n    <tr>\n      <th>year</th>\n      <th></th>\n      <th></th>\n    </tr>\n  </thead>\n  <tbody>\n    <tr>\n      <th>2001-01-01</th>\n      <td>27.553539</td>\n      <td>26.996385</td>\n    </tr>\n    <tr>\n      <th>2002-01-01</th>\n      <td>27.606132</td>\n      <td>26.912828</td>\n    </tr>\n    <tr>\n      <th>2003-01-01</th>\n      <td>27.641501</td>\n      <td>26.869949</td>\n    </tr>\n    <tr>\n      <th>2004-01-01</th>\n      <td>27.689802</td>\n      <td>26.874445</td>\n    </tr>\n    <tr>\n      <th>2005-01-01</th>\n      <td>27.852343</td>\n      <td>26.963926</td>\n    </tr>\n    <tr>\n      <th>2006-01-01</th>\n      <td>28.025494</td>\n      <td>27.057633</td>\n    </tr>\n    <tr>\n      <th>2007-01-01</th>\n      <td>28.196758</td>\n      <td>27.088111</td>\n    </tr>\n    <tr>\n      <th>2008-01-01</th>\n      <td>28.539131</td>\n      <td>27.284578</td>\n    </tr>\n    <tr>\n      <th>2009-01-01</th>\n      <td>28.808980</td>\n      <td>27.243068</td>\n    </tr>\n    <tr>\n      <th>2010-01-01</th>\n      <td>28.994236</td>\n      <td>27.440786</td>\n    </tr>\n    <tr>\n      <th>2011-01-01</th>\n      <td>29.173536</td>\n      <td>27.553358</td>\n    </tr>\n    <tr>\n      <th>2012-01-01</th>\n      <td>29.309351</td>\n      <td>27.609346</td>\n    </tr>\n    <tr>\n      <th>2013-01-01</th>\n      <td>29.434506</td>\n      <td>27.640635</td>\n    </tr>\n    <tr>\n      <th>2014-01-01</th>\n      <td>29.470090</td>\n      <td>27.615719</td>\n    </tr>\n  </tbody>\n</table>\n</div>"
     },
     "execution_count": 334,
     "metadata": {},
     "output_type": "execute_result"
    }
   ],
   "source": [
    "exogenous_numeric"
   ],
   "metadata": {
    "collapsed": false,
    "pycharm": {
     "name": "#%%\n"
    }
   }
  },
  {
   "cell_type": "code",
   "execution_count": 335,
   "outputs": [
    {
     "name": "stderr",
     "output_type": "stream",
     "text": [
      "/Users/prateekrao/miniforge3/envs/mlb/lib/python3.8/site-packages/statsmodels/tsa/base/tsa_model.py:471: ValueWarning: No frequency information was provided, so inferred frequency AS-JAN will be used.\n",
      "  self._init_dates(dates, freq)\n",
      "/Users/prateekrao/miniforge3/envs/mlb/lib/python3.8/site-packages/statsmodels/tsa/base/tsa_model.py:471: ValueWarning: No frequency information was provided, so inferred frequency AS-JAN will be used.\n",
      "  self._init_dates(dates, freq)\n",
      "/Users/prateekrao/miniforge3/envs/mlb/lib/python3.8/site-packages/statsmodels/tsa/base/tsa_model.py:471: ValueWarning: No frequency information was provided, so inferred frequency AS-JAN will be used.\n",
      "  self._init_dates(dates, freq)\n"
     ]
    }
   ],
   "source": [
    "model = ARIMA(np.log(df_new.FLOW.iloc[:10]), order=(2,1,2), exog=exogenous_numeric.iloc[:10])"
   ],
   "metadata": {
    "collapsed": false,
    "pycharm": {
     "name": "#%%\n"
    }
   }
  },
  {
   "cell_type": "code",
   "execution_count": 336,
   "outputs": [
    {
     "name": "stderr",
     "output_type": "stream",
     "text": [
      "/Users/prateekrao/miniforge3/envs/mlb/lib/python3.8/site-packages/statsmodels/tsa/statespace/sarimax.py:966: UserWarning: Non-stationary starting autoregressive parameters found. Using zeros as starting parameters.\n",
      "  warn('Non-stationary starting autoregressive parameters'\n",
      "/Users/prateekrao/miniforge3/envs/mlb/lib/python3.8/site-packages/statsmodels/tsa/statespace/sarimax.py:978: UserWarning: Non-invertible starting MA parameters found. Using zeros as starting parameters.\n",
      "  warn('Non-invertible starting MA parameters found.'\n",
      "/Users/prateekrao/miniforge3/envs/mlb/lib/python3.8/site-packages/statsmodels/base/model.py:604: ConvergenceWarning: Maximum Likelihood optimization failed to converge. Check mle_retvals\n",
      "  warnings.warn(\"Maximum Likelihood optimization failed to \"\n"
     ]
    }
   ],
   "source": [
    "arimax_model = model.fit()"
   ],
   "metadata": {
    "collapsed": false,
    "pycharm": {
     "name": "#%%\n"
    }
   }
  },
  {
   "cell_type": "code",
   "execution_count": 337,
   "outputs": [
    {
     "data": {
      "text/plain": "                   GDP_o         GDP_d      POP_o      POP_d         Distw  \\\nyear                                                                         \n2001-01-01  7.378503e+12  9.254435e+11  284968.97  1271850.0  11183.428123   \n2002-01-01  7.324450e+12  9.754176e+11  287625.20  1280400.0  11183.428123   \n2003-01-01  7.049963e+12  1.010535e+12  290107.94  1288400.0  11183.428123   \n2004-01-01  6.704321e+12  1.060543e+12  292805.30  1296075.0  11183.428123   \n2005-01-01  7.201523e+12  1.247725e+12  295516.60  1303720.0  11183.428123   \n2006-01-01  7.530495e+12  1.483602e+12  298379.90  1311020.0  11183.428123   \n2007-01-01  7.235517e+12  1.760744e+12  301231.22  1317885.0  11183.428123   \n2008-01-01  8.006408e+12  2.479631e+12  304093.97  1324655.0  11183.428123   \n2009-01-01  9.255663e+12  3.247738e+12  306771.53  1331260.0  11183.428123   \n2010-01-01  9.684627e+12  3.908740e+12  309346.88  1337705.0  11183.428123   \n2011-01-01  9.685374e+12  4.676334e+12  311718.84  1344130.0  11183.428123   \n2012-01-01  1.022704e+13  5.356605e+12  314102.62  1350695.0  11183.428123   \n2013-01-01  1.065877e+13  6.070768e+12  316427.40  1357380.0  11183.428123   \n2014-01-01  1.054294e+13  6.290681e+12  318907.40  1364270.0  11183.428123   \n\n            Comlang  Contig       XPTOT_o       IPTOT_d       IPTOT_o  \\\nyear                                                                    \n2001-01-01      0.0     0.0  5.301281e+11  1.691950e+11  8.198111e+11   \n2002-01-01      0.0     0.0  4.876326e+11  1.971244e+11  8.022755e+11   \n2003-01-01      0.0     0.0  4.671654e+11  2.528505e+11  7.994658e+11   \n2004-01-01      0.0     0.0  4.692705e+11  3.063038e+11  8.331812e+11   \n2005-01-01      0.0     0.0  5.131972e+11  3.631191e+11  9.528826e+11   \n2006-01-01      0.0     0.0  5.636124e+11  4.303292e+11  1.043082e+12   \n2007-01-01      0.0     0.0  5.810549e+11  4.779125e+11  1.008230e+12   \n2008-01-01      0.0     0.0  7.071993e+11  6.157260e+11  1.178219e+12   \n2009-01-01      0.0     0.0  6.784442e+11  6.444161e+11  1.029349e+12   \n2010-01-01      0.0     0.0  8.267647e+11  9.021093e+11  1.273726e+12   \n2011-01-01      0.0     0.0  9.252765e+11  1.086898e+12  1.378072e+12   \n2012-01-01      0.0     0.0  9.785577e+11  1.150462e+12  1.440980e+12   \n2013-01-01      0.0     0.0  1.009660e+12  1.246891e+12  1.450988e+12   \n2014-01-01      0.0     0.0  9.848143e+11  1.193041e+12  1.426755e+12   \n\n                 XPTOT_d          FLOW      forecast  \nyear                                                  \n2001-01-01  2.822862e+11  1.821455e+10           NaN  \n2002-01-01  3.161568e+11  1.818276e+10           NaN  \n2003-01-01  3.647914e+11  2.078663e+10           NaN  \n2004-01-01  4.272286e+11  2.443822e+10           NaN  \n2005-01-01  5.384827e+11  2.694688e+10           NaN  \n2006-01-01  6.415434e+11  3.224296e+10           NaN  \n2007-01-01  7.191396e+11  3.498284e+10           NaN  \n2008-01-01  8.980015e+11  4.445431e+10           NaN  \n2009-01-01  9.063443e+11  4.992364e+10           NaN  \n2010-01-01  1.160983e+12  6.598572e+10           NaN  \n2011-01-01  1.285863e+12  7.437514e+10  6.411038e+10  \n2012-01-01  1.356310e+12  8.143390e+10  8.191073e+10  \n2013-01-01  1.428233e+12  9.401673e+10  9.878530e+10  \n2014-01-01  1.439870e+12  9.367307e+10  1.141693e+11  ",
      "text/html": "<div>\n<style scoped>\n    .dataframe tbody tr th:only-of-type {\n        vertical-align: middle;\n    }\n\n    .dataframe tbody tr th {\n        vertical-align: top;\n    }\n\n    .dataframe thead th {\n        text-align: right;\n    }\n</style>\n<table border=\"1\" class=\"dataframe\">\n  <thead>\n    <tr style=\"text-align: right;\">\n      <th></th>\n      <th>GDP_o</th>\n      <th>GDP_d</th>\n      <th>POP_o</th>\n      <th>POP_d</th>\n      <th>Distw</th>\n      <th>Comlang</th>\n      <th>Contig</th>\n      <th>XPTOT_o</th>\n      <th>IPTOT_d</th>\n      <th>IPTOT_o</th>\n      <th>XPTOT_d</th>\n      <th>FLOW</th>\n      <th>forecast</th>\n    </tr>\n    <tr>\n      <th>year</th>\n      <th></th>\n      <th></th>\n      <th></th>\n      <th></th>\n      <th></th>\n      <th></th>\n      <th></th>\n      <th></th>\n      <th></th>\n      <th></th>\n      <th></th>\n      <th></th>\n      <th></th>\n    </tr>\n  </thead>\n  <tbody>\n    <tr>\n      <th>2001-01-01</th>\n      <td>7.378503e+12</td>\n      <td>9.254435e+11</td>\n      <td>284968.97</td>\n      <td>1271850.0</td>\n      <td>11183.428123</td>\n      <td>0.0</td>\n      <td>0.0</td>\n      <td>5.301281e+11</td>\n      <td>1.691950e+11</td>\n      <td>8.198111e+11</td>\n      <td>2.822862e+11</td>\n      <td>1.821455e+10</td>\n      <td>NaN</td>\n    </tr>\n    <tr>\n      <th>2002-01-01</th>\n      <td>7.324450e+12</td>\n      <td>9.754176e+11</td>\n      <td>287625.20</td>\n      <td>1280400.0</td>\n      <td>11183.428123</td>\n      <td>0.0</td>\n      <td>0.0</td>\n      <td>4.876326e+11</td>\n      <td>1.971244e+11</td>\n      <td>8.022755e+11</td>\n      <td>3.161568e+11</td>\n      <td>1.818276e+10</td>\n      <td>NaN</td>\n    </tr>\n    <tr>\n      <th>2003-01-01</th>\n      <td>7.049963e+12</td>\n      <td>1.010535e+12</td>\n      <td>290107.94</td>\n      <td>1288400.0</td>\n      <td>11183.428123</td>\n      <td>0.0</td>\n      <td>0.0</td>\n      <td>4.671654e+11</td>\n      <td>2.528505e+11</td>\n      <td>7.994658e+11</td>\n      <td>3.647914e+11</td>\n      <td>2.078663e+10</td>\n      <td>NaN</td>\n    </tr>\n    <tr>\n      <th>2004-01-01</th>\n      <td>6.704321e+12</td>\n      <td>1.060543e+12</td>\n      <td>292805.30</td>\n      <td>1296075.0</td>\n      <td>11183.428123</td>\n      <td>0.0</td>\n      <td>0.0</td>\n      <td>4.692705e+11</td>\n      <td>3.063038e+11</td>\n      <td>8.331812e+11</td>\n      <td>4.272286e+11</td>\n      <td>2.443822e+10</td>\n      <td>NaN</td>\n    </tr>\n    <tr>\n      <th>2005-01-01</th>\n      <td>7.201523e+12</td>\n      <td>1.247725e+12</td>\n      <td>295516.60</td>\n      <td>1303720.0</td>\n      <td>11183.428123</td>\n      <td>0.0</td>\n      <td>0.0</td>\n      <td>5.131972e+11</td>\n      <td>3.631191e+11</td>\n      <td>9.528826e+11</td>\n      <td>5.384827e+11</td>\n      <td>2.694688e+10</td>\n      <td>NaN</td>\n    </tr>\n    <tr>\n      <th>2006-01-01</th>\n      <td>7.530495e+12</td>\n      <td>1.483602e+12</td>\n      <td>298379.90</td>\n      <td>1311020.0</td>\n      <td>11183.428123</td>\n      <td>0.0</td>\n      <td>0.0</td>\n      <td>5.636124e+11</td>\n      <td>4.303292e+11</td>\n      <td>1.043082e+12</td>\n      <td>6.415434e+11</td>\n      <td>3.224296e+10</td>\n      <td>NaN</td>\n    </tr>\n    <tr>\n      <th>2007-01-01</th>\n      <td>7.235517e+12</td>\n      <td>1.760744e+12</td>\n      <td>301231.22</td>\n      <td>1317885.0</td>\n      <td>11183.428123</td>\n      <td>0.0</td>\n      <td>0.0</td>\n      <td>5.810549e+11</td>\n      <td>4.779125e+11</td>\n      <td>1.008230e+12</td>\n      <td>7.191396e+11</td>\n      <td>3.498284e+10</td>\n      <td>NaN</td>\n    </tr>\n    <tr>\n      <th>2008-01-01</th>\n      <td>8.006408e+12</td>\n      <td>2.479631e+12</td>\n      <td>304093.97</td>\n      <td>1324655.0</td>\n      <td>11183.428123</td>\n      <td>0.0</td>\n      <td>0.0</td>\n      <td>7.071993e+11</td>\n      <td>6.157260e+11</td>\n      <td>1.178219e+12</td>\n      <td>8.980015e+11</td>\n      <td>4.445431e+10</td>\n      <td>NaN</td>\n    </tr>\n    <tr>\n      <th>2009-01-01</th>\n      <td>9.255663e+12</td>\n      <td>3.247738e+12</td>\n      <td>306771.53</td>\n      <td>1331260.0</td>\n      <td>11183.428123</td>\n      <td>0.0</td>\n      <td>0.0</td>\n      <td>6.784442e+11</td>\n      <td>6.444161e+11</td>\n      <td>1.029349e+12</td>\n      <td>9.063443e+11</td>\n      <td>4.992364e+10</td>\n      <td>NaN</td>\n    </tr>\n    <tr>\n      <th>2010-01-01</th>\n      <td>9.684627e+12</td>\n      <td>3.908740e+12</td>\n      <td>309346.88</td>\n      <td>1337705.0</td>\n      <td>11183.428123</td>\n      <td>0.0</td>\n      <td>0.0</td>\n      <td>8.267647e+11</td>\n      <td>9.021093e+11</td>\n      <td>1.273726e+12</td>\n      <td>1.160983e+12</td>\n      <td>6.598572e+10</td>\n      <td>NaN</td>\n    </tr>\n    <tr>\n      <th>2011-01-01</th>\n      <td>9.685374e+12</td>\n      <td>4.676334e+12</td>\n      <td>311718.84</td>\n      <td>1344130.0</td>\n      <td>11183.428123</td>\n      <td>0.0</td>\n      <td>0.0</td>\n      <td>9.252765e+11</td>\n      <td>1.086898e+12</td>\n      <td>1.378072e+12</td>\n      <td>1.285863e+12</td>\n      <td>7.437514e+10</td>\n      <td>6.411038e+10</td>\n    </tr>\n    <tr>\n      <th>2012-01-01</th>\n      <td>1.022704e+13</td>\n      <td>5.356605e+12</td>\n      <td>314102.62</td>\n      <td>1350695.0</td>\n      <td>11183.428123</td>\n      <td>0.0</td>\n      <td>0.0</td>\n      <td>9.785577e+11</td>\n      <td>1.150462e+12</td>\n      <td>1.440980e+12</td>\n      <td>1.356310e+12</td>\n      <td>8.143390e+10</td>\n      <td>8.191073e+10</td>\n    </tr>\n    <tr>\n      <th>2013-01-01</th>\n      <td>1.065877e+13</td>\n      <td>6.070768e+12</td>\n      <td>316427.40</td>\n      <td>1357380.0</td>\n      <td>11183.428123</td>\n      <td>0.0</td>\n      <td>0.0</td>\n      <td>1.009660e+12</td>\n      <td>1.246891e+12</td>\n      <td>1.450988e+12</td>\n      <td>1.428233e+12</td>\n      <td>9.401673e+10</td>\n      <td>9.878530e+10</td>\n    </tr>\n    <tr>\n      <th>2014-01-01</th>\n      <td>1.054294e+13</td>\n      <td>6.290681e+12</td>\n      <td>318907.40</td>\n      <td>1364270.0</td>\n      <td>11183.428123</td>\n      <td>0.0</td>\n      <td>0.0</td>\n      <td>9.848143e+11</td>\n      <td>1.193041e+12</td>\n      <td>1.426755e+12</td>\n      <td>1.439870e+12</td>\n      <td>9.367307e+10</td>\n      <td>1.141693e+11</td>\n    </tr>\n  </tbody>\n</table>\n</div>"
     },
     "execution_count": 337,
     "metadata": {},
     "output_type": "execute_result"
    }
   ],
   "source": [
    "df_new['forecast'] = arimax_model.predict(start=10, end=15, dynamic=True,\n",
    "                                          exog=exogenous_numeric.iloc[8:15])\n",
    "df_new.forecast = np.exp(df_new.forecast)\n",
    "df_new"
   ],
   "metadata": {
    "collapsed": false,
    "pycharm": {
     "name": "#%%\n"
    }
   }
  },
  {
   "cell_type": "code",
   "execution_count": 338,
   "outputs": [
    {
     "data": {
      "text/plain": "<AxesSubplot:xlabel='year'>"
     },
     "execution_count": 338,
     "metadata": {},
     "output_type": "execute_result"
    },
    {
     "data": {
      "text/plain": "<Figure size 432x288 with 1 Axes>",
      "image/png": "[encoded data removed]"
     },
     "metadata": {},
     "output_type": "display_data"
    }
   ],
   "source": [
    "df_new[[\"FLOW\", \"forecast\"]].plot()"
   ],
   "metadata": {
    "collapsed": false,
    "pycharm": {
     "name": "#%%\n"
    }
   }
  },
  {
   "cell_type": "code",
   "execution_count": 339,
   "outputs": [
    {
     "data": {
      "text/plain": "0.6073643886060325"
     },
     "execution_count": 339,
     "metadata": {},
     "output_type": "execute_result"
    }
   ],
   "source": [
    "df_result = df_new.iloc[10:14]\n",
    "df_result\n",
    "from sklearn.metrics import r2_score\n",
    "\n",
    "r2_score(df_result['forecast'], df_result['FLOW'])"
   ],
   "metadata": {
    "collapsed": false,
    "pycharm": {
     "name": "#%%\n"
    }
   }
  },
  {
   "cell_type": "code",
   "execution_count": null,
   "outputs": [],
   "source": [],
   "metadata": {
    "collapsed": false,
    "pycharm": {
     "name": "#%%\n"
    }
   }
  }
 ],
 "metadata": {
  "kernelspec": {
   "display_name": "Python 3",
   "language": "python",
   "name": "python3"
  },
  "language_info": {
   "codemirror_mode": {
    "name": "ipython",
    "version": 2
   },
   "file_extension": ".py",
   "mimetype": "text/x-python",
   "name": "python",
   "nbconvert_exporter": "python",
   "pygments_lexer": "ipython2",
   "version": "2.7.6"
  }
 },
 "nbformat": 4,
 "nbformat_minor": 0
}