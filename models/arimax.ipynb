{
 "cells": [
  {
   "cell_type": "code",
   "execution_count": 35,
   "outputs": [],
   "source": [
    "import numpy as np\n",
    "import pandas as pd\n",
    "import matplotlib.pyplot as plt\n",
    "from statsmodels.graphics.tsaplots import plot_acf, plot_pacf\n",
    "from statsmodels.tsa.arima.model import ARIMA"
   ],
   "metadata": {
    "collapsed": false,
    "pycharm": {
     "name": "#%%\n"
    }
   }
  },
  {
   "cell_type": "code",
   "execution_count": 3,
   "outputs": [
    {
     "name": "stderr",
     "output_type": "stream",
     "text": [
      "/var/folders/qc/xp9q1kcj79315fgc2jdgwtv00000gn/T/ipykernel_19560/562444793.py:2: DtypeWarning: Columns (8,12,14,21,24,28,33,45,46,51) have mixed types. Specify dtype option on import or set low_memory=False.\n",
      "  df = pd.read_csv(PATH)\n"
     ]
    }
   ],
   "source": [
    "PATH = \"../datasets/tradhist.csv\"\n",
    "df = pd.read_csv(PATH)"
   ],
   "metadata": {
    "collapsed": false,
    "pycharm": {
     "name": "#%%\n"
    }
   }
  },
  {
   "cell_type": "code",
   "execution_count": 48,
   "outputs": [],
   "source": [
    "df_new = df.loc[(df[\"iso_o\"] == \"USA\") & (df[\"iso_d\"] == \"CHN\")]"
   ],
   "metadata": {
    "collapsed": false,
    "pycharm": {
     "name": "#%%\n"
    }
   }
  },
  {
   "cell_type": "code",
   "execution_count": 49,
   "outputs": [
    {
     "data": {
      "text/plain": "         Unnamed: 0 iso_o iso_d  year          FLOW  FLOW_0      SOURCE_TF  \\\n2332062     2332062   USA   CHN  1827  4.052000e+05     NaN  USA HIST STAT   \n2332063     2332063   USA   CHN  1828  4.058000e+05     NaN  USA HIST STAT   \n2332064     2332064   USA   CHN  1829  2.057000e+05     NaN  USA HIST STAT   \n2332065     2332065   USA   CHN  1830  2.100000e+05     NaN  USA HIST STAT   \n2332066     2332066   USA   CHN  1831  4.116000e+05     NaN  USA HIST STAT   \n...             ...   ...   ...   ...           ...     ...            ...   \n2332245     2332245   USA   CHN  2010  6.598572e+10     NaN        DOTS_IP   \n2332246     2332246   USA   CHN  2011  7.437514e+10     NaN        DOTS_IP   \n2332247     2332247   USA   CHN  2012  8.143390e+10     NaN        DOTS_IP   \n2332248     2332248   USA   CHN  2013  9.401673e+10     NaN        DOTS_IP   \n2332249     2332249   USA   CHN  2014  9.367307e+10     NaN        DOTS_IP   \n\n                GDP_o   SOURCE_GDP_o         GDP_d  ... CONTI_o  CONTI_d  \\\n2332062  1.855816e+08  USA MEASURING           NaN  ...   AMERI     ASIA   \n2332063  1.820013e+08  USA MEASURING           NaN  ...   AMERI     ASIA   \n2332064  1.913010e+08  USA MEASURING           NaN  ...   AMERI     ASIA   \n2332065  2.146200e+08  USA MEASURING           NaN  ...   AMERI     ASIA   \n2332066  2.165016e+08  USA MEASURING           NaN  ...   AMERI     ASIA   \n...               ...            ...           ...  ...     ...      ...   \n2332245  9.684627e+12            WDI  3.908740e+12  ...   AMERI     ASIA   \n2332246  9.685374e+12            WDI  4.676334e+12  ...   AMERI     ASIA   \n2332247  1.022704e+13            WDI  5.356605e+12  ...   AMERI     ASIA   \n2332248  1.065877e+13            WDI  6.070768e+12  ...   AMERI     ASIA   \n2332249  1.054294e+13            WDI  6.290681e+12  ...   AMERI     ASIA   \n\n        REGIO_o  REGIO_d OECD_o  OECD_d EU_o  EU_d GATT_o  GATT_d  \n2332062   NORAM   ESTASI    NaN     NaN  NaN   NaN    NaN     NaN  \n2332063   NORAM   ESTASI    NaN     NaN  NaN   NaN    NaN     NaN  \n2332064   NORAM   ESTASI    NaN     NaN  NaN   NaN    NaN     NaN  \n2332065   NORAM   ESTASI    NaN     NaN  NaN   NaN    NaN     NaN  \n2332066   NORAM   ESTASI    NaN     NaN  NaN   NaN    NaN     NaN  \n...         ...      ...    ...     ...  ...   ...    ...     ...  \n2332245   NORAM   ESTASI    1.0     0.0  0.0   0.0    1.0     1.0  \n2332246   NORAM   ESTASI    1.0     0.0  0.0   0.0    1.0     1.0  \n2332247   NORAM   ESTASI    1.0     0.0  0.0   0.0    1.0     1.0  \n2332248   NORAM   ESTASI    1.0     0.0  0.0   0.0    1.0     1.0  \n2332249   NORAM   ESTASI    1.0     0.0  0.0   0.0    1.0     1.0  \n\n[188 rows x 64 columns]",
      "text/html": "<div>\n<style scoped>\n    .dataframe tbody tr th:only-of-type {\n        vertical-align: middle;\n    }\n\n    .dataframe tbody tr th {\n        vertical-align: top;\n    }\n\n    .dataframe thead th {\n        text-align: right;\n    }\n</style>\n<table border=\"1\" class=\"dataframe\">\n  <thead>\n    <tr style=\"text-align: right;\">\n      <th></th>\n      <th>Unnamed: 0</th>\n      <th>iso_o</th>\n      <th>iso_d</th>\n      <th>year</th>\n      <th>FLOW</th>\n      <th>FLOW_0</th>\n      <th>SOURCE_TF</th>\n      <th>GDP_o</th>\n      <th>SOURCE_GDP_o</th>\n      <th>GDP_d</th>\n      <th>...</th>\n      <th>CONTI_o</th>\n      <th>CONTI_d</th>\n      <th>REGIO_o</th>\n      <th>REGIO_d</th>\n      <th>OECD_o</th>\n      <th>OECD_d</th>\n      <th>EU_o</th>\n      <th>EU_d</th>\n      <th>GATT_o</th>\n      <th>GATT_d</th>\n    </tr>\n  </thead>\n  <tbody>\n    <tr>\n      <th>2332062</th>\n      <td>2332062</td>\n      <td>USA</td>\n      <td>CHN</td>\n      <td>1827</td>\n      <td>4.052000e+05</td>\n      <td>NaN</td>\n      <td>USA HIST STAT</td>\n      <td>1.855816e+08</td>\n      <td>USA MEASURING</td>\n      <td>NaN</td>\n      <td>...</td>\n      <td>AMERI</td>\n      <td>ASIA</td>\n      <td>NORAM</td>\n      <td>ESTASI</td>\n      <td>NaN</td>\n      <td>NaN</td>\n      <td>NaN</td>\n      <td>NaN</td>\n      <td>NaN</td>\n      <td>NaN</td>\n    </tr>\n    <tr>\n      <th>2332063</th>\n      <td>2332063</td>\n      <td>USA</td>\n      <td>CHN</td>\n      <td>1828</td>\n      <td>4.058000e+05</td>\n      <td>NaN</td>\n      <td>USA HIST STAT</td>\n      <td>1.820013e+08</td>\n      <td>USA MEASURING</td>\n      <td>NaN</td>\n      <td>...</td>\n      <td>AMERI</td>\n      <td>ASIA</td>\n      <td>NORAM</td>\n      <td>ESTASI</td>\n      <td>NaN</td>\n      <td>NaN</td>\n      <td>NaN</td>\n      <td>NaN</td>\n      <td>NaN</td>\n      <td>NaN</td>\n    </tr>\n    <tr>\n      <th>2332064</th>\n      <td>2332064</td>\n      <td>USA</td>\n      <td>CHN</td>\n      <td>1829</td>\n      <td>2.057000e+05</td>\n      <td>NaN</td>\n      <td>USA HIST STAT</td>\n      <td>1.913010e+08</td>\n      <td>USA MEASURING</td>\n      <td>NaN</td>\n      <td>...</td>\n      <td>AMERI</td>\n      <td>ASIA</td>\n      <td>NORAM</td>\n      <td>ESTASI</td>\n      <td>NaN</td>\n      <td>NaN</td>\n      <td>NaN</td>\n      <td>NaN</td>\n      <td>NaN</td>\n      <td>NaN</td>\n    </tr>\n    <tr>\n      <th>2332065</th>\n      <td>2332065</td>\n      <td>USA</td>\n      <td>CHN</td>\n      <td>1830</td>\n      <td>2.100000e+05</td>\n      <td>NaN</td>\n      <td>USA HIST STAT</td>\n      <td>2.146200e+08</td>\n      <td>USA MEASURING</td>\n      <td>NaN</td>\n      <td>...</td>\n      <td>AMERI</td>\n      <td>ASIA</td>\n      <td>NORAM</td>\n      <td>ESTASI</td>\n      <td>NaN</td>\n      <td>NaN</td>\n      <td>NaN</td>\n      <td>NaN</td>\n      <td>NaN</td>\n      <td>NaN</td>\n    </tr>\n    <tr>\n      <th>2332066</th>\n      <td>2332066</td>\n      <td>USA</td>\n      <td>CHN</td>\n      <td>1831</td>\n      <td>4.116000e+05</td>\n      <td>NaN</td>\n      <td>USA HIST STAT</td>\n      <td>2.165016e+08</td>\n      <td>USA MEASURING</td>\n      <td>NaN</td>\n      <td>...</td>\n      <td>AMERI</td>\n      <td>ASIA</td>\n      <td>NORAM</td>\n      <td>ESTASI</td>\n      <td>NaN</td>\n      <td>NaN</td>\n      <td>NaN</td>\n      <td>NaN</td>\n      <td>NaN</td>\n      <td>NaN</td>\n    </tr>\n    <tr>\n      <th>...</th>\n      <td>...</td>\n      <td>...</td>\n      <td>...</td>\n      <td>...</td>\n      <td>...</td>\n      <td>...</td>\n      <td>...</td>\n      <td>...</td>\n      <td>...</td>\n      <td>...</td>\n      <td>...</td>\n      <td>...</td>\n      <td>...</td>\n      <td>...</td>\n      <td>...</td>\n      <td>...</td>\n      <td>...</td>\n      <td>...</td>\n      <td>...</td>\n      <td>...</td>\n      <td>...</td>\n    </tr>\n    <tr>\n      <th>2332245</th>\n      <td>2332245</td>\n      <td>USA</td>\n      <td>CHN</td>\n      <td>2010</td>\n      <td>6.598572e+10</td>\n      <td>NaN</td>\n      <td>DOTS_IP</td>\n      <td>9.684627e+12</td>\n      <td>WDI</td>\n      <td>3.908740e+12</td>\n      <td>...</td>\n      <td>AMERI</td>\n      <td>ASIA</td>\n      <td>NORAM</td>\n      <td>ESTASI</td>\n      <td>1.0</td>\n      <td>0.0</td>\n      <td>0.0</td>\n      <td>0.0</td>\n      <td>1.0</td>\n      <td>1.0</td>\n    </tr>\n    <tr>\n      <th>2332246</th>\n      <td>2332246</td>\n      <td>USA</td>\n      <td>CHN</td>\n      <td>2011</td>\n      <td>7.437514e+10</td>\n      <td>NaN</td>\n      <td>DOTS_IP</td>\n      <td>9.685374e+12</td>\n      <td>WDI</td>\n      <td>4.676334e+12</td>\n      <td>...</td>\n      <td>AMERI</td>\n      <td>ASIA</td>\n      <td>NORAM</td>\n      <td>ESTASI</td>\n      <td>1.0</td>\n      <td>0.0</td>\n      <td>0.0</td>\n      <td>0.0</td>\n      <td>1.0</td>\n      <td>1.0</td>\n    </tr>\n    <tr>\n      <th>2332247</th>\n      <td>2332247</td>\n      <td>USA</td>\n      <td>CHN</td>\n      <td>2012</td>\n      <td>8.143390e+10</td>\n      <td>NaN</td>\n      <td>DOTS_IP</td>\n      <td>1.022704e+13</td>\n      <td>WDI</td>\n      <td>5.356605e+12</td>\n      <td>...</td>\n      <td>AMERI</td>\n      <td>ASIA</td>\n      <td>NORAM</td>\n      <td>ESTASI</td>\n      <td>1.0</td>\n      <td>0.0</td>\n      <td>0.0</td>\n      <td>0.0</td>\n      <td>1.0</td>\n      <td>1.0</td>\n    </tr>\n    <tr>\n      <th>2332248</th>\n      <td>2332248</td>\n      <td>USA</td>\n      <td>CHN</td>\n      <td>2013</td>\n      <td>9.401673e+10</td>\n      <td>NaN</td>\n      <td>DOTS_IP</td>\n      <td>1.065877e+13</td>\n      <td>WDI</td>\n      <td>6.070768e+12</td>\n      <td>...</td>\n      <td>AMERI</td>\n      <td>ASIA</td>\n      <td>NORAM</td>\n      <td>ESTASI</td>\n      <td>1.0</td>\n      <td>0.0</td>\n      <td>0.0</td>\n      <td>0.0</td>\n      <td>1.0</td>\n      <td>1.0</td>\n    </tr>\n    <tr>\n      <th>2332249</th>\n      <td>2332249</td>\n      <td>USA</td>\n      <td>CHN</td>\n      <td>2014</td>\n      <td>9.367307e+10</td>\n      <td>NaN</td>\n      <td>DOTS_IP</td>\n      <td>1.054294e+13</td>\n      <td>WDI</td>\n      <td>6.290681e+12</td>\n      <td>...</td>\n      <td>AMERI</td>\n      <td>ASIA</td>\n      <td>NORAM</td>\n      <td>ESTASI</td>\n      <td>1.0</td>\n      <td>0.0</td>\n      <td>0.0</td>\n      <td>0.0</td>\n      <td>1.0</td>\n      <td>1.0</td>\n    </tr>\n  </tbody>\n</table>\n<p>188 rows × 64 columns</p>\n</div>"
     },
     "execution_count": 49,
     "metadata": {},
     "output_type": "execute_result"
    }
   ],
   "source": [
    "df_new"
   ],
   "metadata": {
    "collapsed": false,
    "pycharm": {
     "name": "#%%\n"
    }
   }
  },
  {
   "cell_type": "code",
   "execution_count": 50,
   "outputs": [],
   "source": [
    "features = ['GDP_o', 'GDP_d', 'POP_o','POP_d',\n",
    "            'Distw', 'Comlang', 'Contig', 'XPTOT_o', 'IPTOT_d', 'IPTOT_o', 'XPTOT_d'\n",
    "            , \"year\", \"FLOW\"]"
   ],
   "metadata": {
    "collapsed": false,
    "pycharm": {
     "name": "#%%\n"
    }
   }
  },
  {
   "cell_type": "code",
   "execution_count": 51,
   "outputs": [],
   "source": [
    "df_new = df_new[features]"
   ],
   "metadata": {
    "collapsed": false,
    "pycharm": {
     "name": "#%%\n"
    }
   }
  },
  {
   "cell_type": "code",
   "execution_count": 52,
   "outputs": [
    {
     "data": {
      "text/plain": "                GDP_o         GDP_d       POP_o       POP_d         Distw  \\\n2332062  1.855816e+08           NaN   12250.905   400390.53  11183.428123   \n2332063  1.820013e+08           NaN   12580.590   403240.03  11183.428123   \n2332064  1.913010e+08           NaN   12906.416   406109.80  11183.428123   \n2332065  2.146200e+08           NaN   13240.313   409000.00  11183.428123   \n2332066  2.165016e+08           NaN   13658.580   409299.00  11183.428123   \n...               ...           ...         ...         ...           ...   \n2332245  9.684627e+12  3.908740e+12  309346.880  1337705.00  11183.428123   \n2332246  9.685374e+12  4.676334e+12  311718.840  1344130.00  11183.428123   \n2332247  1.022704e+13  5.356605e+12  314102.620  1350695.00  11183.428123   \n2332248  1.065877e+13  6.070768e+12  316427.400  1357380.00  11183.428123   \n2332249  1.054294e+13  6.290681e+12  318907.400  1364270.00  11183.428123   \n\n         Comlang  Contig       XPTOT_o       IPTOT_d       IPTOT_o  \\\n2332062      0.0     0.0  1.620800e+07           NaN  1.580280e+07   \n2332063      0.0     0.0  1.440590e+07           NaN  1.359430e+07   \n2332064      0.0     0.0  1.131350e+07           NaN  1.522180e+07   \n2332065      0.0     0.0  1.239000e+07           NaN  1.470000e+07   \n2332066      0.0     0.0  1.214220e+07           NaN  1.704024e+07   \n...          ...     ...           ...           ...           ...   \n2332245      0.0     0.0  8.267647e+11  9.021093e+11  1.273726e+12   \n2332246      0.0     0.0  9.252765e+11  1.086898e+12  1.378072e+12   \n2332247      0.0     0.0  9.785577e+11  1.150462e+12  1.440980e+12   \n2332248      0.0     0.0  1.009660e+12  1.246891e+12  1.450988e+12   \n2332249      0.0     0.0  9.848143e+11  1.193041e+12  1.426755e+12   \n\n              XPTOT_d  year          FLOW  \n2332062           NaN  1827  4.052000e+05  \n2332063           NaN  1828  4.058000e+05  \n2332064           NaN  1829  2.057000e+05  \n2332065           NaN  1830  2.100000e+05  \n2332066           NaN  1831  4.116000e+05  \n...               ...   ...           ...  \n2332245  1.160983e+12  2010  6.598572e+10  \n2332246  1.285863e+12  2011  7.437514e+10  \n2332247  1.356310e+12  2012  8.143390e+10  \n2332248  1.428233e+12  2013  9.401673e+10  \n2332249  1.439870e+12  2014  9.367307e+10  \n\n[188 rows x 13 columns]",
      "text/html": "<div>\n<style scoped>\n    .dataframe tbody tr th:only-of-type {\n        vertical-align: middle;\n    }\n\n    .dataframe tbody tr th {\n        vertical-align: top;\n    }\n\n    .dataframe thead th {\n        text-align: right;\n    }\n</style>\n<table border=\"1\" class=\"dataframe\">\n  <thead>\n    <tr style=\"text-align: right;\">\n      <th></th>\n      <th>GDP_o</th>\n      <th>GDP_d</th>\n      <th>POP_o</th>\n      <th>POP_d</th>\n      <th>Distw</th>\n      <th>Comlang</th>\n      <th>Contig</th>\n      <th>XPTOT_o</th>\n      <th>IPTOT_d</th>\n      <th>IPTOT_o</th>\n      <th>XPTOT_d</th>\n      <th>year</th>\n      <th>FLOW</th>\n    </tr>\n  </thead>\n  <tbody>\n    <tr>\n      <th>2332062</th>\n      <td>1.855816e+08</td>\n      <td>NaN</td>\n      <td>12250.905</td>\n      <td>400390.53</td>\n      <td>11183.428123</td>\n      <td>0.0</td>\n      <td>0.0</td>\n      <td>1.620800e+07</td>\n      <td>NaN</td>\n      <td>1.580280e+07</td>\n      <td>NaN</td>\n      <td>1827</td>\n      <td>4.052000e+05</td>\n    </tr>\n    <tr>\n      <th>2332063</th>\n      <td>1.820013e+08</td>\n      <td>NaN</td>\n      <td>12580.590</td>\n      <td>403240.03</td>\n      <td>11183.428123</td>\n      <td>0.0</td>\n      <td>0.0</td>\n      <td>1.440590e+07</td>\n      <td>NaN</td>\n      <td>1.359430e+07</td>\n      <td>NaN</td>\n      <td>1828</td>\n      <td>4.058000e+05</td>\n    </tr>\n    <tr>\n      <th>2332064</th>\n      <td>1.913010e+08</td>\n      <td>NaN</td>\n      <td>12906.416</td>\n      <td>406109.80</td>\n      <td>11183.428123</td>\n      <td>0.0</td>\n      <td>0.0</td>\n      <td>1.131350e+07</td>\n      <td>NaN</td>\n      <td>1.522180e+07</td>\n      <td>NaN</td>\n      <td>1829</td>\n      <td>2.057000e+05</td>\n    </tr>\n    <tr>\n      <th>2332065</th>\n      <td>2.146200e+08</td>\n      <td>NaN</td>\n      <td>13240.313</td>\n      <td>409000.00</td>\n      <td>11183.428123</td>\n      <td>0.0</td>\n      <td>0.0</td>\n      <td>1.239000e+07</td>\n      <td>NaN</td>\n      <td>1.470000e+07</td>\n      <td>NaN</td>\n      <td>1830</td>\n      <td>2.100000e+05</td>\n    </tr>\n    <tr>\n      <th>2332066</th>\n      <td>2.165016e+08</td>\n      <td>NaN</td>\n      <td>13658.580</td>\n      <td>409299.00</td>\n      <td>11183.428123</td>\n      <td>0.0</td>\n      <td>0.0</td>\n      <td>1.214220e+07</td>\n      <td>NaN</td>\n      <td>1.704024e+07</td>\n      <td>NaN</td>\n      <td>1831</td>\n      <td>4.116000e+05</td>\n    </tr>\n    <tr>\n      <th>...</th>\n      <td>...</td>\n      <td>...</td>\n      <td>...</td>\n      <td>...</td>\n      <td>...</td>\n      <td>...</td>\n      <td>...</td>\n      <td>...</td>\n      <td>...</td>\n      <td>...</td>\n      <td>...</td>\n      <td>...</td>\n      <td>...</td>\n    </tr>\n    <tr>\n      <th>2332245</th>\n      <td>9.684627e+12</td>\n      <td>3.908740e+12</td>\n      <td>309346.880</td>\n      <td>1337705.00</td>\n      <td>11183.428123</td>\n      <td>0.0</td>\n      <td>0.0</td>\n      <td>8.267647e+11</td>\n      <td>9.021093e+11</td>\n      <td>1.273726e+12</td>\n      <td>1.160983e+12</td>\n      <td>2010</td>\n      <td>6.598572e+10</td>\n    </tr>\n    <tr>\n      <th>2332246</th>\n      <td>9.685374e+12</td>\n      <td>4.676334e+12</td>\n      <td>311718.840</td>\n      <td>1344130.00</td>\n      <td>11183.428123</td>\n      <td>0.0</td>\n      <td>0.0</td>\n      <td>9.252765e+11</td>\n      <td>1.086898e+12</td>\n      <td>1.378072e+12</td>\n      <td>1.285863e+12</td>\n      <td>2011</td>\n      <td>7.437514e+10</td>\n    </tr>\n    <tr>\n      <th>2332247</th>\n      <td>1.022704e+13</td>\n      <td>5.356605e+12</td>\n      <td>314102.620</td>\n      <td>1350695.00</td>\n      <td>11183.428123</td>\n      <td>0.0</td>\n      <td>0.0</td>\n      <td>9.785577e+11</td>\n      <td>1.150462e+12</td>\n      <td>1.440980e+12</td>\n      <td>1.356310e+12</td>\n      <td>2012</td>\n      <td>8.143390e+10</td>\n    </tr>\n    <tr>\n      <th>2332248</th>\n      <td>1.065877e+13</td>\n      <td>6.070768e+12</td>\n      <td>316427.400</td>\n      <td>1357380.00</td>\n      <td>11183.428123</td>\n      <td>0.0</td>\n      <td>0.0</td>\n      <td>1.009660e+12</td>\n      <td>1.246891e+12</td>\n      <td>1.450988e+12</td>\n      <td>1.428233e+12</td>\n      <td>2013</td>\n      <td>9.401673e+10</td>\n    </tr>\n    <tr>\n      <th>2332249</th>\n      <td>1.054294e+13</td>\n      <td>6.290681e+12</td>\n      <td>318907.400</td>\n      <td>1364270.00</td>\n      <td>11183.428123</td>\n      <td>0.0</td>\n      <td>0.0</td>\n      <td>9.848143e+11</td>\n      <td>1.193041e+12</td>\n      <td>1.426755e+12</td>\n      <td>1.439870e+12</td>\n      <td>2014</td>\n      <td>9.367307e+10</td>\n    </tr>\n  </tbody>\n</table>\n<p>188 rows × 13 columns</p>\n</div>"
     },
     "execution_count": 52,
     "metadata": {},
     "output_type": "execute_result"
    }
   ],
   "source": [
    "df_new"
   ],
   "metadata": {
    "collapsed": false,
    "pycharm": {
     "name": "#%%\n"
    }
   }
  },
  {
   "cell_type": "code",
   "execution_count": 53,
   "outputs": [],
   "source": [
    "df_new = df_new.dropna()"
   ],
   "metadata": {
    "collapsed": false,
    "pycharm": {
     "name": "#%%\n"
    }
   }
  },
  {
   "cell_type": "code",
   "execution_count": 54,
   "outputs": [],
   "source": [
    "df_new = df_new[[\"year\", \"FLOW\"]]"
   ],
   "metadata": {
    "collapsed": false,
    "pycharm": {
     "name": "#%%\n"
    }
   }
  },
  {
   "cell_type": "code",
   "execution_count": 55,
   "outputs": [
    {
     "data": {
      "text/plain": "         year          FLOW\n2332099  1864  1.041224e+06\n2332100  1865  1.508103e+05\n2332101  1866  9.068586e+04\n2332102  1867  2.166406e+05\n2332103  1868  2.531170e+05\n...       ...           ...\n2332245  2010  6.598572e+10\n2332246  2011  7.437514e+10\n2332247  2012  8.143390e+10\n2332248  2013  9.401673e+10\n2332249  2014  9.367307e+10\n\n[120 rows x 2 columns]",
      "text/html": "<div>\n<style scoped>\n    .dataframe tbody tr th:only-of-type {\n        vertical-align: middle;\n    }\n\n    .dataframe tbody tr th {\n        vertical-align: top;\n    }\n\n    .dataframe thead th {\n        text-align: right;\n    }\n</style>\n<table border=\"1\" class=\"dataframe\">\n  <thead>\n    <tr style=\"text-align: right;\">\n      <th></th>\n      <th>year</th>\n      <th>FLOW</th>\n    </tr>\n  </thead>\n  <tbody>\n    <tr>\n      <th>2332099</th>\n      <td>1864</td>\n      <td>1.041224e+06</td>\n    </tr>\n    <tr>\n      <th>2332100</th>\n      <td>1865</td>\n      <td>1.508103e+05</td>\n    </tr>\n    <tr>\n      <th>2332101</th>\n      <td>1866</td>\n      <td>9.068586e+04</td>\n    </tr>\n    <tr>\n      <th>2332102</th>\n      <td>1867</td>\n      <td>2.166406e+05</td>\n    </tr>\n    <tr>\n      <th>2332103</th>\n      <td>1868</td>\n      <td>2.531170e+05</td>\n    </tr>\n    <tr>\n      <th>...</th>\n      <td>...</td>\n      <td>...</td>\n    </tr>\n    <tr>\n      <th>2332245</th>\n      <td>2010</td>\n      <td>6.598572e+10</td>\n    </tr>\n    <tr>\n      <th>2332246</th>\n      <td>2011</td>\n      <td>7.437514e+10</td>\n    </tr>\n    <tr>\n      <th>2332247</th>\n      <td>2012</td>\n      <td>8.143390e+10</td>\n    </tr>\n    <tr>\n      <th>2332248</th>\n      <td>2013</td>\n      <td>9.401673e+10</td>\n    </tr>\n    <tr>\n      <th>2332249</th>\n      <td>2014</td>\n      <td>9.367307e+10</td>\n    </tr>\n  </tbody>\n</table>\n<p>120 rows × 2 columns</p>\n</div>"
     },
     "execution_count": 55,
     "metadata": {},
     "output_type": "execute_result"
    }
   ],
   "source": [
    "df_new"
   ],
   "metadata": {
    "collapsed": false,
    "pycharm": {
     "name": "#%%\n"
    }
   }
  },
  {
   "cell_type": "code",
   "execution_count": 56,
   "outputs": [
    {
     "data": {
      "text/plain": "              FLOW\nyear              \n1864  1.041224e+06\n1865  1.508103e+05\n1866  9.068586e+04\n1867  2.166406e+05\n1868  2.531170e+05\n...            ...\n2010  6.598572e+10\n2011  7.437514e+10\n2012  8.143390e+10\n2013  9.401673e+10\n2014  9.367307e+10\n\n[120 rows x 1 columns]",
      "text/html": "<div>\n<style scoped>\n    .dataframe tbody tr th:only-of-type {\n        vertical-align: middle;\n    }\n\n    .dataframe tbody tr th {\n        vertical-align: top;\n    }\n\n    .dataframe thead th {\n        text-align: right;\n    }\n</style>\n<table border=\"1\" class=\"dataframe\">\n  <thead>\n    <tr style=\"text-align: right;\">\n      <th></th>\n      <th>FLOW</th>\n    </tr>\n    <tr>\n      <th>year</th>\n      <th></th>\n    </tr>\n  </thead>\n  <tbody>\n    <tr>\n      <th>1864</th>\n      <td>1.041224e+06</td>\n    </tr>\n    <tr>\n      <th>1865</th>\n      <td>1.508103e+05</td>\n    </tr>\n    <tr>\n      <th>1866</th>\n      <td>9.068586e+04</td>\n    </tr>\n    <tr>\n      <th>1867</th>\n      <td>2.166406e+05</td>\n    </tr>\n    <tr>\n      <th>1868</th>\n      <td>2.531170e+05</td>\n    </tr>\n    <tr>\n      <th>...</th>\n      <td>...</td>\n    </tr>\n    <tr>\n      <th>2010</th>\n      <td>6.598572e+10</td>\n    </tr>\n    <tr>\n      <th>2011</th>\n      <td>7.437514e+10</td>\n    </tr>\n    <tr>\n      <th>2012</th>\n      <td>8.143390e+10</td>\n    </tr>\n    <tr>\n      <th>2013</th>\n      <td>9.401673e+10</td>\n    </tr>\n    <tr>\n      <th>2014</th>\n      <td>9.367307e+10</td>\n    </tr>\n  </tbody>\n</table>\n<p>120 rows × 1 columns</p>\n</div>"
     },
     "execution_count": 56,
     "metadata": {},
     "output_type": "execute_result"
    }
   ],
   "source": [
    "df_new.set_index(\"year\")"
   ],
   "metadata": {
    "collapsed": false,
    "pycharm": {
     "name": "#%%\n"
    }
   }
  },
  {
   "cell_type": "code",
   "execution_count": 57,
   "outputs": [],
   "source": [
    "df_new = df_new.loc[df_new[\"year\"] > 2000]"
   ],
   "metadata": {
    "collapsed": false,
    "pycharm": {
     "name": "#%%\n"
    }
   }
  },
  {
   "cell_type": "code",
   "execution_count": 58,
   "outputs": [
    {
     "data": {
      "text/plain": "         year          FLOW\n2332236  2001  1.821455e+10\n2332237  2002  1.818276e+10\n2332238  2003  2.078663e+10\n2332239  2004  2.443822e+10\n2332240  2005  2.694688e+10\n2332241  2006  3.224296e+10\n2332242  2007  3.498284e+10\n2332243  2008  4.445431e+10\n2332244  2009  4.992364e+10\n2332245  2010  6.598572e+10\n2332246  2011  7.437514e+10\n2332247  2012  8.143390e+10\n2332248  2013  9.401673e+10\n2332249  2014  9.367307e+10",
      "text/html": "<div>\n<style scoped>\n    .dataframe tbody tr th:only-of-type {\n        vertical-align: middle;\n    }\n\n    .dataframe tbody tr th {\n        vertical-align: top;\n    }\n\n    .dataframe thead th {\n        text-align: right;\n    }\n</style>\n<table border=\"1\" class=\"dataframe\">\n  <thead>\n    <tr style=\"text-align: right;\">\n      <th></th>\n      <th>year</th>\n      <th>FLOW</th>\n    </tr>\n  </thead>\n  <tbody>\n    <tr>\n      <th>2332236</th>\n      <td>2001</td>\n      <td>1.821455e+10</td>\n    </tr>\n    <tr>\n      <th>2332237</th>\n      <td>2002</td>\n      <td>1.818276e+10</td>\n    </tr>\n    <tr>\n      <th>2332238</th>\n      <td>2003</td>\n      <td>2.078663e+10</td>\n    </tr>\n    <tr>\n      <th>2332239</th>\n      <td>2004</td>\n      <td>2.443822e+10</td>\n    </tr>\n    <tr>\n      <th>2332240</th>\n      <td>2005</td>\n      <td>2.694688e+10</td>\n    </tr>\n    <tr>\n      <th>2332241</th>\n      <td>2006</td>\n      <td>3.224296e+10</td>\n    </tr>\n    <tr>\n      <th>2332242</th>\n      <td>2007</td>\n      <td>3.498284e+10</td>\n    </tr>\n    <tr>\n      <th>2332243</th>\n      <td>2008</td>\n      <td>4.445431e+10</td>\n    </tr>\n    <tr>\n      <th>2332244</th>\n      <td>2009</td>\n      <td>4.992364e+10</td>\n    </tr>\n    <tr>\n      <th>2332245</th>\n      <td>2010</td>\n      <td>6.598572e+10</td>\n    </tr>\n    <tr>\n      <th>2332246</th>\n      <td>2011</td>\n      <td>7.437514e+10</td>\n    </tr>\n    <tr>\n      <th>2332247</th>\n      <td>2012</td>\n      <td>8.143390e+10</td>\n    </tr>\n    <tr>\n      <th>2332248</th>\n      <td>2013</td>\n      <td>9.401673e+10</td>\n    </tr>\n    <tr>\n      <th>2332249</th>\n      <td>2014</td>\n      <td>9.367307e+10</td>\n    </tr>\n  </tbody>\n</table>\n</div>"
     },
     "execution_count": 58,
     "metadata": {},
     "output_type": "execute_result"
    }
   ],
   "source": [
    "df_new"
   ],
   "metadata": {
    "collapsed": false,
    "pycharm": {
     "name": "#%%\n"
    }
   }
  },
  {
   "cell_type": "code",
   "execution_count": 59,
   "outputs": [],
   "source": [
    "df_new = df_new.set_index(\"year\")"
   ],
   "metadata": {
    "collapsed": false,
    "pycharm": {
     "name": "#%%\n"
    }
   }
  },
  {
   "cell_type": "code",
   "execution_count": 60,
   "outputs": [
    {
     "data": {
      "text/plain": "              FLOW\nyear              \n2001  1.821455e+10\n2002  1.818276e+10\n2003  2.078663e+10\n2004  2.443822e+10\n2005  2.694688e+10\n2006  3.224296e+10\n2007  3.498284e+10\n2008  4.445431e+10\n2009  4.992364e+10\n2010  6.598572e+10\n2011  7.437514e+10\n2012  8.143390e+10\n2013  9.401673e+10\n2014  9.367307e+10",
      "text/html": "<div>\n<style scoped>\n    .dataframe tbody tr th:only-of-type {\n        vertical-align: middle;\n    }\n\n    .dataframe tbody tr th {\n        vertical-align: top;\n    }\n\n    .dataframe thead th {\n        text-align: right;\n    }\n</style>\n<table border=\"1\" class=\"dataframe\">\n  <thead>\n    <tr style=\"text-align: right;\">\n      <th></th>\n      <th>FLOW</th>\n    </tr>\n    <tr>\n      <th>year</th>\n      <th></th>\n    </tr>\n  </thead>\n  <tbody>\n    <tr>\n      <th>2001</th>\n      <td>1.821455e+10</td>\n    </tr>\n    <tr>\n      <th>2002</th>\n      <td>1.818276e+10</td>\n    </tr>\n    <tr>\n      <th>2003</th>\n      <td>2.078663e+10</td>\n    </tr>\n    <tr>\n      <th>2004</th>\n      <td>2.443822e+10</td>\n    </tr>\n    <tr>\n      <th>2005</th>\n      <td>2.694688e+10</td>\n    </tr>\n    <tr>\n      <th>2006</th>\n      <td>3.224296e+10</td>\n    </tr>\n    <tr>\n      <th>2007</th>\n      <td>3.498284e+10</td>\n    </tr>\n    <tr>\n      <th>2008</th>\n      <td>4.445431e+10</td>\n    </tr>\n    <tr>\n      <th>2009</th>\n      <td>4.992364e+10</td>\n    </tr>\n    <tr>\n      <th>2010</th>\n      <td>6.598572e+10</td>\n    </tr>\n    <tr>\n      <th>2011</th>\n      <td>7.437514e+10</td>\n    </tr>\n    <tr>\n      <th>2012</th>\n      <td>8.143390e+10</td>\n    </tr>\n    <tr>\n      <th>2013</th>\n      <td>9.401673e+10</td>\n    </tr>\n    <tr>\n      <th>2014</th>\n      <td>9.367307e+10</td>\n    </tr>\n  </tbody>\n</table>\n</div>"
     },
     "execution_count": 60,
     "metadata": {},
     "output_type": "execute_result"
    }
   ],
   "source": [
    "df_new"
   ],
   "metadata": {
    "collapsed": false,
    "pycharm": {
     "name": "#%%\n"
    }
   }
  },
  {
   "cell_type": "markdown",
   "source": [
    "# Aug dick"
   ],
   "metadata": {
    "collapsed": false,
    "pycharm": {
     "name": "#%% md\n"
    }
   }
  },
  {
   "cell_type": "code",
   "execution_count": 61,
   "outputs": [],
   "source": [
    "from statsmodels.tsa.stattools import adfuller"
   ],
   "metadata": {
    "collapsed": false,
    "pycharm": {
     "name": "#%%\n"
    }
   }
  },
  {
   "cell_type": "code",
   "execution_count": 62,
   "outputs": [],
   "source": [
    "passing_data = adfuller(df_new.FLOW)"
   ],
   "metadata": {
    "collapsed": false,
    "pycharm": {
     "name": "#%%\n"
    }
   }
  },
  {
   "cell_type": "code",
   "execution_count": 63,
   "outputs": [
    {
     "data": {
      "text/plain": "(2.330858815841947,\n 0.99897396224656,\n 5,\n 8,\n {'1%': -4.6651863281249994, '5%': -3.3671868750000002, '10%': -2.802960625},\n 365.6990390291704)"
     },
     "execution_count": 63,
     "metadata": {},
     "output_type": "execute_result"
    }
   ],
   "source": [
    "passing_data"
   ],
   "metadata": {
    "collapsed": false,
    "pycharm": {
     "name": "#%%\n"
    }
   }
  },
  {
   "cell_type": "code",
   "execution_count": 64,
   "outputs": [],
   "source": [
    "def adf_test(sales):\n",
    "    result=adfuller(sales)\n",
    "    labels = ['Test parameters', 'p-value','#Lags Used','Dataset observations']\n",
    "    for value,label in zip(result,labels):\n",
    "        print(label+' : '+str(value) )\n",
    "    if result[1] <= 0.05:\n",
    "        print(\"Dataset is stationary\")\n",
    "    else:\n",
    "        print(\"Dataset is non-stationary \")"
   ],
   "metadata": {
    "collapsed": false,
    "pycharm": {
     "name": "#%%\n"
    }
   }
  },
  {
   "cell_type": "code",
   "execution_count": 65,
   "outputs": [
    {
     "name": "stdout",
     "output_type": "stream",
     "text": [
      "Test parameters : 2.330858815841947\n",
      "p-value : 0.99897396224656\n",
      "#Lags Used : 5\n",
      "Dataset observations : 8\n",
      "Dataset is non-stationary \n"
     ]
    }
   ],
   "source": [
    "adf_test(df_new['FLOW'])"
   ],
   "metadata": {
    "collapsed": false,
    "pycharm": {
     "name": "#%%\n"
    }
   }
  },
  {
   "cell_type": "code",
   "execution_count": 66,
   "outputs": [],
   "source": [
    "df_new[\"Differencing\"] = df_new[\"FLOW\"] - df_new[\"FLOW\"].shift(1)"
   ],
   "metadata": {
    "collapsed": false,
    "pycharm": {
     "name": "#%%\n"
    }
   }
  },
  {
   "cell_type": "code",
   "execution_count": 67,
   "outputs": [
    {
     "data": {
      "text/plain": "              FLOW  Differencing\nyear                            \n2001  1.821455e+10           NaN\n2002  1.818276e+10 -3.179000e+07\n2003  2.078663e+10  2.603867e+09\n2004  2.443822e+10  3.651598e+09\n2005  2.694688e+10  2.508652e+09\n2006  3.224296e+10  5.296087e+09\n2007  3.498284e+10  2.739878e+09\n2008  4.445431e+10  9.471472e+09\n2009  4.992364e+10  5.469331e+09\n2010  6.598572e+10  1.606208e+10\n2011  7.437514e+10  8.389411e+09\n2012  8.143390e+10  7.058760e+09\n2013  9.401673e+10  1.258284e+10\n2014  9.367307e+10 -3.436600e+08",
      "text/html": "<div>\n<style scoped>\n    .dataframe tbody tr th:only-of-type {\n        vertical-align: middle;\n    }\n\n    .dataframe tbody tr th {\n        vertical-align: top;\n    }\n\n    .dataframe thead th {\n        text-align: right;\n    }\n</style>\n<table border=\"1\" class=\"dataframe\">\n  <thead>\n    <tr style=\"text-align: right;\">\n      <th></th>\n      <th>FLOW</th>\n      <th>Differencing</th>\n    </tr>\n    <tr>\n      <th>year</th>\n      <th></th>\n      <th></th>\n    </tr>\n  </thead>\n  <tbody>\n    <tr>\n      <th>2001</th>\n      <td>1.821455e+10</td>\n      <td>NaN</td>\n    </tr>\n    <tr>\n      <th>2002</th>\n      <td>1.818276e+10</td>\n      <td>-3.179000e+07</td>\n    </tr>\n    <tr>\n      <th>2003</th>\n      <td>2.078663e+10</td>\n      <td>2.603867e+09</td>\n    </tr>\n    <tr>\n      <th>2004</th>\n      <td>2.443822e+10</td>\n      <td>3.651598e+09</td>\n    </tr>\n    <tr>\n      <th>2005</th>\n      <td>2.694688e+10</td>\n      <td>2.508652e+09</td>\n    </tr>\n    <tr>\n      <th>2006</th>\n      <td>3.224296e+10</td>\n      <td>5.296087e+09</td>\n    </tr>\n    <tr>\n      <th>2007</th>\n      <td>3.498284e+10</td>\n      <td>2.739878e+09</td>\n    </tr>\n    <tr>\n      <th>2008</th>\n      <td>4.445431e+10</td>\n      <td>9.471472e+09</td>\n    </tr>\n    <tr>\n      <th>2009</th>\n      <td>4.992364e+10</td>\n      <td>5.469331e+09</td>\n    </tr>\n    <tr>\n      <th>2010</th>\n      <td>6.598572e+10</td>\n      <td>1.606208e+10</td>\n    </tr>\n    <tr>\n      <th>2011</th>\n      <td>7.437514e+10</td>\n      <td>8.389411e+09</td>\n    </tr>\n    <tr>\n      <th>2012</th>\n      <td>8.143390e+10</td>\n      <td>7.058760e+09</td>\n    </tr>\n    <tr>\n      <th>2013</th>\n      <td>9.401673e+10</td>\n      <td>1.258284e+10</td>\n    </tr>\n    <tr>\n      <th>2014</th>\n      <td>9.367307e+10</td>\n      <td>-3.436600e+08</td>\n    </tr>\n  </tbody>\n</table>\n</div>"
     },
     "execution_count": 67,
     "metadata": {},
     "output_type": "execute_result"
    }
   ],
   "source": [
    "df_new"
   ],
   "metadata": {
    "collapsed": false,
    "pycharm": {
     "name": "#%%\n"
    }
   }
  },
  {
   "cell_type": "code",
   "execution_count": 68,
   "outputs": [
    {
     "name": "stdout",
     "output_type": "stream",
     "text": [
      "Test parameters : -0.1743706835714795\n",
      "p-value : 0.9415084084286187\n",
      "#Lags Used : 4\n",
      "Dataset observations : 8\n",
      "Dataset is non-stationary \n"
     ]
    }
   ],
   "source": [
    "adf_test(df_new[\"Differencing\"].dropna())"
   ],
   "metadata": {
    "collapsed": false,
    "pycharm": {
     "name": "#%%\n"
    }
   }
  },
  {
   "cell_type": "code",
   "execution_count": 69,
   "outputs": [],
   "source": [
    "df_new = df_new.drop(\"Differencing\", axis=1)"
   ],
   "metadata": {
    "collapsed": false,
    "pycharm": {
     "name": "#%%\n"
    }
   }
  },
  {
   "cell_type": "code",
   "execution_count": 70,
   "outputs": [
    {
     "ename": "AttributeError",
     "evalue": "'DataFrame' object has no attribute 'Differencing'",
     "output_type": "error",
     "traceback": [
      "\u001B[0;31m---------------------------------------------------------------------------\u001B[0m",
      "\u001B[0;31mAttributeError\u001B[0m                            Traceback (most recent call last)",
      "Input \u001B[0;32mIn [70]\u001B[0m, in \u001B[0;36m<cell line: 1>\u001B[0;34m()\u001B[0m\n\u001B[0;32m----> 1\u001B[0m \u001B[43mdf_new\u001B[49m\u001B[38;5;241;43m.\u001B[39;49m\u001B[43mDifferencing\u001B[49m\u001B[38;5;241m.\u001B[39mplot()\n",
      "File \u001B[0;32m~/miniforge3/envs/mlb/lib/python3.8/site-packages/pandas/core/generic.py:5575\u001B[0m, in \u001B[0;36mNDFrame.__getattr__\u001B[0;34m(self, name)\u001B[0m\n\u001B[1;32m   5568\u001B[0m \u001B[38;5;28;01mif\u001B[39;00m (\n\u001B[1;32m   5569\u001B[0m     name \u001B[38;5;129;01mnot\u001B[39;00m \u001B[38;5;129;01min\u001B[39;00m \u001B[38;5;28mself\u001B[39m\u001B[38;5;241m.\u001B[39m_internal_names_set\n\u001B[1;32m   5570\u001B[0m     \u001B[38;5;129;01mand\u001B[39;00m name \u001B[38;5;129;01mnot\u001B[39;00m \u001B[38;5;129;01min\u001B[39;00m \u001B[38;5;28mself\u001B[39m\u001B[38;5;241m.\u001B[39m_metadata\n\u001B[1;32m   5571\u001B[0m     \u001B[38;5;129;01mand\u001B[39;00m name \u001B[38;5;129;01mnot\u001B[39;00m \u001B[38;5;129;01min\u001B[39;00m \u001B[38;5;28mself\u001B[39m\u001B[38;5;241m.\u001B[39m_accessors\n\u001B[1;32m   5572\u001B[0m     \u001B[38;5;129;01mand\u001B[39;00m \u001B[38;5;28mself\u001B[39m\u001B[38;5;241m.\u001B[39m_info_axis\u001B[38;5;241m.\u001B[39m_can_hold_identifiers_and_holds_name(name)\n\u001B[1;32m   5573\u001B[0m ):\n\u001B[1;32m   5574\u001B[0m     \u001B[38;5;28;01mreturn\u001B[39;00m \u001B[38;5;28mself\u001B[39m[name]\n\u001B[0;32m-> 5575\u001B[0m \u001B[38;5;28;01mreturn\u001B[39;00m \u001B[38;5;28;43mobject\u001B[39;49m\u001B[38;5;241;43m.\u001B[39;49m\u001B[38;5;21;43m__getattribute__\u001B[39;49m\u001B[43m(\u001B[49m\u001B[38;5;28;43mself\u001B[39;49m\u001B[43m,\u001B[49m\u001B[43m \u001B[49m\u001B[43mname\u001B[49m\u001B[43m)\u001B[49m\n",
      "\u001B[0;31mAttributeError\u001B[0m: 'DataFrame' object has no attribute 'Differencing'"
     ]
    }
   ],
   "source": [
    "df_new.Differencing.plot()"
   ],
   "metadata": {
    "collapsed": false,
    "pycharm": {
     "name": "#%%\n"
    }
   }
  },
  {
   "cell_type": "code",
   "execution_count": 71,
   "outputs": [],
   "source": [
    "import statsmodels.api as sm"
   ],
   "metadata": {
    "collapsed": false,
    "pycharm": {
     "name": "#%%\n"
    }
   }
  },
  {
   "cell_type": "code",
   "execution_count": 72,
   "outputs": [
    {
     "ename": "AttributeError",
     "evalue": "'Figure' object has no attribute 'plot'",
     "output_type": "error",
     "traceback": [
      "\u001B[0;31m---------------------------------------------------------------------------\u001B[0m",
      "\u001B[0;31mAttributeError\u001B[0m                            Traceback (most recent call last)",
      "Input \u001B[0;32mIn [72]\u001B[0m, in \u001B[0;36m<cell line: 1>\u001B[0;34m()\u001B[0m\n\u001B[0;32m----> 1\u001B[0m \u001B[43msm\u001B[49m\u001B[38;5;241;43m.\u001B[39;49m\u001B[43mgraphics\u001B[49m\u001B[38;5;241;43m.\u001B[39;49m\u001B[43mtsa\u001B[49m\u001B[38;5;241;43m.\u001B[39;49m\u001B[43mplot_acf\u001B[49m\u001B[43m(\u001B[49m\u001B[43mdf_new\u001B[49m\u001B[38;5;241;43m.\u001B[39;49m\u001B[43mFLOW\u001B[49m\u001B[43m,\u001B[49m\u001B[43m \u001B[49m\u001B[43mlags\u001B[49m\u001B[38;5;241;43m=\u001B[39;49m\u001B[38;5;241;43m12\u001B[39;49m\u001B[43m)\u001B[49m\u001B[38;5;241;43m.\u001B[39;49m\u001B[43mplot\u001B[49m()\n",
      "\u001B[0;31mAttributeError\u001B[0m: 'Figure' object has no attribute 'plot'"
     ]
    },
    {
     "data": {
      "text/plain": "<Figure size 432x288 with 1 Axes>",
      "image/png": "[encoded data removed]"
     },
     "metadata": {
      "needs_background": "light"
     },
     "output_type": "display_data"
    }
   ],
   "source": [
    "sm.graphics.tsa.plot_acf(df_new.FLOW, lags=12).plot()"
   ],
   "metadata": {
    "collapsed": false,
    "pycharm": {
     "name": "#%%\n"
    }
   }
  },
  {
   "cell_type": "code",
   "execution_count": 73,
   "outputs": [
    {
     "name": "stderr",
     "output_type": "stream",
     "text": [
      "/Users/prateekrao/miniforge3/envs/mlb/lib/python3.8/site-packages/statsmodels/graphics/tsaplots.py:348: FutureWarning: The default method 'yw' can produce PACF values outside of the [-1,1] interval. After 0.13, the default will change tounadjusted Yule-Walker ('ywm'). You can use this method now by setting method='ywm'.\n",
      "  warnings.warn(\n"
     ]
    },
    {
     "ename": "AttributeError",
     "evalue": "'Figure' object has no attribute 'plot'",
     "output_type": "error",
     "traceback": [
      "\u001B[0;31m---------------------------------------------------------------------------\u001B[0m",
      "\u001B[0;31mAttributeError\u001B[0m                            Traceback (most recent call last)",
      "Input \u001B[0;32mIn [73]\u001B[0m, in \u001B[0;36m<cell line: 1>\u001B[0;34m()\u001B[0m\n\u001B[0;32m----> 1\u001B[0m \u001B[43msm\u001B[49m\u001B[38;5;241;43m.\u001B[39;49m\u001B[43mgraphics\u001B[49m\u001B[38;5;241;43m.\u001B[39;49m\u001B[43mtsa\u001B[49m\u001B[38;5;241;43m.\u001B[39;49m\u001B[43mplot_pacf\u001B[49m\u001B[43m(\u001B[49m\u001B[43mdf_new\u001B[49m\u001B[38;5;241;43m.\u001B[39;49m\u001B[43mFLOW\u001B[49m\u001B[43m,\u001B[49m\u001B[43m \u001B[49m\u001B[43mlags\u001B[49m\u001B[38;5;241;43m=\u001B[39;49m\u001B[38;5;241;43m6\u001B[39;49m\u001B[43m)\u001B[49m\u001B[38;5;241;43m.\u001B[39;49m\u001B[43mplot\u001B[49m()\n",
      "\u001B[0;31mAttributeError\u001B[0m: 'Figure' object has no attribute 'plot'"
     ]
    },
    {
     "data": {
      "text/plain": "<Figure size 432x288 with 1 Axes>",
      "image/png": "[encoded data removed]"
     },
     "metadata": {
      "needs_background": "light"
     },
     "output_type": "display_data"
    }
   ],
   "source": [
    "sm.graphics.tsa.plot_pacf(df_new.FLOW, lags=6).plot()"
   ],
   "metadata": {
    "collapsed": false,
    "pycharm": {
     "name": "#%%\n"
    }
   }
  },
  {
   "cell_type": "code",
   "execution_count": 74,
   "outputs": [
    {
     "ename": "KeyError",
     "evalue": "\"['Differencing'] not found in axis\"",
     "output_type": "error",
     "traceback": [
      "\u001B[0;31m---------------------------------------------------------------------------\u001B[0m",
      "\u001B[0;31mKeyError\u001B[0m                                  Traceback (most recent call last)",
      "Input \u001B[0;32mIn [74]\u001B[0m, in \u001B[0;36m<cell line: 1>\u001B[0;34m()\u001B[0m\n\u001B[0;32m----> 1\u001B[0m df_new \u001B[38;5;241m=\u001B[39m \u001B[43mdf_new\u001B[49m\u001B[38;5;241;43m.\u001B[39;49m\u001B[43mdrop\u001B[49m\u001B[43m(\u001B[49m\u001B[38;5;124;43m\"\u001B[39;49m\u001B[38;5;124;43mDifferencing\u001B[39;49m\u001B[38;5;124;43m\"\u001B[39;49m\u001B[43m,\u001B[49m\u001B[43m \u001B[49m\u001B[43maxis\u001B[49m\u001B[43m \u001B[49m\u001B[38;5;241;43m=\u001B[39;49m\u001B[43m \u001B[49m\u001B[38;5;241;43m1\u001B[39;49m\u001B[43m)\u001B[49m\n",
      "File \u001B[0;32m~/miniforge3/envs/mlb/lib/python3.8/site-packages/pandas/util/_decorators.py:311\u001B[0m, in \u001B[0;36mdeprecate_nonkeyword_arguments.<locals>.decorate.<locals>.wrapper\u001B[0;34m(*args, **kwargs)\u001B[0m\n\u001B[1;32m    305\u001B[0m \u001B[38;5;28;01mif\u001B[39;00m \u001B[38;5;28mlen\u001B[39m(args) \u001B[38;5;241m>\u001B[39m num_allow_args:\n\u001B[1;32m    306\u001B[0m     warnings\u001B[38;5;241m.\u001B[39mwarn(\n\u001B[1;32m    307\u001B[0m         msg\u001B[38;5;241m.\u001B[39mformat(arguments\u001B[38;5;241m=\u001B[39marguments),\n\u001B[1;32m    308\u001B[0m         \u001B[38;5;167;01mFutureWarning\u001B[39;00m,\n\u001B[1;32m    309\u001B[0m         stacklevel\u001B[38;5;241m=\u001B[39mstacklevel,\n\u001B[1;32m    310\u001B[0m     )\n\u001B[0;32m--> 311\u001B[0m \u001B[38;5;28;01mreturn\u001B[39;00m \u001B[43mfunc\u001B[49m\u001B[43m(\u001B[49m\u001B[38;5;241;43m*\u001B[39;49m\u001B[43margs\u001B[49m\u001B[43m,\u001B[49m\u001B[43m \u001B[49m\u001B[38;5;241;43m*\u001B[39;49m\u001B[38;5;241;43m*\u001B[39;49m\u001B[43mkwargs\u001B[49m\u001B[43m)\u001B[49m\n",
      "File \u001B[0;32m~/miniforge3/envs/mlb/lib/python3.8/site-packages/pandas/core/frame.py:4954\u001B[0m, in \u001B[0;36mDataFrame.drop\u001B[0;34m(self, labels, axis, index, columns, level, inplace, errors)\u001B[0m\n\u001B[1;32m   4806\u001B[0m \u001B[38;5;129m@deprecate_nonkeyword_arguments\u001B[39m(version\u001B[38;5;241m=\u001B[39m\u001B[38;5;28;01mNone\u001B[39;00m, allowed_args\u001B[38;5;241m=\u001B[39m[\u001B[38;5;124m\"\u001B[39m\u001B[38;5;124mself\u001B[39m\u001B[38;5;124m\"\u001B[39m, \u001B[38;5;124m\"\u001B[39m\u001B[38;5;124mlabels\u001B[39m\u001B[38;5;124m\"\u001B[39m])\n\u001B[1;32m   4807\u001B[0m \u001B[38;5;28;01mdef\u001B[39;00m \u001B[38;5;21mdrop\u001B[39m(\n\u001B[1;32m   4808\u001B[0m     \u001B[38;5;28mself\u001B[39m,\n\u001B[0;32m   (...)\u001B[0m\n\u001B[1;32m   4815\u001B[0m     errors: \u001B[38;5;28mstr\u001B[39m \u001B[38;5;241m=\u001B[39m \u001B[38;5;124m\"\u001B[39m\u001B[38;5;124mraise\u001B[39m\u001B[38;5;124m\"\u001B[39m,\n\u001B[1;32m   4816\u001B[0m ):\n\u001B[1;32m   4817\u001B[0m     \u001B[38;5;124;03m\"\"\"\u001B[39;00m\n\u001B[1;32m   4818\u001B[0m \u001B[38;5;124;03m    Drop specified labels from rows or columns.\u001B[39;00m\n\u001B[1;32m   4819\u001B[0m \n\u001B[0;32m   (...)\u001B[0m\n\u001B[1;32m   4952\u001B[0m \u001B[38;5;124;03m            weight  1.0     0.8\u001B[39;00m\n\u001B[1;32m   4953\u001B[0m \u001B[38;5;124;03m    \"\"\"\u001B[39;00m\n\u001B[0;32m-> 4954\u001B[0m     \u001B[38;5;28;01mreturn\u001B[39;00m \u001B[38;5;28;43msuper\u001B[39;49m\u001B[43m(\u001B[49m\u001B[43m)\u001B[49m\u001B[38;5;241;43m.\u001B[39;49m\u001B[43mdrop\u001B[49m\u001B[43m(\u001B[49m\n\u001B[1;32m   4955\u001B[0m \u001B[43m        \u001B[49m\u001B[43mlabels\u001B[49m\u001B[38;5;241;43m=\u001B[39;49m\u001B[43mlabels\u001B[49m\u001B[43m,\u001B[49m\n\u001B[1;32m   4956\u001B[0m \u001B[43m        \u001B[49m\u001B[43maxis\u001B[49m\u001B[38;5;241;43m=\u001B[39;49m\u001B[43maxis\u001B[49m\u001B[43m,\u001B[49m\n\u001B[1;32m   4957\u001B[0m \u001B[43m        \u001B[49m\u001B[43mindex\u001B[49m\u001B[38;5;241;43m=\u001B[39;49m\u001B[43mindex\u001B[49m\u001B[43m,\u001B[49m\n\u001B[1;32m   4958\u001B[0m \u001B[43m        \u001B[49m\u001B[43mcolumns\u001B[49m\u001B[38;5;241;43m=\u001B[39;49m\u001B[43mcolumns\u001B[49m\u001B[43m,\u001B[49m\n\u001B[1;32m   4959\u001B[0m \u001B[43m        \u001B[49m\u001B[43mlevel\u001B[49m\u001B[38;5;241;43m=\u001B[39;49m\u001B[43mlevel\u001B[49m\u001B[43m,\u001B[49m\n\u001B[1;32m   4960\u001B[0m \u001B[43m        \u001B[49m\u001B[43minplace\u001B[49m\u001B[38;5;241;43m=\u001B[39;49m\u001B[43minplace\u001B[49m\u001B[43m,\u001B[49m\n\u001B[1;32m   4961\u001B[0m \u001B[43m        \u001B[49m\u001B[43merrors\u001B[49m\u001B[38;5;241;43m=\u001B[39;49m\u001B[43merrors\u001B[49m\u001B[43m,\u001B[49m\n\u001B[1;32m   4962\u001B[0m \u001B[43m    \u001B[49m\u001B[43m)\u001B[49m\n",
      "File \u001B[0;32m~/miniforge3/envs/mlb/lib/python3.8/site-packages/pandas/core/generic.py:4267\u001B[0m, in \u001B[0;36mNDFrame.drop\u001B[0;34m(self, labels, axis, index, columns, level, inplace, errors)\u001B[0m\n\u001B[1;32m   4265\u001B[0m \u001B[38;5;28;01mfor\u001B[39;00m axis, labels \u001B[38;5;129;01min\u001B[39;00m axes\u001B[38;5;241m.\u001B[39mitems():\n\u001B[1;32m   4266\u001B[0m     \u001B[38;5;28;01mif\u001B[39;00m labels \u001B[38;5;129;01mis\u001B[39;00m \u001B[38;5;129;01mnot\u001B[39;00m \u001B[38;5;28;01mNone\u001B[39;00m:\n\u001B[0;32m-> 4267\u001B[0m         obj \u001B[38;5;241m=\u001B[39m \u001B[43mobj\u001B[49m\u001B[38;5;241;43m.\u001B[39;49m\u001B[43m_drop_axis\u001B[49m\u001B[43m(\u001B[49m\u001B[43mlabels\u001B[49m\u001B[43m,\u001B[49m\u001B[43m \u001B[49m\u001B[43maxis\u001B[49m\u001B[43m,\u001B[49m\u001B[43m \u001B[49m\u001B[43mlevel\u001B[49m\u001B[38;5;241;43m=\u001B[39;49m\u001B[43mlevel\u001B[49m\u001B[43m,\u001B[49m\u001B[43m \u001B[49m\u001B[43merrors\u001B[49m\u001B[38;5;241;43m=\u001B[39;49m\u001B[43merrors\u001B[49m\u001B[43m)\u001B[49m\n\u001B[1;32m   4269\u001B[0m \u001B[38;5;28;01mif\u001B[39;00m inplace:\n\u001B[1;32m   4270\u001B[0m     \u001B[38;5;28mself\u001B[39m\u001B[38;5;241m.\u001B[39m_update_inplace(obj)\n",
      "File \u001B[0;32m~/miniforge3/envs/mlb/lib/python3.8/site-packages/pandas/core/generic.py:4311\u001B[0m, in \u001B[0;36mNDFrame._drop_axis\u001B[0;34m(self, labels, axis, level, errors, consolidate, only_slice)\u001B[0m\n\u001B[1;32m   4309\u001B[0m         new_axis \u001B[38;5;241m=\u001B[39m axis\u001B[38;5;241m.\u001B[39mdrop(labels, level\u001B[38;5;241m=\u001B[39mlevel, errors\u001B[38;5;241m=\u001B[39merrors)\n\u001B[1;32m   4310\u001B[0m     \u001B[38;5;28;01melse\u001B[39;00m:\n\u001B[0;32m-> 4311\u001B[0m         new_axis \u001B[38;5;241m=\u001B[39m \u001B[43maxis\u001B[49m\u001B[38;5;241;43m.\u001B[39;49m\u001B[43mdrop\u001B[49m\u001B[43m(\u001B[49m\u001B[43mlabels\u001B[49m\u001B[43m,\u001B[49m\u001B[43m \u001B[49m\u001B[43merrors\u001B[49m\u001B[38;5;241;43m=\u001B[39;49m\u001B[43merrors\u001B[49m\u001B[43m)\u001B[49m\n\u001B[1;32m   4312\u001B[0m     indexer \u001B[38;5;241m=\u001B[39m axis\u001B[38;5;241m.\u001B[39mget_indexer(new_axis)\n\u001B[1;32m   4314\u001B[0m \u001B[38;5;66;03m# Case for non-unique axis\u001B[39;00m\n\u001B[1;32m   4315\u001B[0m \u001B[38;5;28;01melse\u001B[39;00m:\n",
      "File \u001B[0;32m~/miniforge3/envs/mlb/lib/python3.8/site-packages/pandas/core/indexes/base.py:6644\u001B[0m, in \u001B[0;36mIndex.drop\u001B[0;34m(self, labels, errors)\u001B[0m\n\u001B[1;32m   6642\u001B[0m \u001B[38;5;28;01mif\u001B[39;00m mask\u001B[38;5;241m.\u001B[39many():\n\u001B[1;32m   6643\u001B[0m     \u001B[38;5;28;01mif\u001B[39;00m errors \u001B[38;5;241m!=\u001B[39m \u001B[38;5;124m\"\u001B[39m\u001B[38;5;124mignore\u001B[39m\u001B[38;5;124m\"\u001B[39m:\n\u001B[0;32m-> 6644\u001B[0m         \u001B[38;5;28;01mraise\u001B[39;00m \u001B[38;5;167;01mKeyError\u001B[39;00m(\u001B[38;5;124mf\u001B[39m\u001B[38;5;124m\"\u001B[39m\u001B[38;5;132;01m{\u001B[39;00m\u001B[38;5;28mlist\u001B[39m(labels[mask])\u001B[38;5;132;01m}\u001B[39;00m\u001B[38;5;124m not found in axis\u001B[39m\u001B[38;5;124m\"\u001B[39m)\n\u001B[1;32m   6645\u001B[0m     indexer \u001B[38;5;241m=\u001B[39m indexer[\u001B[38;5;241m~\u001B[39mmask]\n\u001B[1;32m   6646\u001B[0m \u001B[38;5;28;01mreturn\u001B[39;00m \u001B[38;5;28mself\u001B[39m\u001B[38;5;241m.\u001B[39mdelete(indexer)\n",
      "\u001B[0;31mKeyError\u001B[0m: \"['Differencing'] not found in axis\""
     ]
    }
   ],
   "source": [
    "df_new = df_new.drop(\"Differencing\", axis = 1)"
   ],
   "metadata": {
    "collapsed": false,
    "pycharm": {
     "name": "#%%\n"
    }
   }
  },
  {
   "cell_type": "code",
   "execution_count": 75,
   "outputs": [],
   "source": [
    "df_new.index = pd.to_datetime(df_new.index, format=\"%Y\")"
   ],
   "metadata": {
    "collapsed": false,
    "pycharm": {
     "name": "#%%\n"
    }
   }
  },
  {
   "cell_type": "code",
   "execution_count": 147,
   "outputs": [
    {
     "data": {
      "text/plain": "<bound method NDFrame.describe of                     FLOW      forecast\nyear                                  \n2001-01-01  1.821455e+10           NaN\n2002-01-01  1.818276e+10           NaN\n2003-01-01  2.078663e+10           NaN\n2004-01-01  2.443822e+10           NaN\n2005-01-01  2.694688e+10           NaN\n2006-01-01  3.224296e+10           NaN\n2007-01-01  3.498284e+10           NaN\n2008-01-01  4.445431e+10           NaN\n2009-01-01  4.992364e+10           NaN\n2010-01-01  6.598572e+10           NaN\n2011-01-01  7.437514e+10  7.128160e+10\n2012-01-01  8.143390e+10  7.655271e+10\n2013-01-01  9.401673e+10  8.179916e+10\n2014-01-01  9.367307e+10  8.702108e+10>"
     },
     "execution_count": 147,
     "metadata": {},
     "output_type": "execute_result"
    }
   ],
   "source": [
    "df_new.describe"
   ],
   "metadata": {
    "collapsed": false,
    "pycharm": {
     "name": "#%%\n"
    }
   }
  },
  {
   "cell_type": "code",
   "execution_count": 151,
   "outputs": [],
   "source": [
    "df_new = df_new.drop(\"forecast\", axis=1)"
   ],
   "metadata": {
    "collapsed": false,
    "pycharm": {
     "name": "#%%\n"
    }
   }
  },
  {
   "cell_type": "code",
   "execution_count": 156,
   "outputs": [
    {
     "data": {
      "text/plain": "year\n2001-01-01    1.821455e+10\n2002-01-01    1.818276e+10\n2003-01-01    2.078663e+10\n2004-01-01    2.443822e+10\n2005-01-01    2.694688e+10\n2006-01-01    3.224296e+10\n2007-01-01    3.498284e+10\n2008-01-01    4.445431e+10\n2009-01-01    4.992364e+10\n2010-01-01    6.598572e+10\nName: FLOW, dtype: float64"
     },
     "execution_count": 156,
     "metadata": {},
     "output_type": "execute_result"
    }
   ],
   "source": [
    "df_new.FLOW.iloc[:10]"
   ],
   "metadata": {
    "collapsed": false,
    "pycharm": {
     "name": "#%%\n"
    }
   }
  },
  {
   "cell_type": "code",
   "execution_count": 247,
   "outputs": [
    {
     "name": "stderr",
     "output_type": "stream",
     "text": [
      "/Users/prateekrao/miniforge3/envs/mlb/lib/python3.8/site-packages/statsmodels/tsa/base/tsa_model.py:471: ValueWarning: No frequency information was provided, so inferred frequency AS-JAN will be used.\n",
      "  self._init_dates(dates, freq)\n",
      "/Users/prateekrao/miniforge3/envs/mlb/lib/python3.8/site-packages/statsmodels/tsa/base/tsa_model.py:471: ValueWarning: No frequency information was provided, so inferred frequency AS-JAN will be used.\n",
      "  self._init_dates(dates, freq)\n",
      "/Users/prateekrao/miniforge3/envs/mlb/lib/python3.8/site-packages/statsmodels/tsa/base/tsa_model.py:471: ValueWarning: No frequency information was provided, so inferred frequency AS-JAN will be used.\n",
      "  self._init_dates(dates, freq)\n"
     ]
    }
   ],
   "source": [
    "model = ARIMA(np.log(df_new.FLOW.iloc[:10]), order=(2,0,2))"
   ],
   "metadata": {
    "collapsed": false,
    "pycharm": {
     "name": "#%%\n"
    }
   }
  },
  {
   "cell_type": "code",
   "execution_count": 248,
   "outputs": [
    {
     "name": "stderr",
     "output_type": "stream",
     "text": [
      "/Users/prateekrao/miniforge3/envs/mlb/lib/python3.8/site-packages/statsmodels/tsa/statespace/sarimax.py:966: UserWarning: Non-stationary starting autoregressive parameters found. Using zeros as starting parameters.\n",
      "  warn('Non-stationary starting autoregressive parameters'\n",
      "/Users/prateekrao/miniforge3/envs/mlb/lib/python3.8/site-packages/statsmodels/tsa/statespace/sarimax.py:978: UserWarning: Non-invertible starting MA parameters found. Using zeros as starting parameters.\n",
      "  warn('Non-invertible starting MA parameters found.'\n",
      "/Users/prateekrao/miniforge3/envs/mlb/lib/python3.8/site-packages/statsmodels/base/model.py:604: ConvergenceWarning: Maximum Likelihood optimization failed to converge. Check mle_retvals\n",
      "  warnings.warn(\"Maximum Likelihood optimization failed to \"\n"
     ]
    }
   ],
   "source": [
    "arima_model = model.fit()"
   ],
   "metadata": {
    "collapsed": false,
    "pycharm": {
     "name": "#%%\n"
    }
   }
  },
  {
   "cell_type": "code",
   "execution_count": 249,
   "outputs": [],
   "source": [
    "df_new['forecast'] = arima_model.predict(start = 10, end =15, dynamic=True)"
   ],
   "metadata": {
    "collapsed": false,
    "pycharm": {
     "name": "#%%\n"
    }
   }
  },
  {
   "cell_type": "code",
   "execution_count": 250,
   "outputs": [],
   "source": [
    "df_new.forecast = np.exp(df_new.forecast)"
   ],
   "metadata": {
    "collapsed": false,
    "pycharm": {
     "name": "#%%\n"
    }
   }
  },
  {
   "cell_type": "code",
   "execution_count": 251,
   "outputs": [
    {
     "data": {
      "text/plain": "                    FLOW      forecast\nyear                                  \n2001-01-01  1.821455e+10           NaN\n2002-01-01  1.818276e+10           NaN\n2003-01-01  2.078663e+10           NaN\n2004-01-01  2.443822e+10           NaN\n2005-01-01  2.694688e+10           NaN\n2006-01-01  3.224296e+10           NaN\n2007-01-01  3.498284e+10           NaN\n2008-01-01  4.445431e+10           NaN\n2009-01-01  4.992364e+10           NaN\n2010-01-01  6.598572e+10           NaN\n2011-01-01  7.437514e+10  7.806582e+10\n2012-01-01  8.143390e+10  9.170335e+10\n2013-01-01  9.401673e+10  9.985291e+10\n2014-01-01  9.367307e+10  1.014136e+11",
      "text/html": "<div>\n<style scoped>\n    .dataframe tbody tr th:only-of-type {\n        vertical-align: middle;\n    }\n\n    .dataframe tbody tr th {\n        vertical-align: top;\n    }\n\n    .dataframe thead th {\n        text-align: right;\n    }\n</style>\n<table border=\"1\" class=\"dataframe\">\n  <thead>\n    <tr style=\"text-align: right;\">\n      <th></th>\n      <th>FLOW</th>\n      <th>forecast</th>\n    </tr>\n    <tr>\n      <th>year</th>\n      <th></th>\n      <th></th>\n    </tr>\n  </thead>\n  <tbody>\n    <tr>\n      <th>2001-01-01</th>\n      <td>1.821455e+10</td>\n      <td>NaN</td>\n    </tr>\n    <tr>\n      <th>2002-01-01</th>\n      <td>1.818276e+10</td>\n      <td>NaN</td>\n    </tr>\n    <tr>\n      <th>2003-01-01</th>\n      <td>2.078663e+10</td>\n      <td>NaN</td>\n    </tr>\n    <tr>\n      <th>2004-01-01</th>\n      <td>2.443822e+10</td>\n      <td>NaN</td>\n    </tr>\n    <tr>\n      <th>2005-01-01</th>\n      <td>2.694688e+10</td>\n      <td>NaN</td>\n    </tr>\n    <tr>\n      <th>2006-01-01</th>\n      <td>3.224296e+10</td>\n      <td>NaN</td>\n    </tr>\n    <tr>\n      <th>2007-01-01</th>\n      <td>3.498284e+10</td>\n      <td>NaN</td>\n    </tr>\n    <tr>\n      <th>2008-01-01</th>\n      <td>4.445431e+10</td>\n      <td>NaN</td>\n    </tr>\n    <tr>\n      <th>2009-01-01</th>\n      <td>4.992364e+10</td>\n      <td>NaN</td>\n    </tr>\n    <tr>\n      <th>2010-01-01</th>\n      <td>6.598572e+10</td>\n      <td>NaN</td>\n    </tr>\n    <tr>\n      <th>2011-01-01</th>\n      <td>7.437514e+10</td>\n      <td>7.806582e+10</td>\n    </tr>\n    <tr>\n      <th>2012-01-01</th>\n      <td>8.143390e+10</td>\n      <td>9.170335e+10</td>\n    </tr>\n    <tr>\n      <th>2013-01-01</th>\n      <td>9.401673e+10</td>\n      <td>9.985291e+10</td>\n    </tr>\n    <tr>\n      <th>2014-01-01</th>\n      <td>9.367307e+10</td>\n      <td>1.014136e+11</td>\n    </tr>\n  </tbody>\n</table>\n</div>"
     },
     "execution_count": 251,
     "metadata": {},
     "output_type": "execute_result"
    }
   ],
   "source": [
    "df_new"
   ],
   "metadata": {
    "collapsed": false,
    "pycharm": {
     "name": "#%%\n"
    }
   }
  },
  {
   "cell_type": "code",
   "execution_count": 252,
   "outputs": [
    {
     "data": {
      "text/plain": "<AxesSubplot:xlabel='year'>"
     },
     "execution_count": 252,
     "metadata": {},
     "output_type": "execute_result"
    },
    {
     "data": {
      "text/plain": "<Figure size 432x288 with 1 Axes>",
      "image/png": "[encoded data removed]"
     },
     "metadata": {
      "needs_background": "light"
     },
     "output_type": "display_data"
    }
   ],
   "source": [
    "df_new[[\"FLOW\", \"forecast\"]].plot()"
   ],
   "metadata": {
    "collapsed": false,
    "pycharm": {
     "name": "#%%\n"
    }
   }
  },
  {
   "cell_type": "code",
   "execution_count": null,
   "outputs": [],
   "source": [],
   "metadata": {
    "collapsed": false,
    "pycharm": {
     "name": "#%%\n"
    }
   }
  },
  {
   "cell_type": "code",
   "execution_count": 253,
   "outputs": [
    {
     "data": {
      "text/plain": "                    FLOW      forecast\nyear                                  \n2001-01-01  1.821455e+10           NaN\n2002-01-01  1.818276e+10           NaN\n2003-01-01  2.078663e+10           NaN\n2004-01-01  2.443822e+10           NaN\n2005-01-01  2.694688e+10           NaN\n2006-01-01  3.224296e+10           NaN\n2007-01-01  3.498284e+10           NaN\n2008-01-01  4.445431e+10           NaN\n2009-01-01  4.992364e+10           NaN\n2010-01-01  6.598572e+10           NaN\n2011-01-01  7.437514e+10  7.806582e+10\n2012-01-01  8.143390e+10  9.170335e+10\n2013-01-01  9.401673e+10  9.985291e+10\n2014-01-01  9.367307e+10  1.014136e+11",
      "text/html": "<div>\n<style scoped>\n    .dataframe tbody tr th:only-of-type {\n        vertical-align: middle;\n    }\n\n    .dataframe tbody tr th {\n        vertical-align: top;\n    }\n\n    .dataframe thead th {\n        text-align: right;\n    }\n</style>\n<table border=\"1\" class=\"dataframe\">\n  <thead>\n    <tr style=\"text-align: right;\">\n      <th></th>\n      <th>FLOW</th>\n      <th>forecast</th>\n    </tr>\n    <tr>\n      <th>year</th>\n      <th></th>\n      <th></th>\n    </tr>\n  </thead>\n  <tbody>\n    <tr>\n      <th>2001-01-01</th>\n      <td>1.821455e+10</td>\n      <td>NaN</td>\n    </tr>\n    <tr>\n      <th>2002-01-01</th>\n      <td>1.818276e+10</td>\n      <td>NaN</td>\n    </tr>\n    <tr>\n      <th>2003-01-01</th>\n      <td>2.078663e+10</td>\n      <td>NaN</td>\n    </tr>\n    <tr>\n      <th>2004-01-01</th>\n      <td>2.443822e+10</td>\n      <td>NaN</td>\n    </tr>\n    <tr>\n      <th>2005-01-01</th>\n      <td>2.694688e+10</td>\n      <td>NaN</td>\n    </tr>\n    <tr>\n      <th>2006-01-01</th>\n      <td>3.224296e+10</td>\n      <td>NaN</td>\n    </tr>\n    <tr>\n      <th>2007-01-01</th>\n      <td>3.498284e+10</td>\n      <td>NaN</td>\n    </tr>\n    <tr>\n      <th>2008-01-01</th>\n      <td>4.445431e+10</td>\n      <td>NaN</td>\n    </tr>\n    <tr>\n      <th>2009-01-01</th>\n      <td>4.992364e+10</td>\n      <td>NaN</td>\n    </tr>\n    <tr>\n      <th>2010-01-01</th>\n      <td>6.598572e+10</td>\n      <td>NaN</td>\n    </tr>\n    <tr>\n      <th>2011-01-01</th>\n      <td>7.437514e+10</td>\n      <td>7.806582e+10</td>\n    </tr>\n    <tr>\n      <th>2012-01-01</th>\n      <td>8.143390e+10</td>\n      <td>9.170335e+10</td>\n    </tr>\n    <tr>\n      <th>2013-01-01</th>\n      <td>9.401673e+10</td>\n      <td>9.985291e+10</td>\n    </tr>\n    <tr>\n      <th>2014-01-01</th>\n      <td>9.367307e+10</td>\n      <td>1.014136e+11</td>\n    </tr>\n  </tbody>\n</table>\n</div>"
     },
     "execution_count": 253,
     "metadata": {},
     "output_type": "execute_result"
    }
   ],
   "source": [
    "df_new"
   ],
   "metadata": {
    "collapsed": false,
    "pycharm": {
     "name": "#%%\n"
    }
   }
  },
  {
   "cell_type": "code",
   "execution_count": 274,
   "outputs": [],
   "source": [
    "df_new[\"Difference\"] = df_new.FLOW.diff().diff()"
   ],
   "metadata": {
    "collapsed": false,
    "pycharm": {
     "name": "#%%\n"
    }
   }
  },
  {
   "cell_type": "code",
   "execution_count": 275,
   "outputs": [
    {
     "data": {
      "text/plain": "                    FLOW      forecast    Difference\nyear                                                \n2001-01-01  1.821455e+10           NaN           NaN\n2002-01-01  1.818276e+10           NaN           NaN\n2003-01-01  2.078663e+10           NaN  2.635657e+09\n2004-01-01  2.443822e+10           NaN  1.047731e+09\n2005-01-01  2.694688e+10           NaN -1.142946e+09\n2006-01-01  3.224296e+10           NaN  2.787435e+09\n2007-01-01  3.498284e+10           NaN -2.556209e+09\n2008-01-01  4.445431e+10           NaN  6.731594e+09\n2009-01-01  4.992364e+10           NaN -4.002141e+09\n2010-01-01  6.598572e+10           NaN  1.059275e+10\n2011-01-01  7.437514e+10  7.806582e+10 -7.672668e+09\n2012-01-01  8.143390e+10  9.170335e+10 -1.330651e+09\n2013-01-01  9.401673e+10  9.985291e+10  5.524075e+09\n2014-01-01  9.367307e+10  1.014136e+11 -1.292650e+10",
      "text/html": "<div>\n<style scoped>\n    .dataframe tbody tr th:only-of-type {\n        vertical-align: middle;\n    }\n\n    .dataframe tbody tr th {\n        vertical-align: top;\n    }\n\n    .dataframe thead th {\n        text-align: right;\n    }\n</style>\n<table border=\"1\" class=\"dataframe\">\n  <thead>\n    <tr style=\"text-align: right;\">\n      <th></th>\n      <th>FLOW</th>\n      <th>forecast</th>\n      <th>Difference</th>\n    </tr>\n    <tr>\n      <th>year</th>\n      <th></th>\n      <th></th>\n      <th></th>\n    </tr>\n  </thead>\n  <tbody>\n    <tr>\n      <th>2001-01-01</th>\n      <td>1.821455e+10</td>\n      <td>NaN</td>\n      <td>NaN</td>\n    </tr>\n    <tr>\n      <th>2002-01-01</th>\n      <td>1.818276e+10</td>\n      <td>NaN</td>\n      <td>NaN</td>\n    </tr>\n    <tr>\n      <th>2003-01-01</th>\n      <td>2.078663e+10</td>\n      <td>NaN</td>\n      <td>2.635657e+09</td>\n    </tr>\n    <tr>\n      <th>2004-01-01</th>\n      <td>2.443822e+10</td>\n      <td>NaN</td>\n      <td>1.047731e+09</td>\n    </tr>\n    <tr>\n      <th>2005-01-01</th>\n      <td>2.694688e+10</td>\n      <td>NaN</td>\n      <td>-1.142946e+09</td>\n    </tr>\n    <tr>\n      <th>2006-01-01</th>\n      <td>3.224296e+10</td>\n      <td>NaN</td>\n      <td>2.787435e+09</td>\n    </tr>\n    <tr>\n      <th>2007-01-01</th>\n      <td>3.498284e+10</td>\n      <td>NaN</td>\n      <td>-2.556209e+09</td>\n    </tr>\n    <tr>\n      <th>2008-01-01</th>\n      <td>4.445431e+10</td>\n      <td>NaN</td>\n      <td>6.731594e+09</td>\n    </tr>\n    <tr>\n      <th>2009-01-01</th>\n      <td>4.992364e+10</td>\n      <td>NaN</td>\n      <td>-4.002141e+09</td>\n    </tr>\n    <tr>\n      <th>2010-01-01</th>\n      <td>6.598572e+10</td>\n      <td>NaN</td>\n      <td>1.059275e+10</td>\n    </tr>\n    <tr>\n      <th>2011-01-01</th>\n      <td>7.437514e+10</td>\n      <td>7.806582e+10</td>\n      <td>-7.672668e+09</td>\n    </tr>\n    <tr>\n      <th>2012-01-01</th>\n      <td>8.143390e+10</td>\n      <td>9.170335e+10</td>\n      <td>-1.330651e+09</td>\n    </tr>\n    <tr>\n      <th>2013-01-01</th>\n      <td>9.401673e+10</td>\n      <td>9.985291e+10</td>\n      <td>5.524075e+09</td>\n    </tr>\n    <tr>\n      <th>2014-01-01</th>\n      <td>9.367307e+10</td>\n      <td>1.014136e+11</td>\n      <td>-1.292650e+10</td>\n    </tr>\n  </tbody>\n</table>\n</div>"
     },
     "execution_count": 275,
     "metadata": {},
     "output_type": "execute_result"
    }
   ],
   "source": [
    "df_new"
   ],
   "metadata": {
    "collapsed": false,
    "pycharm": {
     "name": "#%%\n"
    }
   }
  },
  {
   "cell_type": "code",
   "execution_count": 276,
   "outputs": [
    {
     "data": {
      "text/plain": "<AxesSubplot:xlabel='year'>"
     },
     "execution_count": 276,
     "metadata": {},
     "output_type": "execute_result"
    },
    {
     "data": {
      "text/plain": "<Figure size 432x288 with 1 Axes>",
      "image/png": "[encoded data removed]"
     },
     "metadata": {
      "needs_background": "light"
     },
     "output_type": "display_data"
    }
   ],
   "source": [
    "df_new.Difference.plot()"
   ],
   "metadata": {
    "collapsed": false,
    "pycharm": {
     "name": "#%%\n"
    }
   }
  },
  {
   "cell_type": "code",
   "execution_count": 277,
   "outputs": [
    {
     "name": "stdout",
     "output_type": "stream",
     "text": [
      "Test parameters : -3.141036831084216\n",
      "p-value : 0.023661605312100962\n",
      "#Lags Used : 3\n",
      "Dataset observations : 8\n",
      "Dataset is stationary\n"
     ]
    }
   ],
   "source": [
    "adf_test(df_new['Difference'].dropna())"
   ],
   "metadata": {
    "collapsed": false,
    "pycharm": {
     "name": "#%%\n"
    }
   }
  },
  {
   "cell_type": "code",
   "execution_count": 281,
   "outputs": [
    {
     "data": {
      "text/plain": "year\n2003-01-01    2.635657e+09\n2004-01-01    1.047731e+09\n2005-01-01   -1.142946e+09\n2006-01-01    2.787435e+09\n2007-01-01   -2.556209e+09\n2008-01-01    6.731594e+09\n2009-01-01   -4.002141e+09\n2010-01-01    1.059275e+10\n2011-01-01   -7.672668e+09\n2012-01-01   -1.330651e+09\n2013-01-01    5.524075e+09\n2014-01-01   -1.292650e+10\nName: Difference, dtype: float64"
     },
     "execution_count": 281,
     "metadata": {},
     "output_type": "execute_result"
    }
   ],
   "source": [
    "df_new.Difference.dropna()"
   ],
   "metadata": {
    "collapsed": false,
    "pycharm": {
     "name": "#%%\n"
    }
   }
  },
  {
   "cell_type": "code",
   "execution_count": 291,
   "outputs": [
    {
     "ename": "AttributeError",
     "evalue": "'Figure' object has no attribute 'plot'",
     "output_type": "error",
     "traceback": [
      "\u001B[0;31m---------------------------------------------------------------------------\u001B[0m",
      "\u001B[0;31mAttributeError\u001B[0m                            Traceback (most recent call last)",
      "Input \u001B[0;32mIn [291]\u001B[0m, in \u001B[0;36m<cell line: 1>\u001B[0;34m()\u001B[0m\n\u001B[0;32m----> 1\u001B[0m \u001B[43msm\u001B[49m\u001B[38;5;241;43m.\u001B[39;49m\u001B[43mgraphics\u001B[49m\u001B[38;5;241;43m.\u001B[39;49m\u001B[43mtsa\u001B[49m\u001B[38;5;241;43m.\u001B[39;49m\u001B[43mplot_acf\u001B[49m\u001B[43m(\u001B[49m\u001B[43mdf_new\u001B[49m\u001B[38;5;241;43m.\u001B[39;49m\u001B[43mDifference\u001B[49m\u001B[38;5;241;43m.\u001B[39;49m\u001B[43mdropna\u001B[49m\u001B[43m(\u001B[49m\u001B[43m)\u001B[49m\u001B[43m,\u001B[49m\u001B[43m \u001B[49m\u001B[43mlags\u001B[49m\u001B[38;5;241;43m=\u001B[39;49m\u001B[38;5;241;43m11\u001B[39;49m\u001B[43m)\u001B[49m\u001B[38;5;241;43m.\u001B[39;49m\u001B[43mplot\u001B[49m()\n",
      "\u001B[0;31mAttributeError\u001B[0m: 'Figure' object has no attribute 'plot'"
     ]
    },
    {
     "data": {
      "text/plain": "<Figure size 432x288 with 1 Axes>",
      "image/png": "[encoded data removed]"
     },
     "metadata": {
      "needs_background": "light"
     },
     "output_type": "display_data"
    }
   ],
   "source": [
    "sm.graphics.tsa.plot_acf(df_new.Difference.dropna(), lags=11).plot()"
   ],
   "metadata": {
    "collapsed": false,
    "pycharm": {
     "name": "#%%\n"
    }
   }
  },
  {
   "cell_type": "code",
   "execution_count": 293,
   "outputs": [
    {
     "ename": "AttributeError",
     "evalue": "'Figure' object has no attribute 'plot'",
     "output_type": "error",
     "traceback": [
      "\u001B[0;31m---------------------------------------------------------------------------\u001B[0m",
      "\u001B[0;31mAttributeError\u001B[0m                            Traceback (most recent call last)",
      "Input \u001B[0;32mIn [293]\u001B[0m, in \u001B[0;36m<cell line: 1>\u001B[0;34m()\u001B[0m\n\u001B[0;32m----> 1\u001B[0m \u001B[43msm\u001B[49m\u001B[38;5;241;43m.\u001B[39;49m\u001B[43mgraphics\u001B[49m\u001B[38;5;241;43m.\u001B[39;49m\u001B[43mtsa\u001B[49m\u001B[38;5;241;43m.\u001B[39;49m\u001B[43mplot_pacf\u001B[49m\u001B[43m(\u001B[49m\u001B[43mdf_new\u001B[49m\u001B[38;5;241;43m.\u001B[39;49m\u001B[43mDifference\u001B[49m\u001B[38;5;241;43m.\u001B[39;49m\u001B[43mdropna\u001B[49m\u001B[43m(\u001B[49m\u001B[43m)\u001B[49m\u001B[43m,\u001B[49m\u001B[43m \u001B[49m\u001B[43mlags\u001B[49m\u001B[38;5;241;43m=\u001B[39;49m\u001B[38;5;241;43m5\u001B[39;49m\u001B[43m)\u001B[49m\u001B[38;5;241;43m.\u001B[39;49m\u001B[43mplot\u001B[49m()\n",
      "\u001B[0;31mAttributeError\u001B[0m: 'Figure' object has no attribute 'plot'"
     ]
    },
    {
     "data": {
      "text/plain": "<Figure size 432x288 with 1 Axes>",
      "image/png": "[encoded data removed]"
     },
     "metadata": {
      "needs_background": "light"
     },
     "output_type": "display_data"
    }
   ],
   "source": [
    "sm.graphics.tsa.plot_pacf(df_new.Difference.dropna(), lags=5).plot()"
   ],
   "metadata": {
    "collapsed": false,
    "pycharm": {
     "name": "#%%\n"
    }
   }
  },
  {
   "cell_type": "code",
   "execution_count": 280,
   "outputs": [
    {
     "data": {
      "text/plain": "                    FLOW      forecast    Difference\nyear                                                \n2001-01-01  1.821455e+10           NaN           NaN\n2002-01-01  1.818276e+10           NaN           NaN\n2003-01-01  2.078663e+10           NaN  2.635657e+09\n2004-01-01  2.443822e+10           NaN  1.047731e+09\n2005-01-01  2.694688e+10           NaN -1.142946e+09\n2006-01-01  3.224296e+10           NaN  2.787435e+09\n2007-01-01  3.498284e+10           NaN -2.556209e+09\n2008-01-01  4.445431e+10           NaN  6.731594e+09\n2009-01-01  4.992364e+10           NaN -4.002141e+09\n2010-01-01  6.598572e+10           NaN  1.059275e+10\n2011-01-01  7.437514e+10  7.806582e+10 -7.672668e+09\n2012-01-01  8.143390e+10  9.170335e+10 -1.330651e+09\n2013-01-01  9.401673e+10  9.985291e+10  5.524075e+09\n2014-01-01  9.367307e+10  1.014136e+11 -1.292650e+10",
      "text/html": "<div>\n<style scoped>\n    .dataframe tbody tr th:only-of-type {\n        vertical-align: middle;\n    }\n\n    .dataframe tbody tr th {\n        vertical-align: top;\n    }\n\n    .dataframe thead th {\n        text-align: right;\n    }\n</style>\n<table border=\"1\" class=\"dataframe\">\n  <thead>\n    <tr style=\"text-align: right;\">\n      <th></th>\n      <th>FLOW</th>\n      <th>forecast</th>\n      <th>Difference</th>\n    </tr>\n    <tr>\n      <th>year</th>\n      <th></th>\n      <th></th>\n      <th></th>\n    </tr>\n  </thead>\n  <tbody>\n    <tr>\n      <th>2001-01-01</th>\n      <td>1.821455e+10</td>\n      <td>NaN</td>\n      <td>NaN</td>\n    </tr>\n    <tr>\n      <th>2002-01-01</th>\n      <td>1.818276e+10</td>\n      <td>NaN</td>\n      <td>NaN</td>\n    </tr>\n    <tr>\n      <th>2003-01-01</th>\n      <td>2.078663e+10</td>\n      <td>NaN</td>\n      <td>2.635657e+09</td>\n    </tr>\n    <tr>\n      <th>2004-01-01</th>\n      <td>2.443822e+10</td>\n      <td>NaN</td>\n      <td>1.047731e+09</td>\n    </tr>\n    <tr>\n      <th>2005-01-01</th>\n      <td>2.694688e+10</td>\n      <td>NaN</td>\n      <td>-1.142946e+09</td>\n    </tr>\n    <tr>\n      <th>2006-01-01</th>\n      <td>3.224296e+10</td>\n      <td>NaN</td>\n      <td>2.787435e+09</td>\n    </tr>\n    <tr>\n      <th>2007-01-01</th>\n      <td>3.498284e+10</td>\n      <td>NaN</td>\n      <td>-2.556209e+09</td>\n    </tr>\n    <tr>\n      <th>2008-01-01</th>\n      <td>4.445431e+10</td>\n      <td>NaN</td>\n      <td>6.731594e+09</td>\n    </tr>\n    <tr>\n      <th>2009-01-01</th>\n      <td>4.992364e+10</td>\n      <td>NaN</td>\n      <td>-4.002141e+09</td>\n    </tr>\n    <tr>\n      <th>2010-01-01</th>\n      <td>6.598572e+10</td>\n      <td>NaN</td>\n      <td>1.059275e+10</td>\n    </tr>\n    <tr>\n      <th>2011-01-01</th>\n      <td>7.437514e+10</td>\n      <td>7.806582e+10</td>\n      <td>-7.672668e+09</td>\n    </tr>\n    <tr>\n      <th>2012-01-01</th>\n      <td>8.143390e+10</td>\n      <td>9.170335e+10</td>\n      <td>-1.330651e+09</td>\n    </tr>\n    <tr>\n      <th>2013-01-01</th>\n      <td>9.401673e+10</td>\n      <td>9.985291e+10</td>\n      <td>5.524075e+09</td>\n    </tr>\n    <tr>\n      <th>2014-01-01</th>\n      <td>9.367307e+10</td>\n      <td>1.014136e+11</td>\n      <td>-1.292650e+10</td>\n    </tr>\n  </tbody>\n</table>\n</div>"
     },
     "execution_count": 280,
     "metadata": {},
     "output_type": "execute_result"
    }
   ],
   "source": [
    "df_new"
   ],
   "metadata": {
    "collapsed": false,
    "pycharm": {
     "name": "#%%\n"
    }
   }
  },
  {
   "cell_type": "markdown",
   "source": [
    "# NEW ARIMA - SUS"
   ],
   "metadata": {
    "collapsed": false,
    "pycharm": {
     "name": "#%% md\n"
    }
   }
  },
  {
   "cell_type": "code",
   "execution_count": 299,
   "outputs": [
    {
     "name": "stderr",
     "output_type": "stream",
     "text": [
      "/Users/prateekrao/miniforge3/envs/mlb/lib/python3.8/site-packages/statsmodels/tsa/base/tsa_model.py:471: ValueWarning: No frequency information was provided, so inferred frequency AS-JAN will be used.\n",
      "  self._init_dates(dates, freq)\n",
      "/Users/prateekrao/miniforge3/envs/mlb/lib/python3.8/site-packages/statsmodels/tsa/base/tsa_model.py:471: ValueWarning: No frequency information was provided, so inferred frequency AS-JAN will be used.\n",
      "  self._init_dates(dates, freq)\n",
      "/Users/prateekrao/miniforge3/envs/mlb/lib/python3.8/site-packages/statsmodels/tsa/base/tsa_model.py:471: ValueWarning: No frequency information was provided, so inferred frequency AS-JAN will be used.\n",
      "  self._init_dates(dates, freq)\n"
     ]
    }
   ],
   "source": [
    "new_odel = ARIMA(np.log(df_new.FLOW.iloc[:10]), order=(0,2,0))"
   ],
   "metadata": {
    "collapsed": false,
    "pycharm": {
     "name": "#%%\n"
    }
   }
  },
  {
   "cell_type": "code",
   "execution_count": 300,
   "outputs": [],
   "source": [
    "arima_model_new = new_odel.fit()"
   ],
   "metadata": {
    "collapsed": false,
    "pycharm": {
     "name": "#%%\n"
    }
   }
  },
  {
   "cell_type": "code",
   "execution_count": 301,
   "outputs": [],
   "source": [
    "df_new['forecast_yodel'] = arima_model_new.predict(start = 10, end =15, dynamic=True)"
   ],
   "metadata": {
    "collapsed": false,
    "pycharm": {
     "name": "#%%\n"
    }
   }
  },
  {
   "cell_type": "code",
   "execution_count": 303,
   "outputs": [],
   "source": [
    "df_new.forecast_yodel = np.exp(df_new.forecast_yodel)"
   ],
   "metadata": {
    "collapsed": false,
    "pycharm": {
     "name": "#%%\n"
    }
   }
  },
  {
   "cell_type": "code",
   "execution_count": 304,
   "outputs": [
    {
     "data": {
      "text/plain": "                    FLOW      forecast    Difference  forecast_yodel\nyear                                                                \n2001-01-01  1.821455e+10           NaN           NaN             NaN\n2002-01-01  1.818276e+10           NaN           NaN             NaN\n2003-01-01  2.078663e+10           NaN  2.635657e+09             NaN\n2004-01-01  2.443822e+10           NaN  1.047731e+09             NaN\n2005-01-01  2.694688e+10           NaN -1.142946e+09             NaN\n2006-01-01  3.224296e+10           NaN  2.787435e+09             NaN\n2007-01-01  3.498284e+10           NaN -2.556209e+09             NaN\n2008-01-01  4.445431e+10           NaN  6.731594e+09             NaN\n2009-01-01  4.992364e+10           NaN -4.002141e+09             NaN\n2010-01-01  6.598572e+10           NaN  1.059275e+10             NaN\n2011-01-01  7.437514e+10  7.806582e+10 -7.672668e+09    8.721550e+10\n2012-01-01  8.143390e+10  9.170335e+10 -1.330651e+09    1.152756e+11\n2013-01-01  9.401673e+10  9.985291e+10  5.524075e+09    1.523635e+11\n2014-01-01  9.367307e+10  1.014136e+11 -1.292650e+10    2.013839e+11",
      "text/html": "<div>\n<style scoped>\n    .dataframe tbody tr th:only-of-type {\n        vertical-align: middle;\n    }\n\n    .dataframe tbody tr th {\n        vertical-align: top;\n    }\n\n    .dataframe thead th {\n        text-align: right;\n    }\n</style>\n<table border=\"1\" class=\"dataframe\">\n  <thead>\n    <tr style=\"text-align: right;\">\n      <th></th>\n      <th>FLOW</th>\n      <th>forecast</th>\n      <th>Difference</th>\n      <th>forecast_yodel</th>\n    </tr>\n    <tr>\n      <th>year</th>\n      <th></th>\n      <th></th>\n      <th></th>\n      <th></th>\n    </tr>\n  </thead>\n  <tbody>\n    <tr>\n      <th>2001-01-01</th>\n      <td>1.821455e+10</td>\n      <td>NaN</td>\n      <td>NaN</td>\n      <td>NaN</td>\n    </tr>\n    <tr>\n      <th>2002-01-01</th>\n      <td>1.818276e+10</td>\n      <td>NaN</td>\n      <td>NaN</td>\n      <td>NaN</td>\n    </tr>\n    <tr>\n      <th>2003-01-01</th>\n      <td>2.078663e+10</td>\n      <td>NaN</td>\n      <td>2.635657e+09</td>\n      <td>NaN</td>\n    </tr>\n    <tr>\n      <th>2004-01-01</th>\n      <td>2.443822e+10</td>\n      <td>NaN</td>\n      <td>1.047731e+09</td>\n      <td>NaN</td>\n    </tr>\n    <tr>\n      <th>2005-01-01</th>\n      <td>2.694688e+10</td>\n      <td>NaN</td>\n      <td>-1.142946e+09</td>\n      <td>NaN</td>\n    </tr>\n    <tr>\n      <th>2006-01-01</th>\n      <td>3.224296e+10</td>\n      <td>NaN</td>\n      <td>2.787435e+09</td>\n      <td>NaN</td>\n    </tr>\n    <tr>\n      <th>2007-01-01</th>\n      <td>3.498284e+10</td>\n      <td>NaN</td>\n      <td>-2.556209e+09</td>\n      <td>NaN</td>\n    </tr>\n    <tr>\n      <th>2008-01-01</th>\n      <td>4.445431e+10</td>\n      <td>NaN</td>\n      <td>6.731594e+09</td>\n      <td>NaN</td>\n    </tr>\n    <tr>\n      <th>2009-01-01</th>\n      <td>4.992364e+10</td>\n      <td>NaN</td>\n      <td>-4.002141e+09</td>\n      <td>NaN</td>\n    </tr>\n    <tr>\n      <th>2010-01-01</th>\n      <td>6.598572e+10</td>\n      <td>NaN</td>\n      <td>1.059275e+10</td>\n      <td>NaN</td>\n    </tr>\n    <tr>\n      <th>2011-01-01</th>\n      <td>7.437514e+10</td>\n      <td>7.806582e+10</td>\n      <td>-7.672668e+09</td>\n      <td>8.721550e+10</td>\n    </tr>\n    <tr>\n      <th>2012-01-01</th>\n      <td>8.143390e+10</td>\n      <td>9.170335e+10</td>\n      <td>-1.330651e+09</td>\n      <td>1.152756e+11</td>\n    </tr>\n    <tr>\n      <th>2013-01-01</th>\n      <td>9.401673e+10</td>\n      <td>9.985291e+10</td>\n      <td>5.524075e+09</td>\n      <td>1.523635e+11</td>\n    </tr>\n    <tr>\n      <th>2014-01-01</th>\n      <td>9.367307e+10</td>\n      <td>1.014136e+11</td>\n      <td>-1.292650e+10</td>\n      <td>2.013839e+11</td>\n    </tr>\n  </tbody>\n</table>\n</div>"
     },
     "execution_count": 304,
     "metadata": {},
     "output_type": "execute_result"
    }
   ],
   "source": [
    "df_new"
   ],
   "metadata": {
    "collapsed": false,
    "pycharm": {
     "name": "#%%\n"
    }
   }
  },
  {
   "cell_type": "code",
   "execution_count": null,
   "outputs": [],
   "source": [],
   "metadata": {
    "collapsed": false,
    "pycharm": {
     "name": "#%%\n"
    }
   }
  }
 ],
 "metadata": {
  "kernelspec": {
   "display_name": "Python 3",
   "language": "python",
   "name": "python3"
  },
  "language_info": {
   "codemirror_mode": {
    "name": "ipython",
    "version": 2
   },
   "file_extension": ".py",
   "mimetype": "text/x-python",
   "name": "python",
   "nbconvert_exporter": "python",
   "pygments_lexer": "ipython2",
   "version": "2.7.6"
  }
 },
 "nbformat": 4,
 "nbformat_minor": 0
}