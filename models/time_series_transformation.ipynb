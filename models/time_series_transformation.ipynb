{
 "cells": [
  {
   "cell_type": "code",
   "execution_count": 1,
   "outputs": [],
   "source": [
    "import numpy as np\n",
    "import pandas as pd\n",
    "import matplotlib.pyplot as plt\n",
    "import seaborn as sns"
   ],
   "metadata": {
    "collapsed": false,
    "pycharm": {
     "name": "#%%\n"
    }
   }
  },
  {
   "cell_type": "code",
   "execution_count": 2,
   "outputs": [
    {
     "name": "stderr",
     "output_type": "stream",
     "text": [
      "/var/folders/qc/xp9q1kcj79315fgc2jdgwtv00000gn/T/ipykernel_3936/562444793.py:2: DtypeWarning: Columns (8,12,14,21,24,28,33,45,46,51) have mixed types. Specify dtype option on import or set low_memory=False.\n",
      "  df = pd.read_csv(PATH)\n"
     ]
    }
   ],
   "source": [
    "PATH = \"../datasets/tradhist.csv\"\n",
    "df = pd.read_csv(PATH)"
   ],
   "metadata": {
    "collapsed": false,
    "pycharm": {
     "name": "#%%\n"
    }
   }
  },
  {
   "cell_type": "code",
   "execution_count": 3,
   "outputs": [
    {
     "data": {
      "text/plain": "         Unnamed: 0 iso_o iso_d  year        FLOW  FLOW_0 SOURCE_TF  \\\n0                 0   NaN  ADEN  1950         NaN     NaN       NaN   \n1                 1   NaN  ADEN  1951         NaN     NaN       NaN   \n2                 2   NaN  ADEN  1952         NaN     NaN       NaN   \n3                 3   NaN  ADEN  1953         NaN     NaN       NaN   \n4                 4   NaN  ADEN  1954         NaN     NaN       NaN   \n...             ...   ...   ...   ...         ...     ...       ...   \n2502422     2502422   ZWE   ZMB  2010  46558256.0     NaN   DOTS_IP   \n2502423     2502423   ZWE   ZMB  2011  55171376.0     NaN   DOTS_IP   \n2502424     2502424   ZWE   ZMB  2012  58787336.0     NaN   DOTS_IP   \n2502425     2502425   ZWE   ZMB  2013  77869780.0     NaN   DOTS_IP   \n2502426     2502426   ZWE   ZMB  2014  62405360.0     NaN   DOTS_IP   \n\n                GDP_o SOURCE_GDP_o         GDP_d  ... CONTI_o  CONTI_d  \\\n0                 NaN          NaN           NaN  ...     NaN     ASIA   \n1                 NaN          NaN           NaN  ...     NaN     ASIA   \n2                 NaN          NaN           NaN  ...     NaN     ASIA   \n3                 NaN          NaN           NaN  ...     NaN     ASIA   \n4                 NaN          NaN           NaN  ...     NaN     ASIA   \n...               ...          ...           ...  ...     ...      ...   \n2502422  6.097825e+09          WDI  1.311544e+10  ...    AFRI     AFRI   \n2502423  6.838230e+09          WDI  1.464204e+10  ...    AFRI     AFRI   \n2502424  7.845171e+09          WDI  1.614464e+10  ...    AFRI     AFRI   \n2502425  8.629172e+09          WDI  1.793963e+10  ...    AFRI     AFRI   \n2502426  8.627889e+09          WDI  1.649053e+10  ...    AFRI     AFRI   \n\n        REGIO_o  REGIO_d OECD_o  OECD_d EU_o  EU_d GATT_o  GATT_d  \n0           NaN   MIDEST    NaN     NaN  NaN   NaN    NaN     NaN  \n1           NaN   MIDEST    NaN     NaN  NaN   NaN    NaN     NaN  \n2           NaN   MIDEST    NaN     NaN  NaN   NaN    NaN     NaN  \n3           NaN   MIDEST    NaN     NaN  NaN   NaN    NaN     NaN  \n4           NaN   MIDEST    NaN     NaN  NaN   NaN    NaN     NaN  \n...         ...      ...    ...     ...  ...   ...    ...     ...  \n2502422  STHAFR   STHAFR    0.0     0.0  0.0   0.0    1.0     1.0  \n2502423  STHAFR   STHAFR    0.0     0.0  0.0   0.0    1.0     1.0  \n2502424  STHAFR   STHAFR    0.0     0.0  0.0   0.0    1.0     1.0  \n2502425  STHAFR   STHAFR    0.0     0.0  0.0   0.0    1.0     1.0  \n2502426  STHAFR   STHAFR    0.0     0.0  0.0   0.0    1.0     1.0  \n\n[2502427 rows x 64 columns]",
      "text/html": "<div>\n<style scoped>\n    .dataframe tbody tr th:only-of-type {\n        vertical-align: middle;\n    }\n\n    .dataframe tbody tr th {\n        vertical-align: top;\n    }\n\n    .dataframe thead th {\n        text-align: right;\n    }\n</style>\n<table border=\"1\" class=\"dataframe\">\n  <thead>\n    <tr style=\"text-align: right;\">\n      <th></th>\n      <th>Unnamed: 0</th>\n      <th>iso_o</th>\n      <th>iso_d</th>\n      <th>year</th>\n      <th>FLOW</th>\n      <th>FLOW_0</th>\n      <th>SOURCE_TF</th>\n      <th>GDP_o</th>\n      <th>SOURCE_GDP_o</th>\n      <th>GDP_d</th>\n      <th>...</th>\n      <th>CONTI_o</th>\n      <th>CONTI_d</th>\n      <th>REGIO_o</th>\n      <th>REGIO_d</th>\n      <th>OECD_o</th>\n      <th>OECD_d</th>\n      <th>EU_o</th>\n      <th>EU_d</th>\n      <th>GATT_o</th>\n      <th>GATT_d</th>\n    </tr>\n  </thead>\n  <tbody>\n    <tr>\n      <th>0</th>\n      <td>0</td>\n      <td>NaN</td>\n      <td>ADEN</td>\n      <td>1950</td>\n      <td>NaN</td>\n      <td>NaN</td>\n      <td>NaN</td>\n      <td>NaN</td>\n      <td>NaN</td>\n      <td>NaN</td>\n      <td>...</td>\n      <td>NaN</td>\n      <td>ASIA</td>\n      <td>NaN</td>\n      <td>MIDEST</td>\n      <td>NaN</td>\n      <td>NaN</td>\n      <td>NaN</td>\n      <td>NaN</td>\n      <td>NaN</td>\n      <td>NaN</td>\n    </tr>\n    <tr>\n      <th>1</th>\n      <td>1</td>\n      <td>NaN</td>\n      <td>ADEN</td>\n      <td>1951</td>\n      <td>NaN</td>\n      <td>NaN</td>\n      <td>NaN</td>\n      <td>NaN</td>\n      <td>NaN</td>\n      <td>NaN</td>\n      <td>...</td>\n      <td>NaN</td>\n      <td>ASIA</td>\n      <td>NaN</td>\n      <td>MIDEST</td>\n      <td>NaN</td>\n      <td>NaN</td>\n      <td>NaN</td>\n      <td>NaN</td>\n      <td>NaN</td>\n      <td>NaN</td>\n    </tr>\n    <tr>\n      <th>2</th>\n      <td>2</td>\n      <td>NaN</td>\n      <td>ADEN</td>\n      <td>1952</td>\n      <td>NaN</td>\n      <td>NaN</td>\n      <td>NaN</td>\n      <td>NaN</td>\n      <td>NaN</td>\n      <td>NaN</td>\n      <td>...</td>\n      <td>NaN</td>\n      <td>ASIA</td>\n      <td>NaN</td>\n      <td>MIDEST</td>\n      <td>NaN</td>\n      <td>NaN</td>\n      <td>NaN</td>\n      <td>NaN</td>\n      <td>NaN</td>\n      <td>NaN</td>\n    </tr>\n    <tr>\n      <th>3</th>\n      <td>3</td>\n      <td>NaN</td>\n      <td>ADEN</td>\n      <td>1953</td>\n      <td>NaN</td>\n      <td>NaN</td>\n      <td>NaN</td>\n      <td>NaN</td>\n      <td>NaN</td>\n      <td>NaN</td>\n      <td>...</td>\n      <td>NaN</td>\n      <td>ASIA</td>\n      <td>NaN</td>\n      <td>MIDEST</td>\n      <td>NaN</td>\n      <td>NaN</td>\n      <td>NaN</td>\n      <td>NaN</td>\n      <td>NaN</td>\n      <td>NaN</td>\n    </tr>\n    <tr>\n      <th>4</th>\n      <td>4</td>\n      <td>NaN</td>\n      <td>ADEN</td>\n      <td>1954</td>\n      <td>NaN</td>\n      <td>NaN</td>\n      <td>NaN</td>\n      <td>NaN</td>\n      <td>NaN</td>\n      <td>NaN</td>\n      <td>...</td>\n      <td>NaN</td>\n      <td>ASIA</td>\n      <td>NaN</td>\n      <td>MIDEST</td>\n      <td>NaN</td>\n      <td>NaN</td>\n      <td>NaN</td>\n      <td>NaN</td>\n      <td>NaN</td>\n      <td>NaN</td>\n    </tr>\n    <tr>\n      <th>...</th>\n      <td>...</td>\n      <td>...</td>\n      <td>...</td>\n      <td>...</td>\n      <td>...</td>\n      <td>...</td>\n      <td>...</td>\n      <td>...</td>\n      <td>...</td>\n      <td>...</td>\n      <td>...</td>\n      <td>...</td>\n      <td>...</td>\n      <td>...</td>\n      <td>...</td>\n      <td>...</td>\n      <td>...</td>\n      <td>...</td>\n      <td>...</td>\n      <td>...</td>\n      <td>...</td>\n    </tr>\n    <tr>\n      <th>2502422</th>\n      <td>2502422</td>\n      <td>ZWE</td>\n      <td>ZMB</td>\n      <td>2010</td>\n      <td>46558256.0</td>\n      <td>NaN</td>\n      <td>DOTS_IP</td>\n      <td>6.097825e+09</td>\n      <td>WDI</td>\n      <td>1.311544e+10</td>\n      <td>...</td>\n      <td>AFRI</td>\n      <td>AFRI</td>\n      <td>STHAFR</td>\n      <td>STHAFR</td>\n      <td>0.0</td>\n      <td>0.0</td>\n      <td>0.0</td>\n      <td>0.0</td>\n      <td>1.0</td>\n      <td>1.0</td>\n    </tr>\n    <tr>\n      <th>2502423</th>\n      <td>2502423</td>\n      <td>ZWE</td>\n      <td>ZMB</td>\n      <td>2011</td>\n      <td>55171376.0</td>\n      <td>NaN</td>\n      <td>DOTS_IP</td>\n      <td>6.838230e+09</td>\n      <td>WDI</td>\n      <td>1.464204e+10</td>\n      <td>...</td>\n      <td>AFRI</td>\n      <td>AFRI</td>\n      <td>STHAFR</td>\n      <td>STHAFR</td>\n      <td>0.0</td>\n      <td>0.0</td>\n      <td>0.0</td>\n      <td>0.0</td>\n      <td>1.0</td>\n      <td>1.0</td>\n    </tr>\n    <tr>\n      <th>2502424</th>\n      <td>2502424</td>\n      <td>ZWE</td>\n      <td>ZMB</td>\n      <td>2012</td>\n      <td>58787336.0</td>\n      <td>NaN</td>\n      <td>DOTS_IP</td>\n      <td>7.845171e+09</td>\n      <td>WDI</td>\n      <td>1.614464e+10</td>\n      <td>...</td>\n      <td>AFRI</td>\n      <td>AFRI</td>\n      <td>STHAFR</td>\n      <td>STHAFR</td>\n      <td>0.0</td>\n      <td>0.0</td>\n      <td>0.0</td>\n      <td>0.0</td>\n      <td>1.0</td>\n      <td>1.0</td>\n    </tr>\n    <tr>\n      <th>2502425</th>\n      <td>2502425</td>\n      <td>ZWE</td>\n      <td>ZMB</td>\n      <td>2013</td>\n      <td>77869780.0</td>\n      <td>NaN</td>\n      <td>DOTS_IP</td>\n      <td>8.629172e+09</td>\n      <td>WDI</td>\n      <td>1.793963e+10</td>\n      <td>...</td>\n      <td>AFRI</td>\n      <td>AFRI</td>\n      <td>STHAFR</td>\n      <td>STHAFR</td>\n      <td>0.0</td>\n      <td>0.0</td>\n      <td>0.0</td>\n      <td>0.0</td>\n      <td>1.0</td>\n      <td>1.0</td>\n    </tr>\n    <tr>\n      <th>2502426</th>\n      <td>2502426</td>\n      <td>ZWE</td>\n      <td>ZMB</td>\n      <td>2014</td>\n      <td>62405360.0</td>\n      <td>NaN</td>\n      <td>DOTS_IP</td>\n      <td>8.627889e+09</td>\n      <td>WDI</td>\n      <td>1.649053e+10</td>\n      <td>...</td>\n      <td>AFRI</td>\n      <td>AFRI</td>\n      <td>STHAFR</td>\n      <td>STHAFR</td>\n      <td>0.0</td>\n      <td>0.0</td>\n      <td>0.0</td>\n      <td>0.0</td>\n      <td>1.0</td>\n      <td>1.0</td>\n    </tr>\n  </tbody>\n</table>\n<p>2502427 rows × 64 columns</p>\n</div>"
     },
     "execution_count": 3,
     "metadata": {},
     "output_type": "execute_result"
    }
   ],
   "source": [
    "df"
   ],
   "metadata": {
    "collapsed": false,
    "pycharm": {
     "name": "#%%\n"
    }
   }
  },
  {
   "cell_type": "code",
   "execution_count": 4,
   "outputs": [],
   "source": [
    "df.rename(columns = {'Unnamed: 0':'index'}, inplace = True)"
   ],
   "metadata": {
    "collapsed": false,
    "pycharm": {
     "name": "#%%\n"
    }
   }
  },
  {
   "cell_type": "code",
   "execution_count": 5,
   "outputs": [
    {
     "data": {
      "text/plain": "           index iso_o iso_d  year        FLOW  FLOW_0 SOURCE_TF  \\\n0              0   NaN  ADEN  1950         NaN     NaN       NaN   \n1              1   NaN  ADEN  1951         NaN     NaN       NaN   \n2              2   NaN  ADEN  1952         NaN     NaN       NaN   \n3              3   NaN  ADEN  1953         NaN     NaN       NaN   \n4              4   NaN  ADEN  1954         NaN     NaN       NaN   \n...          ...   ...   ...   ...         ...     ...       ...   \n2502422  2502422   ZWE   ZMB  2010  46558256.0     NaN   DOTS_IP   \n2502423  2502423   ZWE   ZMB  2011  55171376.0     NaN   DOTS_IP   \n2502424  2502424   ZWE   ZMB  2012  58787336.0     NaN   DOTS_IP   \n2502425  2502425   ZWE   ZMB  2013  77869780.0     NaN   DOTS_IP   \n2502426  2502426   ZWE   ZMB  2014  62405360.0     NaN   DOTS_IP   \n\n                GDP_o SOURCE_GDP_o         GDP_d  ... CONTI_o  CONTI_d  \\\n0                 NaN          NaN           NaN  ...     NaN     ASIA   \n1                 NaN          NaN           NaN  ...     NaN     ASIA   \n2                 NaN          NaN           NaN  ...     NaN     ASIA   \n3                 NaN          NaN           NaN  ...     NaN     ASIA   \n4                 NaN          NaN           NaN  ...     NaN     ASIA   \n...               ...          ...           ...  ...     ...      ...   \n2502422  6.097825e+09          WDI  1.311544e+10  ...    AFRI     AFRI   \n2502423  6.838230e+09          WDI  1.464204e+10  ...    AFRI     AFRI   \n2502424  7.845171e+09          WDI  1.614464e+10  ...    AFRI     AFRI   \n2502425  8.629172e+09          WDI  1.793963e+10  ...    AFRI     AFRI   \n2502426  8.627889e+09          WDI  1.649053e+10  ...    AFRI     AFRI   \n\n        REGIO_o  REGIO_d OECD_o  OECD_d EU_o  EU_d GATT_o  GATT_d  \n0           NaN   MIDEST    NaN     NaN  NaN   NaN    NaN     NaN  \n1           NaN   MIDEST    NaN     NaN  NaN   NaN    NaN     NaN  \n2           NaN   MIDEST    NaN     NaN  NaN   NaN    NaN     NaN  \n3           NaN   MIDEST    NaN     NaN  NaN   NaN    NaN     NaN  \n4           NaN   MIDEST    NaN     NaN  NaN   NaN    NaN     NaN  \n...         ...      ...    ...     ...  ...   ...    ...     ...  \n2502422  STHAFR   STHAFR    0.0     0.0  0.0   0.0    1.0     1.0  \n2502423  STHAFR   STHAFR    0.0     0.0  0.0   0.0    1.0     1.0  \n2502424  STHAFR   STHAFR    0.0     0.0  0.0   0.0    1.0     1.0  \n2502425  STHAFR   STHAFR    0.0     0.0  0.0   0.0    1.0     1.0  \n2502426  STHAFR   STHAFR    0.0     0.0  0.0   0.0    1.0     1.0  \n\n[2502427 rows x 64 columns]",
      "text/html": "<div>\n<style scoped>\n    .dataframe tbody tr th:only-of-type {\n        vertical-align: middle;\n    }\n\n    .dataframe tbody tr th {\n        vertical-align: top;\n    }\n\n    .dataframe thead th {\n        text-align: right;\n    }\n</style>\n<table border=\"1\" class=\"dataframe\">\n  <thead>\n    <tr style=\"text-align: right;\">\n      <th></th>\n      <th>index</th>\n      <th>iso_o</th>\n      <th>iso_d</th>\n      <th>year</th>\n      <th>FLOW</th>\n      <th>FLOW_0</th>\n      <th>SOURCE_TF</th>\n      <th>GDP_o</th>\n      <th>SOURCE_GDP_o</th>\n      <th>GDP_d</th>\n      <th>...</th>\n      <th>CONTI_o</th>\n      <th>CONTI_d</th>\n      <th>REGIO_o</th>\n      <th>REGIO_d</th>\n      <th>OECD_o</th>\n      <th>OECD_d</th>\n      <th>EU_o</th>\n      <th>EU_d</th>\n      <th>GATT_o</th>\n      <th>GATT_d</th>\n    </tr>\n  </thead>\n  <tbody>\n    <tr>\n      <th>0</th>\n      <td>0</td>\n      <td>NaN</td>\n      <td>ADEN</td>\n      <td>1950</td>\n      <td>NaN</td>\n      <td>NaN</td>\n      <td>NaN</td>\n      <td>NaN</td>\n      <td>NaN</td>\n      <td>NaN</td>\n      <td>...</td>\n      <td>NaN</td>\n      <td>ASIA</td>\n      <td>NaN</td>\n      <td>MIDEST</td>\n      <td>NaN</td>\n      <td>NaN</td>\n      <td>NaN</td>\n      <td>NaN</td>\n      <td>NaN</td>\n      <td>NaN</td>\n    </tr>\n    <tr>\n      <th>1</th>\n      <td>1</td>\n      <td>NaN</td>\n      <td>ADEN</td>\n      <td>1951</td>\n      <td>NaN</td>\n      <td>NaN</td>\n      <td>NaN</td>\n      <td>NaN</td>\n      <td>NaN</td>\n      <td>NaN</td>\n      <td>...</td>\n      <td>NaN</td>\n      <td>ASIA</td>\n      <td>NaN</td>\n      <td>MIDEST</td>\n      <td>NaN</td>\n      <td>NaN</td>\n      <td>NaN</td>\n      <td>NaN</td>\n      <td>NaN</td>\n      <td>NaN</td>\n    </tr>\n    <tr>\n      <th>2</th>\n      <td>2</td>\n      <td>NaN</td>\n      <td>ADEN</td>\n      <td>1952</td>\n      <td>NaN</td>\n      <td>NaN</td>\n      <td>NaN</td>\n      <td>NaN</td>\n      <td>NaN</td>\n      <td>NaN</td>\n      <td>...</td>\n      <td>NaN</td>\n      <td>ASIA</td>\n      <td>NaN</td>\n      <td>MIDEST</td>\n      <td>NaN</td>\n      <td>NaN</td>\n      <td>NaN</td>\n      <td>NaN</td>\n      <td>NaN</td>\n      <td>NaN</td>\n    </tr>\n    <tr>\n      <th>3</th>\n      <td>3</td>\n      <td>NaN</td>\n      <td>ADEN</td>\n      <td>1953</td>\n      <td>NaN</td>\n      <td>NaN</td>\n      <td>NaN</td>\n      <td>NaN</td>\n      <td>NaN</td>\n      <td>NaN</td>\n      <td>...</td>\n      <td>NaN</td>\n      <td>ASIA</td>\n      <td>NaN</td>\n      <td>MIDEST</td>\n      <td>NaN</td>\n      <td>NaN</td>\n      <td>NaN</td>\n      <td>NaN</td>\n      <td>NaN</td>\n      <td>NaN</td>\n    </tr>\n    <tr>\n      <th>4</th>\n      <td>4</td>\n      <td>NaN</td>\n      <td>ADEN</td>\n      <td>1954</td>\n      <td>NaN</td>\n      <td>NaN</td>\n      <td>NaN</td>\n      <td>NaN</td>\n      <td>NaN</td>\n      <td>NaN</td>\n      <td>...</td>\n      <td>NaN</td>\n      <td>ASIA</td>\n      <td>NaN</td>\n      <td>MIDEST</td>\n      <td>NaN</td>\n      <td>NaN</td>\n      <td>NaN</td>\n      <td>NaN</td>\n      <td>NaN</td>\n      <td>NaN</td>\n    </tr>\n    <tr>\n      <th>...</th>\n      <td>...</td>\n      <td>...</td>\n      <td>...</td>\n      <td>...</td>\n      <td>...</td>\n      <td>...</td>\n      <td>...</td>\n      <td>...</td>\n      <td>...</td>\n      <td>...</td>\n      <td>...</td>\n      <td>...</td>\n      <td>...</td>\n      <td>...</td>\n      <td>...</td>\n      <td>...</td>\n      <td>...</td>\n      <td>...</td>\n      <td>...</td>\n      <td>...</td>\n      <td>...</td>\n    </tr>\n    <tr>\n      <th>2502422</th>\n      <td>2502422</td>\n      <td>ZWE</td>\n      <td>ZMB</td>\n      <td>2010</td>\n      <td>46558256.0</td>\n      <td>NaN</td>\n      <td>DOTS_IP</td>\n      <td>6.097825e+09</td>\n      <td>WDI</td>\n      <td>1.311544e+10</td>\n      <td>...</td>\n      <td>AFRI</td>\n      <td>AFRI</td>\n      <td>STHAFR</td>\n      <td>STHAFR</td>\n      <td>0.0</td>\n      <td>0.0</td>\n      <td>0.0</td>\n      <td>0.0</td>\n      <td>1.0</td>\n      <td>1.0</td>\n    </tr>\n    <tr>\n      <th>2502423</th>\n      <td>2502423</td>\n      <td>ZWE</td>\n      <td>ZMB</td>\n      <td>2011</td>\n      <td>55171376.0</td>\n      <td>NaN</td>\n      <td>DOTS_IP</td>\n      <td>6.838230e+09</td>\n      <td>WDI</td>\n      <td>1.464204e+10</td>\n      <td>...</td>\n      <td>AFRI</td>\n      <td>AFRI</td>\n      <td>STHAFR</td>\n      <td>STHAFR</td>\n      <td>0.0</td>\n      <td>0.0</td>\n      <td>0.0</td>\n      <td>0.0</td>\n      <td>1.0</td>\n      <td>1.0</td>\n    </tr>\n    <tr>\n      <th>2502424</th>\n      <td>2502424</td>\n      <td>ZWE</td>\n      <td>ZMB</td>\n      <td>2012</td>\n      <td>58787336.0</td>\n      <td>NaN</td>\n      <td>DOTS_IP</td>\n      <td>7.845171e+09</td>\n      <td>WDI</td>\n      <td>1.614464e+10</td>\n      <td>...</td>\n      <td>AFRI</td>\n      <td>AFRI</td>\n      <td>STHAFR</td>\n      <td>STHAFR</td>\n      <td>0.0</td>\n      <td>0.0</td>\n      <td>0.0</td>\n      <td>0.0</td>\n      <td>1.0</td>\n      <td>1.0</td>\n    </tr>\n    <tr>\n      <th>2502425</th>\n      <td>2502425</td>\n      <td>ZWE</td>\n      <td>ZMB</td>\n      <td>2013</td>\n      <td>77869780.0</td>\n      <td>NaN</td>\n      <td>DOTS_IP</td>\n      <td>8.629172e+09</td>\n      <td>WDI</td>\n      <td>1.793963e+10</td>\n      <td>...</td>\n      <td>AFRI</td>\n      <td>AFRI</td>\n      <td>STHAFR</td>\n      <td>STHAFR</td>\n      <td>0.0</td>\n      <td>0.0</td>\n      <td>0.0</td>\n      <td>0.0</td>\n      <td>1.0</td>\n      <td>1.0</td>\n    </tr>\n    <tr>\n      <th>2502426</th>\n      <td>2502426</td>\n      <td>ZWE</td>\n      <td>ZMB</td>\n      <td>2014</td>\n      <td>62405360.0</td>\n      <td>NaN</td>\n      <td>DOTS_IP</td>\n      <td>8.627889e+09</td>\n      <td>WDI</td>\n      <td>1.649053e+10</td>\n      <td>...</td>\n      <td>AFRI</td>\n      <td>AFRI</td>\n      <td>STHAFR</td>\n      <td>STHAFR</td>\n      <td>0.0</td>\n      <td>0.0</td>\n      <td>0.0</td>\n      <td>0.0</td>\n      <td>1.0</td>\n      <td>1.0</td>\n    </tr>\n  </tbody>\n</table>\n<p>2502427 rows × 64 columns</p>\n</div>"
     },
     "execution_count": 5,
     "metadata": {},
     "output_type": "execute_result"
    }
   ],
   "source": [
    "df"
   ],
   "metadata": {
    "collapsed": false,
    "pycharm": {
     "name": "#%%\n"
    }
   }
  },
  {
   "cell_type": "code",
   "execution_count": 6,
   "outputs": [],
   "source": [
    "features = [\"index\", \"iso_o\", \"iso_d\", \"year\",\"FLOW\", \"GDP_o\", \"GDP_d\", \"POP_o\", \"POP_d\", \"Distw\", \"Comlang\", \"Contig\",\n",
    "              \"XPTOT_o\", \"IPTOT_d\", \"IPTOT_o\", \"XPTOT_d\"]"
   ],
   "metadata": {
    "collapsed": false,
    "pycharm": {
     "name": "#%%\n"
    }
   }
  },
  {
   "cell_type": "code",
   "execution_count": 7,
   "outputs": [],
   "source": [
    "df = df[features]"
   ],
   "metadata": {
    "collapsed": false,
    "pycharm": {
     "name": "#%%\n"
    }
   }
  },
  {
   "cell_type": "code",
   "execution_count": 8,
   "outputs": [
    {
     "data": {
      "text/plain": "index           0\niso_o        1501\niso_d        1502\nyear            0\nFLOW       602737\nGDP_o      555396\nGDP_d      490671\nPOP_o      322514\nPOP_d      276342\nDistw      199813\nComlang      3003\nContig       3003\nXPTOT_o    256551\nIPTOT_d    206730\nIPTOT_o    269437\nXPTOT_d    192973\ndtype: int64"
     },
     "execution_count": 8,
     "metadata": {},
     "output_type": "execute_result"
    }
   ],
   "source": [
    "df.isna().sum()"
   ],
   "metadata": {
    "collapsed": false,
    "pycharm": {
     "name": "#%%\n"
    }
   }
  },
  {
   "cell_type": "code",
   "execution_count": 9,
   "outputs": [],
   "source": [
    "df = df.dropna()"
   ],
   "metadata": {
    "collapsed": false,
    "pycharm": {
     "name": "#%%\n"
    }
   }
  },
  {
   "cell_type": "code",
   "execution_count": 10,
   "outputs": [
    {
     "data": {
      "text/plain": "         level_0    index iso_o iso_d  year        FLOW         GDP_o  \\\n0           1697     1697   ABW   AFG  2001         0.0  1.333920e+09   \n1           1698     1698   ABW   AFG  2002         0.0  1.295143e+09   \n2           1699     1699   ABW   AFG  2003         0.0  1.237991e+09   \n3           1700     1700   ABW   AFG  2004         0.0  1.217042e+09   \n4           1701     1701   ABW   AFG  2005         0.0  1.282048e+09   \n...          ...      ...   ...   ...   ...         ...           ...   \n1264536  2502422  2502422   ZWE   ZMB  2010  46558256.0  6.097825e+09   \n1264537  2502423  2502423   ZWE   ZMB  2011  55171376.0  6.838230e+09   \n1264538  2502424  2502424   ZWE   ZMB  2012  58787336.0  7.845171e+09   \n1264539  2502425  2502425   ZWE   ZMB  2013  77869780.0  8.629172e+09   \n1264540  2502426  2502426   ZWE   ZMB  2014  62405360.0  8.627889e+09   \n\n                GDP_d      POP_o      POP_d         Distw  Comlang  Contig  \\\n0        1.710009e+09     92.894  20531.160  13168.223762      0.0     0.0   \n1        2.754842e+09     94.995  21487.078  13168.223762      0.0     0.0   \n2        2.807356e+09     97.015  22507.367  13168.223762      0.0     0.0   \n3        2.886814e+09     98.742  23499.850  13168.223762      0.0     0.0   \n4        3.451279e+09    100.031  24399.947  13168.223762      0.0     0.0   \n...               ...        ...        ...           ...      ...     ...   \n1264536  1.311544e+10  13973.897  13917.439    583.795386      1.0     1.0   \n1264537  1.464204e+10  14255.592  14343.526    583.795386      1.0     1.0   \n1264538  1.614464e+10  14565.482  14786.581    583.795386      1.0     1.0   \n1264539  1.793963e+10  14898.092  15246.086    583.795386      1.0     1.0   \n1264540  1.649053e+10  15245.855  15721.343    583.795386      1.0     1.0   \n\n              XPTOT_o       IPTOT_d       IPTOT_o       XPTOT_d  \n0        8.918040e+08  1.178135e+09  1.647536e+09  6.461683e+07  \n1        6.470984e+08  1.636031e+09  1.345889e+09  6.455996e+07  \n2        8.224479e+08  1.286804e+09  1.468359e+09  1.405804e+08  \n3        1.361386e+09  1.189034e+09  1.960329e+09  1.665849e+08  \n4        2.203139e+09  1.358902e+09  2.358232e+09  2.111992e+08  \n...               ...           ...           ...           ...  \n1264536  2.070475e+09  3.442585e+09  2.673542e+09  4.636377e+09  \n1264537  2.192061e+09  4.543546e+09  3.097955e+09  5.510135e+09  \n1264538  2.457760e+09  5.562818e+09  3.321382e+09  5.922680e+09  \n1264539  2.243481e+09  6.515267e+09  3.244361e+09  6.770876e+09  \n1264540  2.089376e+09  5.899204e+09  2.983128e+09  5.890915e+09  \n\n[1264541 rows x 17 columns]",
      "text/html": "<div>\n<style scoped>\n    .dataframe tbody tr th:only-of-type {\n        vertical-align: middle;\n    }\n\n    .dataframe tbody tr th {\n        vertical-align: top;\n    }\n\n    .dataframe thead th {\n        text-align: right;\n    }\n</style>\n<table border=\"1\" class=\"dataframe\">\n  <thead>\n    <tr style=\"text-align: right;\">\n      <th></th>\n      <th>level_0</th>\n      <th>index</th>\n      <th>iso_o</th>\n      <th>iso_d</th>\n      <th>year</th>\n      <th>FLOW</th>\n      <th>GDP_o</th>\n      <th>GDP_d</th>\n      <th>POP_o</th>\n      <th>POP_d</th>\n      <th>Distw</th>\n      <th>Comlang</th>\n      <th>Contig</th>\n      <th>XPTOT_o</th>\n      <th>IPTOT_d</th>\n      <th>IPTOT_o</th>\n      <th>XPTOT_d</th>\n    </tr>\n  </thead>\n  <tbody>\n    <tr>\n      <th>0</th>\n      <td>1697</td>\n      <td>1697</td>\n      <td>ABW</td>\n      <td>AFG</td>\n      <td>2001</td>\n      <td>0.0</td>\n      <td>1.333920e+09</td>\n      <td>1.710009e+09</td>\n      <td>92.894</td>\n      <td>20531.160</td>\n      <td>13168.223762</td>\n      <td>0.0</td>\n      <td>0.0</td>\n      <td>8.918040e+08</td>\n      <td>1.178135e+09</td>\n      <td>1.647536e+09</td>\n      <td>6.461683e+07</td>\n    </tr>\n    <tr>\n      <th>1</th>\n      <td>1698</td>\n      <td>1698</td>\n      <td>ABW</td>\n      <td>AFG</td>\n      <td>2002</td>\n      <td>0.0</td>\n      <td>1.295143e+09</td>\n      <td>2.754842e+09</td>\n      <td>94.995</td>\n      <td>21487.078</td>\n      <td>13168.223762</td>\n      <td>0.0</td>\n      <td>0.0</td>\n      <td>6.470984e+08</td>\n      <td>1.636031e+09</td>\n      <td>1.345889e+09</td>\n      <td>6.455996e+07</td>\n    </tr>\n    <tr>\n      <th>2</th>\n      <td>1699</td>\n      <td>1699</td>\n      <td>ABW</td>\n      <td>AFG</td>\n      <td>2003</td>\n      <td>0.0</td>\n      <td>1.237991e+09</td>\n      <td>2.807356e+09</td>\n      <td>97.015</td>\n      <td>22507.367</td>\n      <td>13168.223762</td>\n      <td>0.0</td>\n      <td>0.0</td>\n      <td>8.224479e+08</td>\n      <td>1.286804e+09</td>\n      <td>1.468359e+09</td>\n      <td>1.405804e+08</td>\n    </tr>\n    <tr>\n      <th>3</th>\n      <td>1700</td>\n      <td>1700</td>\n      <td>ABW</td>\n      <td>AFG</td>\n      <td>2004</td>\n      <td>0.0</td>\n      <td>1.217042e+09</td>\n      <td>2.886814e+09</td>\n      <td>98.742</td>\n      <td>23499.850</td>\n      <td>13168.223762</td>\n      <td>0.0</td>\n      <td>0.0</td>\n      <td>1.361386e+09</td>\n      <td>1.189034e+09</td>\n      <td>1.960329e+09</td>\n      <td>1.665849e+08</td>\n    </tr>\n    <tr>\n      <th>4</th>\n      <td>1701</td>\n      <td>1701</td>\n      <td>ABW</td>\n      <td>AFG</td>\n      <td>2005</td>\n      <td>0.0</td>\n      <td>1.282048e+09</td>\n      <td>3.451279e+09</td>\n      <td>100.031</td>\n      <td>24399.947</td>\n      <td>13168.223762</td>\n      <td>0.0</td>\n      <td>0.0</td>\n      <td>2.203139e+09</td>\n      <td>1.358902e+09</td>\n      <td>2.358232e+09</td>\n      <td>2.111992e+08</td>\n    </tr>\n    <tr>\n      <th>...</th>\n      <td>...</td>\n      <td>...</td>\n      <td>...</td>\n      <td>...</td>\n      <td>...</td>\n      <td>...</td>\n      <td>...</td>\n      <td>...</td>\n      <td>...</td>\n      <td>...</td>\n      <td>...</td>\n      <td>...</td>\n      <td>...</td>\n      <td>...</td>\n      <td>...</td>\n      <td>...</td>\n      <td>...</td>\n    </tr>\n    <tr>\n      <th>1264536</th>\n      <td>2502422</td>\n      <td>2502422</td>\n      <td>ZWE</td>\n      <td>ZMB</td>\n      <td>2010</td>\n      <td>46558256.0</td>\n      <td>6.097825e+09</td>\n      <td>1.311544e+10</td>\n      <td>13973.897</td>\n      <td>13917.439</td>\n      <td>583.795386</td>\n      <td>1.0</td>\n      <td>1.0</td>\n      <td>2.070475e+09</td>\n      <td>3.442585e+09</td>\n      <td>2.673542e+09</td>\n      <td>4.636377e+09</td>\n    </tr>\n    <tr>\n      <th>1264537</th>\n      <td>2502423</td>\n      <td>2502423</td>\n      <td>ZWE</td>\n      <td>ZMB</td>\n      <td>2011</td>\n      <td>55171376.0</td>\n      <td>6.838230e+09</td>\n      <td>1.464204e+10</td>\n      <td>14255.592</td>\n      <td>14343.526</td>\n      <td>583.795386</td>\n      <td>1.0</td>\n      <td>1.0</td>\n      <td>2.192061e+09</td>\n      <td>4.543546e+09</td>\n      <td>3.097955e+09</td>\n      <td>5.510135e+09</td>\n    </tr>\n    <tr>\n      <th>1264538</th>\n      <td>2502424</td>\n      <td>2502424</td>\n      <td>ZWE</td>\n      <td>ZMB</td>\n      <td>2012</td>\n      <td>58787336.0</td>\n      <td>7.845171e+09</td>\n      <td>1.614464e+10</td>\n      <td>14565.482</td>\n      <td>14786.581</td>\n      <td>583.795386</td>\n      <td>1.0</td>\n      <td>1.0</td>\n      <td>2.457760e+09</td>\n      <td>5.562818e+09</td>\n      <td>3.321382e+09</td>\n      <td>5.922680e+09</td>\n    </tr>\n    <tr>\n      <th>1264539</th>\n      <td>2502425</td>\n      <td>2502425</td>\n      <td>ZWE</td>\n      <td>ZMB</td>\n      <td>2013</td>\n      <td>77869780.0</td>\n      <td>8.629172e+09</td>\n      <td>1.793963e+10</td>\n      <td>14898.092</td>\n      <td>15246.086</td>\n      <td>583.795386</td>\n      <td>1.0</td>\n      <td>1.0</td>\n      <td>2.243481e+09</td>\n      <td>6.515267e+09</td>\n      <td>3.244361e+09</td>\n      <td>6.770876e+09</td>\n    </tr>\n    <tr>\n      <th>1264540</th>\n      <td>2502426</td>\n      <td>2502426</td>\n      <td>ZWE</td>\n      <td>ZMB</td>\n      <td>2014</td>\n      <td>62405360.0</td>\n      <td>8.627889e+09</td>\n      <td>1.649053e+10</td>\n      <td>15245.855</td>\n      <td>15721.343</td>\n      <td>583.795386</td>\n      <td>1.0</td>\n      <td>1.0</td>\n      <td>2.089376e+09</td>\n      <td>5.899204e+09</td>\n      <td>2.983128e+09</td>\n      <td>5.890915e+09</td>\n    </tr>\n  </tbody>\n</table>\n<p>1264541 rows × 17 columns</p>\n</div>"
     },
     "execution_count": 10,
     "metadata": {},
     "output_type": "execute_result"
    }
   ],
   "source": [
    "df.reset_index()"
   ],
   "metadata": {
    "collapsed": false,
    "pycharm": {
     "name": "#%%\n"
    }
   }
  },
  {
   "cell_type": "code",
   "execution_count": 11,
   "outputs": [
    {
     "data": {
      "text/plain": "              index          year          FLOW         GDP_o         GDP_d  \\\ncount  1.264541e+06  1.264541e+06  1.264541e+06  1.264541e+06  1.264541e+06   \nmean   1.221867e+06  1.986820e+03  1.181009e+08  1.066158e+11  1.065710e+11   \nstd    7.097515e+05  2.294447e+01  1.775181e+09  5.293667e+11  5.294118e+11   \nmin    1.697000e+03  1.827000e+03  0.000000e+00  1.500000e+06  1.500000e+06   \n25%    5.894410e+05  1.975000e+03  0.000000e+00  8.837319e+08  8.726014e+08   \n50%    1.206321e+06  1.992000e+03  7.084860e+04  4.647678e+09  4.555827e+09   \n75%    1.811116e+06  2.004000e+03  3.313725e+06  3.149481e+10  3.118760e+10   \nmax    2.502426e+06  2.014000e+03  2.836604e+11  1.065877e+13  1.065877e+13   \n\n              POP_o         POP_d         Distw       Comlang        Contig  \\\ncount  1.264541e+06  1.264541e+06  1.264541e+06  1.264541e+06  1.264541e+06   \nmean   3.444303e+04  3.429993e+04  7.717195e+03  1.741620e-01  2.232984e-02   \nstd    1.219508e+05  1.222648e+05  4.465357e+03  3.792489e-01  1.477540e-01   \nmin    9.004000e+00  9.004000e+00  6.077057e+01  0.000000e+00  0.000000e+00   \n25%    2.389309e+03  2.352637e+03  4.148039e+03  0.000000e+00  0.000000e+00   \n50%    7.499400e+03  7.325622e+03  7.394994e+03  0.000000e+00  0.000000e+00   \n75%    2.279428e+04  2.255398e+04  1.074419e+04  0.000000e+00  0.000000e+00   \nmax    1.364270e+06  1.364270e+06  1.973532e+04  1.000000e+00  1.000000e+00   \n\n            XPTOT_o       IPTOT_d       IPTOT_o       XPTOT_d  \ncount  1.264541e+06  1.264541e+06  1.264541e+06  1.264541e+06  \nmean   2.217744e+10  2.230704e+10  2.230730e+10  2.217467e+10  \nstd    7.876870e+10  8.333132e+10  8.330342e+10  7.878322e+10  \nmin    4.600374e-03  6.498229e-03  6.498229e-03  4.600374e-03  \n25%    1.769087e+08  2.658295e+08  2.684836e+08  1.742531e+08  \n50%    1.004429e+09  1.383952e+09  1.392562e+09  9.973109e+08  \n75%    7.840651e+09  8.489059e+09  8.550328e+09  7.815714e+09  \nmax    1.439870e+12  1.450988e+12  1.450988e+12  1.439870e+12  ",
      "text/html": "<div>\n<style scoped>\n    .dataframe tbody tr th:only-of-type {\n        vertical-align: middle;\n    }\n\n    .dataframe tbody tr th {\n        vertical-align: top;\n    }\n\n    .dataframe thead th {\n        text-align: right;\n    }\n</style>\n<table border=\"1\" class=\"dataframe\">\n  <thead>\n    <tr style=\"text-align: right;\">\n      <th></th>\n      <th>index</th>\n      <th>year</th>\n      <th>FLOW</th>\n      <th>GDP_o</th>\n      <th>GDP_d</th>\n      <th>POP_o</th>\n      <th>POP_d</th>\n      <th>Distw</th>\n      <th>Comlang</th>\n      <th>Contig</th>\n      <th>XPTOT_o</th>\n      <th>IPTOT_d</th>\n      <th>IPTOT_o</th>\n      <th>XPTOT_d</th>\n    </tr>\n  </thead>\n  <tbody>\n    <tr>\n      <th>count</th>\n      <td>1.264541e+06</td>\n      <td>1.264541e+06</td>\n      <td>1.264541e+06</td>\n      <td>1.264541e+06</td>\n      <td>1.264541e+06</td>\n      <td>1.264541e+06</td>\n      <td>1.264541e+06</td>\n      <td>1.264541e+06</td>\n      <td>1.264541e+06</td>\n      <td>1.264541e+06</td>\n      <td>1.264541e+06</td>\n      <td>1.264541e+06</td>\n      <td>1.264541e+06</td>\n      <td>1.264541e+06</td>\n    </tr>\n    <tr>\n      <th>mean</th>\n      <td>1.221867e+06</td>\n      <td>1.986820e+03</td>\n      <td>1.181009e+08</td>\n      <td>1.066158e+11</td>\n      <td>1.065710e+11</td>\n      <td>3.444303e+04</td>\n      <td>3.429993e+04</td>\n      <td>7.717195e+03</td>\n      <td>1.741620e-01</td>\n      <td>2.232984e-02</td>\n      <td>2.217744e+10</td>\n      <td>2.230704e+10</td>\n      <td>2.230730e+10</td>\n      <td>2.217467e+10</td>\n    </tr>\n    <tr>\n      <th>std</th>\n      <td>7.097515e+05</td>\n      <td>2.294447e+01</td>\n      <td>1.775181e+09</td>\n      <td>5.293667e+11</td>\n      <td>5.294118e+11</td>\n      <td>1.219508e+05</td>\n      <td>1.222648e+05</td>\n      <td>4.465357e+03</td>\n      <td>3.792489e-01</td>\n      <td>1.477540e-01</td>\n      <td>7.876870e+10</td>\n      <td>8.333132e+10</td>\n      <td>8.330342e+10</td>\n      <td>7.878322e+10</td>\n    </tr>\n    <tr>\n      <th>min</th>\n      <td>1.697000e+03</td>\n      <td>1.827000e+03</td>\n      <td>0.000000e+00</td>\n      <td>1.500000e+06</td>\n      <td>1.500000e+06</td>\n      <td>9.004000e+00</td>\n      <td>9.004000e+00</td>\n      <td>6.077057e+01</td>\n      <td>0.000000e+00</td>\n      <td>0.000000e+00</td>\n      <td>4.600374e-03</td>\n      <td>6.498229e-03</td>\n      <td>6.498229e-03</td>\n      <td>4.600374e-03</td>\n    </tr>\n    <tr>\n      <th>25%</th>\n      <td>5.894410e+05</td>\n      <td>1.975000e+03</td>\n      <td>0.000000e+00</td>\n      <td>8.837319e+08</td>\n      <td>8.726014e+08</td>\n      <td>2.389309e+03</td>\n      <td>2.352637e+03</td>\n      <td>4.148039e+03</td>\n      <td>0.000000e+00</td>\n      <td>0.000000e+00</td>\n      <td>1.769087e+08</td>\n      <td>2.658295e+08</td>\n      <td>2.684836e+08</td>\n      <td>1.742531e+08</td>\n    </tr>\n    <tr>\n      <th>50%</th>\n      <td>1.206321e+06</td>\n      <td>1.992000e+03</td>\n      <td>7.084860e+04</td>\n      <td>4.647678e+09</td>\n      <td>4.555827e+09</td>\n      <td>7.499400e+03</td>\n      <td>7.325622e+03</td>\n      <td>7.394994e+03</td>\n      <td>0.000000e+00</td>\n      <td>0.000000e+00</td>\n      <td>1.004429e+09</td>\n      <td>1.383952e+09</td>\n      <td>1.392562e+09</td>\n      <td>9.973109e+08</td>\n    </tr>\n    <tr>\n      <th>75%</th>\n      <td>1.811116e+06</td>\n      <td>2.004000e+03</td>\n      <td>3.313725e+06</td>\n      <td>3.149481e+10</td>\n      <td>3.118760e+10</td>\n      <td>2.279428e+04</td>\n      <td>2.255398e+04</td>\n      <td>1.074419e+04</td>\n      <td>0.000000e+00</td>\n      <td>0.000000e+00</td>\n      <td>7.840651e+09</td>\n      <td>8.489059e+09</td>\n      <td>8.550328e+09</td>\n      <td>7.815714e+09</td>\n    </tr>\n    <tr>\n      <th>max</th>\n      <td>2.502426e+06</td>\n      <td>2.014000e+03</td>\n      <td>2.836604e+11</td>\n      <td>1.065877e+13</td>\n      <td>1.065877e+13</td>\n      <td>1.364270e+06</td>\n      <td>1.364270e+06</td>\n      <td>1.973532e+04</td>\n      <td>1.000000e+00</td>\n      <td>1.000000e+00</td>\n      <td>1.439870e+12</td>\n      <td>1.450988e+12</td>\n      <td>1.450988e+12</td>\n      <td>1.439870e+12</td>\n    </tr>\n  </tbody>\n</table>\n</div>"
     },
     "execution_count": 11,
     "metadata": {},
     "output_type": "execute_result"
    }
   ],
   "source": [
    "df.describe()"
   ],
   "metadata": {
    "collapsed": false,
    "pycharm": {
     "name": "#%%\n"
    }
   }
  },
  {
   "cell_type": "code",
   "execution_count": 12,
   "outputs": [],
   "source": [
    "df = df.loc[(df[\"year\"] > 2000) & (df[\"FLOW\"] > 10000)].dropna()"
   ],
   "metadata": {
    "collapsed": false,
    "pycharm": {
     "name": "#%%\n"
    }
   }
  },
  {
   "cell_type": "code",
   "execution_count": 13,
   "outputs": [
    {
     "data": {
      "text/plain": "           index iso_o iso_d  year         FLOW         GDP_o         GDP_d  \\\n1707        1707   ABW   AFG  2011     60232.73  1.613070e+09  1.119100e+10   \n1833        1833   ABW   ARE  2003     48539.94  1.237991e+09  7.615866e+10   \n1838        1838   ABW   ARE  2008    143207.20  1.518732e+09  1.716075e+11   \n1839        1839   ABW   ARE  2009     11195.58  1.604113e+09  1.627569e+11   \n1841        1841   ABW   ARE  2011    113576.80  1.613070e+09  2.175294e+11   \n...          ...   ...   ...   ...          ...           ...           ...   \n2502422  2502422   ZWE   ZMB  2010  46558256.00  6.097825e+09  1.311544e+10   \n2502423  2502423   ZWE   ZMB  2011  55171376.00  6.838230e+09  1.464204e+10   \n2502424  2502424   ZWE   ZMB  2012  58787336.00  7.845171e+09  1.614464e+10   \n2502425  2502425   ZWE   ZMB  2013  77869780.00  8.629172e+09  1.793963e+10   \n2502426  2502426   ZWE   ZMB  2014  62405360.00  8.627889e+09  1.649053e+10   \n\n             POP_o      POP_d         Distw  Comlang  Contig       XPTOT_o  \\\n1707       101.936  28809.168  13168.223762      0.0     0.0  2.671829e+09   \n1833        97.015   3625.798  12773.079714      0.0     0.0  8.224479e+08   \n1838       101.342   6900.142  12773.079714      0.0     0.0  2.995200e+09   \n1839       101.416   7705.423  12773.079714      0.0     0.0  1.363620e+09   \n1841       101.936   8734.722  12773.079714      0.0     0.0  2.671829e+09   \n...            ...        ...           ...      ...     ...           ...   \n2502422  13973.897  13917.439    583.795386      1.0     1.0  2.070475e+09   \n2502423  14255.592  14343.526    583.795386      1.0     1.0  2.192061e+09   \n2502424  14565.482  14786.581    583.795386      1.0     1.0  2.457760e+09   \n2502425  14898.092  15246.086    583.795386      1.0     1.0  2.243481e+09   \n2502426  15245.855  15721.343    583.795386      1.0     1.0  2.089376e+09   \n\n              IPTOT_d       IPTOT_o       XPTOT_d  \n1707     6.612774e+09  3.692892e+09  3.224723e+08  \n1833     3.185928e+10  1.468359e+09  4.111831e+10  \n1838     1.123507e+11  3.269813e+09  1.301235e+11  \n1839     9.999943e+10  1.571841e+09  1.232484e+11  \n1841     1.365564e+11  3.692892e+09  1.884906e+11  \n...               ...           ...           ...  \n2502422  3.442585e+09  2.673542e+09  4.636377e+09  \n2502423  4.543546e+09  3.097955e+09  5.510135e+09  \n2502424  5.562818e+09  3.321382e+09  5.922680e+09  \n2502425  6.515267e+09  3.244361e+09  6.770876e+09  \n2502426  5.899204e+09  2.983128e+09  5.890915e+09  \n\n[265625 rows x 16 columns]",
      "text/html": "<div>\n<style scoped>\n    .dataframe tbody tr th:only-of-type {\n        vertical-align: middle;\n    }\n\n    .dataframe tbody tr th {\n        vertical-align: top;\n    }\n\n    .dataframe thead th {\n        text-align: right;\n    }\n</style>\n<table border=\"1\" class=\"dataframe\">\n  <thead>\n    <tr style=\"text-align: right;\">\n      <th></th>\n      <th>index</th>\n      <th>iso_o</th>\n      <th>iso_d</th>\n      <th>year</th>\n      <th>FLOW</th>\n      <th>GDP_o</th>\n      <th>GDP_d</th>\n      <th>POP_o</th>\n      <th>POP_d</th>\n      <th>Distw</th>\n      <th>Comlang</th>\n      <th>Contig</th>\n      <th>XPTOT_o</th>\n      <th>IPTOT_d</th>\n      <th>IPTOT_o</th>\n      <th>XPTOT_d</th>\n    </tr>\n  </thead>\n  <tbody>\n    <tr>\n      <th>1707</th>\n      <td>1707</td>\n      <td>ABW</td>\n      <td>AFG</td>\n      <td>2011</td>\n      <td>60232.73</td>\n      <td>1.613070e+09</td>\n      <td>1.119100e+10</td>\n      <td>101.936</td>\n      <td>28809.168</td>\n      <td>13168.223762</td>\n      <td>0.0</td>\n      <td>0.0</td>\n      <td>2.671829e+09</td>\n      <td>6.612774e+09</td>\n      <td>3.692892e+09</td>\n      <td>3.224723e+08</td>\n    </tr>\n    <tr>\n      <th>1833</th>\n      <td>1833</td>\n      <td>ABW</td>\n      <td>ARE</td>\n      <td>2003</td>\n      <td>48539.94</td>\n      <td>1.237991e+09</td>\n      <td>7.615866e+10</td>\n      <td>97.015</td>\n      <td>3625.798</td>\n      <td>12773.079714</td>\n      <td>0.0</td>\n      <td>0.0</td>\n      <td>8.224479e+08</td>\n      <td>3.185928e+10</td>\n      <td>1.468359e+09</td>\n      <td>4.111831e+10</td>\n    </tr>\n    <tr>\n      <th>1838</th>\n      <td>1838</td>\n      <td>ABW</td>\n      <td>ARE</td>\n      <td>2008</td>\n      <td>143207.20</td>\n      <td>1.518732e+09</td>\n      <td>1.716075e+11</td>\n      <td>101.342</td>\n      <td>6900.142</td>\n      <td>12773.079714</td>\n      <td>0.0</td>\n      <td>0.0</td>\n      <td>2.995200e+09</td>\n      <td>1.123507e+11</td>\n      <td>3.269813e+09</td>\n      <td>1.301235e+11</td>\n    </tr>\n    <tr>\n      <th>1839</th>\n      <td>1839</td>\n      <td>ABW</td>\n      <td>ARE</td>\n      <td>2009</td>\n      <td>11195.58</td>\n      <td>1.604113e+09</td>\n      <td>1.627569e+11</td>\n      <td>101.416</td>\n      <td>7705.423</td>\n      <td>12773.079714</td>\n      <td>0.0</td>\n      <td>0.0</td>\n      <td>1.363620e+09</td>\n      <td>9.999943e+10</td>\n      <td>1.571841e+09</td>\n      <td>1.232484e+11</td>\n    </tr>\n    <tr>\n      <th>1841</th>\n      <td>1841</td>\n      <td>ABW</td>\n      <td>ARE</td>\n      <td>2011</td>\n      <td>113576.80</td>\n      <td>1.613070e+09</td>\n      <td>2.175294e+11</td>\n      <td>101.936</td>\n      <td>8734.722</td>\n      <td>12773.079714</td>\n      <td>0.0</td>\n      <td>0.0</td>\n      <td>2.671829e+09</td>\n      <td>1.365564e+11</td>\n      <td>3.692892e+09</td>\n      <td>1.884906e+11</td>\n    </tr>\n    <tr>\n      <th>...</th>\n      <td>...</td>\n      <td>...</td>\n      <td>...</td>\n      <td>...</td>\n      <td>...</td>\n      <td>...</td>\n      <td>...</td>\n      <td>...</td>\n      <td>...</td>\n      <td>...</td>\n      <td>...</td>\n      <td>...</td>\n      <td>...</td>\n      <td>...</td>\n      <td>...</td>\n      <td>...</td>\n    </tr>\n    <tr>\n      <th>2502422</th>\n      <td>2502422</td>\n      <td>ZWE</td>\n      <td>ZMB</td>\n      <td>2010</td>\n      <td>46558256.00</td>\n      <td>6.097825e+09</td>\n      <td>1.311544e+10</td>\n      <td>13973.897</td>\n      <td>13917.439</td>\n      <td>583.795386</td>\n      <td>1.0</td>\n      <td>1.0</td>\n      <td>2.070475e+09</td>\n      <td>3.442585e+09</td>\n      <td>2.673542e+09</td>\n      <td>4.636377e+09</td>\n    </tr>\n    <tr>\n      <th>2502423</th>\n      <td>2502423</td>\n      <td>ZWE</td>\n      <td>ZMB</td>\n      <td>2011</td>\n      <td>55171376.00</td>\n      <td>6.838230e+09</td>\n      <td>1.464204e+10</td>\n      <td>14255.592</td>\n      <td>14343.526</td>\n      <td>583.795386</td>\n      <td>1.0</td>\n      <td>1.0</td>\n      <td>2.192061e+09</td>\n      <td>4.543546e+09</td>\n      <td>3.097955e+09</td>\n      <td>5.510135e+09</td>\n    </tr>\n    <tr>\n      <th>2502424</th>\n      <td>2502424</td>\n      <td>ZWE</td>\n      <td>ZMB</td>\n      <td>2012</td>\n      <td>58787336.00</td>\n      <td>7.845171e+09</td>\n      <td>1.614464e+10</td>\n      <td>14565.482</td>\n      <td>14786.581</td>\n      <td>583.795386</td>\n      <td>1.0</td>\n      <td>1.0</td>\n      <td>2.457760e+09</td>\n      <td>5.562818e+09</td>\n      <td>3.321382e+09</td>\n      <td>5.922680e+09</td>\n    </tr>\n    <tr>\n      <th>2502425</th>\n      <td>2502425</td>\n      <td>ZWE</td>\n      <td>ZMB</td>\n      <td>2013</td>\n      <td>77869780.00</td>\n      <td>8.629172e+09</td>\n      <td>1.793963e+10</td>\n      <td>14898.092</td>\n      <td>15246.086</td>\n      <td>583.795386</td>\n      <td>1.0</td>\n      <td>1.0</td>\n      <td>2.243481e+09</td>\n      <td>6.515267e+09</td>\n      <td>3.244361e+09</td>\n      <td>6.770876e+09</td>\n    </tr>\n    <tr>\n      <th>2502426</th>\n      <td>2502426</td>\n      <td>ZWE</td>\n      <td>ZMB</td>\n      <td>2014</td>\n      <td>62405360.00</td>\n      <td>8.627889e+09</td>\n      <td>1.649053e+10</td>\n      <td>15245.855</td>\n      <td>15721.343</td>\n      <td>583.795386</td>\n      <td>1.0</td>\n      <td>1.0</td>\n      <td>2.089376e+09</td>\n      <td>5.899204e+09</td>\n      <td>2.983128e+09</td>\n      <td>5.890915e+09</td>\n    </tr>\n  </tbody>\n</table>\n<p>265625 rows × 16 columns</p>\n</div>"
     },
     "execution_count": 13,
     "metadata": {},
     "output_type": "execute_result"
    }
   ],
   "source": [
    "df"
   ],
   "metadata": {
    "collapsed": false,
    "pycharm": {
     "name": "#%%\n"
    }
   }
  },
  {
   "cell_type": "code",
   "execution_count": 14,
   "outputs": [
    {
     "data": {
      "text/plain": "           index iso_o iso_d  year          FLOW         GDP_o         GDP_d  \\\n2332236  2332236   USA   CHN  2001  1.821455e+10  7.378503e+12  9.254435e+11   \n2332237  2332237   USA   CHN  2002  1.818276e+10  7.324450e+12  9.754176e+11   \n2332238  2332238   USA   CHN  2003  2.078663e+10  7.049963e+12  1.010535e+12   \n2332239  2332239   USA   CHN  2004  2.443822e+10  6.704321e+12  1.060543e+12   \n2332240  2332240   USA   CHN  2005  2.694688e+10  7.201523e+12  1.247725e+12   \n2332241  2332241   USA   CHN  2006  3.224296e+10  7.530495e+12  1.483602e+12   \n2332242  2332242   USA   CHN  2007  3.498284e+10  7.235517e+12  1.760744e+12   \n2332243  2332243   USA   CHN  2008  4.445431e+10  8.006408e+12  2.479631e+12   \n2332244  2332244   USA   CHN  2009  4.992364e+10  9.255663e+12  3.247738e+12   \n2332245  2332245   USA   CHN  2010  6.598572e+10  9.684627e+12  3.908740e+12   \n2332246  2332246   USA   CHN  2011  7.437514e+10  9.685374e+12  4.676334e+12   \n2332247  2332247   USA   CHN  2012  8.143390e+10  1.022704e+13  5.356605e+12   \n2332248  2332248   USA   CHN  2013  9.401673e+10  1.065877e+13  6.070768e+12   \n2332249  2332249   USA   CHN  2014  9.367307e+10  1.054294e+13  6.290681e+12   \n\n             POP_o      POP_d         Distw  Comlang  Contig       XPTOT_o  \\\n2332236  284968.97  1271850.0  11183.428123      0.0     0.0  5.301281e+11   \n2332237  287625.20  1280400.0  11183.428123      0.0     0.0  4.876326e+11   \n2332238  290107.94  1288400.0  11183.428123      0.0     0.0  4.671654e+11   \n2332239  292805.30  1296075.0  11183.428123      0.0     0.0  4.692705e+11   \n2332240  295516.60  1303720.0  11183.428123      0.0     0.0  5.131972e+11   \n2332241  298379.90  1311020.0  11183.428123      0.0     0.0  5.636124e+11   \n2332242  301231.22  1317885.0  11183.428123      0.0     0.0  5.810549e+11   \n2332243  304093.97  1324655.0  11183.428123      0.0     0.0  7.071993e+11   \n2332244  306771.53  1331260.0  11183.428123      0.0     0.0  6.784442e+11   \n2332245  309346.88  1337705.0  11183.428123      0.0     0.0  8.267647e+11   \n2332246  311718.84  1344130.0  11183.428123      0.0     0.0  9.252765e+11   \n2332247  314102.62  1350695.0  11183.428123      0.0     0.0  9.785577e+11   \n2332248  316427.40  1357380.0  11183.428123      0.0     0.0  1.009660e+12   \n2332249  318907.40  1364270.0  11183.428123      0.0     0.0  9.848143e+11   \n\n              IPTOT_d       IPTOT_o       XPTOT_d  \n2332236  1.691950e+11  8.198111e+11  2.822862e+11  \n2332237  1.971244e+11  8.022755e+11  3.161568e+11  \n2332238  2.528505e+11  7.994658e+11  3.647914e+11  \n2332239  3.063038e+11  8.331812e+11  4.272286e+11  \n2332240  3.631191e+11  9.528826e+11  5.384827e+11  \n2332241  4.303292e+11  1.043082e+12  6.415434e+11  \n2332242  4.779125e+11  1.008230e+12  7.191396e+11  \n2332243  6.157260e+11  1.178219e+12  8.980015e+11  \n2332244  6.444161e+11  1.029349e+12  9.063443e+11  \n2332245  9.021093e+11  1.273726e+12  1.160983e+12  \n2332246  1.086898e+12  1.378072e+12  1.285863e+12  \n2332247  1.150462e+12  1.440980e+12  1.356310e+12  \n2332248  1.246891e+12  1.450988e+12  1.428233e+12  \n2332249  1.193041e+12  1.426755e+12  1.439870e+12  ",
      "text/html": "<div>\n<style scoped>\n    .dataframe tbody tr th:only-of-type {\n        vertical-align: middle;\n    }\n\n    .dataframe tbody tr th {\n        vertical-align: top;\n    }\n\n    .dataframe thead th {\n        text-align: right;\n    }\n</style>\n<table border=\"1\" class=\"dataframe\">\n  <thead>\n    <tr style=\"text-align: right;\">\n      <th></th>\n      <th>index</th>\n      <th>iso_o</th>\n      <th>iso_d</th>\n      <th>year</th>\n      <th>FLOW</th>\n      <th>GDP_o</th>\n      <th>GDP_d</th>\n      <th>POP_o</th>\n      <th>POP_d</th>\n      <th>Distw</th>\n      <th>Comlang</th>\n      <th>Contig</th>\n      <th>XPTOT_o</th>\n      <th>IPTOT_d</th>\n      <th>IPTOT_o</th>\n      <th>XPTOT_d</th>\n    </tr>\n  </thead>\n  <tbody>\n    <tr>\n      <th>2332236</th>\n      <td>2332236</td>\n      <td>USA</td>\n      <td>CHN</td>\n      <td>2001</td>\n      <td>1.821455e+10</td>\n      <td>7.378503e+12</td>\n      <td>9.254435e+11</td>\n      <td>284968.97</td>\n      <td>1271850.0</td>\n      <td>11183.428123</td>\n      <td>0.0</td>\n      <td>0.0</td>\n      <td>5.301281e+11</td>\n      <td>1.691950e+11</td>\n      <td>8.198111e+11</td>\n      <td>2.822862e+11</td>\n    </tr>\n    <tr>\n      <th>2332237</th>\n      <td>2332237</td>\n      <td>USA</td>\n      <td>CHN</td>\n      <td>2002</td>\n      <td>1.818276e+10</td>\n      <td>7.324450e+12</td>\n      <td>9.754176e+11</td>\n      <td>287625.20</td>\n      <td>1280400.0</td>\n      <td>11183.428123</td>\n      <td>0.0</td>\n      <td>0.0</td>\n      <td>4.876326e+11</td>\n      <td>1.971244e+11</td>\n      <td>8.022755e+11</td>\n      <td>3.161568e+11</td>\n    </tr>\n    <tr>\n      <th>2332238</th>\n      <td>2332238</td>\n      <td>USA</td>\n      <td>CHN</td>\n      <td>2003</td>\n      <td>2.078663e+10</td>\n      <td>7.049963e+12</td>\n      <td>1.010535e+12</td>\n      <td>290107.94</td>\n      <td>1288400.0</td>\n      <td>11183.428123</td>\n      <td>0.0</td>\n      <td>0.0</td>\n      <td>4.671654e+11</td>\n      <td>2.528505e+11</td>\n      <td>7.994658e+11</td>\n      <td>3.647914e+11</td>\n    </tr>\n    <tr>\n      <th>2332239</th>\n      <td>2332239</td>\n      <td>USA</td>\n      <td>CHN</td>\n      <td>2004</td>\n      <td>2.443822e+10</td>\n      <td>6.704321e+12</td>\n      <td>1.060543e+12</td>\n      <td>292805.30</td>\n      <td>1296075.0</td>\n      <td>11183.428123</td>\n      <td>0.0</td>\n      <td>0.0</td>\n      <td>4.692705e+11</td>\n      <td>3.063038e+11</td>\n      <td>8.331812e+11</td>\n      <td>4.272286e+11</td>\n    </tr>\n    <tr>\n      <th>2332240</th>\n      <td>2332240</td>\n      <td>USA</td>\n      <td>CHN</td>\n      <td>2005</td>\n      <td>2.694688e+10</td>\n      <td>7.201523e+12</td>\n      <td>1.247725e+12</td>\n      <td>295516.60</td>\n      <td>1303720.0</td>\n      <td>11183.428123</td>\n      <td>0.0</td>\n      <td>0.0</td>\n      <td>5.131972e+11</td>\n      <td>3.631191e+11</td>\n      <td>9.528826e+11</td>\n      <td>5.384827e+11</td>\n    </tr>\n    <tr>\n      <th>2332241</th>\n      <td>2332241</td>\n      <td>USA</td>\n      <td>CHN</td>\n      <td>2006</td>\n      <td>3.224296e+10</td>\n      <td>7.530495e+12</td>\n      <td>1.483602e+12</td>\n      <td>298379.90</td>\n      <td>1311020.0</td>\n      <td>11183.428123</td>\n      <td>0.0</td>\n      <td>0.0</td>\n      <td>5.636124e+11</td>\n      <td>4.303292e+11</td>\n      <td>1.043082e+12</td>\n      <td>6.415434e+11</td>\n    </tr>\n    <tr>\n      <th>2332242</th>\n      <td>2332242</td>\n      <td>USA</td>\n      <td>CHN</td>\n      <td>2007</td>\n      <td>3.498284e+10</td>\n      <td>7.235517e+12</td>\n      <td>1.760744e+12</td>\n      <td>301231.22</td>\n      <td>1317885.0</td>\n      <td>11183.428123</td>\n      <td>0.0</td>\n      <td>0.0</td>\n      <td>5.810549e+11</td>\n      <td>4.779125e+11</td>\n      <td>1.008230e+12</td>\n      <td>7.191396e+11</td>\n    </tr>\n    <tr>\n      <th>2332243</th>\n      <td>2332243</td>\n      <td>USA</td>\n      <td>CHN</td>\n      <td>2008</td>\n      <td>4.445431e+10</td>\n      <td>8.006408e+12</td>\n      <td>2.479631e+12</td>\n      <td>304093.97</td>\n      <td>1324655.0</td>\n      <td>11183.428123</td>\n      <td>0.0</td>\n      <td>0.0</td>\n      <td>7.071993e+11</td>\n      <td>6.157260e+11</td>\n      <td>1.178219e+12</td>\n      <td>8.980015e+11</td>\n    </tr>\n    <tr>\n      <th>2332244</th>\n      <td>2332244</td>\n      <td>USA</td>\n      <td>CHN</td>\n      <td>2009</td>\n      <td>4.992364e+10</td>\n      <td>9.255663e+12</td>\n      <td>3.247738e+12</td>\n      <td>306771.53</td>\n      <td>1331260.0</td>\n      <td>11183.428123</td>\n      <td>0.0</td>\n      <td>0.0</td>\n      <td>6.784442e+11</td>\n      <td>6.444161e+11</td>\n      <td>1.029349e+12</td>\n      <td>9.063443e+11</td>\n    </tr>\n    <tr>\n      <th>2332245</th>\n      <td>2332245</td>\n      <td>USA</td>\n      <td>CHN</td>\n      <td>2010</td>\n      <td>6.598572e+10</td>\n      <td>9.684627e+12</td>\n      <td>3.908740e+12</td>\n      <td>309346.88</td>\n      <td>1337705.0</td>\n      <td>11183.428123</td>\n      <td>0.0</td>\n      <td>0.0</td>\n      <td>8.267647e+11</td>\n      <td>9.021093e+11</td>\n      <td>1.273726e+12</td>\n      <td>1.160983e+12</td>\n    </tr>\n    <tr>\n      <th>2332246</th>\n      <td>2332246</td>\n      <td>USA</td>\n      <td>CHN</td>\n      <td>2011</td>\n      <td>7.437514e+10</td>\n      <td>9.685374e+12</td>\n      <td>4.676334e+12</td>\n      <td>311718.84</td>\n      <td>1344130.0</td>\n      <td>11183.428123</td>\n      <td>0.0</td>\n      <td>0.0</td>\n      <td>9.252765e+11</td>\n      <td>1.086898e+12</td>\n      <td>1.378072e+12</td>\n      <td>1.285863e+12</td>\n    </tr>\n    <tr>\n      <th>2332247</th>\n      <td>2332247</td>\n      <td>USA</td>\n      <td>CHN</td>\n      <td>2012</td>\n      <td>8.143390e+10</td>\n      <td>1.022704e+13</td>\n      <td>5.356605e+12</td>\n      <td>314102.62</td>\n      <td>1350695.0</td>\n      <td>11183.428123</td>\n      <td>0.0</td>\n      <td>0.0</td>\n      <td>9.785577e+11</td>\n      <td>1.150462e+12</td>\n      <td>1.440980e+12</td>\n      <td>1.356310e+12</td>\n    </tr>\n    <tr>\n      <th>2332248</th>\n      <td>2332248</td>\n      <td>USA</td>\n      <td>CHN</td>\n      <td>2013</td>\n      <td>9.401673e+10</td>\n      <td>1.065877e+13</td>\n      <td>6.070768e+12</td>\n      <td>316427.40</td>\n      <td>1357380.0</td>\n      <td>11183.428123</td>\n      <td>0.0</td>\n      <td>0.0</td>\n      <td>1.009660e+12</td>\n      <td>1.246891e+12</td>\n      <td>1.450988e+12</td>\n      <td>1.428233e+12</td>\n    </tr>\n    <tr>\n      <th>2332249</th>\n      <td>2332249</td>\n      <td>USA</td>\n      <td>CHN</td>\n      <td>2014</td>\n      <td>9.367307e+10</td>\n      <td>1.054294e+13</td>\n      <td>6.290681e+12</td>\n      <td>318907.40</td>\n      <td>1364270.0</td>\n      <td>11183.428123</td>\n      <td>0.0</td>\n      <td>0.0</td>\n      <td>9.848143e+11</td>\n      <td>1.193041e+12</td>\n      <td>1.426755e+12</td>\n      <td>1.439870e+12</td>\n    </tr>\n  </tbody>\n</table>\n</div>"
     },
     "execution_count": 14,
     "metadata": {},
     "output_type": "execute_result"
    }
   ],
   "source": [
    "df.loc[(df[\"iso_o\"] == \"USA\") & (df[\"iso_d\"] == \"CHN\")]"
   ],
   "metadata": {
    "collapsed": false,
    "pycharm": {
     "name": "#%%\n"
    }
   }
  },
  {
   "cell_type": "code",
   "execution_count": 16,
   "outputs": [
    {
     "data": {
      "text/plain": "Index(['index', 'iso_o', 'iso_d', 'year', 'FLOW', 'GDP_o', 'GDP_d', 'POP_o',\n       'POP_d', 'Distw', 'Comlang', 'Contig', 'XPTOT_o', 'IPTOT_d', 'IPTOT_o',\n       'XPTOT_d'],\n      dtype='object')"
     },
     "execution_count": 16,
     "metadata": {},
     "output_type": "execute_result"
    }
   ],
   "source": [
    "df.columns"
   ],
   "metadata": {
    "collapsed": false,
    "pycharm": {
     "name": "#%%\n"
    }
   }
  },
  {
   "cell_type": "code",
   "execution_count": 18,
   "outputs": [],
   "source": [
    "exo = ['GDP_o', 'GDP_d', 'POP_o','POP_d',\n",
    " 'Distw', 'Comlang', 'Contig', 'XPTOT_o', 'IPTOT_d', 'IPTOT_o', 'XPTOT_d']"
   ],
   "metadata": {
    "collapsed": false,
    "pycharm": {
     "name": "#%%\n"
    }
   }
  },
  {
   "cell_type": "code",
   "execution_count": 19,
   "outputs": [],
   "source": [
    "us_chn_df = df.loc[(df[\"iso_o\"] == \"USA\") & (df[\"iso_d\"] == \"CHN\")]"
   ],
   "metadata": {
    "collapsed": false,
    "pycharm": {
     "name": "#%%\n"
    }
   }
  },
  {
   "cell_type": "code",
   "execution_count": 20,
   "outputs": [],
   "source": [
    "df_train = us_chn_df[us_chn_df.year < 2011]\n",
    "df_valid = us_chn_df[us_chn_df.year >= 2011]"
   ],
   "metadata": {
    "collapsed": false,
    "pycharm": {
     "name": "#%%\n"
    }
   }
  },
  {
   "cell_type": "code",
   "execution_count": 30,
   "outputs": [],
   "source": [
    "from statsmodels.tsa.ar_model import AutoReg"
   ],
   "metadata": {
    "collapsed": false,
    "pycharm": {
     "name": "#%%\n"
    }
   }
  },
  {
   "cell_type": "code",
   "execution_count": 33,
   "outputs": [
    {
     "data": {
      "text/plain": "           index iso_o iso_d  year          FLOW         GDP_o         GDP_d  \\\n2332236  2332236   USA   CHN  2001  1.821455e+10  7.378503e+12  9.254435e+11   \n2332237  2332237   USA   CHN  2002  1.818276e+10  7.324450e+12  9.754176e+11   \n2332238  2332238   USA   CHN  2003  2.078663e+10  7.049963e+12  1.010535e+12   \n2332239  2332239   USA   CHN  2004  2.443822e+10  6.704321e+12  1.060543e+12   \n2332240  2332240   USA   CHN  2005  2.694688e+10  7.201523e+12  1.247725e+12   \n2332241  2332241   USA   CHN  2006  3.224296e+10  7.530495e+12  1.483602e+12   \n2332242  2332242   USA   CHN  2007  3.498284e+10  7.235517e+12  1.760744e+12   \n2332243  2332243   USA   CHN  2008  4.445431e+10  8.006408e+12  2.479631e+12   \n2332244  2332244   USA   CHN  2009  4.992364e+10  9.255663e+12  3.247738e+12   \n2332245  2332245   USA   CHN  2010  6.598572e+10  9.684627e+12  3.908740e+12   \n\n             POP_o      POP_d         Distw  Comlang  Contig       XPTOT_o  \\\n2332236  284968.97  1271850.0  11183.428123      0.0     0.0  5.301281e+11   \n2332237  287625.20  1280400.0  11183.428123      0.0     0.0  4.876326e+11   \n2332238  290107.94  1288400.0  11183.428123      0.0     0.0  4.671654e+11   \n2332239  292805.30  1296075.0  11183.428123      0.0     0.0  4.692705e+11   \n2332240  295516.60  1303720.0  11183.428123      0.0     0.0  5.131972e+11   \n2332241  298379.90  1311020.0  11183.428123      0.0     0.0  5.636124e+11   \n2332242  301231.22  1317885.0  11183.428123      0.0     0.0  5.810549e+11   \n2332243  304093.97  1324655.0  11183.428123      0.0     0.0  7.071993e+11   \n2332244  306771.53  1331260.0  11183.428123      0.0     0.0  6.784442e+11   \n2332245  309346.88  1337705.0  11183.428123      0.0     0.0  8.267647e+11   \n\n              IPTOT_d       IPTOT_o       XPTOT_d  \n2332236  1.691950e+11  8.198111e+11  2.822862e+11  \n2332237  1.971244e+11  8.022755e+11  3.161568e+11  \n2332238  2.528505e+11  7.994658e+11  3.647914e+11  \n2332239  3.063038e+11  8.331812e+11  4.272286e+11  \n2332240  3.631191e+11  9.528826e+11  5.384827e+11  \n2332241  4.303292e+11  1.043082e+12  6.415434e+11  \n2332242  4.779125e+11  1.008230e+12  7.191396e+11  \n2332243  6.157260e+11  1.178219e+12  8.980015e+11  \n2332244  6.444161e+11  1.029349e+12  9.063443e+11  \n2332245  9.021093e+11  1.273726e+12  1.160983e+12  ",
      "text/html": "<div>\n<style scoped>\n    .dataframe tbody tr th:only-of-type {\n        vertical-align: middle;\n    }\n\n    .dataframe tbody tr th {\n        vertical-align: top;\n    }\n\n    .dataframe thead th {\n        text-align: right;\n    }\n</style>\n<table border=\"1\" class=\"dataframe\">\n  <thead>\n    <tr style=\"text-align: right;\">\n      <th></th>\n      <th>index</th>\n      <th>iso_o</th>\n      <th>iso_d</th>\n      <th>year</th>\n      <th>FLOW</th>\n      <th>GDP_o</th>\n      <th>GDP_d</th>\n      <th>POP_o</th>\n      <th>POP_d</th>\n      <th>Distw</th>\n      <th>Comlang</th>\n      <th>Contig</th>\n      <th>XPTOT_o</th>\n      <th>IPTOT_d</th>\n      <th>IPTOT_o</th>\n      <th>XPTOT_d</th>\n    </tr>\n  </thead>\n  <tbody>\n    <tr>\n      <th>2332236</th>\n      <td>2332236</td>\n      <td>USA</td>\n      <td>CHN</td>\n      <td>2001</td>\n      <td>1.821455e+10</td>\n      <td>7.378503e+12</td>\n      <td>9.254435e+11</td>\n      <td>284968.97</td>\n      <td>1271850.0</td>\n      <td>11183.428123</td>\n      <td>0.0</td>\n      <td>0.0</td>\n      <td>5.301281e+11</td>\n      <td>1.691950e+11</td>\n      <td>8.198111e+11</td>\n      <td>2.822862e+11</td>\n    </tr>\n    <tr>\n      <th>2332237</th>\n      <td>2332237</td>\n      <td>USA</td>\n      <td>CHN</td>\n      <td>2002</td>\n      <td>1.818276e+10</td>\n      <td>7.324450e+12</td>\n      <td>9.754176e+11</td>\n      <td>287625.20</td>\n      <td>1280400.0</td>\n      <td>11183.428123</td>\n      <td>0.0</td>\n      <td>0.0</td>\n      <td>4.876326e+11</td>\n      <td>1.971244e+11</td>\n      <td>8.022755e+11</td>\n      <td>3.161568e+11</td>\n    </tr>\n    <tr>\n      <th>2332238</th>\n      <td>2332238</td>\n      <td>USA</td>\n      <td>CHN</td>\n      <td>2003</td>\n      <td>2.078663e+10</td>\n      <td>7.049963e+12</td>\n      <td>1.010535e+12</td>\n      <td>290107.94</td>\n      <td>1288400.0</td>\n      <td>11183.428123</td>\n      <td>0.0</td>\n      <td>0.0</td>\n      <td>4.671654e+11</td>\n      <td>2.528505e+11</td>\n      <td>7.994658e+11</td>\n      <td>3.647914e+11</td>\n    </tr>\n    <tr>\n      <th>2332239</th>\n      <td>2332239</td>\n      <td>USA</td>\n      <td>CHN</td>\n      <td>2004</td>\n      <td>2.443822e+10</td>\n      <td>6.704321e+12</td>\n      <td>1.060543e+12</td>\n      <td>292805.30</td>\n      <td>1296075.0</td>\n      <td>11183.428123</td>\n      <td>0.0</td>\n      <td>0.0</td>\n      <td>4.692705e+11</td>\n      <td>3.063038e+11</td>\n      <td>8.331812e+11</td>\n      <td>4.272286e+11</td>\n    </tr>\n    <tr>\n      <th>2332240</th>\n      <td>2332240</td>\n      <td>USA</td>\n      <td>CHN</td>\n      <td>2005</td>\n      <td>2.694688e+10</td>\n      <td>7.201523e+12</td>\n      <td>1.247725e+12</td>\n      <td>295516.60</td>\n      <td>1303720.0</td>\n      <td>11183.428123</td>\n      <td>0.0</td>\n      <td>0.0</td>\n      <td>5.131972e+11</td>\n      <td>3.631191e+11</td>\n      <td>9.528826e+11</td>\n      <td>5.384827e+11</td>\n    </tr>\n    <tr>\n      <th>2332241</th>\n      <td>2332241</td>\n      <td>USA</td>\n      <td>CHN</td>\n      <td>2006</td>\n      <td>3.224296e+10</td>\n      <td>7.530495e+12</td>\n      <td>1.483602e+12</td>\n      <td>298379.90</td>\n      <td>1311020.0</td>\n      <td>11183.428123</td>\n      <td>0.0</td>\n      <td>0.0</td>\n      <td>5.636124e+11</td>\n      <td>4.303292e+11</td>\n      <td>1.043082e+12</td>\n      <td>6.415434e+11</td>\n    </tr>\n    <tr>\n      <th>2332242</th>\n      <td>2332242</td>\n      <td>USA</td>\n      <td>CHN</td>\n      <td>2007</td>\n      <td>3.498284e+10</td>\n      <td>7.235517e+12</td>\n      <td>1.760744e+12</td>\n      <td>301231.22</td>\n      <td>1317885.0</td>\n      <td>11183.428123</td>\n      <td>0.0</td>\n      <td>0.0</td>\n      <td>5.810549e+11</td>\n      <td>4.779125e+11</td>\n      <td>1.008230e+12</td>\n      <td>7.191396e+11</td>\n    </tr>\n    <tr>\n      <th>2332243</th>\n      <td>2332243</td>\n      <td>USA</td>\n      <td>CHN</td>\n      <td>2008</td>\n      <td>4.445431e+10</td>\n      <td>8.006408e+12</td>\n      <td>2.479631e+12</td>\n      <td>304093.97</td>\n      <td>1324655.0</td>\n      <td>11183.428123</td>\n      <td>0.0</td>\n      <td>0.0</td>\n      <td>7.071993e+11</td>\n      <td>6.157260e+11</td>\n      <td>1.178219e+12</td>\n      <td>8.980015e+11</td>\n    </tr>\n    <tr>\n      <th>2332244</th>\n      <td>2332244</td>\n      <td>USA</td>\n      <td>CHN</td>\n      <td>2009</td>\n      <td>4.992364e+10</td>\n      <td>9.255663e+12</td>\n      <td>3.247738e+12</td>\n      <td>306771.53</td>\n      <td>1331260.0</td>\n      <td>11183.428123</td>\n      <td>0.0</td>\n      <td>0.0</td>\n      <td>6.784442e+11</td>\n      <td>6.444161e+11</td>\n      <td>1.029349e+12</td>\n      <td>9.063443e+11</td>\n    </tr>\n    <tr>\n      <th>2332245</th>\n      <td>2332245</td>\n      <td>USA</td>\n      <td>CHN</td>\n      <td>2010</td>\n      <td>6.598572e+10</td>\n      <td>9.684627e+12</td>\n      <td>3.908740e+12</td>\n      <td>309346.88</td>\n      <td>1337705.0</td>\n      <td>11183.428123</td>\n      <td>0.0</td>\n      <td>0.0</td>\n      <td>8.267647e+11</td>\n      <td>9.021093e+11</td>\n      <td>1.273726e+12</td>\n      <td>1.160983e+12</td>\n    </tr>\n  </tbody>\n</table>\n</div>"
     },
     "execution_count": 33,
     "metadata": {},
     "output_type": "execute_result"
    }
   ],
   "source": [
    "df_train"
   ],
   "metadata": {
    "collapsed": false,
    "pycharm": {
     "name": "#%%\n"
    }
   }
  },
  {
   "cell_type": "code",
   "execution_count": 37,
   "outputs": [],
   "source": [
    "df_train_num = df_train[[\"FLOW\"]]"
   ],
   "metadata": {
    "collapsed": false,
    "pycharm": {
     "name": "#%%\n"
    }
   }
  },
  {
   "cell_type": "code",
   "execution_count": 43,
   "outputs": [],
   "source": [
    "df_valid_num = np.asarray(df_valid[[\"FLOW\"]])"
   ],
   "metadata": {
    "collapsed": false,
    "pycharm": {
     "name": "#%%\n"
    }
   }
  },
  {
   "cell_type": "code",
   "execution_count": 39,
   "outputs": [
    {
     "data": {
      "text/plain": "                 FLOW\n2332236  1.821455e+10\n2332237  1.818276e+10\n2332238  2.078663e+10\n2332239  2.443822e+10\n2332240  2.694688e+10\n2332241  3.224296e+10\n2332242  3.498284e+10\n2332243  4.445431e+10\n2332244  4.992364e+10\n2332245  6.598572e+10",
      "text/html": "<div>\n<style scoped>\n    .dataframe tbody tr th:only-of-type {\n        vertical-align: middle;\n    }\n\n    .dataframe tbody tr th {\n        vertical-align: top;\n    }\n\n    .dataframe thead th {\n        text-align: right;\n    }\n</style>\n<table border=\"1\" class=\"dataframe\">\n  <thead>\n    <tr style=\"text-align: right;\">\n      <th></th>\n      <th>FLOW</th>\n    </tr>\n  </thead>\n  <tbody>\n    <tr>\n      <th>2332236</th>\n      <td>1.821455e+10</td>\n    </tr>\n    <tr>\n      <th>2332237</th>\n      <td>1.818276e+10</td>\n    </tr>\n    <tr>\n      <th>2332238</th>\n      <td>2.078663e+10</td>\n    </tr>\n    <tr>\n      <th>2332239</th>\n      <td>2.443822e+10</td>\n    </tr>\n    <tr>\n      <th>2332240</th>\n      <td>2.694688e+10</td>\n    </tr>\n    <tr>\n      <th>2332241</th>\n      <td>3.224296e+10</td>\n    </tr>\n    <tr>\n      <th>2332242</th>\n      <td>3.498284e+10</td>\n    </tr>\n    <tr>\n      <th>2332243</th>\n      <td>4.445431e+10</td>\n    </tr>\n    <tr>\n      <th>2332244</th>\n      <td>4.992364e+10</td>\n    </tr>\n    <tr>\n      <th>2332245</th>\n      <td>6.598572e+10</td>\n    </tr>\n  </tbody>\n</table>\n</div>"
     },
     "execution_count": 39,
     "metadata": {},
     "output_type": "execute_result"
    }
   ],
   "source": [
    "df_train_num"
   ],
   "metadata": {
    "collapsed": false,
    "pycharm": {
     "name": "#%%\n"
    }
   }
  },
  {
   "cell_type": "code",
   "execution_count": 81,
   "outputs": [],
   "source": [
    "ar_model = AutoReg(np.asarray(df_train_num), lags=3).fit()"
   ],
   "metadata": {
    "collapsed": false,
    "pycharm": {
     "name": "#%%\n"
    }
   }
  },
  {
   "cell_type": "code",
   "execution_count": 82,
   "outputs": [],
   "source": [
    "pred = ar_model.predict(start=len(df_train_num), end=len(us_chn_df)-1)"
   ],
   "metadata": {
    "collapsed": false,
    "pycharm": {
     "name": "#%%\n"
    }
   }
  },
  {
   "cell_type": "code",
   "execution_count": 83,
   "outputs": [
    {
     "data": {
      "text/plain": "array([7.35456953e+10, 9.96518696e+10, 1.11600434e+11, 1.53875997e+11])"
     },
     "execution_count": 83,
     "metadata": {},
     "output_type": "execute_result"
    }
   ],
   "source": [
    "pred"
   ],
   "metadata": {
    "collapsed": false,
    "pycharm": {
     "name": "#%%\n"
    }
   }
  },
  {
   "cell_type": "code",
   "execution_count": 84,
   "outputs": [
    {
     "data": {
      "text/plain": "array([[7.4375135e+10],\n       [8.1433895e+10],\n       [9.4016730e+10],\n       [9.3673070e+10]])"
     },
     "execution_count": 84,
     "metadata": {},
     "output_type": "execute_result"
    }
   ],
   "source": [
    "df_valid_num"
   ],
   "metadata": {
    "collapsed": false,
    "pycharm": {
     "name": "#%%\n"
    }
   }
  },
  {
   "cell_type": "code",
   "execution_count": null,
   "outputs": [],
   "source": [],
   "metadata": {
    "collapsed": false,
    "pycharm": {
     "name": "#%%\n"
    }
   }
  },
  {
   "cell_type": "markdown",
   "source": [
    "# ARIMAX"
   ],
   "metadata": {
    "collapsed": false,
    "pycharm": {
     "name": "#%% md\n"
    }
   }
  },
  {
   "cell_type": "code",
   "execution_count": 85,
   "outputs": [],
   "source": [
    "from statsmodels.tsa.arima.model import ARIMA"
   ],
   "metadata": {
    "collapsed": false,
    "pycharm": {
     "name": "#%%\n"
    }
   }
  },
  {
   "cell_type": "code",
   "execution_count": 88,
   "outputs": [
    {
     "data": {
      "text/plain": "        index iso_o iso_d          FLOW         GDP_o         GDP_d  \\\nyear                                                                  \n2001  2332236   USA   CHN  1.821455e+10  7.378503e+12  9.254435e+11   \n2002  2332237   USA   CHN  1.818276e+10  7.324450e+12  9.754176e+11   \n2003  2332238   USA   CHN  2.078663e+10  7.049963e+12  1.010535e+12   \n2004  2332239   USA   CHN  2.443822e+10  6.704321e+12  1.060543e+12   \n2005  2332240   USA   CHN  2.694688e+10  7.201523e+12  1.247725e+12   \n2006  2332241   USA   CHN  3.224296e+10  7.530495e+12  1.483602e+12   \n2007  2332242   USA   CHN  3.498284e+10  7.235517e+12  1.760744e+12   \n2008  2332243   USA   CHN  4.445431e+10  8.006408e+12  2.479631e+12   \n2009  2332244   USA   CHN  4.992364e+10  9.255663e+12  3.247738e+12   \n2010  2332245   USA   CHN  6.598572e+10  9.684627e+12  3.908740e+12   \n\n          POP_o      POP_d         Distw  Comlang  Contig       XPTOT_o  \\\nyear                                                                      \n2001  284968.97  1271850.0  11183.428123      0.0     0.0  5.301281e+11   \n2002  287625.20  1280400.0  11183.428123      0.0     0.0  4.876326e+11   \n2003  290107.94  1288400.0  11183.428123      0.0     0.0  4.671654e+11   \n2004  292805.30  1296075.0  11183.428123      0.0     0.0  4.692705e+11   \n2005  295516.60  1303720.0  11183.428123      0.0     0.0  5.131972e+11   \n2006  298379.90  1311020.0  11183.428123      0.0     0.0  5.636124e+11   \n2007  301231.22  1317885.0  11183.428123      0.0     0.0  5.810549e+11   \n2008  304093.97  1324655.0  11183.428123      0.0     0.0  7.071993e+11   \n2009  306771.53  1331260.0  11183.428123      0.0     0.0  6.784442e+11   \n2010  309346.88  1337705.0  11183.428123      0.0     0.0  8.267647e+11   \n\n           IPTOT_d       IPTOT_o       XPTOT_d  \nyear                                            \n2001  1.691950e+11  8.198111e+11  2.822862e+11  \n2002  1.971244e+11  8.022755e+11  3.161568e+11  \n2003  2.528505e+11  7.994658e+11  3.647914e+11  \n2004  3.063038e+11  8.331812e+11  4.272286e+11  \n2005  3.631191e+11  9.528826e+11  5.384827e+11  \n2006  4.303292e+11  1.043082e+12  6.415434e+11  \n2007  4.779125e+11  1.008230e+12  7.191396e+11  \n2008  6.157260e+11  1.178219e+12  8.980015e+11  \n2009  6.444161e+11  1.029349e+12  9.063443e+11  \n2010  9.021093e+11  1.273726e+12  1.160983e+12  ",
      "text/html": "<div>\n<style scoped>\n    .dataframe tbody tr th:only-of-type {\n        vertical-align: middle;\n    }\n\n    .dataframe tbody tr th {\n        vertical-align: top;\n    }\n\n    .dataframe thead th {\n        text-align: right;\n    }\n</style>\n<table border=\"1\" class=\"dataframe\">\n  <thead>\n    <tr style=\"text-align: right;\">\n      <th></th>\n      <th>index</th>\n      <th>iso_o</th>\n      <th>iso_d</th>\n      <th>FLOW</th>\n      <th>GDP_o</th>\n      <th>GDP_d</th>\n      <th>POP_o</th>\n      <th>POP_d</th>\n      <th>Distw</th>\n      <th>Comlang</th>\n      <th>Contig</th>\n      <th>XPTOT_o</th>\n      <th>IPTOT_d</th>\n      <th>IPTOT_o</th>\n      <th>XPTOT_d</th>\n    </tr>\n    <tr>\n      <th>year</th>\n      <th></th>\n      <th></th>\n      <th></th>\n      <th></th>\n      <th></th>\n      <th></th>\n      <th></th>\n      <th></th>\n      <th></th>\n      <th></th>\n      <th></th>\n      <th></th>\n      <th></th>\n      <th></th>\n      <th></th>\n    </tr>\n  </thead>\n  <tbody>\n    <tr>\n      <th>2001</th>\n      <td>2332236</td>\n      <td>USA</td>\n      <td>CHN</td>\n      <td>1.821455e+10</td>\n      <td>7.378503e+12</td>\n      <td>9.254435e+11</td>\n      <td>284968.97</td>\n      <td>1271850.0</td>\n      <td>11183.428123</td>\n      <td>0.0</td>\n      <td>0.0</td>\n      <td>5.301281e+11</td>\n      <td>1.691950e+11</td>\n      <td>8.198111e+11</td>\n      <td>2.822862e+11</td>\n    </tr>\n    <tr>\n      <th>2002</th>\n      <td>2332237</td>\n      <td>USA</td>\n      <td>CHN</td>\n      <td>1.818276e+10</td>\n      <td>7.324450e+12</td>\n      <td>9.754176e+11</td>\n      <td>287625.20</td>\n      <td>1280400.0</td>\n      <td>11183.428123</td>\n      <td>0.0</td>\n      <td>0.0</td>\n      <td>4.876326e+11</td>\n      <td>1.971244e+11</td>\n      <td>8.022755e+11</td>\n      <td>3.161568e+11</td>\n    </tr>\n    <tr>\n      <th>2003</th>\n      <td>2332238</td>\n      <td>USA</td>\n      <td>CHN</td>\n      <td>2.078663e+10</td>\n      <td>7.049963e+12</td>\n      <td>1.010535e+12</td>\n      <td>290107.94</td>\n      <td>1288400.0</td>\n      <td>11183.428123</td>\n      <td>0.0</td>\n      <td>0.0</td>\n      <td>4.671654e+11</td>\n      <td>2.528505e+11</td>\n      <td>7.994658e+11</td>\n      <td>3.647914e+11</td>\n    </tr>\n    <tr>\n      <th>2004</th>\n      <td>2332239</td>\n      <td>USA</td>\n      <td>CHN</td>\n      <td>2.443822e+10</td>\n      <td>6.704321e+12</td>\n      <td>1.060543e+12</td>\n      <td>292805.30</td>\n      <td>1296075.0</td>\n      <td>11183.428123</td>\n      <td>0.0</td>\n      <td>0.0</td>\n      <td>4.692705e+11</td>\n      <td>3.063038e+11</td>\n      <td>8.331812e+11</td>\n      <td>4.272286e+11</td>\n    </tr>\n    <tr>\n      <th>2005</th>\n      <td>2332240</td>\n      <td>USA</td>\n      <td>CHN</td>\n      <td>2.694688e+10</td>\n      <td>7.201523e+12</td>\n      <td>1.247725e+12</td>\n      <td>295516.60</td>\n      <td>1303720.0</td>\n      <td>11183.428123</td>\n      <td>0.0</td>\n      <td>0.0</td>\n      <td>5.131972e+11</td>\n      <td>3.631191e+11</td>\n      <td>9.528826e+11</td>\n      <td>5.384827e+11</td>\n    </tr>\n    <tr>\n      <th>2006</th>\n      <td>2332241</td>\n      <td>USA</td>\n      <td>CHN</td>\n      <td>3.224296e+10</td>\n      <td>7.530495e+12</td>\n      <td>1.483602e+12</td>\n      <td>298379.90</td>\n      <td>1311020.0</td>\n      <td>11183.428123</td>\n      <td>0.0</td>\n      <td>0.0</td>\n      <td>5.636124e+11</td>\n      <td>4.303292e+11</td>\n      <td>1.043082e+12</td>\n      <td>6.415434e+11</td>\n    </tr>\n    <tr>\n      <th>2007</th>\n      <td>2332242</td>\n      <td>USA</td>\n      <td>CHN</td>\n      <td>3.498284e+10</td>\n      <td>7.235517e+12</td>\n      <td>1.760744e+12</td>\n      <td>301231.22</td>\n      <td>1317885.0</td>\n      <td>11183.428123</td>\n      <td>0.0</td>\n      <td>0.0</td>\n      <td>5.810549e+11</td>\n      <td>4.779125e+11</td>\n      <td>1.008230e+12</td>\n      <td>7.191396e+11</td>\n    </tr>\n    <tr>\n      <th>2008</th>\n      <td>2332243</td>\n      <td>USA</td>\n      <td>CHN</td>\n      <td>4.445431e+10</td>\n      <td>8.006408e+12</td>\n      <td>2.479631e+12</td>\n      <td>304093.97</td>\n      <td>1324655.0</td>\n      <td>11183.428123</td>\n      <td>0.0</td>\n      <td>0.0</td>\n      <td>7.071993e+11</td>\n      <td>6.157260e+11</td>\n      <td>1.178219e+12</td>\n      <td>8.980015e+11</td>\n    </tr>\n    <tr>\n      <th>2009</th>\n      <td>2332244</td>\n      <td>USA</td>\n      <td>CHN</td>\n      <td>4.992364e+10</td>\n      <td>9.255663e+12</td>\n      <td>3.247738e+12</td>\n      <td>306771.53</td>\n      <td>1331260.0</td>\n      <td>11183.428123</td>\n      <td>0.0</td>\n      <td>0.0</td>\n      <td>6.784442e+11</td>\n      <td>6.444161e+11</td>\n      <td>1.029349e+12</td>\n      <td>9.063443e+11</td>\n    </tr>\n    <tr>\n      <th>2010</th>\n      <td>2332245</td>\n      <td>USA</td>\n      <td>CHN</td>\n      <td>6.598572e+10</td>\n      <td>9.684627e+12</td>\n      <td>3.908740e+12</td>\n      <td>309346.88</td>\n      <td>1337705.0</td>\n      <td>11183.428123</td>\n      <td>0.0</td>\n      <td>0.0</td>\n      <td>8.267647e+11</td>\n      <td>9.021093e+11</td>\n      <td>1.273726e+12</td>\n      <td>1.160983e+12</td>\n    </tr>\n  </tbody>\n</table>\n</div>"
     },
     "execution_count": 88,
     "metadata": {},
     "output_type": "execute_result"
    }
   ],
   "source": [
    "df_train.set_index(\"year\")"
   ],
   "metadata": {
    "collapsed": false,
    "pycharm": {
     "name": "#%%\n"
    }
   }
  },
  {
   "cell_type": "code",
   "execution_count": 95,
   "outputs": [
    {
     "name": "stderr",
     "output_type": "stream",
     "text": [
      "/Users/prateekrao/miniforge3/envs/mlb/lib/python3.8/site-packages/statsmodels/tsa/base/tsa_model.py:471: ValueWarning: An unsupported index was provided and will be ignored when e.g. forecasting.\n",
      "  self._init_dates(dates, freq)\n",
      "/Users/prateekrao/miniforge3/envs/mlb/lib/python3.8/site-packages/statsmodels/tsa/statespace/sarimax.py:978: UserWarning: Non-invertible starting MA parameters found. Using zeros as starting parameters.\n",
      "  warn('Non-invertible starting MA parameters found.'\n"
     ]
    }
   ],
   "source": [
    "arima_model = ARIMA(df_train.FLOW, order=(2,1,1), exog=df_train[exo]).fit()"
   ],
   "metadata": {
    "collapsed": false,
    "pycharm": {
     "name": "#%%\n"
    }
   }
  },
  {
   "cell_type": "code",
   "execution_count": 101,
   "outputs": [
    {
     "name": "stderr",
     "output_type": "stream",
     "text": [
      "/Users/prateekrao/miniforge3/envs/mlb/lib/python3.8/site-packages/statsmodels/tsa/base/tsa_model.py:834: ValueWarning: No supported index is available. Prediction results will be given with an integer index beginning at `start`.\n",
      "  return get_prediction_index(\n"
     ]
    },
    {
     "ename": "ValueError",
     "evalue": "Provided exogenous values are not of the appropriate shape. Required (2005, 11), got (4, 11).",
     "output_type": "error",
     "traceback": [
      "\u001B[0;31m---------------------------------------------------------------------------\u001B[0m",
      "\u001B[0;31mValueError\u001B[0m                                Traceback (most recent call last)",
      "File \u001B[0;32m~/miniforge3/envs/mlb/lib/python3.8/site-packages/statsmodels/tsa/statespace/mlemodel.py:1775\u001B[0m, in \u001B[0;36mMLEModel._validate_out_of_sample_exog\u001B[0;34m(self, exog, out_of_sample)\u001B[0m\n\u001B[1;32m   1774\u001B[0m \u001B[38;5;28;01mtry\u001B[39;00m:\n\u001B[0;32m-> 1775\u001B[0m     exog \u001B[38;5;241m=\u001B[39m \u001B[43mexog\u001B[49m\u001B[38;5;241;43m.\u001B[39;49m\u001B[43mreshape\u001B[49m\u001B[43m(\u001B[49m\u001B[43mrequired_exog_shape\u001B[49m\u001B[43m)\u001B[49m\n\u001B[1;32m   1776\u001B[0m \u001B[38;5;28;01mexcept\u001B[39;00m \u001B[38;5;167;01mValueError\u001B[39;00m:\n",
      "\u001B[0;31mValueError\u001B[0m: cannot reshape array of size 44 into shape (2005,11)",
      "\nDuring handling of the above exception, another exception occurred:\n",
      "\u001B[0;31mValueError\u001B[0m                                Traceback (most recent call last)",
      "Input \u001B[0;32mIn [101]\u001B[0m, in \u001B[0;36m<cell line: 1>\u001B[0;34m()\u001B[0m\n\u001B[0;32m----> 1\u001B[0m \u001B[43marima_model\u001B[49m\u001B[38;5;241;43m.\u001B[39;49m\u001B[43mpredict\u001B[49m\u001B[43m(\u001B[49m\u001B[38;5;241;43m2011\u001B[39;49m\u001B[43m,\u001B[49m\u001B[43m \u001B[49m\u001B[38;5;241;43m2014\u001B[39;49m\u001B[43m,\u001B[49m\u001B[43m \u001B[49m\u001B[43mexog\u001B[49m\u001B[38;5;241;43m=\u001B[39;49m\u001B[43mdf_valid\u001B[49m\u001B[43m[\u001B[49m\u001B[43mexo\u001B[49m\u001B[43m]\u001B[49m\u001B[43m)\u001B[49m\n",
      "File \u001B[0;32m~/miniforge3/envs/mlb/lib/python3.8/site-packages/statsmodels/base/wrapper.py:113\u001B[0m, in \u001B[0;36mmake_wrapper.<locals>.wrapper\u001B[0;34m(self, *args, **kwargs)\u001B[0m\n\u001B[1;32m    111\u001B[0m     obj \u001B[38;5;241m=\u001B[39m data\u001B[38;5;241m.\u001B[39mwrap_output(func(results, \u001B[38;5;241m*\u001B[39margs, \u001B[38;5;241m*\u001B[39m\u001B[38;5;241m*\u001B[39mkwargs), how[\u001B[38;5;241m0\u001B[39m], how[\u001B[38;5;241m1\u001B[39m:])\n\u001B[1;32m    112\u001B[0m \u001B[38;5;28;01melif\u001B[39;00m how:\n\u001B[0;32m--> 113\u001B[0m     obj \u001B[38;5;241m=\u001B[39m data\u001B[38;5;241m.\u001B[39mwrap_output(\u001B[43mfunc\u001B[49m\u001B[43m(\u001B[49m\u001B[43mresults\u001B[49m\u001B[43m,\u001B[49m\u001B[43m \u001B[49m\u001B[38;5;241;43m*\u001B[39;49m\u001B[43margs\u001B[49m\u001B[43m,\u001B[49m\u001B[43m \u001B[49m\u001B[38;5;241;43m*\u001B[39;49m\u001B[38;5;241;43m*\u001B[39;49m\u001B[43mkwargs\u001B[49m\u001B[43m)\u001B[49m, how)\n\u001B[1;32m    114\u001B[0m \u001B[38;5;28;01mreturn\u001B[39;00m obj\n",
      "File \u001B[0;32m~/miniforge3/envs/mlb/lib/python3.8/site-packages/statsmodels/tsa/statespace/mlemodel.py:3403\u001B[0m, in \u001B[0;36mMLEResults.predict\u001B[0;34m(self, start, end, dynamic, **kwargs)\u001B[0m\n\u001B[1;32m   3357\u001B[0m \u001B[38;5;124;03m\"\"\"\u001B[39;00m\n\u001B[1;32m   3358\u001B[0m \u001B[38;5;124;03mIn-sample prediction and out-of-sample forecasting\u001B[39;00m\n\u001B[1;32m   3359\u001B[0m \n\u001B[0;32m   (...)\u001B[0m\n\u001B[1;32m   3400\u001B[0m \u001B[38;5;124;03m    including confidence intervals.\u001B[39;00m\n\u001B[1;32m   3401\u001B[0m \u001B[38;5;124;03m\"\"\"\u001B[39;00m\n\u001B[1;32m   3402\u001B[0m \u001B[38;5;66;03m# Perform the prediction\u001B[39;00m\n\u001B[0;32m-> 3403\u001B[0m prediction_results \u001B[38;5;241m=\u001B[39m \u001B[38;5;28;43mself\u001B[39;49m\u001B[38;5;241;43m.\u001B[39;49m\u001B[43mget_prediction\u001B[49m\u001B[43m(\u001B[49m\u001B[43mstart\u001B[49m\u001B[43m,\u001B[49m\u001B[43m \u001B[49m\u001B[43mend\u001B[49m\u001B[43m,\u001B[49m\u001B[43m \u001B[49m\u001B[43mdynamic\u001B[49m\u001B[43m,\u001B[49m\u001B[43m \u001B[49m\u001B[38;5;241;43m*\u001B[39;49m\u001B[38;5;241;43m*\u001B[39;49m\u001B[43mkwargs\u001B[49m\u001B[43m)\u001B[49m\n\u001B[1;32m   3404\u001B[0m \u001B[38;5;28;01mreturn\u001B[39;00m prediction_results\u001B[38;5;241m.\u001B[39mpredicted_mean\n",
      "File \u001B[0;32m~/miniforge3/envs/mlb/lib/python3.8/site-packages/statsmodels/tsa/statespace/mlemodel.py:3302\u001B[0m, in \u001B[0;36mMLEResults.get_prediction\u001B[0;34m(self, start, end, dynamic, index, exog, extend_model, extend_kwargs, **kwargs)\u001B[0m\n\u001B[1;32m   3299\u001B[0m     extend_model \u001B[38;5;241m=\u001B[39m (\u001B[38;5;28mself\u001B[39m\u001B[38;5;241m.\u001B[39mmodel\u001B[38;5;241m.\u001B[39mexog \u001B[38;5;129;01mis\u001B[39;00m \u001B[38;5;129;01mnot\u001B[39;00m \u001B[38;5;28;01mNone\u001B[39;00m \u001B[38;5;129;01mor\u001B[39;00m\n\u001B[1;32m   3300\u001B[0m                     \u001B[38;5;129;01mnot\u001B[39;00m \u001B[38;5;28mself\u001B[39m\u001B[38;5;241m.\u001B[39mfilter_results\u001B[38;5;241m.\u001B[39mtime_invariant)\n\u001B[1;32m   3301\u001B[0m \u001B[38;5;28;01mif\u001B[39;00m out_of_sample \u001B[38;5;129;01mand\u001B[39;00m extend_model:\n\u001B[0;32m-> 3302\u001B[0m     kwargs \u001B[38;5;241m=\u001B[39m \u001B[38;5;28;43mself\u001B[39;49m\u001B[38;5;241;43m.\u001B[39;49m\u001B[43mmodel\u001B[49m\u001B[38;5;241;43m.\u001B[39;49m\u001B[43m_get_extension_time_varying_matrices\u001B[49m\u001B[43m(\u001B[49m\n\u001B[1;32m   3303\u001B[0m \u001B[43m        \u001B[49m\u001B[38;5;28;43mself\u001B[39;49m\u001B[38;5;241;43m.\u001B[39;49m\u001B[43mparams\u001B[49m\u001B[43m,\u001B[49m\u001B[43m \u001B[49m\u001B[43mexog\u001B[49m\u001B[43m,\u001B[49m\u001B[43m \u001B[49m\u001B[43mout_of_sample\u001B[49m\u001B[43m,\u001B[49m\u001B[43m \u001B[49m\u001B[43mextend_kwargs\u001B[49m\u001B[43m,\u001B[49m\n\u001B[1;32m   3304\u001B[0m \u001B[43m        \u001B[49m\u001B[43mtransformed\u001B[49m\u001B[38;5;241;43m=\u001B[39;49m\u001B[38;5;28;43;01mTrue\u001B[39;49;00m\u001B[43m,\u001B[49m\u001B[43m \u001B[49m\u001B[43mincludes_fixed\u001B[49m\u001B[38;5;241;43m=\u001B[39;49m\u001B[38;5;28;43;01mTrue\u001B[39;49;00m\u001B[43m,\u001B[49m\u001B[43m \u001B[49m\u001B[38;5;241;43m*\u001B[39;49m\u001B[38;5;241;43m*\u001B[39;49m\u001B[43mkwargs\u001B[49m\u001B[43m)\u001B[49m\n\u001B[1;32m   3306\u001B[0m \u001B[38;5;66;03m# Make sure the model class has the current parameters\u001B[39;00m\n\u001B[1;32m   3307\u001B[0m \u001B[38;5;28mself\u001B[39m\u001B[38;5;241m.\u001B[39mmodel\u001B[38;5;241m.\u001B[39mupdate(\u001B[38;5;28mself\u001B[39m\u001B[38;5;241m.\u001B[39mparams, transformed\u001B[38;5;241m=\u001B[39m\u001B[38;5;28;01mTrue\u001B[39;00m, includes_fixed\u001B[38;5;241m=\u001B[39m\u001B[38;5;28;01mTrue\u001B[39;00m)\n",
      "File \u001B[0;32m~/miniforge3/envs/mlb/lib/python3.8/site-packages/statsmodels/tsa/statespace/sarimax.py:1718\u001B[0m, in \u001B[0;36mSARIMAX._get_extension_time_varying_matrices\u001B[0;34m(self, params, exog, out_of_sample, extend_kwargs, transformed, includes_fixed, **kwargs)\u001B[0m\n\u001B[1;32m   1708\u001B[0m \u001B[38;5;124;03m\"\"\"\u001B[39;00m\n\u001B[1;32m   1709\u001B[0m \u001B[38;5;124;03mGet time-varying state space system matrices for extended model\u001B[39;00m\n\u001B[1;32m   1710\u001B[0m \n\u001B[0;32m   (...)\u001B[0m\n\u001B[1;32m   1714\u001B[0m \u001B[38;5;124;03mspecial handling in the `simple_differencing=True` case.\u001B[39;00m\n\u001B[1;32m   1715\u001B[0m \u001B[38;5;124;03m\"\"\"\u001B[39;00m\n\u001B[1;32m   1717\u001B[0m \u001B[38;5;66;03m# Get the appropriate exog for the extended sample\u001B[39;00m\n\u001B[0;32m-> 1718\u001B[0m exog \u001B[38;5;241m=\u001B[39m \u001B[38;5;28;43mself\u001B[39;49m\u001B[38;5;241;43m.\u001B[39;49m\u001B[43m_validate_out_of_sample_exog\u001B[49m\u001B[43m(\u001B[49m\u001B[43mexog\u001B[49m\u001B[43m,\u001B[49m\u001B[43m \u001B[49m\u001B[43mout_of_sample\u001B[49m\u001B[43m)\u001B[49m\n\u001B[1;32m   1720\u001B[0m \u001B[38;5;66;03m# Get the tmp endog, exog\u001B[39;00m\n\u001B[1;32m   1721\u001B[0m \u001B[38;5;28;01mif\u001B[39;00m \u001B[38;5;28mself\u001B[39m\u001B[38;5;241m.\u001B[39msimple_differencing:\n",
      "File \u001B[0;32m~/miniforge3/envs/mlb/lib/python3.8/site-packages/statsmodels/tsa/statespace/mlemodel.py:1777\u001B[0m, in \u001B[0;36mMLEModel._validate_out_of_sample_exog\u001B[0;34m(self, exog, out_of_sample)\u001B[0m\n\u001B[1;32m   1775\u001B[0m         exog \u001B[38;5;241m=\u001B[39m exog\u001B[38;5;241m.\u001B[39mreshape(required_exog_shape)\n\u001B[1;32m   1776\u001B[0m     \u001B[38;5;28;01mexcept\u001B[39;00m \u001B[38;5;167;01mValueError\u001B[39;00m:\n\u001B[0;32m-> 1777\u001B[0m         \u001B[38;5;28;01mraise\u001B[39;00m \u001B[38;5;167;01mValueError\u001B[39;00m(\u001B[38;5;124m'\u001B[39m\u001B[38;5;124mProvided exogenous values are not of the\u001B[39m\u001B[38;5;124m'\u001B[39m\n\u001B[1;32m   1778\u001B[0m                          \u001B[38;5;124m'\u001B[39m\u001B[38;5;124m appropriate shape. Required \u001B[39m\u001B[38;5;132;01m%s\u001B[39;00m\u001B[38;5;124m, got \u001B[39m\u001B[38;5;132;01m%s\u001B[39;00m\u001B[38;5;124m.\u001B[39m\u001B[38;5;124m'\u001B[39m\n\u001B[1;32m   1779\u001B[0m                          \u001B[38;5;241m%\u001B[39m (\u001B[38;5;28mstr\u001B[39m(required_exog_shape),\n\u001B[1;32m   1780\u001B[0m                             \u001B[38;5;28mstr\u001B[39m(exog\u001B[38;5;241m.\u001B[39mshape)))\n\u001B[1;32m   1781\u001B[0m \u001B[38;5;28;01melif\u001B[39;00m \u001B[38;5;28mself\u001B[39m\u001B[38;5;241m.\u001B[39mk_exog \u001B[38;5;241m>\u001B[39m \u001B[38;5;241m0\u001B[39m \u001B[38;5;129;01mand\u001B[39;00m exog \u001B[38;5;129;01mis\u001B[39;00m \u001B[38;5;129;01mnot\u001B[39;00m \u001B[38;5;28;01mNone\u001B[39;00m:\n\u001B[1;32m   1782\u001B[0m     exog \u001B[38;5;241m=\u001B[39m \u001B[38;5;28;01mNone\u001B[39;00m\n",
      "\u001B[0;31mValueError\u001B[0m: Provided exogenous values are not of the appropriate shape. Required (2005, 11), got (4, 11)."
     ]
    }
   ],
   "source": [
    "arima_model.predict(2011, 2014, exog=df_valid[exo])"
   ],
   "metadata": {
    "collapsed": false,
    "pycharm": {
     "name": "#%%\n"
    }
   }
  },
  {
   "cell_type": "code",
   "execution_count": null,
   "outputs": [],
   "source": [],
   "metadata": {
    "collapsed": false,
    "pycharm": {
     "name": "#%%\n"
    }
   }
  }
 ],
 "metadata": {
  "kernelspec": {
   "display_name": "Python 3",
   "language": "python",
   "name": "python3"
  },
  "language_info": {
   "codemirror_mode": {
    "name": "ipython",
    "version": 2
   },
   "file_extension": ".py",
   "mimetype": "text/x-python",
   "name": "python",
   "nbconvert_exporter": "python",
   "pygments_lexer": "ipython2",
   "version": "2.7.6"
  }
 },
 "nbformat": 4,
 "nbformat_minor": 0
}