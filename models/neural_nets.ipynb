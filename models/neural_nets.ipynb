{
 "cells": [
  {
   "cell_type": "code",
   "execution_count": 1,
   "outputs": [],
   "source": [
    "import tensorflow as tf\n",
    "from tensorflow import keras\n",
    "import numpy as np\n",
    "import pandas as pd\n",
    "import matplotlib.pyplot as plt"
   ],
   "metadata": {
    "collapsed": false,
    "pycharm": {
     "name": "#%%\n"
    }
   }
  },
  {
   "cell_type": "code",
   "execution_count": 23,
   "outputs": [
    {
     "name": "stderr",
     "output_type": "stream",
     "text": [
      "/var/folders/qc/xp9q1kcj79315fgc2jdgwtv00000gn/T/ipykernel_84122/562444793.py:2: DtypeWarning: Columns (8,12,14,21,24,28,33,45,46,51) have mixed types. Specify dtype option on import or set low_memory=False.\n",
      "  df = pd.read_csv(PATH)\n"
     ]
    }
   ],
   "source": [
    "PATH = \"../datasets/tradhist.csv\"\n",
    "df = pd.read_csv(PATH)"
   ],
   "metadata": {
    "collapsed": false,
    "pycharm": {
     "name": "#%%\n"
    }
   }
  },
  {
   "cell_type": "code",
   "execution_count": 34,
   "outputs": [
    {
     "data": {
      "text/plain": "         Unnamed: 0 iso_o iso_d  year        FLOW  FLOW_0 SOURCE_TF  \\\n0                 0   NaN  ADEN  1950         NaN     NaN       NaN   \n1                 1   NaN  ADEN  1951         NaN     NaN       NaN   \n2                 2   NaN  ADEN  1952         NaN     NaN       NaN   \n3                 3   NaN  ADEN  1953         NaN     NaN       NaN   \n4                 4   NaN  ADEN  1954         NaN     NaN       NaN   \n...             ...   ...   ...   ...         ...     ...       ...   \n2502422     2502422   ZWE   ZMB  2010  46558256.0     NaN   DOTS_IP   \n2502423     2502423   ZWE   ZMB  2011  55171376.0     NaN   DOTS_IP   \n2502424     2502424   ZWE   ZMB  2012  58787336.0     NaN   DOTS_IP   \n2502425     2502425   ZWE   ZMB  2013  77869780.0     NaN   DOTS_IP   \n2502426     2502426   ZWE   ZMB  2014  62405360.0     NaN   DOTS_IP   \n\n                GDP_o SOURCE_GDP_o         GDP_d  ... CONTI_o  CONTI_d  \\\n0                 NaN          NaN           NaN  ...     NaN     ASIA   \n1                 NaN          NaN           NaN  ...     NaN     ASIA   \n2                 NaN          NaN           NaN  ...     NaN     ASIA   \n3                 NaN          NaN           NaN  ...     NaN     ASIA   \n4                 NaN          NaN           NaN  ...     NaN     ASIA   \n...               ...          ...           ...  ...     ...      ...   \n2502422  6.097825e+09          WDI  1.311544e+10  ...    AFRI     AFRI   \n2502423  6.838230e+09          WDI  1.464204e+10  ...    AFRI     AFRI   \n2502424  7.845171e+09          WDI  1.614464e+10  ...    AFRI     AFRI   \n2502425  8.629172e+09          WDI  1.793963e+10  ...    AFRI     AFRI   \n2502426  8.627889e+09          WDI  1.649053e+10  ...    AFRI     AFRI   \n\n        REGIO_o  REGIO_d OECD_o  OECD_d EU_o  EU_d GATT_o  GATT_d  \n0           NaN   MIDEST    NaN     NaN  NaN   NaN    NaN     NaN  \n1           NaN   MIDEST    NaN     NaN  NaN   NaN    NaN     NaN  \n2           NaN   MIDEST    NaN     NaN  NaN   NaN    NaN     NaN  \n3           NaN   MIDEST    NaN     NaN  NaN   NaN    NaN     NaN  \n4           NaN   MIDEST    NaN     NaN  NaN   NaN    NaN     NaN  \n...         ...      ...    ...     ...  ...   ...    ...     ...  \n2502422  STHAFR   STHAFR    0.0     0.0  0.0   0.0    1.0     1.0  \n2502423  STHAFR   STHAFR    0.0     0.0  0.0   0.0    1.0     1.0  \n2502424  STHAFR   STHAFR    0.0     0.0  0.0   0.0    1.0     1.0  \n2502425  STHAFR   STHAFR    0.0     0.0  0.0   0.0    1.0     1.0  \n2502426  STHAFR   STHAFR    0.0     0.0  0.0   0.0    1.0     1.0  \n\n[2502427 rows x 64 columns]",
      "text/html": "<div>\n<style scoped>\n    .dataframe tbody tr th:only-of-type {\n        vertical-align: middle;\n    }\n\n    .dataframe tbody tr th {\n        vertical-align: top;\n    }\n\n    .dataframe thead th {\n        text-align: right;\n    }\n</style>\n<table border=\"1\" class=\"dataframe\">\n  <thead>\n    <tr style=\"text-align: right;\">\n      <th></th>\n      <th>Unnamed: 0</th>\n      <th>iso_o</th>\n      <th>iso_d</th>\n      <th>year</th>\n      <th>FLOW</th>\n      <th>FLOW_0</th>\n      <th>SOURCE_TF</th>\n      <th>GDP_o</th>\n      <th>SOURCE_GDP_o</th>\n      <th>GDP_d</th>\n      <th>...</th>\n      <th>CONTI_o</th>\n      <th>CONTI_d</th>\n      <th>REGIO_o</th>\n      <th>REGIO_d</th>\n      <th>OECD_o</th>\n      <th>OECD_d</th>\n      <th>EU_o</th>\n      <th>EU_d</th>\n      <th>GATT_o</th>\n      <th>GATT_d</th>\n    </tr>\n  </thead>\n  <tbody>\n    <tr>\n      <th>0</th>\n      <td>0</td>\n      <td>NaN</td>\n      <td>ADEN</td>\n      <td>1950</td>\n      <td>NaN</td>\n      <td>NaN</td>\n      <td>NaN</td>\n      <td>NaN</td>\n      <td>NaN</td>\n      <td>NaN</td>\n      <td>...</td>\n      <td>NaN</td>\n      <td>ASIA</td>\n      <td>NaN</td>\n      <td>MIDEST</td>\n      <td>NaN</td>\n      <td>NaN</td>\n      <td>NaN</td>\n      <td>NaN</td>\n      <td>NaN</td>\n      <td>NaN</td>\n    </tr>\n    <tr>\n      <th>1</th>\n      <td>1</td>\n      <td>NaN</td>\n      <td>ADEN</td>\n      <td>1951</td>\n      <td>NaN</td>\n      <td>NaN</td>\n      <td>NaN</td>\n      <td>NaN</td>\n      <td>NaN</td>\n      <td>NaN</td>\n      <td>...</td>\n      <td>NaN</td>\n      <td>ASIA</td>\n      <td>NaN</td>\n      <td>MIDEST</td>\n      <td>NaN</td>\n      <td>NaN</td>\n      <td>NaN</td>\n      <td>NaN</td>\n      <td>NaN</td>\n      <td>NaN</td>\n    </tr>\n    <tr>\n      <th>2</th>\n      <td>2</td>\n      <td>NaN</td>\n      <td>ADEN</td>\n      <td>1952</td>\n      <td>NaN</td>\n      <td>NaN</td>\n      <td>NaN</td>\n      <td>NaN</td>\n      <td>NaN</td>\n      <td>NaN</td>\n      <td>...</td>\n      <td>NaN</td>\n      <td>ASIA</td>\n      <td>NaN</td>\n      <td>MIDEST</td>\n      <td>NaN</td>\n      <td>NaN</td>\n      <td>NaN</td>\n      <td>NaN</td>\n      <td>NaN</td>\n      <td>NaN</td>\n    </tr>\n    <tr>\n      <th>3</th>\n      <td>3</td>\n      <td>NaN</td>\n      <td>ADEN</td>\n      <td>1953</td>\n      <td>NaN</td>\n      <td>NaN</td>\n      <td>NaN</td>\n      <td>NaN</td>\n      <td>NaN</td>\n      <td>NaN</td>\n      <td>...</td>\n      <td>NaN</td>\n      <td>ASIA</td>\n      <td>NaN</td>\n      <td>MIDEST</td>\n      <td>NaN</td>\n      <td>NaN</td>\n      <td>NaN</td>\n      <td>NaN</td>\n      <td>NaN</td>\n      <td>NaN</td>\n    </tr>\n    <tr>\n      <th>4</th>\n      <td>4</td>\n      <td>NaN</td>\n      <td>ADEN</td>\n      <td>1954</td>\n      <td>NaN</td>\n      <td>NaN</td>\n      <td>NaN</td>\n      <td>NaN</td>\n      <td>NaN</td>\n      <td>NaN</td>\n      <td>...</td>\n      <td>NaN</td>\n      <td>ASIA</td>\n      <td>NaN</td>\n      <td>MIDEST</td>\n      <td>NaN</td>\n      <td>NaN</td>\n      <td>NaN</td>\n      <td>NaN</td>\n      <td>NaN</td>\n      <td>NaN</td>\n    </tr>\n    <tr>\n      <th>...</th>\n      <td>...</td>\n      <td>...</td>\n      <td>...</td>\n      <td>...</td>\n      <td>...</td>\n      <td>...</td>\n      <td>...</td>\n      <td>...</td>\n      <td>...</td>\n      <td>...</td>\n      <td>...</td>\n      <td>...</td>\n      <td>...</td>\n      <td>...</td>\n      <td>...</td>\n      <td>...</td>\n      <td>...</td>\n      <td>...</td>\n      <td>...</td>\n      <td>...</td>\n      <td>...</td>\n    </tr>\n    <tr>\n      <th>2502422</th>\n      <td>2502422</td>\n      <td>ZWE</td>\n      <td>ZMB</td>\n      <td>2010</td>\n      <td>46558256.0</td>\n      <td>NaN</td>\n      <td>DOTS_IP</td>\n      <td>6.097825e+09</td>\n      <td>WDI</td>\n      <td>1.311544e+10</td>\n      <td>...</td>\n      <td>AFRI</td>\n      <td>AFRI</td>\n      <td>STHAFR</td>\n      <td>STHAFR</td>\n      <td>0.0</td>\n      <td>0.0</td>\n      <td>0.0</td>\n      <td>0.0</td>\n      <td>1.0</td>\n      <td>1.0</td>\n    </tr>\n    <tr>\n      <th>2502423</th>\n      <td>2502423</td>\n      <td>ZWE</td>\n      <td>ZMB</td>\n      <td>2011</td>\n      <td>55171376.0</td>\n      <td>NaN</td>\n      <td>DOTS_IP</td>\n      <td>6.838230e+09</td>\n      <td>WDI</td>\n      <td>1.464204e+10</td>\n      <td>...</td>\n      <td>AFRI</td>\n      <td>AFRI</td>\n      <td>STHAFR</td>\n      <td>STHAFR</td>\n      <td>0.0</td>\n      <td>0.0</td>\n      <td>0.0</td>\n      <td>0.0</td>\n      <td>1.0</td>\n      <td>1.0</td>\n    </tr>\n    <tr>\n      <th>2502424</th>\n      <td>2502424</td>\n      <td>ZWE</td>\n      <td>ZMB</td>\n      <td>2012</td>\n      <td>58787336.0</td>\n      <td>NaN</td>\n      <td>DOTS_IP</td>\n      <td>7.845171e+09</td>\n      <td>WDI</td>\n      <td>1.614464e+10</td>\n      <td>...</td>\n      <td>AFRI</td>\n      <td>AFRI</td>\n      <td>STHAFR</td>\n      <td>STHAFR</td>\n      <td>0.0</td>\n      <td>0.0</td>\n      <td>0.0</td>\n      <td>0.0</td>\n      <td>1.0</td>\n      <td>1.0</td>\n    </tr>\n    <tr>\n      <th>2502425</th>\n      <td>2502425</td>\n      <td>ZWE</td>\n      <td>ZMB</td>\n      <td>2013</td>\n      <td>77869780.0</td>\n      <td>NaN</td>\n      <td>DOTS_IP</td>\n      <td>8.629172e+09</td>\n      <td>WDI</td>\n      <td>1.793963e+10</td>\n      <td>...</td>\n      <td>AFRI</td>\n      <td>AFRI</td>\n      <td>STHAFR</td>\n      <td>STHAFR</td>\n      <td>0.0</td>\n      <td>0.0</td>\n      <td>0.0</td>\n      <td>0.0</td>\n      <td>1.0</td>\n      <td>1.0</td>\n    </tr>\n    <tr>\n      <th>2502426</th>\n      <td>2502426</td>\n      <td>ZWE</td>\n      <td>ZMB</td>\n      <td>2014</td>\n      <td>62405360.0</td>\n      <td>NaN</td>\n      <td>DOTS_IP</td>\n      <td>8.627889e+09</td>\n      <td>WDI</td>\n      <td>1.649053e+10</td>\n      <td>...</td>\n      <td>AFRI</td>\n      <td>AFRI</td>\n      <td>STHAFR</td>\n      <td>STHAFR</td>\n      <td>0.0</td>\n      <td>0.0</td>\n      <td>0.0</td>\n      <td>0.0</td>\n      <td>1.0</td>\n      <td>1.0</td>\n    </tr>\n  </tbody>\n</table>\n<p>2502427 rows × 64 columns</p>\n</div>"
     },
     "execution_count": 34,
     "metadata": {},
     "output_type": "execute_result"
    }
   ],
   "source": [
    "df"
   ],
   "metadata": {
    "collapsed": false,
    "pycharm": {
     "name": "#%%\n"
    }
   }
  },
  {
   "cell_type": "code",
   "execution_count": 4,
   "outputs": [
    {
     "data": {
      "text/plain": "Unnamed: 0    2502427\niso_o             325\niso_d             325\nyear              188\nFLOW           787987\n               ...   \nOECD_d              2\nEU_o                2\nEU_d                2\nGATT_o              2\nGATT_d              2\nLength: 64, dtype: int64"
     },
     "execution_count": 4,
     "metadata": {},
     "output_type": "execute_result"
    }
   ],
   "source": [
    "df.nunique()"
   ],
   "metadata": {
    "collapsed": false,
    "pycharm": {
     "name": "#%%\n"
    }
   }
  },
  {
   "cell_type": "code",
   "execution_count": 19,
   "outputs": [
    {
     "data": {
      "text/plain": "1501         492920.70\n1502          38164.50\n1503          30052.34\n1504          44906.54\n1505          33957.27\n              ...     \n2502422    46558256.00\n2502423    55171376.00\n2502424    58787336.00\n2502425    77869780.00\n2502426    62405360.00\nName: FLOW, Length: 963682, dtype: float64"
     },
     "execution_count": 19,
     "metadata": {},
     "output_type": "execute_result"
    }
   ],
   "source": [
    "df[df[\"FLOW\"] > 10000][\"FLOW\"]"
   ],
   "metadata": {
    "collapsed": false,
    "pycharm": {
     "name": "#%%\n"
    }
   }
  },
  {
   "cell_type": "code",
   "execution_count": 61,
   "outputs": [],
   "source": [
    "features = [\"GDP_o\", \"GDP_d\", \"POP_o\", \"POP_d\", \"Distw\", \"Comlang\", \"Contig\", \"OECD_o\", \"OECD_d\",\n",
    "            \"GATT_o\", \"GATT_d\", \"XPTOT_o\", \"year\", \"FLOW\"]\n",
    "\n",
    "df = df[features]"
   ],
   "metadata": {
    "collapsed": false,
    "pycharm": {
     "name": "#%%\n"
    }
   }
  },
  {
   "cell_type": "code",
   "execution_count": 71,
   "outputs": [],
   "source": [
    "cleaned_df = df.loc[(df[\"year\"] > 2008) & (df[\"FLOW\"] > 5000)].dropna()"
   ],
   "metadata": {
    "collapsed": false,
    "pycharm": {
     "name": "#%%\n"
    }
   }
  },
  {
   "cell_type": "code",
   "execution_count": 72,
   "outputs": [
    {
     "data": {
      "text/plain": "(119340, 14)"
     },
     "execution_count": 72,
     "metadata": {},
     "output_type": "execute_result"
    }
   ],
   "source": [
    "cleaned_df.shape"
   ],
   "metadata": {
    "collapsed": false,
    "pycharm": {
     "name": "#%%\n"
    }
   }
  },
  {
   "cell_type": "code",
   "execution_count": 80,
   "outputs": [
    {
     "data": {
      "text/plain": "(array([10420., 14946., 17672., 20725., 21039., 17016., 10970.,  5127.,\n         1295.,   130.]),\n array([ 8.51727519, 10.30265203, 12.08802887, 13.87340571, 15.65878255,\n        17.44415939, 19.22953623, 21.01491307, 22.80028991, 24.58566675,\n        26.37104358]),\n <BarContainer object of 10 artists>)"
     },
     "execution_count": 80,
     "metadata": {},
     "output_type": "execute_result"
    },
    {
     "data": {
      "text/plain": "<Figure size 432x288 with 1 Axes>",
      "image/png": "[encoded data removed]"
     },
     "metadata": {
      "needs_background": "light"
     },
     "output_type": "display_data"
    }
   ],
   "source": [
    "plt.hist(np.log(cleaned_df[\"FLOW\"]))"
   ],
   "metadata": {
    "collapsed": false,
    "pycharm": {
     "name": "#%%\n"
    }
   }
  },
  {
   "cell_type": "code",
   "execution_count": 74,
   "outputs": [
    {
     "data": {
      "text/plain": "(array([  113.,   578.,  5979.,  8962., 22585., 25555., 23483., 17924.,\n        11164.,  2997.]),\n array([16.67179086, 18.00435223, 19.33691359, 20.66947496, 22.00203632,\n        23.33459769, 24.66715906, 25.99972042, 27.33228179, 28.66484315,\n        29.99740452]),\n <BarContainer object of 10 artists>)"
     },
     "execution_count": 74,
     "metadata": {},
     "output_type": "execute_result"
    },
    {
     "data": {
      "text/plain": "<Figure size 432x288 with 1 Axes>",
      "image/png": "[encoded data removed]"
     },
     "metadata": {
      "needs_background": "light"
     },
     "output_type": "display_data"
    }
   ],
   "source": [
    "plt.hist(np.log(cleaned_df[\"GDP_d\"]))"
   ],
   "metadata": {
    "collapsed": false,
    "pycharm": {
     "name": "#%%\n"
    }
   }
  },
  {
   "cell_type": "code",
   "execution_count": 75,
   "outputs": [],
   "source": [
    "transformed_df = np.log(cleaned_df[[\"GDP_o\", \"GDP_d\", \"POP_o\", \"POP_d\", \"Distw\", \"XPTOT_o\", \"FLOW\"]])"
   ],
   "metadata": {
    "collapsed": false,
    "pycharm": {
     "name": "#%%\n"
    }
   }
  },
  {
   "cell_type": "code",
   "execution_count": 76,
   "outputs": [],
   "source": [
    "remaining_df = cleaned_df[[\"Comlang\", \"Contig\", \"OECD_o\", \"OECD_d\",\n",
    "                           \"GATT_o\", \"GATT_d\", \"year\"]]"
   ],
   "metadata": {
    "collapsed": false,
    "pycharm": {
     "name": "#%%\n"
    }
   }
  },
  {
   "cell_type": "code",
   "execution_count": 77,
   "outputs": [],
   "source": [
    "final_df = pd.merge(transformed_df, remaining_df, left_index=True, right_index=True)"
   ],
   "metadata": {
    "collapsed": false,
    "pycharm": {
     "name": "#%%\n"
    }
   }
  },
  {
   "cell_type": "code",
   "execution_count": 78,
   "outputs": [
    {
     "data": {
      "text/plain": "             GDP_o      GDP_d     POP_o      POP_d     Distw    XPTOT_o  \\\n1707     21.201405  23.138376  4.624345  10.268449  9.485562  21.706029   \n1839     21.195837  25.815523  4.619231   8.949680  9.455095  21.033409   \n1841     21.201405  26.105600  4.624345   9.075061  9.455095  21.706029   \n1874     21.195837  26.211230  4.619231  10.616404  8.554063  21.033409   \n1876     21.201405  26.576049  4.624345  10.637192  8.554063  21.706029   \n...            ...        ...       ...        ...       ...        ...   \n2502422  22.531198  23.297056  9.544946   9.540898  6.369551  21.451044   \n2502423  22.645795  23.407163  9.564905   9.571054  6.369551  21.508108   \n2502424  22.783164  23.504854  9.586410   9.601475  6.369551  21.622516   \n2502425  22.878414  23.610278  9.608988   9.632078  6.369551  21.531294   \n2502426  22.878266  23.526052  9.632063   9.662774  6.369551  21.460131   \n\n              FLOW  Comlang  Contig  OECD_o  OECD_d  GATT_o  GATT_d  year  \n1707     11.005971      0.0     0.0     0.0     0.0     0.0     0.0  2011  \n1839      9.323274      0.0     0.0     0.0     0.0     0.0     1.0  2009  \n1841     11.640235      0.0     0.0     0.0     0.0     0.0     1.0  2011  \n1874     13.704223      0.0     0.0     0.0     0.0     0.0     1.0  2009  \n1876     16.525571      0.0     0.0     0.0     0.0     0.0     1.0  2011  \n...            ...      ...     ...     ...     ...     ...     ...   ...  \n2502422  17.656215      1.0     1.0     0.0     0.0     1.0     1.0  2010  \n2502423  17.825955      1.0     1.0     0.0     0.0     1.0     1.0  2011  \n2502424  17.889437      1.0     1.0     0.0     0.0     1.0     1.0  2012  \n2502425  18.170549      1.0     1.0     0.0     0.0     1.0     1.0  2013  \n2502426  17.949162      1.0     1.0     0.0     0.0     1.0     1.0  2014  \n\n[119340 rows x 14 columns]",
      "text/html": "<div>\n<style scoped>\n    .dataframe tbody tr th:only-of-type {\n        vertical-align: middle;\n    }\n\n    .dataframe tbody tr th {\n        vertical-align: top;\n    }\n\n    .dataframe thead th {\n        text-align: right;\n    }\n</style>\n<table border=\"1\" class=\"dataframe\">\n  <thead>\n    <tr style=\"text-align: right;\">\n      <th></th>\n      <th>GDP_o</th>\n      <th>GDP_d</th>\n      <th>POP_o</th>\n      <th>POP_d</th>\n      <th>Distw</th>\n      <th>XPTOT_o</th>\n      <th>FLOW</th>\n      <th>Comlang</th>\n      <th>Contig</th>\n      <th>OECD_o</th>\n      <th>OECD_d</th>\n      <th>GATT_o</th>\n      <th>GATT_d</th>\n      <th>year</th>\n    </tr>\n  </thead>\n  <tbody>\n    <tr>\n      <th>1707</th>\n      <td>21.201405</td>\n      <td>23.138376</td>\n      <td>4.624345</td>\n      <td>10.268449</td>\n      <td>9.485562</td>\n      <td>21.706029</td>\n      <td>11.005971</td>\n      <td>0.0</td>\n      <td>0.0</td>\n      <td>0.0</td>\n      <td>0.0</td>\n      <td>0.0</td>\n      <td>0.0</td>\n      <td>2011</td>\n    </tr>\n    <tr>\n      <th>1839</th>\n      <td>21.195837</td>\n      <td>25.815523</td>\n      <td>4.619231</td>\n      <td>8.949680</td>\n      <td>9.455095</td>\n      <td>21.033409</td>\n      <td>9.323274</td>\n      <td>0.0</td>\n      <td>0.0</td>\n      <td>0.0</td>\n      <td>0.0</td>\n      <td>0.0</td>\n      <td>1.0</td>\n      <td>2009</td>\n    </tr>\n    <tr>\n      <th>1841</th>\n      <td>21.201405</td>\n      <td>26.105600</td>\n      <td>4.624345</td>\n      <td>9.075061</td>\n      <td>9.455095</td>\n      <td>21.706029</td>\n      <td>11.640235</td>\n      <td>0.0</td>\n      <td>0.0</td>\n      <td>0.0</td>\n      <td>0.0</td>\n      <td>0.0</td>\n      <td>1.0</td>\n      <td>2011</td>\n    </tr>\n    <tr>\n      <th>1874</th>\n      <td>21.195837</td>\n      <td>26.211230</td>\n      <td>4.619231</td>\n      <td>10.616404</td>\n      <td>8.554063</td>\n      <td>21.033409</td>\n      <td>13.704223</td>\n      <td>0.0</td>\n      <td>0.0</td>\n      <td>0.0</td>\n      <td>0.0</td>\n      <td>0.0</td>\n      <td>1.0</td>\n      <td>2009</td>\n    </tr>\n    <tr>\n      <th>1876</th>\n      <td>21.201405</td>\n      <td>26.576049</td>\n      <td>4.624345</td>\n      <td>10.637192</td>\n      <td>8.554063</td>\n      <td>21.706029</td>\n      <td>16.525571</td>\n      <td>0.0</td>\n      <td>0.0</td>\n      <td>0.0</td>\n      <td>0.0</td>\n      <td>0.0</td>\n      <td>1.0</td>\n      <td>2011</td>\n    </tr>\n    <tr>\n      <th>...</th>\n      <td>...</td>\n      <td>...</td>\n      <td>...</td>\n      <td>...</td>\n      <td>...</td>\n      <td>...</td>\n      <td>...</td>\n      <td>...</td>\n      <td>...</td>\n      <td>...</td>\n      <td>...</td>\n      <td>...</td>\n      <td>...</td>\n      <td>...</td>\n    </tr>\n    <tr>\n      <th>2502422</th>\n      <td>22.531198</td>\n      <td>23.297056</td>\n      <td>9.544946</td>\n      <td>9.540898</td>\n      <td>6.369551</td>\n      <td>21.451044</td>\n      <td>17.656215</td>\n      <td>1.0</td>\n      <td>1.0</td>\n      <td>0.0</td>\n      <td>0.0</td>\n      <td>1.0</td>\n      <td>1.0</td>\n      <td>2010</td>\n    </tr>\n    <tr>\n      <th>2502423</th>\n      <td>22.645795</td>\n      <td>23.407163</td>\n      <td>9.564905</td>\n      <td>9.571054</td>\n      <td>6.369551</td>\n      <td>21.508108</td>\n      <td>17.825955</td>\n      <td>1.0</td>\n      <td>1.0</td>\n      <td>0.0</td>\n      <td>0.0</td>\n      <td>1.0</td>\n      <td>1.0</td>\n      <td>2011</td>\n    </tr>\n    <tr>\n      <th>2502424</th>\n      <td>22.783164</td>\n      <td>23.504854</td>\n      <td>9.586410</td>\n      <td>9.601475</td>\n      <td>6.369551</td>\n      <td>21.622516</td>\n      <td>17.889437</td>\n      <td>1.0</td>\n      <td>1.0</td>\n      <td>0.0</td>\n      <td>0.0</td>\n      <td>1.0</td>\n      <td>1.0</td>\n      <td>2012</td>\n    </tr>\n    <tr>\n      <th>2502425</th>\n      <td>22.878414</td>\n      <td>23.610278</td>\n      <td>9.608988</td>\n      <td>9.632078</td>\n      <td>6.369551</td>\n      <td>21.531294</td>\n      <td>18.170549</td>\n      <td>1.0</td>\n      <td>1.0</td>\n      <td>0.0</td>\n      <td>0.0</td>\n      <td>1.0</td>\n      <td>1.0</td>\n      <td>2013</td>\n    </tr>\n    <tr>\n      <th>2502426</th>\n      <td>22.878266</td>\n      <td>23.526052</td>\n      <td>9.632063</td>\n      <td>9.662774</td>\n      <td>6.369551</td>\n      <td>21.460131</td>\n      <td>17.949162</td>\n      <td>1.0</td>\n      <td>1.0</td>\n      <td>0.0</td>\n      <td>0.0</td>\n      <td>1.0</td>\n      <td>1.0</td>\n      <td>2014</td>\n    </tr>\n  </tbody>\n</table>\n<p>119340 rows × 14 columns</p>\n</div>"
     },
     "execution_count": 78,
     "metadata": {},
     "output_type": "execute_result"
    }
   ],
   "source": [
    "final_df"
   ],
   "metadata": {
    "collapsed": false,
    "pycharm": {
     "name": "#%%\n"
    }
   }
  },
  {
   "cell_type": "code",
   "execution_count": 81,
   "outputs": [],
   "source": [
    "from sklearn.model_selection import train_test_split\n",
    "\n",
    "final_df = final_df.drop([\"year\"], axis=1)"
   ],
   "metadata": {
    "collapsed": false,
    "pycharm": {
     "name": "#%%\n"
    }
   }
  },
  {
   "cell_type": "code",
   "execution_count": 82,
   "outputs": [
    {
     "data": {
      "text/plain": "             GDP_o      GDP_d     POP_o      POP_d     Distw    XPTOT_o  \\\n1707     21.201405  23.138376  4.624345  10.268449  9.485562  21.706029   \n1839     21.195837  25.815523  4.619231   8.949680  9.455095  21.033409   \n1841     21.201405  26.105600  4.624345   9.075061  9.455095  21.706029   \n1874     21.195837  26.211230  4.619231  10.616404  8.554063  21.033409   \n1876     21.201405  26.576049  4.624345  10.637192  8.554063  21.706029   \n...            ...        ...       ...        ...       ...        ...   \n2502422  22.531198  23.297056  9.544946   9.540898  6.369551  21.451044   \n2502423  22.645795  23.407163  9.564905   9.571054  6.369551  21.508108   \n2502424  22.783164  23.504854  9.586410   9.601475  6.369551  21.622516   \n2502425  22.878414  23.610278  9.608988   9.632078  6.369551  21.531294   \n2502426  22.878266  23.526052  9.632063   9.662774  6.369551  21.460131   \n\n              FLOW  Comlang  Contig  OECD_o  OECD_d  GATT_o  GATT_d  \n1707     11.005971      0.0     0.0     0.0     0.0     0.0     0.0  \n1839      9.323274      0.0     0.0     0.0     0.0     0.0     1.0  \n1841     11.640235      0.0     0.0     0.0     0.0     0.0     1.0  \n1874     13.704223      0.0     0.0     0.0     0.0     0.0     1.0  \n1876     16.525571      0.0     0.0     0.0     0.0     0.0     1.0  \n...            ...      ...     ...     ...     ...     ...     ...  \n2502422  17.656215      1.0     1.0     0.0     0.0     1.0     1.0  \n2502423  17.825955      1.0     1.0     0.0     0.0     1.0     1.0  \n2502424  17.889437      1.0     1.0     0.0     0.0     1.0     1.0  \n2502425  18.170549      1.0     1.0     0.0     0.0     1.0     1.0  \n2502426  17.949162      1.0     1.0     0.0     0.0     1.0     1.0  \n\n[119340 rows x 13 columns]",
      "text/html": "<div>\n<style scoped>\n    .dataframe tbody tr th:only-of-type {\n        vertical-align: middle;\n    }\n\n    .dataframe tbody tr th {\n        vertical-align: top;\n    }\n\n    .dataframe thead th {\n        text-align: right;\n    }\n</style>\n<table border=\"1\" class=\"dataframe\">\n  <thead>\n    <tr style=\"text-align: right;\">\n      <th></th>\n      <th>GDP_o</th>\n      <th>GDP_d</th>\n      <th>POP_o</th>\n      <th>POP_d</th>\n      <th>Distw</th>\n      <th>XPTOT_o</th>\n      <th>FLOW</th>\n      <th>Comlang</th>\n      <th>Contig</th>\n      <th>OECD_o</th>\n      <th>OECD_d</th>\n      <th>GATT_o</th>\n      <th>GATT_d</th>\n    </tr>\n  </thead>\n  <tbody>\n    <tr>\n      <th>1707</th>\n      <td>21.201405</td>\n      <td>23.138376</td>\n      <td>4.624345</td>\n      <td>10.268449</td>\n      <td>9.485562</td>\n      <td>21.706029</td>\n      <td>11.005971</td>\n      <td>0.0</td>\n      <td>0.0</td>\n      <td>0.0</td>\n      <td>0.0</td>\n      <td>0.0</td>\n      <td>0.0</td>\n    </tr>\n    <tr>\n      <th>1839</th>\n      <td>21.195837</td>\n      <td>25.815523</td>\n      <td>4.619231</td>\n      <td>8.949680</td>\n      <td>9.455095</td>\n      <td>21.033409</td>\n      <td>9.323274</td>\n      <td>0.0</td>\n      <td>0.0</td>\n      <td>0.0</td>\n      <td>0.0</td>\n      <td>0.0</td>\n      <td>1.0</td>\n    </tr>\n    <tr>\n      <th>1841</th>\n      <td>21.201405</td>\n      <td>26.105600</td>\n      <td>4.624345</td>\n      <td>9.075061</td>\n      <td>9.455095</td>\n      <td>21.706029</td>\n      <td>11.640235</td>\n      <td>0.0</td>\n      <td>0.0</td>\n      <td>0.0</td>\n      <td>0.0</td>\n      <td>0.0</td>\n      <td>1.0</td>\n    </tr>\n    <tr>\n      <th>1874</th>\n      <td>21.195837</td>\n      <td>26.211230</td>\n      <td>4.619231</td>\n      <td>10.616404</td>\n      <td>8.554063</td>\n      <td>21.033409</td>\n      <td>13.704223</td>\n      <td>0.0</td>\n      <td>0.0</td>\n      <td>0.0</td>\n      <td>0.0</td>\n      <td>0.0</td>\n      <td>1.0</td>\n    </tr>\n    <tr>\n      <th>1876</th>\n      <td>21.201405</td>\n      <td>26.576049</td>\n      <td>4.624345</td>\n      <td>10.637192</td>\n      <td>8.554063</td>\n      <td>21.706029</td>\n      <td>16.525571</td>\n      <td>0.0</td>\n      <td>0.0</td>\n      <td>0.0</td>\n      <td>0.0</td>\n      <td>0.0</td>\n      <td>1.0</td>\n    </tr>\n    <tr>\n      <th>...</th>\n      <td>...</td>\n      <td>...</td>\n      <td>...</td>\n      <td>...</td>\n      <td>...</td>\n      <td>...</td>\n      <td>...</td>\n      <td>...</td>\n      <td>...</td>\n      <td>...</td>\n      <td>...</td>\n      <td>...</td>\n      <td>...</td>\n    </tr>\n    <tr>\n      <th>2502422</th>\n      <td>22.531198</td>\n      <td>23.297056</td>\n      <td>9.544946</td>\n      <td>9.540898</td>\n      <td>6.369551</td>\n      <td>21.451044</td>\n      <td>17.656215</td>\n      <td>1.0</td>\n      <td>1.0</td>\n      <td>0.0</td>\n      <td>0.0</td>\n      <td>1.0</td>\n      <td>1.0</td>\n    </tr>\n    <tr>\n      <th>2502423</th>\n      <td>22.645795</td>\n      <td>23.407163</td>\n      <td>9.564905</td>\n      <td>9.571054</td>\n      <td>6.369551</td>\n      <td>21.508108</td>\n      <td>17.825955</td>\n      <td>1.0</td>\n      <td>1.0</td>\n      <td>0.0</td>\n      <td>0.0</td>\n      <td>1.0</td>\n      <td>1.0</td>\n    </tr>\n    <tr>\n      <th>2502424</th>\n      <td>22.783164</td>\n      <td>23.504854</td>\n      <td>9.586410</td>\n      <td>9.601475</td>\n      <td>6.369551</td>\n      <td>21.622516</td>\n      <td>17.889437</td>\n      <td>1.0</td>\n      <td>1.0</td>\n      <td>0.0</td>\n      <td>0.0</td>\n      <td>1.0</td>\n      <td>1.0</td>\n    </tr>\n    <tr>\n      <th>2502425</th>\n      <td>22.878414</td>\n      <td>23.610278</td>\n      <td>9.608988</td>\n      <td>9.632078</td>\n      <td>6.369551</td>\n      <td>21.531294</td>\n      <td>18.170549</td>\n      <td>1.0</td>\n      <td>1.0</td>\n      <td>0.0</td>\n      <td>0.0</td>\n      <td>1.0</td>\n      <td>1.0</td>\n    </tr>\n    <tr>\n      <th>2502426</th>\n      <td>22.878266</td>\n      <td>23.526052</td>\n      <td>9.632063</td>\n      <td>9.662774</td>\n      <td>6.369551</td>\n      <td>21.460131</td>\n      <td>17.949162</td>\n      <td>1.0</td>\n      <td>1.0</td>\n      <td>0.0</td>\n      <td>0.0</td>\n      <td>1.0</td>\n      <td>1.0</td>\n    </tr>\n  </tbody>\n</table>\n<p>119340 rows × 13 columns</p>\n</div>"
     },
     "execution_count": 82,
     "metadata": {},
     "output_type": "execute_result"
    }
   ],
   "source": [
    "final_df"
   ],
   "metadata": {
    "collapsed": false,
    "pycharm": {
     "name": "#%%\n"
    }
   }
  },
  {
   "cell_type": "code",
   "execution_count": 83,
   "outputs": [
    {
     "data": {
      "text/plain": "Index(['GDP_o', 'GDP_d', 'POP_o', 'POP_d', 'Distw', 'XPTOT_o', 'FLOW',\n       'Comlang', 'Contig', 'OECD_o', 'OECD_d', 'GATT_o', 'GATT_d'],\n      dtype='object')"
     },
     "execution_count": 83,
     "metadata": {},
     "output_type": "execute_result"
    }
   ],
   "source": [
    "final_df.columns"
   ],
   "metadata": {
    "collapsed": false,
    "pycharm": {
     "name": "#%%\n"
    }
   }
  },
  {
   "cell_type": "code",
   "execution_count": 84,
   "outputs": [],
   "source": [
    "X = final_df[[\"GDP_o\", \"GDP_d\", \"POP_o\", \"POP_d\", \"Distw\", \"Comlang\", \"Contig\", \"OECD_o\", \"OECD_d\",\"GATT_o\", \"GATT_d\", \"XPTOT_o\"]]\n",
    "\n",
    "y = final_df[[\"FLOW\"]]"
   ],
   "metadata": {
    "collapsed": false,
    "pycharm": {
     "name": "#%%\n"
    }
   }
  },
  {
   "cell_type": "code",
   "execution_count": 88,
   "outputs": [],
   "source": [
    "X_val = X.values\n",
    "y_val = y.values"
   ],
   "metadata": {
    "collapsed": false,
    "pycharm": {
     "name": "#%%\n"
    }
   }
  },
  {
   "cell_type": "code",
   "execution_count": 89,
   "outputs": [],
   "source": [
    "from sklearn.preprocessing import StandardScaler\n",
    "PredictorScaler=StandardScaler()\n",
    "TargetVarScaler=StandardScaler()\n",
    "\n",
    "# Storing the fit object for later reference\n",
    "PredictorScalerFit=PredictorScaler.fit(X_val)\n",
    "TargetVarScalerFit=TargetVarScaler.fit(y_val)\n",
    "\n",
    "# Generating the standardized values of X and y\n",
    "X_val=PredictorScalerFit.transform(X_val)\n",
    "y_val=TargetVarScalerFit.transform(y_val)"
   ],
   "metadata": {
    "collapsed": false,
    "pycharm": {
     "name": "#%%\n"
    }
   }
  },
  {
   "cell_type": "code",
   "execution_count": 92,
   "outputs": [],
   "source": [
    "from sklearn.model_selection import train_test_split\n",
    "X_train, X_test, y_train, y_test = train_test_split(X_val, y_val, test_size=0.25, random_state=42)"
   ],
   "metadata": {
    "collapsed": false,
    "pycharm": {
     "name": "#%%\n"
    }
   }
  },
  {
   "cell_type": "code",
   "execution_count": 93,
   "outputs": [
    {
     "name": "stdout",
     "output_type": "stream",
     "text": [
      "(89505, 12)\n",
      "(89505, 1)\n",
      "(29835, 12)\n",
      "(29835, 1)\n"
     ]
    }
   ],
   "source": [
    "print(X_train.shape)\n",
    "print(y_train.shape)\n",
    "print(X_test.shape)\n",
    "print(y_test.shape)"
   ],
   "metadata": {
    "collapsed": false,
    "pycharm": {
     "name": "#%%\n"
    }
   }
  },
  {
   "cell_type": "code",
   "execution_count": 94,
   "outputs": [],
   "source": [
    "from keras.models import Sequential\n",
    "from keras.layers import Dense"
   ],
   "metadata": {
    "collapsed": false,
    "pycharm": {
     "name": "#%%\n"
    }
   }
  },
  {
   "cell_type": "code",
   "execution_count": 96,
   "outputs": [
    {
     "name": "stdout",
     "output_type": "stream",
     "text": [
      "Epoch 1/50\n"
     ]
    },
    {
     "name": "stderr",
     "output_type": "stream",
     "text": [
      "2022-11-09 22:12:26.671261: I tensorflow/core/grappler/optimizers/custom_graph_optimizer_registry.cc:113] Plugin optimizer for device_type GPU is enabled.\n"
     ]
    },
    {
     "name": "stdout",
     "output_type": "stream",
     "text": [
      "4476/4476 [==============================] - 25s 5ms/step - loss: 0.3378\n",
      "Epoch 2/50\n",
      "4476/4476 [==============================] - 23s 5ms/step - loss: 0.3027\n",
      "Epoch 3/50\n",
      "4476/4476 [==============================] - 26s 6ms/step - loss: 0.3012\n",
      "Epoch 4/50\n",
      "4476/4476 [==============================] - 23s 5ms/step - loss: 0.3006\n",
      "Epoch 5/50\n",
      "4476/4476 [==============================] - 24s 5ms/step - loss: 0.3004\n",
      "Epoch 6/50\n",
      "4476/4476 [==============================] - 23s 5ms/step - loss: 0.3000\n",
      "Epoch 7/50\n",
      "4476/4476 [==============================] - 23s 5ms/step - loss: 0.2995\n",
      "Epoch 8/50\n",
      "4476/4476 [==============================] - 24s 5ms/step - loss: 0.2994\n",
      "Epoch 9/50\n",
      "4476/4476 [==============================] - 23s 5ms/step - loss: 0.2994\n",
      "Epoch 10/50\n",
      "4476/4476 [==============================] - 22s 5ms/step - loss: 0.2992\n",
      "Epoch 11/50\n",
      "4476/4476 [==============================] - 22s 5ms/step - loss: 0.2990\n",
      "Epoch 12/50\n",
      "4476/4476 [==============================] - 22s 5ms/step - loss: 0.2991\n",
      "Epoch 13/50\n",
      "4476/4476 [==============================] - 21s 5ms/step - loss: 0.2989\n",
      "Epoch 14/50\n",
      "4476/4476 [==============================] - 23s 5ms/step - loss: 0.2987\n",
      "Epoch 15/50\n",
      "4476/4476 [==============================] - 23s 5ms/step - loss: 0.2986\n",
      "Epoch 16/50\n",
      "4476/4476 [==============================] - 24s 5ms/step - loss: 0.2985\n",
      "Epoch 17/50\n",
      "4476/4476 [==============================] - 23s 5ms/step - loss: 0.2984\n",
      "Epoch 18/50\n",
      "4476/4476 [==============================] - 25s 6ms/step - loss: 0.2984\n",
      "Epoch 19/50\n",
      "4476/4476 [==============================] - 26s 6ms/step - loss: 0.2983\n",
      "Epoch 20/50\n",
      "4476/4476 [==============================] - 24s 5ms/step - loss: 0.2984\n",
      "Epoch 21/50\n",
      "4476/4476 [==============================] - 24s 5ms/step - loss: 0.2983\n",
      "Epoch 22/50\n",
      "4476/4476 [==============================] - 23s 5ms/step - loss: 0.2982\n",
      "Epoch 23/50\n",
      "4476/4476 [==============================] - 24s 5ms/step - loss: 0.2982\n",
      "Epoch 24/50\n",
      "4476/4476 [==============================] - 25s 6ms/step - loss: 0.2979\n",
      "Epoch 25/50\n",
      "4476/4476 [==============================] - 24s 5ms/step - loss: 0.2982\n",
      "Epoch 26/50\n",
      "4476/4476 [==============================] - 23s 5ms/step - loss: 0.2981\n",
      "Epoch 27/50\n",
      "4476/4476 [==============================] - 23s 5ms/step - loss: 0.2980\n",
      "Epoch 28/50\n",
      "4476/4476 [==============================] - 23s 5ms/step - loss: 0.2979\n",
      "Epoch 29/50\n",
      "4476/4476 [==============================] - 24s 5ms/step - loss: 0.2979\n",
      "Epoch 30/50\n",
      "4476/4476 [==============================] - 23s 5ms/step - loss: 0.2978\n",
      "Epoch 31/50\n",
      "4476/4476 [==============================] - 23s 5ms/step - loss: 0.2977\n",
      "Epoch 32/50\n",
      "4476/4476 [==============================] - 23s 5ms/step - loss: 0.2977\n",
      "Epoch 33/50\n",
      "4476/4476 [==============================] - 25s 5ms/step - loss: 0.2977\n",
      "Epoch 34/50\n",
      "4476/4476 [==============================] - 23s 5ms/step - loss: 0.2976\n",
      "Epoch 35/50\n",
      "4476/4476 [==============================] - 23s 5ms/step - loss: 0.2976\n",
      "Epoch 36/50\n",
      "4476/4476 [==============================] - 24s 5ms/step - loss: 0.2976\n",
      "Epoch 37/50\n",
      "4476/4476 [==============================] - 25s 6ms/step - loss: 0.2975\n",
      "Epoch 38/50\n",
      "4476/4476 [==============================] - 23s 5ms/step - loss: 0.2975\n",
      "Epoch 39/50\n",
      "4476/4476 [==============================] - 22s 5ms/step - loss: 0.2975\n",
      "Epoch 40/50\n",
      "4476/4476 [==============================] - 22s 5ms/step - loss: 0.2974\n",
      "Epoch 41/50\n",
      "4476/4476 [==============================] - 21s 5ms/step - loss: 0.2972\n",
      "Epoch 42/50\n",
      "4476/4476 [==============================] - 22s 5ms/step - loss: 0.2972\n",
      "Epoch 43/50\n",
      "4476/4476 [==============================] - 24s 5ms/step - loss: 0.2973\n",
      "Epoch 44/50\n",
      "4476/4476 [==============================] - 22s 5ms/step - loss: 0.2972\n",
      "Epoch 45/50\n",
      "4476/4476 [==============================] - 23s 5ms/step - loss: 0.2973\n",
      "Epoch 46/50\n",
      "4476/4476 [==============================] - 23s 5ms/step - loss: 0.2973\n",
      "Epoch 47/50\n",
      "4476/4476 [==============================] - 22s 5ms/step - loss: 0.2971\n",
      "Epoch 48/50\n",
      "4476/4476 [==============================] - 21s 5ms/step - loss: 0.2970\n",
      "Epoch 49/50\n",
      "4476/4476 [==============================] - 21s 5ms/step - loss: 0.2970\n",
      "Epoch 50/50\n",
      "4476/4476 [==============================] - 21s 5ms/step - loss: 0.2971\n"
     ]
    },
    {
     "data": {
      "text/plain": "<keras.callbacks.History at 0x16c09b970>"
     },
     "execution_count": 96,
     "metadata": {},
     "output_type": "execute_result"
    }
   ],
   "source": [
    "# create ANN model\n",
    "model = Sequential()\n",
    "\n",
    "# Defining the Input layer and FIRST hidden layer, both are same!\n",
    "model.add(Dense(units=5, input_dim=12, kernel_initializer='normal', activation='relu'))\n",
    "\n",
    "# Defining the Second layer of the model\n",
    "# after the first layer we don't have to specify input_dim as keras configure it automatically\n",
    "model.add(Dense(units=5, kernel_initializer='normal', activation='tanh'))\n",
    "\n",
    "# The output neuron is a single fully connected node\n",
    "# Since we will be predicting a single number\n",
    "model.add(Dense(1, kernel_initializer='normal'))\n",
    "\n",
    "# Compiling the model\n",
    "model.compile(loss='mean_squared_error', optimizer='adam')\n",
    "\n",
    "# Fitting the ANN to the Training set\n",
    "model.fit(X_train, y_train ,batch_size = 20, epochs = 50, verbose=1)"
   ],
   "metadata": {
    "collapsed": false,
    "pycharm": {
     "name": "#%%\n"
    }
   }
  },
  {
   "cell_type": "code",
   "execution_count": 98,
   "outputs": [
    {
     "name": "stdout",
     "output_type": "stream",
     "text": [
      " 82/933 [=>............................] - ETA: 1s"
     ]
    },
    {
     "name": "stderr",
     "output_type": "stream",
     "text": [
      "2022-11-09 23:13:17.968452: I tensorflow/core/grappler/optimizers/custom_graph_optimizer_registry.cc:113] Plugin optimizer for device_type GPU is enabled.\n"
     ]
    },
    {
     "name": "stdout",
     "output_type": "stream",
     "text": [
      "933/933 [==============================] - 2s 2ms/step\n"
     ]
    }
   ],
   "source": [
    "y_pred = model.predict(X_test)"
   ],
   "metadata": {
    "collapsed": false,
    "pycharm": {
     "name": "#%%\n"
    }
   }
  },
  {
   "cell_type": "code",
   "execution_count": 99,
   "outputs": [
    {
     "data": {
      "text/plain": "0.70335025"
     },
     "execution_count": 99,
     "metadata": {},
     "output_type": "execute_result"
    }
   ],
   "source": [
    "from tensorflow_addons.metrics.r_square import RSquare\n",
    "metric = RSquare()\n",
    "metric.update_state(y_test, y_pred)\n",
    "result = metric.result()\n",
    "result.numpy()"
   ],
   "metadata": {
    "collapsed": false,
    "pycharm": {
     "name": "#%%\n"
    }
   }
  }
 ],
 "metadata": {
  "kernelspec": {
   "display_name": "Python 3",
   "language": "python",
   "name": "python3"
  },
  "language_info": {
   "codemirror_mode": {
    "name": "ipython",
    "version": 2
   },
   "file_extension": ".py",
   "mimetype": "text/x-python",
   "name": "python",
   "nbconvert_exporter": "python",
   "pygments_lexer": "ipython2",
   "version": "2.7.6"
  }
 },
 "nbformat": 4,
 "nbformat_minor": 0
}