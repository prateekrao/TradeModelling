{
 "cells": [
  {
   "cell_type": "code",
   "execution_count": 1,
   "outputs": [],
   "source": [
    "import tensorflow as tf\n",
    "from tensorflow import keras\n",
    "import numpy as np\n",
    "import pandas as pd\n",
    "import matplotlib.pyplot as plt"
   ],
   "metadata": {
    "collapsed": false,
    "pycharm": {
     "name": "#%%\n"
    }
   }
  },
  {
   "cell_type": "code",
   "execution_count": 2,
   "outputs": [
    {
     "name": "stderr",
     "output_type": "stream",
     "text": [
      "/var/folders/qc/xp9q1kcj79315fgc2jdgwtv00000gn/T/ipykernel_38672/562444793.py:2: DtypeWarning: Columns (8,12,14,21,24,28,33,45,46,51) have mixed types. Specify dtype option on import or set low_memory=False.\n",
      "  df = pd.read_csv(PATH)\n"
     ]
    }
   ],
   "source": [
    "PATH = \"../datasets/tradhist.csv\"\n",
    "df = pd.read_csv(PATH)"
   ],
   "metadata": {
    "collapsed": false,
    "pycharm": {
     "name": "#%%\n"
    }
   }
  },
  {
   "cell_type": "code",
   "execution_count": 3,
   "outputs": [
    {
     "data": {
      "text/plain": "         Unnamed: 0 iso_o iso_d  year        FLOW  FLOW_0 SOURCE_TF  \\\n0                 0   NaN  ADEN  1950         NaN     NaN       NaN   \n1                 1   NaN  ADEN  1951         NaN     NaN       NaN   \n2                 2   NaN  ADEN  1952         NaN     NaN       NaN   \n3                 3   NaN  ADEN  1953         NaN     NaN       NaN   \n4                 4   NaN  ADEN  1954         NaN     NaN       NaN   \n...             ...   ...   ...   ...         ...     ...       ...   \n2502422     2502422   ZWE   ZMB  2010  46558256.0     NaN   DOTS_IP   \n2502423     2502423   ZWE   ZMB  2011  55171376.0     NaN   DOTS_IP   \n2502424     2502424   ZWE   ZMB  2012  58787336.0     NaN   DOTS_IP   \n2502425     2502425   ZWE   ZMB  2013  77869780.0     NaN   DOTS_IP   \n2502426     2502426   ZWE   ZMB  2014  62405360.0     NaN   DOTS_IP   \n\n                GDP_o SOURCE_GDP_o         GDP_d  ... CONTI_o  CONTI_d  \\\n0                 NaN          NaN           NaN  ...     NaN     ASIA   \n1                 NaN          NaN           NaN  ...     NaN     ASIA   \n2                 NaN          NaN           NaN  ...     NaN     ASIA   \n3                 NaN          NaN           NaN  ...     NaN     ASIA   \n4                 NaN          NaN           NaN  ...     NaN     ASIA   \n...               ...          ...           ...  ...     ...      ...   \n2502422  6.097825e+09          WDI  1.311544e+10  ...    AFRI     AFRI   \n2502423  6.838230e+09          WDI  1.464204e+10  ...    AFRI     AFRI   \n2502424  7.845171e+09          WDI  1.614464e+10  ...    AFRI     AFRI   \n2502425  8.629172e+09          WDI  1.793963e+10  ...    AFRI     AFRI   \n2502426  8.627889e+09          WDI  1.649053e+10  ...    AFRI     AFRI   \n\n        REGIO_o  REGIO_d OECD_o  OECD_d EU_o  EU_d GATT_o  GATT_d  \n0           NaN   MIDEST    NaN     NaN  NaN   NaN    NaN     NaN  \n1           NaN   MIDEST    NaN     NaN  NaN   NaN    NaN     NaN  \n2           NaN   MIDEST    NaN     NaN  NaN   NaN    NaN     NaN  \n3           NaN   MIDEST    NaN     NaN  NaN   NaN    NaN     NaN  \n4           NaN   MIDEST    NaN     NaN  NaN   NaN    NaN     NaN  \n...         ...      ...    ...     ...  ...   ...    ...     ...  \n2502422  STHAFR   STHAFR    0.0     0.0  0.0   0.0    1.0     1.0  \n2502423  STHAFR   STHAFR    0.0     0.0  0.0   0.0    1.0     1.0  \n2502424  STHAFR   STHAFR    0.0     0.0  0.0   0.0    1.0     1.0  \n2502425  STHAFR   STHAFR    0.0     0.0  0.0   0.0    1.0     1.0  \n2502426  STHAFR   STHAFR    0.0     0.0  0.0   0.0    1.0     1.0  \n\n[2502427 rows x 64 columns]",
      "text/html": "<div>\n<style scoped>\n    .dataframe tbody tr th:only-of-type {\n        vertical-align: middle;\n    }\n\n    .dataframe tbody tr th {\n        vertical-align: top;\n    }\n\n    .dataframe thead th {\n        text-align: right;\n    }\n</style>\n<table border=\"1\" class=\"dataframe\">\n  <thead>\n    <tr style=\"text-align: right;\">\n      <th></th>\n      <th>Unnamed: 0</th>\n      <th>iso_o</th>\n      <th>iso_d</th>\n      <th>year</th>\n      <th>FLOW</th>\n      <th>FLOW_0</th>\n      <th>SOURCE_TF</th>\n      <th>GDP_o</th>\n      <th>SOURCE_GDP_o</th>\n      <th>GDP_d</th>\n      <th>...</th>\n      <th>CONTI_o</th>\n      <th>CONTI_d</th>\n      <th>REGIO_o</th>\n      <th>REGIO_d</th>\n      <th>OECD_o</th>\n      <th>OECD_d</th>\n      <th>EU_o</th>\n      <th>EU_d</th>\n      <th>GATT_o</th>\n      <th>GATT_d</th>\n    </tr>\n  </thead>\n  <tbody>\n    <tr>\n      <th>0</th>\n      <td>0</td>\n      <td>NaN</td>\n      <td>ADEN</td>\n      <td>1950</td>\n      <td>NaN</td>\n      <td>NaN</td>\n      <td>NaN</td>\n      <td>NaN</td>\n      <td>NaN</td>\n      <td>NaN</td>\n      <td>...</td>\n      <td>NaN</td>\n      <td>ASIA</td>\n      <td>NaN</td>\n      <td>MIDEST</td>\n      <td>NaN</td>\n      <td>NaN</td>\n      <td>NaN</td>\n      <td>NaN</td>\n      <td>NaN</td>\n      <td>NaN</td>\n    </tr>\n    <tr>\n      <th>1</th>\n      <td>1</td>\n      <td>NaN</td>\n      <td>ADEN</td>\n      <td>1951</td>\n      <td>NaN</td>\n      <td>NaN</td>\n      <td>NaN</td>\n      <td>NaN</td>\n      <td>NaN</td>\n      <td>NaN</td>\n      <td>...</td>\n      <td>NaN</td>\n      <td>ASIA</td>\n      <td>NaN</td>\n      <td>MIDEST</td>\n      <td>NaN</td>\n      <td>NaN</td>\n      <td>NaN</td>\n      <td>NaN</td>\n      <td>NaN</td>\n      <td>NaN</td>\n    </tr>\n    <tr>\n      <th>2</th>\n      <td>2</td>\n      <td>NaN</td>\n      <td>ADEN</td>\n      <td>1952</td>\n      <td>NaN</td>\n      <td>NaN</td>\n      <td>NaN</td>\n      <td>NaN</td>\n      <td>NaN</td>\n      <td>NaN</td>\n      <td>...</td>\n      <td>NaN</td>\n      <td>ASIA</td>\n      <td>NaN</td>\n      <td>MIDEST</td>\n      <td>NaN</td>\n      <td>NaN</td>\n      <td>NaN</td>\n      <td>NaN</td>\n      <td>NaN</td>\n      <td>NaN</td>\n    </tr>\n    <tr>\n      <th>3</th>\n      <td>3</td>\n      <td>NaN</td>\n      <td>ADEN</td>\n      <td>1953</td>\n      <td>NaN</td>\n      <td>NaN</td>\n      <td>NaN</td>\n      <td>NaN</td>\n      <td>NaN</td>\n      <td>NaN</td>\n      <td>...</td>\n      <td>NaN</td>\n      <td>ASIA</td>\n      <td>NaN</td>\n      <td>MIDEST</td>\n      <td>NaN</td>\n      <td>NaN</td>\n      <td>NaN</td>\n      <td>NaN</td>\n      <td>NaN</td>\n      <td>NaN</td>\n    </tr>\n    <tr>\n      <th>4</th>\n      <td>4</td>\n      <td>NaN</td>\n      <td>ADEN</td>\n      <td>1954</td>\n      <td>NaN</td>\n      <td>NaN</td>\n      <td>NaN</td>\n      <td>NaN</td>\n      <td>NaN</td>\n      <td>NaN</td>\n      <td>...</td>\n      <td>NaN</td>\n      <td>ASIA</td>\n      <td>NaN</td>\n      <td>MIDEST</td>\n      <td>NaN</td>\n      <td>NaN</td>\n      <td>NaN</td>\n      <td>NaN</td>\n      <td>NaN</td>\n      <td>NaN</td>\n    </tr>\n    <tr>\n      <th>...</th>\n      <td>...</td>\n      <td>...</td>\n      <td>...</td>\n      <td>...</td>\n      <td>...</td>\n      <td>...</td>\n      <td>...</td>\n      <td>...</td>\n      <td>...</td>\n      <td>...</td>\n      <td>...</td>\n      <td>...</td>\n      <td>...</td>\n      <td>...</td>\n      <td>...</td>\n      <td>...</td>\n      <td>...</td>\n      <td>...</td>\n      <td>...</td>\n      <td>...</td>\n      <td>...</td>\n    </tr>\n    <tr>\n      <th>2502422</th>\n      <td>2502422</td>\n      <td>ZWE</td>\n      <td>ZMB</td>\n      <td>2010</td>\n      <td>46558256.0</td>\n      <td>NaN</td>\n      <td>DOTS_IP</td>\n      <td>6.097825e+09</td>\n      <td>WDI</td>\n      <td>1.311544e+10</td>\n      <td>...</td>\n      <td>AFRI</td>\n      <td>AFRI</td>\n      <td>STHAFR</td>\n      <td>STHAFR</td>\n      <td>0.0</td>\n      <td>0.0</td>\n      <td>0.0</td>\n      <td>0.0</td>\n      <td>1.0</td>\n      <td>1.0</td>\n    </tr>\n    <tr>\n      <th>2502423</th>\n      <td>2502423</td>\n      <td>ZWE</td>\n      <td>ZMB</td>\n      <td>2011</td>\n      <td>55171376.0</td>\n      <td>NaN</td>\n      <td>DOTS_IP</td>\n      <td>6.838230e+09</td>\n      <td>WDI</td>\n      <td>1.464204e+10</td>\n      <td>...</td>\n      <td>AFRI</td>\n      <td>AFRI</td>\n      <td>STHAFR</td>\n      <td>STHAFR</td>\n      <td>0.0</td>\n      <td>0.0</td>\n      <td>0.0</td>\n      <td>0.0</td>\n      <td>1.0</td>\n      <td>1.0</td>\n    </tr>\n    <tr>\n      <th>2502424</th>\n      <td>2502424</td>\n      <td>ZWE</td>\n      <td>ZMB</td>\n      <td>2012</td>\n      <td>58787336.0</td>\n      <td>NaN</td>\n      <td>DOTS_IP</td>\n      <td>7.845171e+09</td>\n      <td>WDI</td>\n      <td>1.614464e+10</td>\n      <td>...</td>\n      <td>AFRI</td>\n      <td>AFRI</td>\n      <td>STHAFR</td>\n      <td>STHAFR</td>\n      <td>0.0</td>\n      <td>0.0</td>\n      <td>0.0</td>\n      <td>0.0</td>\n      <td>1.0</td>\n      <td>1.0</td>\n    </tr>\n    <tr>\n      <th>2502425</th>\n      <td>2502425</td>\n      <td>ZWE</td>\n      <td>ZMB</td>\n      <td>2013</td>\n      <td>77869780.0</td>\n      <td>NaN</td>\n      <td>DOTS_IP</td>\n      <td>8.629172e+09</td>\n      <td>WDI</td>\n      <td>1.793963e+10</td>\n      <td>...</td>\n      <td>AFRI</td>\n      <td>AFRI</td>\n      <td>STHAFR</td>\n      <td>STHAFR</td>\n      <td>0.0</td>\n      <td>0.0</td>\n      <td>0.0</td>\n      <td>0.0</td>\n      <td>1.0</td>\n      <td>1.0</td>\n    </tr>\n    <tr>\n      <th>2502426</th>\n      <td>2502426</td>\n      <td>ZWE</td>\n      <td>ZMB</td>\n      <td>2014</td>\n      <td>62405360.0</td>\n      <td>NaN</td>\n      <td>DOTS_IP</td>\n      <td>8.627889e+09</td>\n      <td>WDI</td>\n      <td>1.649053e+10</td>\n      <td>...</td>\n      <td>AFRI</td>\n      <td>AFRI</td>\n      <td>STHAFR</td>\n      <td>STHAFR</td>\n      <td>0.0</td>\n      <td>0.0</td>\n      <td>0.0</td>\n      <td>0.0</td>\n      <td>1.0</td>\n      <td>1.0</td>\n    </tr>\n  </tbody>\n</table>\n<p>2502427 rows × 64 columns</p>\n</div>"
     },
     "execution_count": 3,
     "metadata": {},
     "output_type": "execute_result"
    }
   ],
   "source": [
    "df"
   ],
   "metadata": {
    "collapsed": false,
    "pycharm": {
     "name": "#%%\n"
    }
   }
  },
  {
   "cell_type": "code",
   "execution_count": 4,
   "outputs": [
    {
     "data": {
      "text/plain": "Unnamed: 0    2502427\niso_o             325\niso_d             325\nyear              188\nFLOW           787987\n               ...   \nOECD_d              2\nEU_o                2\nEU_d                2\nGATT_o              2\nGATT_d              2\nLength: 64, dtype: int64"
     },
     "execution_count": 4,
     "metadata": {},
     "output_type": "execute_result"
    }
   ],
   "source": [
    "df.nunique()"
   ],
   "metadata": {
    "collapsed": false,
    "pycharm": {
     "name": "#%%\n"
    }
   }
  },
  {
   "cell_type": "code",
   "execution_count": 5,
   "outputs": [
    {
     "data": {
      "text/plain": "1501         492920.70\n1502          38164.50\n1503          30052.34\n1504          44906.54\n1505          33957.27\n              ...     \n2502422    46558256.00\n2502423    55171376.00\n2502424    58787336.00\n2502425    77869780.00\n2502426    62405360.00\nName: FLOW, Length: 963682, dtype: float64"
     },
     "execution_count": 5,
     "metadata": {},
     "output_type": "execute_result"
    }
   ],
   "source": [
    "df[df[\"FLOW\"] > 10000][\"FLOW\"]"
   ],
   "metadata": {
    "collapsed": false,
    "pycharm": {
     "name": "#%%\n"
    }
   }
  },
  {
   "cell_type": "code",
   "execution_count": 6,
   "outputs": [],
   "source": [
    "features = [\"GDP_o\", \"GDP_d\", \"POP_o\", \"POP_d\", \"Distw\", \"Comlang\", \"Contig\", \"OECD_o\", \"OECD_d\",\n",
    "            \"GATT_o\", \"GATT_d\", \"XPTOT_o\", \"year\", \"FLOW\"]\n",
    "\n",
    "df = df[features]"
   ],
   "metadata": {
    "collapsed": false,
    "pycharm": {
     "name": "#%%\n"
    }
   }
  },
  {
   "cell_type": "code",
   "execution_count": 7,
   "outputs": [],
   "source": [
    "cleaned_df = df.loc[(df[\"year\"] > 2008) & (df[\"FLOW\"] > 5000)].dropna()"
   ],
   "metadata": {
    "collapsed": false,
    "pycharm": {
     "name": "#%%\n"
    }
   }
  },
  {
   "cell_type": "code",
   "execution_count": 8,
   "outputs": [
    {
     "data": {
      "text/plain": "(119340, 14)"
     },
     "execution_count": 8,
     "metadata": {},
     "output_type": "execute_result"
    }
   ],
   "source": [
    "cleaned_df.shape"
   ],
   "metadata": {
    "collapsed": false,
    "pycharm": {
     "name": "#%%\n"
    }
   }
  },
  {
   "cell_type": "code",
   "execution_count": 9,
   "outputs": [
    {
     "data": {
      "text/plain": "(array([10420., 14946., 17672., 20725., 21039., 17016., 10970.,  5127.,\n         1295.,   130.]),\n array([ 8.51727519, 10.30265203, 12.08802887, 13.87340571, 15.65878255,\n        17.44415939, 19.22953623, 21.01491307, 22.80028991, 24.58566675,\n        26.37104358]),\n <BarContainer object of 10 artists>)"
     },
     "execution_count": 9,
     "metadata": {},
     "output_type": "execute_result"
    },
    {
     "data": {
      "text/plain": "<Figure size 432x288 with 1 Axes>",
      "image/png": "[encoded data removed]"
     },
     "metadata": {
      "needs_background": "light"
     },
     "output_type": "display_data"
    }
   ],
   "source": [
    "plt.hist(np.log(cleaned_df[\"FLOW\"]))"
   ],
   "metadata": {
    "collapsed": false,
    "pycharm": {
     "name": "#%%\n"
    }
   }
  },
  {
   "cell_type": "code",
   "execution_count": 10,
   "outputs": [
    {
     "data": {
      "text/plain": "(array([  113.,   578.,  5979.,  8962., 22585., 25555., 23483., 17924.,\n        11164.,  2997.]),\n array([16.67179086, 18.00435223, 19.33691359, 20.66947496, 22.00203632,\n        23.33459769, 24.66715906, 25.99972042, 27.33228179, 28.66484315,\n        29.99740452]),\n <BarContainer object of 10 artists>)"
     },
     "execution_count": 10,
     "metadata": {},
     "output_type": "execute_result"
    },
    {
     "data": {
      "text/plain": "<Figure size 432x288 with 1 Axes>",
      "image/png": "[encoded data removed]"
     },
     "metadata": {
      "needs_background": "light"
     },
     "output_type": "display_data"
    }
   ],
   "source": [
    "plt.hist(np.log(cleaned_df[\"GDP_d\"]))"
   ],
   "metadata": {
    "collapsed": false,
    "pycharm": {
     "name": "#%%\n"
    }
   }
  },
  {
   "cell_type": "code",
   "execution_count": 11,
   "outputs": [],
   "source": [
    "transformed_df = np.log(cleaned_df[[\"GDP_o\", \"GDP_d\", \"POP_o\", \"POP_d\", \"Distw\", \"XPTOT_o\", \"FLOW\"]])"
   ],
   "metadata": {
    "collapsed": false,
    "pycharm": {
     "name": "#%%\n"
    }
   }
  },
  {
   "cell_type": "code",
   "execution_count": 12,
   "outputs": [],
   "source": [
    "remaining_df = cleaned_df[[\"Comlang\", \"Contig\", \"OECD_o\", \"OECD_d\",\n",
    "                           \"GATT_o\", \"GATT_d\", \"year\"]]"
   ],
   "metadata": {
    "collapsed": false,
    "pycharm": {
     "name": "#%%\n"
    }
   }
  },
  {
   "cell_type": "code",
   "execution_count": 13,
   "outputs": [],
   "source": [
    "final_df = pd.merge(transformed_df, remaining_df, left_index=True, right_index=True)"
   ],
   "metadata": {
    "collapsed": false,
    "pycharm": {
     "name": "#%%\n"
    }
   }
  },
  {
   "cell_type": "code",
   "execution_count": 14,
   "outputs": [
    {
     "data": {
      "text/plain": "             GDP_o      GDP_d     POP_o      POP_d     Distw    XPTOT_o  \\\n1707     21.201405  23.138376  4.624345  10.268449  9.485562  21.706029   \n1839     21.195837  25.815523  4.619231   8.949680  9.455095  21.033409   \n1841     21.201405  26.105600  4.624345   9.075061  9.455095  21.706029   \n1874     21.195837  26.211230  4.619231  10.616404  8.554063  21.033409   \n1876     21.201405  26.576049  4.624345  10.637192  8.554063  21.706029   \n...            ...        ...       ...        ...       ...        ...   \n2502422  22.531198  23.297056  9.544946   9.540898  6.369551  21.451044   \n2502423  22.645795  23.407163  9.564905   9.571054  6.369551  21.508108   \n2502424  22.783164  23.504854  9.586410   9.601475  6.369551  21.622516   \n2502425  22.878414  23.610278  9.608988   9.632078  6.369551  21.531294   \n2502426  22.878266  23.526052  9.632063   9.662774  6.369551  21.460131   \n\n              FLOW  Comlang  Contig  OECD_o  OECD_d  GATT_o  GATT_d  year  \n1707     11.005971      0.0     0.0     0.0     0.0     0.0     0.0  2011  \n1839      9.323274      0.0     0.0     0.0     0.0     0.0     1.0  2009  \n1841     11.640235      0.0     0.0     0.0     0.0     0.0     1.0  2011  \n1874     13.704223      0.0     0.0     0.0     0.0     0.0     1.0  2009  \n1876     16.525571      0.0     0.0     0.0     0.0     0.0     1.0  2011  \n...            ...      ...     ...     ...     ...     ...     ...   ...  \n2502422  17.656215      1.0     1.0     0.0     0.0     1.0     1.0  2010  \n2502423  17.825955      1.0     1.0     0.0     0.0     1.0     1.0  2011  \n2502424  17.889437      1.0     1.0     0.0     0.0     1.0     1.0  2012  \n2502425  18.170549      1.0     1.0     0.0     0.0     1.0     1.0  2013  \n2502426  17.949162      1.0     1.0     0.0     0.0     1.0     1.0  2014  \n\n[119340 rows x 14 columns]",
      "text/html": "<div>\n<style scoped>\n    .dataframe tbody tr th:only-of-type {\n        vertical-align: middle;\n    }\n\n    .dataframe tbody tr th {\n        vertical-align: top;\n    }\n\n    .dataframe thead th {\n        text-align: right;\n    }\n</style>\n<table border=\"1\" class=\"dataframe\">\n  <thead>\n    <tr style=\"text-align: right;\">\n      <th></th>\n      <th>GDP_o</th>\n      <th>GDP_d</th>\n      <th>POP_o</th>\n      <th>POP_d</th>\n      <th>Distw</th>\n      <th>XPTOT_o</th>\n      <th>FLOW</th>\n      <th>Comlang</th>\n      <th>Contig</th>\n      <th>OECD_o</th>\n      <th>OECD_d</th>\n      <th>GATT_o</th>\n      <th>GATT_d</th>\n      <th>year</th>\n    </tr>\n  </thead>\n  <tbody>\n    <tr>\n      <th>1707</th>\n      <td>21.201405</td>\n      <td>23.138376</td>\n      <td>4.624345</td>\n      <td>10.268449</td>\n      <td>9.485562</td>\n      <td>21.706029</td>\n      <td>11.005971</td>\n      <td>0.0</td>\n      <td>0.0</td>\n      <td>0.0</td>\n      <td>0.0</td>\n      <td>0.0</td>\n      <td>0.0</td>\n      <td>2011</td>\n    </tr>\n    <tr>\n      <th>1839</th>\n      <td>21.195837</td>\n      <td>25.815523</td>\n      <td>4.619231</td>\n      <td>8.949680</td>\n      <td>9.455095</td>\n      <td>21.033409</td>\n      <td>9.323274</td>\n      <td>0.0</td>\n      <td>0.0</td>\n      <td>0.0</td>\n      <td>0.0</td>\n      <td>0.0</td>\n      <td>1.0</td>\n      <td>2009</td>\n    </tr>\n    <tr>\n      <th>1841</th>\n      <td>21.201405</td>\n      <td>26.105600</td>\n      <td>4.624345</td>\n      <td>9.075061</td>\n      <td>9.455095</td>\n      <td>21.706029</td>\n      <td>11.640235</td>\n      <td>0.0</td>\n      <td>0.0</td>\n      <td>0.0</td>\n      <td>0.0</td>\n      <td>0.0</td>\n      <td>1.0</td>\n      <td>2011</td>\n    </tr>\n    <tr>\n      <th>1874</th>\n      <td>21.195837</td>\n      <td>26.211230</td>\n      <td>4.619231</td>\n      <td>10.616404</td>\n      <td>8.554063</td>\n      <td>21.033409</td>\n      <td>13.704223</td>\n      <td>0.0</td>\n      <td>0.0</td>\n      <td>0.0</td>\n      <td>0.0</td>\n      <td>0.0</td>\n      <td>1.0</td>\n      <td>2009</td>\n    </tr>\n    <tr>\n      <th>1876</th>\n      <td>21.201405</td>\n      <td>26.576049</td>\n      <td>4.624345</td>\n      <td>10.637192</td>\n      <td>8.554063</td>\n      <td>21.706029</td>\n      <td>16.525571</td>\n      <td>0.0</td>\n      <td>0.0</td>\n      <td>0.0</td>\n      <td>0.0</td>\n      <td>0.0</td>\n      <td>1.0</td>\n      <td>2011</td>\n    </tr>\n    <tr>\n      <th>...</th>\n      <td>...</td>\n      <td>...</td>\n      <td>...</td>\n      <td>...</td>\n      <td>...</td>\n      <td>...</td>\n      <td>...</td>\n      <td>...</td>\n      <td>...</td>\n      <td>...</td>\n      <td>...</td>\n      <td>...</td>\n      <td>...</td>\n      <td>...</td>\n    </tr>\n    <tr>\n      <th>2502422</th>\n      <td>22.531198</td>\n      <td>23.297056</td>\n      <td>9.544946</td>\n      <td>9.540898</td>\n      <td>6.369551</td>\n      <td>21.451044</td>\n      <td>17.656215</td>\n      <td>1.0</td>\n      <td>1.0</td>\n      <td>0.0</td>\n      <td>0.0</td>\n      <td>1.0</td>\n      <td>1.0</td>\n      <td>2010</td>\n    </tr>\n    <tr>\n      <th>2502423</th>\n      <td>22.645795</td>\n      <td>23.407163</td>\n      <td>9.564905</td>\n      <td>9.571054</td>\n      <td>6.369551</td>\n      <td>21.508108</td>\n      <td>17.825955</td>\n      <td>1.0</td>\n      <td>1.0</td>\n      <td>0.0</td>\n      <td>0.0</td>\n      <td>1.0</td>\n      <td>1.0</td>\n      <td>2011</td>\n    </tr>\n    <tr>\n      <th>2502424</th>\n      <td>22.783164</td>\n      <td>23.504854</td>\n      <td>9.586410</td>\n      <td>9.601475</td>\n      <td>6.369551</td>\n      <td>21.622516</td>\n      <td>17.889437</td>\n      <td>1.0</td>\n      <td>1.0</td>\n      <td>0.0</td>\n      <td>0.0</td>\n      <td>1.0</td>\n      <td>1.0</td>\n      <td>2012</td>\n    </tr>\n    <tr>\n      <th>2502425</th>\n      <td>22.878414</td>\n      <td>23.610278</td>\n      <td>9.608988</td>\n      <td>9.632078</td>\n      <td>6.369551</td>\n      <td>21.531294</td>\n      <td>18.170549</td>\n      <td>1.0</td>\n      <td>1.0</td>\n      <td>0.0</td>\n      <td>0.0</td>\n      <td>1.0</td>\n      <td>1.0</td>\n      <td>2013</td>\n    </tr>\n    <tr>\n      <th>2502426</th>\n      <td>22.878266</td>\n      <td>23.526052</td>\n      <td>9.632063</td>\n      <td>9.662774</td>\n      <td>6.369551</td>\n      <td>21.460131</td>\n      <td>17.949162</td>\n      <td>1.0</td>\n      <td>1.0</td>\n      <td>0.0</td>\n      <td>0.0</td>\n      <td>1.0</td>\n      <td>1.0</td>\n      <td>2014</td>\n    </tr>\n  </tbody>\n</table>\n<p>119340 rows × 14 columns</p>\n</div>"
     },
     "execution_count": 14,
     "metadata": {},
     "output_type": "execute_result"
    }
   ],
   "source": [
    "final_df"
   ],
   "metadata": {
    "collapsed": false,
    "pycharm": {
     "name": "#%%\n"
    }
   }
  },
  {
   "cell_type": "code",
   "execution_count": 15,
   "outputs": [],
   "source": [
    "from sklearn.model_selection import train_test_split\n",
    "\n",
    "final_df = final_df.drop([\"year\"], axis=1)"
   ],
   "metadata": {
    "collapsed": false,
    "pycharm": {
     "name": "#%%\n"
    }
   }
  },
  {
   "cell_type": "code",
   "execution_count": 16,
   "outputs": [
    {
     "data": {
      "text/plain": "             GDP_o      GDP_d     POP_o      POP_d     Distw    XPTOT_o  \\\n1707     21.201405  23.138376  4.624345  10.268449  9.485562  21.706029   \n1839     21.195837  25.815523  4.619231   8.949680  9.455095  21.033409   \n1841     21.201405  26.105600  4.624345   9.075061  9.455095  21.706029   \n1874     21.195837  26.211230  4.619231  10.616404  8.554063  21.033409   \n1876     21.201405  26.576049  4.624345  10.637192  8.554063  21.706029   \n...            ...        ...       ...        ...       ...        ...   \n2502422  22.531198  23.297056  9.544946   9.540898  6.369551  21.451044   \n2502423  22.645795  23.407163  9.564905   9.571054  6.369551  21.508108   \n2502424  22.783164  23.504854  9.586410   9.601475  6.369551  21.622516   \n2502425  22.878414  23.610278  9.608988   9.632078  6.369551  21.531294   \n2502426  22.878266  23.526052  9.632063   9.662774  6.369551  21.460131   \n\n              FLOW  Comlang  Contig  OECD_o  OECD_d  GATT_o  GATT_d  \n1707     11.005971      0.0     0.0     0.0     0.0     0.0     0.0  \n1839      9.323274      0.0     0.0     0.0     0.0     0.0     1.0  \n1841     11.640235      0.0     0.0     0.0     0.0     0.0     1.0  \n1874     13.704223      0.0     0.0     0.0     0.0     0.0     1.0  \n1876     16.525571      0.0     0.0     0.0     0.0     0.0     1.0  \n...            ...      ...     ...     ...     ...     ...     ...  \n2502422  17.656215      1.0     1.0     0.0     0.0     1.0     1.0  \n2502423  17.825955      1.0     1.0     0.0     0.0     1.0     1.0  \n2502424  17.889437      1.0     1.0     0.0     0.0     1.0     1.0  \n2502425  18.170549      1.0     1.0     0.0     0.0     1.0     1.0  \n2502426  17.949162      1.0     1.0     0.0     0.0     1.0     1.0  \n\n[119340 rows x 13 columns]",
      "text/html": "<div>\n<style scoped>\n    .dataframe tbody tr th:only-of-type {\n        vertical-align: middle;\n    }\n\n    .dataframe tbody tr th {\n        vertical-align: top;\n    }\n\n    .dataframe thead th {\n        text-align: right;\n    }\n</style>\n<table border=\"1\" class=\"dataframe\">\n  <thead>\n    <tr style=\"text-align: right;\">\n      <th></th>\n      <th>GDP_o</th>\n      <th>GDP_d</th>\n      <th>POP_o</th>\n      <th>POP_d</th>\n      <th>Distw</th>\n      <th>XPTOT_o</th>\n      <th>FLOW</th>\n      <th>Comlang</th>\n      <th>Contig</th>\n      <th>OECD_o</th>\n      <th>OECD_d</th>\n      <th>GATT_o</th>\n      <th>GATT_d</th>\n    </tr>\n  </thead>\n  <tbody>\n    <tr>\n      <th>1707</th>\n      <td>21.201405</td>\n      <td>23.138376</td>\n      <td>4.624345</td>\n      <td>10.268449</td>\n      <td>9.485562</td>\n      <td>21.706029</td>\n      <td>11.005971</td>\n      <td>0.0</td>\n      <td>0.0</td>\n      <td>0.0</td>\n      <td>0.0</td>\n      <td>0.0</td>\n      <td>0.0</td>\n    </tr>\n    <tr>\n      <th>1839</th>\n      <td>21.195837</td>\n      <td>25.815523</td>\n      <td>4.619231</td>\n      <td>8.949680</td>\n      <td>9.455095</td>\n      <td>21.033409</td>\n      <td>9.323274</td>\n      <td>0.0</td>\n      <td>0.0</td>\n      <td>0.0</td>\n      <td>0.0</td>\n      <td>0.0</td>\n      <td>1.0</td>\n    </tr>\n    <tr>\n      <th>1841</th>\n      <td>21.201405</td>\n      <td>26.105600</td>\n      <td>4.624345</td>\n      <td>9.075061</td>\n      <td>9.455095</td>\n      <td>21.706029</td>\n      <td>11.640235</td>\n      <td>0.0</td>\n      <td>0.0</td>\n      <td>0.0</td>\n      <td>0.0</td>\n      <td>0.0</td>\n      <td>1.0</td>\n    </tr>\n    <tr>\n      <th>1874</th>\n      <td>21.195837</td>\n      <td>26.211230</td>\n      <td>4.619231</td>\n      <td>10.616404</td>\n      <td>8.554063</td>\n      <td>21.033409</td>\n      <td>13.704223</td>\n      <td>0.0</td>\n      <td>0.0</td>\n      <td>0.0</td>\n      <td>0.0</td>\n      <td>0.0</td>\n      <td>1.0</td>\n    </tr>\n    <tr>\n      <th>1876</th>\n      <td>21.201405</td>\n      <td>26.576049</td>\n      <td>4.624345</td>\n      <td>10.637192</td>\n      <td>8.554063</td>\n      <td>21.706029</td>\n      <td>16.525571</td>\n      <td>0.0</td>\n      <td>0.0</td>\n      <td>0.0</td>\n      <td>0.0</td>\n      <td>0.0</td>\n      <td>1.0</td>\n    </tr>\n    <tr>\n      <th>...</th>\n      <td>...</td>\n      <td>...</td>\n      <td>...</td>\n      <td>...</td>\n      <td>...</td>\n      <td>...</td>\n      <td>...</td>\n      <td>...</td>\n      <td>...</td>\n      <td>...</td>\n      <td>...</td>\n      <td>...</td>\n      <td>...</td>\n    </tr>\n    <tr>\n      <th>2502422</th>\n      <td>22.531198</td>\n      <td>23.297056</td>\n      <td>9.544946</td>\n      <td>9.540898</td>\n      <td>6.369551</td>\n      <td>21.451044</td>\n      <td>17.656215</td>\n      <td>1.0</td>\n      <td>1.0</td>\n      <td>0.0</td>\n      <td>0.0</td>\n      <td>1.0</td>\n      <td>1.0</td>\n    </tr>\n    <tr>\n      <th>2502423</th>\n      <td>22.645795</td>\n      <td>23.407163</td>\n      <td>9.564905</td>\n      <td>9.571054</td>\n      <td>6.369551</td>\n      <td>21.508108</td>\n      <td>17.825955</td>\n      <td>1.0</td>\n      <td>1.0</td>\n      <td>0.0</td>\n      <td>0.0</td>\n      <td>1.0</td>\n      <td>1.0</td>\n    </tr>\n    <tr>\n      <th>2502424</th>\n      <td>22.783164</td>\n      <td>23.504854</td>\n      <td>9.586410</td>\n      <td>9.601475</td>\n      <td>6.369551</td>\n      <td>21.622516</td>\n      <td>17.889437</td>\n      <td>1.0</td>\n      <td>1.0</td>\n      <td>0.0</td>\n      <td>0.0</td>\n      <td>1.0</td>\n      <td>1.0</td>\n    </tr>\n    <tr>\n      <th>2502425</th>\n      <td>22.878414</td>\n      <td>23.610278</td>\n      <td>9.608988</td>\n      <td>9.632078</td>\n      <td>6.369551</td>\n      <td>21.531294</td>\n      <td>18.170549</td>\n      <td>1.0</td>\n      <td>1.0</td>\n      <td>0.0</td>\n      <td>0.0</td>\n      <td>1.0</td>\n      <td>1.0</td>\n    </tr>\n    <tr>\n      <th>2502426</th>\n      <td>22.878266</td>\n      <td>23.526052</td>\n      <td>9.632063</td>\n      <td>9.662774</td>\n      <td>6.369551</td>\n      <td>21.460131</td>\n      <td>17.949162</td>\n      <td>1.0</td>\n      <td>1.0</td>\n      <td>0.0</td>\n      <td>0.0</td>\n      <td>1.0</td>\n      <td>1.0</td>\n    </tr>\n  </tbody>\n</table>\n<p>119340 rows × 13 columns</p>\n</div>"
     },
     "execution_count": 16,
     "metadata": {},
     "output_type": "execute_result"
    }
   ],
   "source": [
    "final_df"
   ],
   "metadata": {
    "collapsed": false,
    "pycharm": {
     "name": "#%%\n"
    }
   }
  },
  {
   "cell_type": "code",
   "execution_count": 17,
   "outputs": [
    {
     "data": {
      "text/plain": "Index(['GDP_o', 'GDP_d', 'POP_o', 'POP_d', 'Distw', 'XPTOT_o', 'FLOW',\n       'Comlang', 'Contig', 'OECD_o', 'OECD_d', 'GATT_o', 'GATT_d'],\n      dtype='object')"
     },
     "execution_count": 17,
     "metadata": {},
     "output_type": "execute_result"
    }
   ],
   "source": [
    "final_df.columns"
   ],
   "metadata": {
    "collapsed": false,
    "pycharm": {
     "name": "#%%\n"
    }
   }
  },
  {
   "cell_type": "code",
   "execution_count": 18,
   "outputs": [],
   "source": [
    "X = final_df[[\"GDP_o\", \"GDP_d\", \"POP_o\", \"POP_d\", \"Distw\", \"Comlang\", \"Contig\", \"OECD_o\", \"OECD_d\",\"GATT_o\", \"GATT_d\", \"XPTOT_o\"]]\n",
    "\n",
    "y = final_df[[\"FLOW\"]]"
   ],
   "metadata": {
    "collapsed": false,
    "pycharm": {
     "name": "#%%\n"
    }
   }
  },
  {
   "cell_type": "code",
   "execution_count": 19,
   "outputs": [],
   "source": [
    "X_val = X.values\n",
    "y_val = y.values"
   ],
   "metadata": {
    "collapsed": false,
    "pycharm": {
     "name": "#%%\n"
    }
   }
  },
  {
   "cell_type": "code",
   "execution_count": 20,
   "outputs": [],
   "source": [
    "from sklearn.preprocessing import StandardScaler\n",
    "PredictorScaler=StandardScaler()\n",
    "TargetVarScaler=StandardScaler()\n",
    "\n",
    "# Storing the fit object for later reference\n",
    "PredictorScalerFit=PredictorScaler.fit(X_val)\n",
    "TargetVarScalerFit=TargetVarScaler.fit(y_val)\n",
    "\n",
    "# Generating the standardized values of X and y\n",
    "X_val=PredictorScalerFit.transform(X_val)\n",
    "y_val=TargetVarScalerFit.transform(y_val)"
   ],
   "metadata": {
    "collapsed": false,
    "pycharm": {
     "name": "#%%\n"
    }
   }
  },
  {
   "cell_type": "code",
   "execution_count": 21,
   "outputs": [],
   "source": [
    "from sklearn.model_selection import train_test_split\n",
    "X_train, X_test, y_train, y_test = train_test_split(X_val, y_val, test_size=0.25, random_state=42)"
   ],
   "metadata": {
    "collapsed": false,
    "pycharm": {
     "name": "#%%\n"
    }
   }
  },
  {
   "cell_type": "code",
   "execution_count": 22,
   "outputs": [
    {
     "name": "stdout",
     "output_type": "stream",
     "text": [
      "(89505, 12)\n",
      "(89505, 1)\n",
      "(29835, 12)\n",
      "(29835, 1)\n"
     ]
    }
   ],
   "source": [
    "print(X_train.shape)\n",
    "print(y_train.shape)\n",
    "print(X_test.shape)\n",
    "print(y_test.shape)"
   ],
   "metadata": {
    "collapsed": false,
    "pycharm": {
     "name": "#%%\n"
    }
   }
  },
  {
   "cell_type": "code",
   "execution_count": 23,
   "outputs": [],
   "source": [
    "from keras.models import Sequential\n",
    "from keras.layers import Dense"
   ],
   "metadata": {
    "collapsed": false,
    "pycharm": {
     "name": "#%%\n"
    }
   }
  },
  {
   "cell_type": "code",
   "execution_count": 26,
   "outputs": [
    {
     "name": "stdout",
     "output_type": "stream",
     "text": [
      "Epoch 1/20\n",
      "  22/3357 [..............................] - ETA: 17s - loss: 1.0446"
     ]
    },
    {
     "name": "stderr",
     "output_type": "stream",
     "text": [
      "2022-11-20 10:25:37.587053: I tensorflow/core/grappler/optimizers/custom_graph_optimizer_registry.cc:113] Plugin optimizer for device_type GPU is enabled.\n"
     ]
    },
    {
     "name": "stdout",
     "output_type": "stream",
     "text": [
      "3353/3357 [============================>.] - ETA: 0s - loss: 0.3473"
     ]
    },
    {
     "name": "stderr",
     "output_type": "stream",
     "text": [
      "2022-11-20 10:25:53.683151: I tensorflow/core/grappler/optimizers/custom_graph_optimizer_registry.cc:113] Plugin optimizer for device_type GPU is enabled.\n"
     ]
    },
    {
     "name": "stdout",
     "output_type": "stream",
     "text": [
      "3357/3357 [==============================] - 19s 6ms/step - loss: 0.3475 - val_loss: 0.3103\n",
      "Epoch 2/20\n",
      "3357/3357 [==============================] - 18s 5ms/step - loss: 0.3094 - val_loss: 0.3072\n",
      "Epoch 3/20\n",
      "3357/3357 [==============================] - 18s 5ms/step - loss: 0.3060 - val_loss: 0.3036\n",
      "Epoch 4/20\n",
      "3357/3357 [==============================] - 18s 5ms/step - loss: 0.3039 - val_loss: 0.3024\n",
      "Epoch 5/20\n",
      "3357/3357 [==============================] - 18s 5ms/step - loss: 0.3033 - val_loss: 0.3050\n",
      "Epoch 6/20\n",
      "3357/3357 [==============================] - 18s 5ms/step - loss: 0.3030 - val_loss: 0.3040\n",
      "Epoch 7/20\n",
      "3357/3357 [==============================] - 18s 5ms/step - loss: 0.3030 - val_loss: 0.3014\n",
      "Epoch 8/20\n",
      "3357/3357 [==============================] - 17s 5ms/step - loss: 0.3025 - val_loss: 0.3036\n",
      "Epoch 9/20\n",
      "3357/3357 [==============================] - 19s 6ms/step - loss: 0.3023 - val_loss: 0.3019\n",
      "Epoch 10/20\n",
      "3357/3357 [==============================] - 18s 5ms/step - loss: 0.3022 - val_loss: 0.3029\n",
      "Epoch 11/20\n",
      "3357/3357 [==============================] - 19s 6ms/step - loss: 0.3022 - val_loss: 0.3014\n",
      "Epoch 12/20\n",
      "3357/3357 [==============================] - 18s 5ms/step - loss: 0.3019 - val_loss: 0.3012\n",
      "Epoch 13/20\n",
      "3357/3357 [==============================] - 18s 5ms/step - loss: 0.3016 - val_loss: 0.3008\n",
      "Epoch 14/20\n",
      "3357/3357 [==============================] - 18s 5ms/step - loss: 0.3014 - val_loss: 0.3025\n",
      "Epoch 15/20\n",
      "3357/3357 [==============================] - 18s 5ms/step - loss: 0.3014 - val_loss: 0.3022\n",
      "Epoch 16/20\n",
      "3357/3357 [==============================] - 17s 5ms/step - loss: 0.3010 - val_loss: 0.3010\n",
      "Epoch 17/20\n",
      "3357/3357 [==============================] - 17s 5ms/step - loss: 0.3011 - val_loss: 0.3021\n",
      "Epoch 18/20\n",
      "3357/3357 [==============================] - 18s 5ms/step - loss: 0.3012 - val_loss: 0.3013\n",
      "Epoch 19/20\n",
      "3357/3357 [==============================] - 18s 5ms/step - loss: 0.3009 - val_loss: 0.3013\n",
      "Epoch 20/20\n",
      "3357/3357 [==============================] - 18s 5ms/step - loss: 0.3009 - val_loss: 0.3016\n"
     ]
    }
   ],
   "source": [
    "# create ANN model\n",
    "model = Sequential()\n",
    "\n",
    "# Defining the Input layer and FIRST hidden layer, both are same!\n",
    "model.add(Dense(units=5, input_dim=12, kernel_initializer='normal', activation='relu'))\n",
    "\n",
    "# Defining the Second layer of the model\n",
    "# after the first layer we don't have to specify input_dim as keras configure it automatically\n",
    "model.add(Dense(units=5, kernel_initializer='normal', activation='tanh'))\n",
    "\n",
    "# The output neuron is a single fully connected node\n",
    "# Since we will be predicting a single number\n",
    "model.add(Dense(1, kernel_initializer='normal'))\n",
    "\n",
    "# Compiling the model\n",
    "model.compile(loss='mean_squared_error', optimizer='adam')\n",
    "\n",
    "# Fitting the ANN to the Training set\n",
    "history = model.fit(X_train, y_train, validation_split=0.25, batch_size = 20, epochs = 20, verbose=1)"
   ],
   "metadata": {
    "collapsed": false,
    "pycharm": {
     "name": "#%%\n"
    }
   }
  },
  {
   "cell_type": "code",
   "execution_count": null,
   "outputs": [],
   "source": [],
   "metadata": {
    "collapsed": false,
    "pycharm": {
     "name": "#%%\n"
    }
   }
  },
  {
   "cell_type": "code",
   "execution_count": 27,
   "outputs": [
    {
     "name": "stdout",
     "output_type": "stream",
     "text": [
      " 84/933 [=>............................] - ETA: 1s"
     ]
    },
    {
     "name": "stderr",
     "output_type": "stream",
     "text": [
      "2022-11-20 10:32:47.293447: I tensorflow/core/grappler/optimizers/custom_graph_optimizer_registry.cc:113] Plugin optimizer for device_type GPU is enabled.\n"
     ]
    },
    {
     "name": "stdout",
     "output_type": "stream",
     "text": [
      "933/933 [==============================] - 2s 2ms/step\n"
     ]
    }
   ],
   "source": [
    "y_pred = model.predict(X_test)"
   ],
   "metadata": {
    "collapsed": false,
    "pycharm": {
     "name": "#%%\n"
    }
   }
  },
  {
   "cell_type": "code",
   "execution_count": 28,
   "outputs": [
    {
     "data": {
      "text/plain": "0.6996286"
     },
     "execution_count": 28,
     "metadata": {},
     "output_type": "execute_result"
    }
   ],
   "source": [
    "from tensorflow_addons.metrics.r_square import RSquare\n",
    "metric = RSquare()\n",
    "metric.update_state(y_test, y_pred)\n",
    "result = metric.result()\n",
    "result.numpy()"
   ],
   "metadata": {
    "collapsed": false,
    "pycharm": {
     "name": "#%%\n"
    }
   }
  },
  {
   "cell_type": "code",
   "execution_count": 29,
   "outputs": [
    {
     "data": {
      "text/plain": "<matplotlib.legend.Legend at 0x2f4ee54c0>"
     },
     "execution_count": 29,
     "metadata": {},
     "output_type": "execute_result"
    },
    {
     "data": {
      "text/plain": "<Figure size 432x288 with 1 Axes>",
      "image/png": "[encoded data removed]"
     },
     "metadata": {
      "needs_background": "light"
     },
     "output_type": "display_data"
    }
   ],
   "source": [
    "plt.plot(history.history['loss'], label = 'Loss')\n",
    "plt.plot(history.history['val_loss'], label = 'Validation Loss')\n",
    "plt.xlabel('Epochs')\n",
    "plt.ylabel('Loss')\n",
    "plt.legend(loc = \"upper right\")"
   ],
   "metadata": {
    "collapsed": false,
    "pycharm": {
     "name": "#%%\n"
    }
   }
  },
  {
   "cell_type": "code",
   "execution_count": 31,
   "outputs": [],
   "source": [
    "model.save(\"//Users/prateekrao/Desktop/model.h5\")"
   ],
   "metadata": {
    "collapsed": false,
    "pycharm": {
     "name": "#%%\n"
    }
   }
  },
  {
   "cell_type": "code",
   "execution_count": null,
   "outputs": [],
   "source": [],
   "metadata": {
    "collapsed": false,
    "pycharm": {
     "name": "#%%\n"
    }
   }
  }
 ],
 "metadata": {
  "kernelspec": {
   "display_name": "Python 3",
   "language": "python",
   "name": "python3"
  },
  "language_info": {
   "codemirror_mode": {
    "name": "ipython",
    "version": 2
   },
   "file_extension": ".py",
   "mimetype": "text/x-python",
   "name": "python",
   "nbconvert_exporter": "python",
   "pygments_lexer": "ipython2",
   "version": "2.7.6"
  }
 },
 "nbformat": 4,
 "nbformat_minor": 0
}