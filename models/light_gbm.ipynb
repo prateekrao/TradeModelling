{
 "cells": [
  {
   "cell_type": "code",
   "execution_count": 1,
   "outputs": [],
   "source": [
    "import numpy as np\n",
    "import pandas as pd\n",
    "import featuretools as ft\n",
    "import matplotlib.pyplot as plt\n",
    "import seaborn as sns\n",
    "import warnings\n",
    "\n",
    "warnings.filterwarnings('ignore')\n",
    "import lightgbm as lgb\n",
    "from sklearn.model_selection import train_test_split"
   ],
   "metadata": {
    "collapsed": false,
    "pycharm": {
     "name": "#%%\n"
    }
   }
  },
  {
   "cell_type": "code",
   "execution_count": 2,
   "outputs": [],
   "source": [
    "PATH = \"../datasets/tradhist.csv\"\n",
    "df = pd.read_csv(PATH)"
   ],
   "metadata": {
    "collapsed": false,
    "pycharm": {
     "name": "#%%\n"
    }
   }
  },
  {
   "cell_type": "code",
   "execution_count": 26,
   "outputs": [
    {
     "data": {
      "text/plain": "Index(['Unnamed: 0', 'iso_o', 'iso_d', 'year', 'FLOW', 'FLOW_0', 'SOURCE_TF',\n       'GDP_o', 'SOURCE_GDP_o', 'GDP_d', 'SOURCE_GDP_d', 'SH_PRIM_o',\n       'SOURCE_SH_PRIM_o', 'SH_SECD_o', 'SOURCE_SH_SECD_o', 'SH_PRIM_d',\n       'SOURCE_SH_PRIM_d', 'SH_SECD_d', 'SOURCE_SH_SECD_d', 'POP_o', 'POP_d',\n       'SOURCE_POP_o', 'SOURCE_POP_d', 'IPTOT_o', 'SOURCE_IPTOT_o', 'IPTOT_d',\n       'SOURCE_IPTOT_d', 'XPTOT_o', 'SOURCE_XPTOT_o', 'XPTOT_d',\n       'SOURCE_XPTOT_d', 'BITARIFF', 'TARIFF_o', 'SOURCE_TARIFF_o', 'TARIFF_d',\n       'SOURCE_TARIFF_d', 'Distw', 'Dist_coord', 'Dist_o', 'Dist_d',\n       'SeaDist_SHRT', 'SeaDist_2CST', 'Comlang', 'Contig', 'Curcol', 'Metro',\n       'Colo', 'Curcol_o', 'Curcol_d', 'Evercol', 'XCH_RATE_o', 'SOURCE_XCH_o',\n       'XCH_RATE_d', 'SOURCE_XCH_d', 'CONTI_o', 'CONTI_d', 'REGIO_o',\n       'REGIO_d', 'OECD_o', 'OECD_d', 'EU_o', 'EU_d', 'GATT_o', 'GATT_d'],\n      dtype='object')"
     },
     "execution_count": 26,
     "metadata": {},
     "output_type": "execute_result"
    }
   ],
   "source": [
    "df.columns"
   ],
   "metadata": {
    "collapsed": false,
    "pycharm": {
     "name": "#%%\n"
    }
   }
  },
  {
   "cell_type": "code",
   "execution_count": 35,
   "outputs": [
    {
     "data": {
      "text/plain": "(2502427, 19)"
     },
     "execution_count": 35,
     "metadata": {},
     "output_type": "execute_result"
    }
   ],
   "source": [
    "features = [\"GDP_o\", \"GDP_d\", \"POP_o\", \"POP_d\", \"Distw\", \"Comlang\", \"Contig\", \"OECD_o\", \"OECD_d\",\n",
    "            \"GATT_o\", \"GATT_d\", \"XPTOT_o\", \"year\", \"FLOW\", 'IPTOT_d', 'IPTOT_o', 'XPTOT_d', \"iso_o\", \"iso_d\"]\n",
    "new_df = df[features]\n",
    "new_df.shape"
   ],
   "metadata": {
    "collapsed": false,
    "pycharm": {
     "name": "#%%\n"
    }
   }
  },
  {
   "cell_type": "code",
   "execution_count": 8,
   "outputs": [
    {
     "data": {
      "text/plain": "(129408, 17)"
     },
     "execution_count": 8,
     "metadata": {},
     "output_type": "execute_result"
    }
   ],
   "source": [
    "cleaned_df = new_df.loc[(new_df[\"year\"] > 2008) & (new_df[\"FLOW\"] > 100)].dropna()\n",
    "cleaned_df.shape"
   ],
   "metadata": {
    "collapsed": false,
    "pycharm": {
     "name": "#%%\n"
    }
   }
  },
  {
   "cell_type": "code",
   "execution_count": 9,
   "outputs": [
    {
     "data": {
      "text/plain": "                GDP_o         GDP_d      POP_o      POP_d         Distw  \\\n1707     1.613070e+09  1.119100e+10    101.936  28809.168  13168.223762   \n1839     1.604113e+09  1.627569e+11    101.416   7705.423  12773.079714   \n1841     1.613070e+09  2.175294e+11    101.936   8734.722  12773.079714   \n1874     1.604113e+09  2.417646e+11    101.416  40798.640   5187.787570   \n1875     1.597046e+09  2.987639e+11    101.597  41222.875   5187.787570   \n...               ...           ...        ...        ...           ...   \n2502422  6.097825e+09  1.311544e+10  13973.897  13917.439    583.795386   \n2502423  6.838230e+09  1.464204e+10  14255.592  14343.526    583.795386   \n2502424  7.845171e+09  1.614464e+10  14565.482  14786.581    583.795386   \n2502425  8.629172e+09  1.793963e+10  14898.092  15246.086    583.795386   \n2502426  8.627889e+09  1.649053e+10  15245.855  15721.343    583.795386   \n\n         Comlang  Contig  OECD_o  OECD_d  GATT_o  GATT_d       XPTOT_o  year  \\\n1707         0.0     0.0     0.0     0.0     0.0     0.0  2.671829e+09  2011   \n1839         0.0     0.0     0.0     0.0     0.0     1.0  1.363620e+09  2009   \n1841         0.0     0.0     0.0     0.0     0.0     1.0  2.671829e+09  2011   \n1874         0.0     0.0     0.0     0.0     0.0     1.0  1.363620e+09  2009   \n1875         0.0     0.0     0.0     0.0     0.0     1.0  1.848131e+08  2010   \n...          ...     ...     ...     ...     ...     ...           ...   ...   \n2502422      1.0     1.0     0.0     0.0     1.0     1.0  2.070475e+09  2010   \n2502423      1.0     1.0     0.0     0.0     1.0     1.0  2.192061e+09  2011   \n2502424      1.0     1.0     0.0     0.0     1.0     1.0  2.457760e+09  2012   \n2502425      1.0     1.0     0.0     0.0     1.0     1.0  2.243481e+09  2013   \n2502426      1.0     1.0     0.0     0.0     1.0     1.0  2.089376e+09  2014   \n\n                FLOW       IPTOT_d       IPTOT_o       XPTOT_d  \n1707        60232.73  6.612774e+09  3.692892e+09  3.224723e+08  \n1839        11195.58  9.999943e+10  1.571841e+09  1.232484e+11  \n1841       113576.80  1.365564e+11  3.692892e+09  1.884906e+11  \n1874       894681.06  2.489420e+10  1.571841e+09  3.806315e+10  \n1875          166.97  3.636240e+10  9.023266e+08  4.582931e+10  \n...              ...           ...           ...           ...  \n2502422  46558256.00  3.442585e+09  2.673542e+09  4.636377e+09  \n2502423  55171376.00  4.543546e+09  3.097955e+09  5.510135e+09  \n2502424  58787336.00  5.562818e+09  3.321382e+09  5.922680e+09  \n2502425  77869780.00  6.515267e+09  3.244361e+09  6.770876e+09  \n2502426  62405360.00  5.899204e+09  2.983128e+09  5.890915e+09  \n\n[129408 rows x 17 columns]",
      "text/html": "<div>\n<style scoped>\n    .dataframe tbody tr th:only-of-type {\n        vertical-align: middle;\n    }\n\n    .dataframe tbody tr th {\n        vertical-align: top;\n    }\n\n    .dataframe thead th {\n        text-align: right;\n    }\n</style>\n<table border=\"1\" class=\"dataframe\">\n  <thead>\n    <tr style=\"text-align: right;\">\n      <th></th>\n      <th>GDP_o</th>\n      <th>GDP_d</th>\n      <th>POP_o</th>\n      <th>POP_d</th>\n      <th>Distw</th>\n      <th>Comlang</th>\n      <th>Contig</th>\n      <th>OECD_o</th>\n      <th>OECD_d</th>\n      <th>GATT_o</th>\n      <th>GATT_d</th>\n      <th>XPTOT_o</th>\n      <th>year</th>\n      <th>FLOW</th>\n      <th>IPTOT_d</th>\n      <th>IPTOT_o</th>\n      <th>XPTOT_d</th>\n    </tr>\n  </thead>\n  <tbody>\n    <tr>\n      <th>1707</th>\n      <td>1.613070e+09</td>\n      <td>1.119100e+10</td>\n      <td>101.936</td>\n      <td>28809.168</td>\n      <td>13168.223762</td>\n      <td>0.0</td>\n      <td>0.0</td>\n      <td>0.0</td>\n      <td>0.0</td>\n      <td>0.0</td>\n      <td>0.0</td>\n      <td>2.671829e+09</td>\n      <td>2011</td>\n      <td>60232.73</td>\n      <td>6.612774e+09</td>\n      <td>3.692892e+09</td>\n      <td>3.224723e+08</td>\n    </tr>\n    <tr>\n      <th>1839</th>\n      <td>1.604113e+09</td>\n      <td>1.627569e+11</td>\n      <td>101.416</td>\n      <td>7705.423</td>\n      <td>12773.079714</td>\n      <td>0.0</td>\n      <td>0.0</td>\n      <td>0.0</td>\n      <td>0.0</td>\n      <td>0.0</td>\n      <td>1.0</td>\n      <td>1.363620e+09</td>\n      <td>2009</td>\n      <td>11195.58</td>\n      <td>9.999943e+10</td>\n      <td>1.571841e+09</td>\n      <td>1.232484e+11</td>\n    </tr>\n    <tr>\n      <th>1841</th>\n      <td>1.613070e+09</td>\n      <td>2.175294e+11</td>\n      <td>101.936</td>\n      <td>8734.722</td>\n      <td>12773.079714</td>\n      <td>0.0</td>\n      <td>0.0</td>\n      <td>0.0</td>\n      <td>0.0</td>\n      <td>0.0</td>\n      <td>1.0</td>\n      <td>2.671829e+09</td>\n      <td>2011</td>\n      <td>113576.80</td>\n      <td>1.365564e+11</td>\n      <td>3.692892e+09</td>\n      <td>1.884906e+11</td>\n    </tr>\n    <tr>\n      <th>1874</th>\n      <td>1.604113e+09</td>\n      <td>2.417646e+11</td>\n      <td>101.416</td>\n      <td>40798.640</td>\n      <td>5187.787570</td>\n      <td>0.0</td>\n      <td>0.0</td>\n      <td>0.0</td>\n      <td>0.0</td>\n      <td>0.0</td>\n      <td>1.0</td>\n      <td>1.363620e+09</td>\n      <td>2009</td>\n      <td>894681.06</td>\n      <td>2.489420e+10</td>\n      <td>1.571841e+09</td>\n      <td>3.806315e+10</td>\n    </tr>\n    <tr>\n      <th>1875</th>\n      <td>1.597046e+09</td>\n      <td>2.987639e+11</td>\n      <td>101.597</td>\n      <td>41222.875</td>\n      <td>5187.787570</td>\n      <td>0.0</td>\n      <td>0.0</td>\n      <td>0.0</td>\n      <td>0.0</td>\n      <td>0.0</td>\n      <td>1.0</td>\n      <td>1.848131e+08</td>\n      <td>2010</td>\n      <td>166.97</td>\n      <td>3.636240e+10</td>\n      <td>9.023266e+08</td>\n      <td>4.582931e+10</td>\n    </tr>\n    <tr>\n      <th>...</th>\n      <td>...</td>\n      <td>...</td>\n      <td>...</td>\n      <td>...</td>\n      <td>...</td>\n      <td>...</td>\n      <td>...</td>\n      <td>...</td>\n      <td>...</td>\n      <td>...</td>\n      <td>...</td>\n      <td>...</td>\n      <td>...</td>\n      <td>...</td>\n      <td>...</td>\n      <td>...</td>\n      <td>...</td>\n    </tr>\n    <tr>\n      <th>2502422</th>\n      <td>6.097825e+09</td>\n      <td>1.311544e+10</td>\n      <td>13973.897</td>\n      <td>13917.439</td>\n      <td>583.795386</td>\n      <td>1.0</td>\n      <td>1.0</td>\n      <td>0.0</td>\n      <td>0.0</td>\n      <td>1.0</td>\n      <td>1.0</td>\n      <td>2.070475e+09</td>\n      <td>2010</td>\n      <td>46558256.00</td>\n      <td>3.442585e+09</td>\n      <td>2.673542e+09</td>\n      <td>4.636377e+09</td>\n    </tr>\n    <tr>\n      <th>2502423</th>\n      <td>6.838230e+09</td>\n      <td>1.464204e+10</td>\n      <td>14255.592</td>\n      <td>14343.526</td>\n      <td>583.795386</td>\n      <td>1.0</td>\n      <td>1.0</td>\n      <td>0.0</td>\n      <td>0.0</td>\n      <td>1.0</td>\n      <td>1.0</td>\n      <td>2.192061e+09</td>\n      <td>2011</td>\n      <td>55171376.00</td>\n      <td>4.543546e+09</td>\n      <td>3.097955e+09</td>\n      <td>5.510135e+09</td>\n    </tr>\n    <tr>\n      <th>2502424</th>\n      <td>7.845171e+09</td>\n      <td>1.614464e+10</td>\n      <td>14565.482</td>\n      <td>14786.581</td>\n      <td>583.795386</td>\n      <td>1.0</td>\n      <td>1.0</td>\n      <td>0.0</td>\n      <td>0.0</td>\n      <td>1.0</td>\n      <td>1.0</td>\n      <td>2.457760e+09</td>\n      <td>2012</td>\n      <td>58787336.00</td>\n      <td>5.562818e+09</td>\n      <td>3.321382e+09</td>\n      <td>5.922680e+09</td>\n    </tr>\n    <tr>\n      <th>2502425</th>\n      <td>8.629172e+09</td>\n      <td>1.793963e+10</td>\n      <td>14898.092</td>\n      <td>15246.086</td>\n      <td>583.795386</td>\n      <td>1.0</td>\n      <td>1.0</td>\n      <td>0.0</td>\n      <td>0.0</td>\n      <td>1.0</td>\n      <td>1.0</td>\n      <td>2.243481e+09</td>\n      <td>2013</td>\n      <td>77869780.00</td>\n      <td>6.515267e+09</td>\n      <td>3.244361e+09</td>\n      <td>6.770876e+09</td>\n    </tr>\n    <tr>\n      <th>2502426</th>\n      <td>8.627889e+09</td>\n      <td>1.649053e+10</td>\n      <td>15245.855</td>\n      <td>15721.343</td>\n      <td>583.795386</td>\n      <td>1.0</td>\n      <td>1.0</td>\n      <td>0.0</td>\n      <td>0.0</td>\n      <td>1.0</td>\n      <td>1.0</td>\n      <td>2.089376e+09</td>\n      <td>2014</td>\n      <td>62405360.00</td>\n      <td>5.899204e+09</td>\n      <td>2.983128e+09</td>\n      <td>5.890915e+09</td>\n    </tr>\n  </tbody>\n</table>\n<p>129408 rows × 17 columns</p>\n</div>"
     },
     "execution_count": 9,
     "metadata": {},
     "output_type": "execute_result"
    }
   ],
   "source": [
    "cleaned_df"
   ],
   "metadata": {
    "collapsed": false,
    "pycharm": {
     "name": "#%%\n"
    }
   }
  },
  {
   "cell_type": "code",
   "execution_count": 10,
   "outputs": [],
   "source": [
    "cleaned_df = cleaned_df.drop([\"year\"], axis=1)\n",
    "X = cleaned_df[[\"GDP_o\", \"GDP_d\", \"POP_o\", \"POP_d\", \"Distw\", \"Comlang\", \"Contig\",\n",
    "                 \"XPTOT_o\", \"FLOW\", 'IPTOT_d', 'IPTOT_o', 'XPTOT_d']]\n",
    "\n",
    "y = cleaned_df[[\"FLOW\"]]"
   ],
   "metadata": {
    "collapsed": false,
    "pycharm": {
     "name": "#%%\n"
    }
   }
  },
  {
   "cell_type": "code",
   "execution_count": 11,
   "outputs": [],
   "source": [
    "X_train, X_test, y_train, y_test = train_test_split(X, y, test_size=0.25, random_state=42)"
   ],
   "metadata": {
    "collapsed": false,
    "pycharm": {
     "name": "#%%\n"
    }
   }
  },
  {
   "cell_type": "code",
   "execution_count": 12,
   "outputs": [
    {
     "data": {
      "text/plain": "(97056, 12)"
     },
     "execution_count": 12,
     "metadata": {},
     "output_type": "execute_result"
    }
   ],
   "source": [
    "X_train.shape"
   ],
   "metadata": {
    "collapsed": false,
    "pycharm": {
     "name": "#%%\n"
    }
   }
  },
  {
   "cell_type": "code",
   "execution_count": 13,
   "outputs": [
    {
     "data": {
      "text/plain": "(32352, 12)"
     },
     "execution_count": 13,
     "metadata": {},
     "output_type": "execute_result"
    }
   ],
   "source": [
    "X_test.shape"
   ],
   "metadata": {
    "collapsed": false,
    "pycharm": {
     "name": "#%%\n"
    }
   }
  },
  {
   "cell_type": "code",
   "execution_count": 14,
   "outputs": [],
   "source": [
    "train_features, valid_features, train_y, valid_y = train_test_split(X_train, y_train,\n",
    "                                                                    test_size = 0.25, random_state = 42)"
   ],
   "metadata": {
    "collapsed": false,
    "pycharm": {
     "name": "#%%\n"
    }
   }
  },
  {
   "cell_type": "code",
   "execution_count": 17,
   "outputs": [],
   "source": [
    "model = lgb.LGBMRegressor()"
   ],
   "metadata": {
    "collapsed": false,
    "pycharm": {
     "name": "#%%\n"
    }
   }
  },
  {
   "cell_type": "code",
   "execution_count": 18,
   "outputs": [
    {
     "data": {
      "text/plain": "LGBMRegressor()",
      "text/html": "<style>#sk-container-id-1 {color: black;background-color: white;}#sk-container-id-1 pre{padding: 0;}#sk-container-id-1 div.sk-toggleable {background-color: white;}#sk-container-id-1 label.sk-toggleable__label {cursor: pointer;display: block;width: 100%;margin-bottom: 0;padding: 0.3em;box-sizing: border-box;text-align: center;}#sk-container-id-1 label.sk-toggleable__label-arrow:before {content: \"▸\";float: left;margin-right: 0.25em;color: #696969;}#sk-container-id-1 label.sk-toggleable__label-arrow:hover:before {color: black;}#sk-container-id-1 div.sk-estimator:hover label.sk-toggleable__label-arrow:before {color: black;}#sk-container-id-1 div.sk-toggleable__content {max-height: 0;max-width: 0;overflow: hidden;text-align: left;background-color: #f0f8ff;}#sk-container-id-1 div.sk-toggleable__content pre {margin: 0.2em;color: black;border-radius: 0.25em;background-color: #f0f8ff;}#sk-container-id-1 input.sk-toggleable__control:checked~div.sk-toggleable__content {max-height: 200px;max-width: 100%;overflow: auto;}#sk-container-id-1 input.sk-toggleable__control:checked~label.sk-toggleable__label-arrow:before {content: \"▾\";}#sk-container-id-1 div.sk-estimator input.sk-toggleable__control:checked~label.sk-toggleable__label {background-color: #d4ebff;}#sk-container-id-1 div.sk-label input.sk-toggleable__control:checked~label.sk-toggleable__label {background-color: #d4ebff;}#sk-container-id-1 input.sk-hidden--visually {border: 0;clip: rect(1px 1px 1px 1px);clip: rect(1px, 1px, 1px, 1px);height: 1px;margin: -1px;overflow: hidden;padding: 0;position: absolute;width: 1px;}#sk-container-id-1 div.sk-estimator {font-family: monospace;background-color: #f0f8ff;border: 1px dotted black;border-radius: 0.25em;box-sizing: border-box;margin-bottom: 0.5em;}#sk-container-id-1 div.sk-estimator:hover {background-color: #d4ebff;}#sk-container-id-1 div.sk-parallel-item::after {content: \"\";width: 100%;border-bottom: 1px solid gray;flex-grow: 1;}#sk-container-id-1 div.sk-label:hover label.sk-toggleable__label {background-color: #d4ebff;}#sk-container-id-1 div.sk-serial::before {content: \"\";position: absolute;border-left: 1px solid gray;box-sizing: border-box;top: 0;bottom: 0;left: 50%;z-index: 0;}#sk-container-id-1 div.sk-serial {display: flex;flex-direction: column;align-items: center;background-color: white;padding-right: 0.2em;padding-left: 0.2em;position: relative;}#sk-container-id-1 div.sk-item {position: relative;z-index: 1;}#sk-container-id-1 div.sk-parallel {display: flex;align-items: stretch;justify-content: center;background-color: white;position: relative;}#sk-container-id-1 div.sk-item::before, #sk-container-id-1 div.sk-parallel-item::before {content: \"\";position: absolute;border-left: 1px solid gray;box-sizing: border-box;top: 0;bottom: 0;left: 50%;z-index: -1;}#sk-container-id-1 div.sk-parallel-item {display: flex;flex-direction: column;z-index: 1;position: relative;background-color: white;}#sk-container-id-1 div.sk-parallel-item:first-child::after {align-self: flex-end;width: 50%;}#sk-container-id-1 div.sk-parallel-item:last-child::after {align-self: flex-start;width: 50%;}#sk-container-id-1 div.sk-parallel-item:only-child::after {width: 0;}#sk-container-id-1 div.sk-dashed-wrapped {border: 1px dashed gray;margin: 0 0.4em 0.5em 0.4em;box-sizing: border-box;padding-bottom: 0.4em;background-color: white;}#sk-container-id-1 div.sk-label label {font-family: monospace;font-weight: bold;display: inline-block;line-height: 1.2em;}#sk-container-id-1 div.sk-label-container {text-align: center;}#sk-container-id-1 div.sk-container {/* jupyter's `normalize.less` sets `[hidden] { display: none; }` but bootstrap.min.css set `[hidden] { display: none !important; }` so we also need the `!important` here to be able to override the default hidden behavior on the sphinx rendered scikit-learn.org. See: https://github.com/scikit-learn/scikit-learn/issues/21755 */display: inline-block !important;position: relative;}#sk-container-id-1 div.sk-text-repr-fallback {display: none;}</style><div id=\"sk-container-id-1\" class=\"sk-top-container\"><div class=\"sk-text-repr-fallback\"><pre>LGBMRegressor()</pre><b>In a Jupyter environment, please rerun this cell to show the HTML representation or trust the notebook. <br />On GitHub, the HTML representation is unable to render, please try loading this page with nbviewer.org.</b></div><div class=\"sk-container\" hidden><div class=\"sk-item\"><div class=\"sk-estimator sk-toggleable\"><input class=\"sk-toggleable__control sk-hidden--visually\" id=\"sk-estimator-id-1\" type=\"checkbox\" checked><label for=\"sk-estimator-id-1\" class=\"sk-toggleable__label sk-toggleable__label-arrow\">LGBMRegressor</label><div class=\"sk-toggleable__content\"><pre>LGBMRegressor()</pre></div></div></div></div></div>"
     },
     "execution_count": 18,
     "metadata": {},
     "output_type": "execute_result"
    }
   ],
   "source": [
    "model.fit(train_features, train_y, early_stopping_rounds=100, eval_set = [(valid_features, valid_y)],\n",
    "          eval_metric = 'rmse', verbose = 200)"
   ],
   "metadata": {
    "collapsed": false,
    "pycharm": {
     "name": "#%%\n"
    }
   }
  },
  {
   "cell_type": "code",
   "execution_count": 19,
   "outputs": [
    {
     "data": {
      "text/plain": "0.9132605749387133"
     },
     "execution_count": 19,
     "metadata": {},
     "output_type": "execute_result"
    }
   ],
   "source": [
    "model.score(X_test, y_test)"
   ],
   "metadata": {
    "collapsed": false,
    "pycharm": {
     "name": "#%%\n"
    }
   }
  },
  {
   "cell_type": "code",
   "execution_count": 20,
   "outputs": [],
   "source": [
    "new_lgb = lgb.LGBMRegressor(n_estimators=10000)"
   ],
   "metadata": {
    "collapsed": false,
    "pycharm": {
     "name": "#%%\n"
    }
   }
  },
  {
   "cell_type": "code",
   "execution_count": 21,
   "outputs": [
    {
     "name": "stdout",
     "output_type": "stream",
     "text": [
      "[200]\tvalid_0's rmse: 1.06754e+09\tvalid_0's l2: 1.13964e+18\n",
      "[400]\tvalid_0's rmse: 1.00889e+09\tvalid_0's l2: 1.01786e+18\n",
      "[600]\tvalid_0's rmse: 9.88699e+08\tvalid_0's l2: 9.77525e+17\n",
      "[800]\tvalid_0's rmse: 9.81673e+08\tvalid_0's l2: 9.63683e+17\n",
      "[1000]\tvalid_0's rmse: 9.75293e+08\tvalid_0's l2: 9.51197e+17\n",
      "[1200]\tvalid_0's rmse: 9.67129e+08\tvalid_0's l2: 9.35338e+17\n",
      "[1400]\tvalid_0's rmse: 9.64505e+08\tvalid_0's l2: 9.3027e+17\n",
      "[1600]\tvalid_0's rmse: 9.63762e+08\tvalid_0's l2: 9.28838e+17\n",
      "[1800]\tvalid_0's rmse: 9.62985e+08\tvalid_0's l2: 9.27339e+17\n",
      "[2000]\tvalid_0's rmse: 9.62626e+08\tvalid_0's l2: 9.26649e+17\n",
      "[2200]\tvalid_0's rmse: 9.62349e+08\tvalid_0's l2: 9.26115e+17\n"
     ]
    },
    {
     "data": {
      "text/plain": "LGBMRegressor(n_estimators=10000)",
      "text/html": "<style>#sk-container-id-2 {color: black;background-color: white;}#sk-container-id-2 pre{padding: 0;}#sk-container-id-2 div.sk-toggleable {background-color: white;}#sk-container-id-2 label.sk-toggleable__label {cursor: pointer;display: block;width: 100%;margin-bottom: 0;padding: 0.3em;box-sizing: border-box;text-align: center;}#sk-container-id-2 label.sk-toggleable__label-arrow:before {content: \"▸\";float: left;margin-right: 0.25em;color: #696969;}#sk-container-id-2 label.sk-toggleable__label-arrow:hover:before {color: black;}#sk-container-id-2 div.sk-estimator:hover label.sk-toggleable__label-arrow:before {color: black;}#sk-container-id-2 div.sk-toggleable__content {max-height: 0;max-width: 0;overflow: hidden;text-align: left;background-color: #f0f8ff;}#sk-container-id-2 div.sk-toggleable__content pre {margin: 0.2em;color: black;border-radius: 0.25em;background-color: #f0f8ff;}#sk-container-id-2 input.sk-toggleable__control:checked~div.sk-toggleable__content {max-height: 200px;max-width: 100%;overflow: auto;}#sk-container-id-2 input.sk-toggleable__control:checked~label.sk-toggleable__label-arrow:before {content: \"▾\";}#sk-container-id-2 div.sk-estimator input.sk-toggleable__control:checked~label.sk-toggleable__label {background-color: #d4ebff;}#sk-container-id-2 div.sk-label input.sk-toggleable__control:checked~label.sk-toggleable__label {background-color: #d4ebff;}#sk-container-id-2 input.sk-hidden--visually {border: 0;clip: rect(1px 1px 1px 1px);clip: rect(1px, 1px, 1px, 1px);height: 1px;margin: -1px;overflow: hidden;padding: 0;position: absolute;width: 1px;}#sk-container-id-2 div.sk-estimator {font-family: monospace;background-color: #f0f8ff;border: 1px dotted black;border-radius: 0.25em;box-sizing: border-box;margin-bottom: 0.5em;}#sk-container-id-2 div.sk-estimator:hover {background-color: #d4ebff;}#sk-container-id-2 div.sk-parallel-item::after {content: \"\";width: 100%;border-bottom: 1px solid gray;flex-grow: 1;}#sk-container-id-2 div.sk-label:hover label.sk-toggleable__label {background-color: #d4ebff;}#sk-container-id-2 div.sk-serial::before {content: \"\";position: absolute;border-left: 1px solid gray;box-sizing: border-box;top: 0;bottom: 0;left: 50%;z-index: 0;}#sk-container-id-2 div.sk-serial {display: flex;flex-direction: column;align-items: center;background-color: white;padding-right: 0.2em;padding-left: 0.2em;position: relative;}#sk-container-id-2 div.sk-item {position: relative;z-index: 1;}#sk-container-id-2 div.sk-parallel {display: flex;align-items: stretch;justify-content: center;background-color: white;position: relative;}#sk-container-id-2 div.sk-item::before, #sk-container-id-2 div.sk-parallel-item::before {content: \"\";position: absolute;border-left: 1px solid gray;box-sizing: border-box;top: 0;bottom: 0;left: 50%;z-index: -1;}#sk-container-id-2 div.sk-parallel-item {display: flex;flex-direction: column;z-index: 1;position: relative;background-color: white;}#sk-container-id-2 div.sk-parallel-item:first-child::after {align-self: flex-end;width: 50%;}#sk-container-id-2 div.sk-parallel-item:last-child::after {align-self: flex-start;width: 50%;}#sk-container-id-2 div.sk-parallel-item:only-child::after {width: 0;}#sk-container-id-2 div.sk-dashed-wrapped {border: 1px dashed gray;margin: 0 0.4em 0.5em 0.4em;box-sizing: border-box;padding-bottom: 0.4em;background-color: white;}#sk-container-id-2 div.sk-label label {font-family: monospace;font-weight: bold;display: inline-block;line-height: 1.2em;}#sk-container-id-2 div.sk-label-container {text-align: center;}#sk-container-id-2 div.sk-container {/* jupyter's `normalize.less` sets `[hidden] { display: none; }` but bootstrap.min.css set `[hidden] { display: none !important; }` so we also need the `!important` here to be able to override the default hidden behavior on the sphinx rendered scikit-learn.org. See: https://github.com/scikit-learn/scikit-learn/issues/21755 */display: inline-block !important;position: relative;}#sk-container-id-2 div.sk-text-repr-fallback {display: none;}</style><div id=\"sk-container-id-2\" class=\"sk-top-container\"><div class=\"sk-text-repr-fallback\"><pre>LGBMRegressor(n_estimators=10000)</pre><b>In a Jupyter environment, please rerun this cell to show the HTML representation or trust the notebook. <br />On GitHub, the HTML representation is unable to render, please try loading this page with nbviewer.org.</b></div><div class=\"sk-container\" hidden><div class=\"sk-item\"><div class=\"sk-estimator sk-toggleable\"><input class=\"sk-toggleable__control sk-hidden--visually\" id=\"sk-estimator-id-2\" type=\"checkbox\" checked><label for=\"sk-estimator-id-2\" class=\"sk-toggleable__label sk-toggleable__label-arrow\">LGBMRegressor</label><div class=\"sk-toggleable__content\"><pre>LGBMRegressor(n_estimators=10000)</pre></div></div></div></div></div>"
     },
     "execution_count": 21,
     "metadata": {},
     "output_type": "execute_result"
    }
   ],
   "source": [
    "new_lgb.fit(train_features, train_y, early_stopping_rounds=100, eval_set = [(valid_features, valid_y)],\n",
    "          eval_metric = 'rmse', verbose = 200)"
   ],
   "metadata": {
    "collapsed": false,
    "pycharm": {
     "name": "#%%\n"
    }
   }
  },
  {
   "cell_type": "code",
   "execution_count": 22,
   "outputs": [
    {
     "data": {
      "text/plain": "0.9350867720600462"
     },
     "execution_count": 22,
     "metadata": {},
     "output_type": "execute_result"
    }
   ],
   "source": [
    "new_lgb.score(X_test, y_test)"
   ],
   "metadata": {
    "collapsed": false,
    "pycharm": {
     "name": "#%%\n"
    }
   }
  },
  {
   "cell_type": "markdown",
   "source": [
    "# Graph depicting the trade flows"
   ],
   "metadata": {
    "collapsed": false,
    "pycharm": {
     "name": "#%% md\n"
    }
   }
  },
  {
   "cell_type": "code",
   "execution_count": 36,
   "outputs": [],
   "source": [
    "data = new_df.loc[(new_df[\"year\"] == 2013)]"
   ],
   "metadata": {
    "collapsed": false,
    "pycharm": {
     "name": "#%%\n"
    }
   }
  },
  {
   "cell_type": "code",
   "execution_count": 37,
   "outputs": [
    {
     "data": {
      "text/plain": "                GDP_o         GDP_d      POP_o      POP_d         Distw  \\\n39                NaN  2.078323e+09        NaN     75.902           NaN   \n75                NaN           NaN        NaN     55.302           NaN   \n398               NaN  2.019574e+08        NaN    103.718           NaN   \n480               NaN           NaN        NaN    165.121           NaN   \n513               NaN  4.320482e+09        NaN     86.462           NaN   \n...               ...           ...        ...        ...           ...   \n2501970  8.629172e+09  5.128723e+08  14898.092    253.165  13928.922555   \n2502074  8.629172e+09  5.090125e+08  14898.092    190.390  15679.510322   \n2502124  8.629172e+09  2.299869e+10  14898.092  25533.217   4001.151483   \n2502312  8.629172e+09  2.341530e+11  14898.092  53192.215   1258.552211   \n2502425  8.629172e+09  1.793963e+10  14898.092  15246.086    583.795386   \n\n         Comlang  Contig  OECD_o  OECD_d  GATT_o  GATT_d       XPTOT_o  year  \\\n39           NaN     NaN     NaN     0.0     NaN     NaN           NaN  2013   \n75           NaN     NaN     NaN     0.0     NaN     NaN           NaN  2013   \n398          NaN     NaN     NaN     0.0     NaN     NaN           NaN  2013   \n480          NaN     NaN     NaN     0.0     NaN     NaN           NaN  2013   \n513          NaN     NaN     NaN     0.0     NaN     NaN           NaN  2013   \n...          ...     ...     ...     ...     ...     ...           ...   ...   \n2501970      1.0     0.0     0.0     0.0     1.0     1.0  2.243481e+09  2013   \n2502074      1.0     0.0     0.0     0.0     1.0     1.0  2.243481e+09  2013   \n2502124      0.0     0.0     0.0     0.0     1.0     0.0  2.243481e+09  2013   \n2502312      1.0     1.0     0.0     0.0     1.0     1.0  2.243481e+09  2013   \n2502425      1.0     1.0     0.0     0.0     1.0     1.0  2.243481e+09  2013   \n\n                 FLOW       IPTOT_d       IPTOT_o       XPTOT_d iso_o iso_d  \n39                NaN           NaN           NaN           NaN   NaN   AND  \n75                NaN  2.238814e+08           NaN  2.494678e+08   NaN   ASM  \n398               NaN  1.200593e+08           NaN  2.218025e+07   NaN   FSM  \n480               NaN           NaN           NaN  2.895298e+07   NaN   GUM  \n513               NaN           NaN           NaN           NaN   NaN   IMN  \n...               ...           ...           ...           ...   ...   ...  \n2501970  0.000000e+00  6.212593e+08  3.244361e+09  1.697843e+08   ZWE   VUT  \n2502074  0.000000e+00  3.037680e+08  3.244361e+09  1.141149e+08   ZWE   WSM  \n2502124  5.115580e+05  9.887240e+09  3.244361e+09  6.797389e+09   ZWE   YEM  \n2502312  2.402471e+08  7.245120e+10  3.244361e+09  8.031384e+10   ZWE   ZAF  \n2502425  7.786978e+07  6.515267e+09  3.244361e+09  6.770876e+09   ZWE   ZMB  \n\n[36983 rows x 19 columns]",
      "text/html": "<div>\n<style scoped>\n    .dataframe tbody tr th:only-of-type {\n        vertical-align: middle;\n    }\n\n    .dataframe tbody tr th {\n        vertical-align: top;\n    }\n\n    .dataframe thead th {\n        text-align: right;\n    }\n</style>\n<table border=\"1\" class=\"dataframe\">\n  <thead>\n    <tr style=\"text-align: right;\">\n      <th></th>\n      <th>GDP_o</th>\n      <th>GDP_d</th>\n      <th>POP_o</th>\n      <th>POP_d</th>\n      <th>Distw</th>\n      <th>Comlang</th>\n      <th>Contig</th>\n      <th>OECD_o</th>\n      <th>OECD_d</th>\n      <th>GATT_o</th>\n      <th>GATT_d</th>\n      <th>XPTOT_o</th>\n      <th>year</th>\n      <th>FLOW</th>\n      <th>IPTOT_d</th>\n      <th>IPTOT_o</th>\n      <th>XPTOT_d</th>\n      <th>iso_o</th>\n      <th>iso_d</th>\n    </tr>\n  </thead>\n  <tbody>\n    <tr>\n      <th>39</th>\n      <td>NaN</td>\n      <td>2.078323e+09</td>\n      <td>NaN</td>\n      <td>75.902</td>\n      <td>NaN</td>\n      <td>NaN</td>\n      <td>NaN</td>\n      <td>NaN</td>\n      <td>0.0</td>\n      <td>NaN</td>\n      <td>NaN</td>\n      <td>NaN</td>\n      <td>2013</td>\n      <td>NaN</td>\n      <td>NaN</td>\n      <td>NaN</td>\n      <td>NaN</td>\n      <td>NaN</td>\n      <td>AND</td>\n    </tr>\n    <tr>\n      <th>75</th>\n      <td>NaN</td>\n      <td>NaN</td>\n      <td>NaN</td>\n      <td>55.302</td>\n      <td>NaN</td>\n      <td>NaN</td>\n      <td>NaN</td>\n      <td>NaN</td>\n      <td>0.0</td>\n      <td>NaN</td>\n      <td>NaN</td>\n      <td>NaN</td>\n      <td>2013</td>\n      <td>NaN</td>\n      <td>2.238814e+08</td>\n      <td>NaN</td>\n      <td>2.494678e+08</td>\n      <td>NaN</td>\n      <td>ASM</td>\n    </tr>\n    <tr>\n      <th>398</th>\n      <td>NaN</td>\n      <td>2.019574e+08</td>\n      <td>NaN</td>\n      <td>103.718</td>\n      <td>NaN</td>\n      <td>NaN</td>\n      <td>NaN</td>\n      <td>NaN</td>\n      <td>0.0</td>\n      <td>NaN</td>\n      <td>NaN</td>\n      <td>NaN</td>\n      <td>2013</td>\n      <td>NaN</td>\n      <td>1.200593e+08</td>\n      <td>NaN</td>\n      <td>2.218025e+07</td>\n      <td>NaN</td>\n      <td>FSM</td>\n    </tr>\n    <tr>\n      <th>480</th>\n      <td>NaN</td>\n      <td>NaN</td>\n      <td>NaN</td>\n      <td>165.121</td>\n      <td>NaN</td>\n      <td>NaN</td>\n      <td>NaN</td>\n      <td>NaN</td>\n      <td>0.0</td>\n      <td>NaN</td>\n      <td>NaN</td>\n      <td>NaN</td>\n      <td>2013</td>\n      <td>NaN</td>\n      <td>NaN</td>\n      <td>NaN</td>\n      <td>2.895298e+07</td>\n      <td>NaN</td>\n      <td>GUM</td>\n    </tr>\n    <tr>\n      <th>513</th>\n      <td>NaN</td>\n      <td>4.320482e+09</td>\n      <td>NaN</td>\n      <td>86.462</td>\n      <td>NaN</td>\n      <td>NaN</td>\n      <td>NaN</td>\n      <td>NaN</td>\n      <td>0.0</td>\n      <td>NaN</td>\n      <td>NaN</td>\n      <td>NaN</td>\n      <td>2013</td>\n      <td>NaN</td>\n      <td>NaN</td>\n      <td>NaN</td>\n      <td>NaN</td>\n      <td>NaN</td>\n      <td>IMN</td>\n    </tr>\n    <tr>\n      <th>...</th>\n      <td>...</td>\n      <td>...</td>\n      <td>...</td>\n      <td>...</td>\n      <td>...</td>\n      <td>...</td>\n      <td>...</td>\n      <td>...</td>\n      <td>...</td>\n      <td>...</td>\n      <td>...</td>\n      <td>...</td>\n      <td>...</td>\n      <td>...</td>\n      <td>...</td>\n      <td>...</td>\n      <td>...</td>\n      <td>...</td>\n      <td>...</td>\n    </tr>\n    <tr>\n      <th>2501970</th>\n      <td>8.629172e+09</td>\n      <td>5.128723e+08</td>\n      <td>14898.092</td>\n      <td>253.165</td>\n      <td>13928.922555</td>\n      <td>1.0</td>\n      <td>0.0</td>\n      <td>0.0</td>\n      <td>0.0</td>\n      <td>1.0</td>\n      <td>1.0</td>\n      <td>2.243481e+09</td>\n      <td>2013</td>\n      <td>0.000000e+00</td>\n      <td>6.212593e+08</td>\n      <td>3.244361e+09</td>\n      <td>1.697843e+08</td>\n      <td>ZWE</td>\n      <td>VUT</td>\n    </tr>\n    <tr>\n      <th>2502074</th>\n      <td>8.629172e+09</td>\n      <td>5.090125e+08</td>\n      <td>14898.092</td>\n      <td>190.390</td>\n      <td>15679.510322</td>\n      <td>1.0</td>\n      <td>0.0</td>\n      <td>0.0</td>\n      <td>0.0</td>\n      <td>1.0</td>\n      <td>1.0</td>\n      <td>2.243481e+09</td>\n      <td>2013</td>\n      <td>0.000000e+00</td>\n      <td>3.037680e+08</td>\n      <td>3.244361e+09</td>\n      <td>1.141149e+08</td>\n      <td>ZWE</td>\n      <td>WSM</td>\n    </tr>\n    <tr>\n      <th>2502124</th>\n      <td>8.629172e+09</td>\n      <td>2.299869e+10</td>\n      <td>14898.092</td>\n      <td>25533.217</td>\n      <td>4001.151483</td>\n      <td>0.0</td>\n      <td>0.0</td>\n      <td>0.0</td>\n      <td>0.0</td>\n      <td>1.0</td>\n      <td>0.0</td>\n      <td>2.243481e+09</td>\n      <td>2013</td>\n      <td>5.115580e+05</td>\n      <td>9.887240e+09</td>\n      <td>3.244361e+09</td>\n      <td>6.797389e+09</td>\n      <td>ZWE</td>\n      <td>YEM</td>\n    </tr>\n    <tr>\n      <th>2502312</th>\n      <td>8.629172e+09</td>\n      <td>2.341530e+11</td>\n      <td>14898.092</td>\n      <td>53192.215</td>\n      <td>1258.552211</td>\n      <td>1.0</td>\n      <td>1.0</td>\n      <td>0.0</td>\n      <td>0.0</td>\n      <td>1.0</td>\n      <td>1.0</td>\n      <td>2.243481e+09</td>\n      <td>2013</td>\n      <td>2.402471e+08</td>\n      <td>7.245120e+10</td>\n      <td>3.244361e+09</td>\n      <td>8.031384e+10</td>\n      <td>ZWE</td>\n      <td>ZAF</td>\n    </tr>\n    <tr>\n      <th>2502425</th>\n      <td>8.629172e+09</td>\n      <td>1.793963e+10</td>\n      <td>14898.092</td>\n      <td>15246.086</td>\n      <td>583.795386</td>\n      <td>1.0</td>\n      <td>1.0</td>\n      <td>0.0</td>\n      <td>0.0</td>\n      <td>1.0</td>\n      <td>1.0</td>\n      <td>2.243481e+09</td>\n      <td>2013</td>\n      <td>7.786978e+07</td>\n      <td>6.515267e+09</td>\n      <td>3.244361e+09</td>\n      <td>6.770876e+09</td>\n      <td>ZWE</td>\n      <td>ZMB</td>\n    </tr>\n  </tbody>\n</table>\n<p>36983 rows × 19 columns</p>\n</div>"
     },
     "execution_count": 37,
     "metadata": {},
     "output_type": "execute_result"
    }
   ],
   "source": [
    "data"
   ],
   "metadata": {
    "collapsed": false,
    "pycharm": {
     "name": "#%%\n"
    }
   }
  },
  {
   "cell_type": "code",
   "execution_count": 38,
   "outputs": [],
   "source": [
    "data = data.loc[(data[\"iso_o\"] == \"USA\")]"
   ],
   "metadata": {
    "collapsed": false,
    "pycharm": {
     "name": "#%%\n"
    }
   }
  },
  {
   "cell_type": "code",
   "execution_count": 39,
   "outputs": [],
   "source": [
    "data = data.dropna()"
   ],
   "metadata": {
    "collapsed": false,
    "pycharm": {
     "name": "#%%\n"
    }
   }
  },
  {
   "cell_type": "code",
   "execution_count": 40,
   "outputs": [
    {
     "data": {
      "text/plain": "                GDP_o         GDP_d     POP_o      POP_d         Distw  \\\n2328256  1.065877e+13  1.282286e+10  316427.4  30682.500  11626.578951   \n2328350  1.065877e+13  7.990138e+10  316427.4  23448.201  12153.605553   \n2328433  1.065877e+13  8.175526e+09  316427.4   2896.652   8882.747080   \n2328687  1.065877e+13  2.476717e+11  316427.4   9039.978  12196.149826   \n2328875  1.065877e+13  3.991050e+11  316427.4  42538.305   8678.352247   \n...               ...           ...       ...        ...           ...   \n2350578  1.065877e+13  5.090125e+08  316427.4    190.390  10017.215222   \n2350645  1.065877e+13  2.299869e+10  316427.4  25533.217  12630.027024   \n2350897  1.065877e+13  2.341530e+11  316427.4  53192.215  14418.611678   \n2351181  1.065877e+13  1.793963e+10  316427.4  15246.086  13702.220374   \n2351315  1.065877e+13  8.629172e+09  316427.4  14898.092  14160.549731   \n\n         Comlang  Contig  OECD_o  OECD_d  GATT_o  GATT_d       XPTOT_o  year  \\\n2328256      0.0     0.0     1.0     0.0     1.0     0.0  1.009660e+12  2013   \n2328350      0.0     0.0     1.0     0.0     1.0     1.0  1.009660e+12  2013   \n2328433      0.0     0.0     1.0     0.0     1.0     1.0  1.009660e+12  2013   \n2328687      0.0     0.0     1.0     0.0     1.0     1.0  1.009660e+12  2013   \n2328875      1.0     0.0     1.0     0.0     1.0     1.0  1.009660e+12  2013   \n...          ...     ...     ...     ...     ...     ...           ...   ...   \n2350578      1.0     0.0     1.0     0.0     1.0     1.0  1.009660e+12  2013   \n2350645      0.0     0.0     1.0     0.0     1.0     0.0  1.009660e+12  2013   \n2350897      1.0     0.0     1.0     0.0     1.0     1.0  1.009660e+12  2013   \n2351181      1.0     0.0     1.0     0.0     1.0     1.0  1.009660e+12  2013   \n2351315      1.0     0.0     1.0     0.0     1.0     1.0  1.009660e+12  2013   \n\n                 FLOW       IPTOT_d       IPTOT_o       XPTOT_d iso_o iso_d  \n2328256  9.918583e+08  5.355286e+09  1.450988e+12  4.257171e+08   USA   AFG  \n2328350  1.015641e+09  1.422024e+10  1.450988e+12  4.239514e+10   USA   AGO  \n2328433  5.232510e+07  3.133526e+09  1.450988e+12  1.470210e+09   USA   ALB  \n2328687  1.720541e+10  1.648221e+11  1.450988e+12  2.424315e+11   USA   ARE  \n2328875  5.192647e+09  4.733664e+10  1.450988e+12  5.258155e+10   USA   ARG  \n...               ...           ...           ...           ...   ...   ...  \n2350578  1.997924e+07  3.037680e+08  1.450988e+12  1.141149e+08   USA   WSM  \n2350645  3.646560e+08  9.887240e+09  1.450988e+12  6.797389e+09   USA   YEM  \n2350897  4.627225e+09  7.245120e+10  1.450988e+12  8.031384e+10   USA   ZAF  \n2351181  1.301096e+08  6.515267e+09  1.450988e+12  6.770876e+09   USA   ZMB  \n2351315  4.258754e+07  3.244361e+09  1.450988e+12  2.243481e+09   USA   ZWE  \n\n[181 rows x 19 columns]",
      "text/html": "<div>\n<style scoped>\n    .dataframe tbody tr th:only-of-type {\n        vertical-align: middle;\n    }\n\n    .dataframe tbody tr th {\n        vertical-align: top;\n    }\n\n    .dataframe thead th {\n        text-align: right;\n    }\n</style>\n<table border=\"1\" class=\"dataframe\">\n  <thead>\n    <tr style=\"text-align: right;\">\n      <th></th>\n      <th>GDP_o</th>\n      <th>GDP_d</th>\n      <th>POP_o</th>\n      <th>POP_d</th>\n      <th>Distw</th>\n      <th>Comlang</th>\n      <th>Contig</th>\n      <th>OECD_o</th>\n      <th>OECD_d</th>\n      <th>GATT_o</th>\n      <th>GATT_d</th>\n      <th>XPTOT_o</th>\n      <th>year</th>\n      <th>FLOW</th>\n      <th>IPTOT_d</th>\n      <th>IPTOT_o</th>\n      <th>XPTOT_d</th>\n      <th>iso_o</th>\n      <th>iso_d</th>\n    </tr>\n  </thead>\n  <tbody>\n    <tr>\n      <th>2328256</th>\n      <td>1.065877e+13</td>\n      <td>1.282286e+10</td>\n      <td>316427.4</td>\n      <td>30682.500</td>\n      <td>11626.578951</td>\n      <td>0.0</td>\n      <td>0.0</td>\n      <td>1.0</td>\n      <td>0.0</td>\n      <td>1.0</td>\n      <td>0.0</td>\n      <td>1.009660e+12</td>\n      <td>2013</td>\n      <td>9.918583e+08</td>\n      <td>5.355286e+09</td>\n      <td>1.450988e+12</td>\n      <td>4.257171e+08</td>\n      <td>USA</td>\n      <td>AFG</td>\n    </tr>\n    <tr>\n      <th>2328350</th>\n      <td>1.065877e+13</td>\n      <td>7.990138e+10</td>\n      <td>316427.4</td>\n      <td>23448.201</td>\n      <td>12153.605553</td>\n      <td>0.0</td>\n      <td>0.0</td>\n      <td>1.0</td>\n      <td>0.0</td>\n      <td>1.0</td>\n      <td>1.0</td>\n      <td>1.009660e+12</td>\n      <td>2013</td>\n      <td>1.015641e+09</td>\n      <td>1.422024e+10</td>\n      <td>1.450988e+12</td>\n      <td>4.239514e+10</td>\n      <td>USA</td>\n      <td>AGO</td>\n    </tr>\n    <tr>\n      <th>2328433</th>\n      <td>1.065877e+13</td>\n      <td>8.175526e+09</td>\n      <td>316427.4</td>\n      <td>2896.652</td>\n      <td>8882.747080</td>\n      <td>0.0</td>\n      <td>0.0</td>\n      <td>1.0</td>\n      <td>0.0</td>\n      <td>1.0</td>\n      <td>1.0</td>\n      <td>1.009660e+12</td>\n      <td>2013</td>\n      <td>5.232510e+07</td>\n      <td>3.133526e+09</td>\n      <td>1.450988e+12</td>\n      <td>1.470210e+09</td>\n      <td>USA</td>\n      <td>ALB</td>\n    </tr>\n    <tr>\n      <th>2328687</th>\n      <td>1.065877e+13</td>\n      <td>2.476717e+11</td>\n      <td>316427.4</td>\n      <td>9039.978</td>\n      <td>12196.149826</td>\n      <td>0.0</td>\n      <td>0.0</td>\n      <td>1.0</td>\n      <td>0.0</td>\n      <td>1.0</td>\n      <td>1.0</td>\n      <td>1.009660e+12</td>\n      <td>2013</td>\n      <td>1.720541e+10</td>\n      <td>1.648221e+11</td>\n      <td>1.450988e+12</td>\n      <td>2.424315e+11</td>\n      <td>USA</td>\n      <td>ARE</td>\n    </tr>\n    <tr>\n      <th>2328875</th>\n      <td>1.065877e+13</td>\n      <td>3.991050e+11</td>\n      <td>316427.4</td>\n      <td>42538.305</td>\n      <td>8678.352247</td>\n      <td>1.0</td>\n      <td>0.0</td>\n      <td>1.0</td>\n      <td>0.0</td>\n      <td>1.0</td>\n      <td>1.0</td>\n      <td>1.009660e+12</td>\n      <td>2013</td>\n      <td>5.192647e+09</td>\n      <td>4.733664e+10</td>\n      <td>1.450988e+12</td>\n      <td>5.258155e+10</td>\n      <td>USA</td>\n      <td>ARG</td>\n    </tr>\n    <tr>\n      <th>...</th>\n      <td>...</td>\n      <td>...</td>\n      <td>...</td>\n      <td>...</td>\n      <td>...</td>\n      <td>...</td>\n      <td>...</td>\n      <td>...</td>\n      <td>...</td>\n      <td>...</td>\n      <td>...</td>\n      <td>...</td>\n      <td>...</td>\n      <td>...</td>\n      <td>...</td>\n      <td>...</td>\n      <td>...</td>\n      <td>...</td>\n      <td>...</td>\n    </tr>\n    <tr>\n      <th>2350578</th>\n      <td>1.065877e+13</td>\n      <td>5.090125e+08</td>\n      <td>316427.4</td>\n      <td>190.390</td>\n      <td>10017.215222</td>\n      <td>1.0</td>\n      <td>0.0</td>\n      <td>1.0</td>\n      <td>0.0</td>\n      <td>1.0</td>\n      <td>1.0</td>\n      <td>1.009660e+12</td>\n      <td>2013</td>\n      <td>1.997924e+07</td>\n      <td>3.037680e+08</td>\n      <td>1.450988e+12</td>\n      <td>1.141149e+08</td>\n      <td>USA</td>\n      <td>WSM</td>\n    </tr>\n    <tr>\n      <th>2350645</th>\n      <td>1.065877e+13</td>\n      <td>2.299869e+10</td>\n      <td>316427.4</td>\n      <td>25533.217</td>\n      <td>12630.027024</td>\n      <td>0.0</td>\n      <td>0.0</td>\n      <td>1.0</td>\n      <td>0.0</td>\n      <td>1.0</td>\n      <td>0.0</td>\n      <td>1.009660e+12</td>\n      <td>2013</td>\n      <td>3.646560e+08</td>\n      <td>9.887240e+09</td>\n      <td>1.450988e+12</td>\n      <td>6.797389e+09</td>\n      <td>USA</td>\n      <td>YEM</td>\n    </tr>\n    <tr>\n      <th>2350897</th>\n      <td>1.065877e+13</td>\n      <td>2.341530e+11</td>\n      <td>316427.4</td>\n      <td>53192.215</td>\n      <td>14418.611678</td>\n      <td>1.0</td>\n      <td>0.0</td>\n      <td>1.0</td>\n      <td>0.0</td>\n      <td>1.0</td>\n      <td>1.0</td>\n      <td>1.009660e+12</td>\n      <td>2013</td>\n      <td>4.627225e+09</td>\n      <td>7.245120e+10</td>\n      <td>1.450988e+12</td>\n      <td>8.031384e+10</td>\n      <td>USA</td>\n      <td>ZAF</td>\n    </tr>\n    <tr>\n      <th>2351181</th>\n      <td>1.065877e+13</td>\n      <td>1.793963e+10</td>\n      <td>316427.4</td>\n      <td>15246.086</td>\n      <td>13702.220374</td>\n      <td>1.0</td>\n      <td>0.0</td>\n      <td>1.0</td>\n      <td>0.0</td>\n      <td>1.0</td>\n      <td>1.0</td>\n      <td>1.009660e+12</td>\n      <td>2013</td>\n      <td>1.301096e+08</td>\n      <td>6.515267e+09</td>\n      <td>1.450988e+12</td>\n      <td>6.770876e+09</td>\n      <td>USA</td>\n      <td>ZMB</td>\n    </tr>\n    <tr>\n      <th>2351315</th>\n      <td>1.065877e+13</td>\n      <td>8.629172e+09</td>\n      <td>316427.4</td>\n      <td>14898.092</td>\n      <td>14160.549731</td>\n      <td>1.0</td>\n      <td>0.0</td>\n      <td>1.0</td>\n      <td>0.0</td>\n      <td>1.0</td>\n      <td>1.0</td>\n      <td>1.009660e+12</td>\n      <td>2013</td>\n      <td>4.258754e+07</td>\n      <td>3.244361e+09</td>\n      <td>1.450988e+12</td>\n      <td>2.243481e+09</td>\n      <td>USA</td>\n      <td>ZWE</td>\n    </tr>\n  </tbody>\n</table>\n<p>181 rows × 19 columns</p>\n</div>"
     },
     "execution_count": 40,
     "metadata": {},
     "output_type": "execute_result"
    }
   ],
   "source": [
    "data"
   ],
   "metadata": {
    "collapsed": false,
    "pycharm": {
     "name": "#%%\n"
    }
   }
  },
  {
   "cell_type": "code",
   "execution_count": 42,
   "outputs": [],
   "source": [
    "X_plot = data[[\"GDP_o\", \"GDP_d\", \"POP_o\", \"POP_d\", \"Distw\", \"Comlang\", \"Contig\",\n",
    "                \"XPTOT_o\", \"FLOW\", 'IPTOT_d', 'IPTOT_o', 'XPTOT_d']]\n",
    "\n",
    "y_plot = data[[\"FLOW\"]]"
   ],
   "metadata": {
    "collapsed": false,
    "pycharm": {
     "name": "#%%\n"
    }
   }
  },
  {
   "cell_type": "code",
   "execution_count": 44,
   "outputs": [],
   "source": [
    "data[\"forecast\"] = new_lgb.predict(X_plot)"
   ],
   "metadata": {
    "collapsed": false,
    "pycharm": {
     "name": "#%%\n"
    }
   }
  },
  {
   "cell_type": "code",
   "execution_count": 45,
   "outputs": [
    {
     "data": {
      "text/plain": "                GDP_o         GDP_d     POP_o      POP_d         Distw  \\\n2328256  1.065877e+13  1.282286e+10  316427.4  30682.500  11626.578951   \n2328350  1.065877e+13  7.990138e+10  316427.4  23448.201  12153.605553   \n2328433  1.065877e+13  8.175526e+09  316427.4   2896.652   8882.747080   \n2328687  1.065877e+13  2.476717e+11  316427.4   9039.978  12196.149826   \n2328875  1.065877e+13  3.991050e+11  316427.4  42538.305   8678.352247   \n...               ...           ...       ...        ...           ...   \n2350578  1.065877e+13  5.090125e+08  316427.4    190.390  10017.215222   \n2350645  1.065877e+13  2.299869e+10  316427.4  25533.217  12630.027024   \n2350897  1.065877e+13  2.341530e+11  316427.4  53192.215  14418.611678   \n2351181  1.065877e+13  1.793963e+10  316427.4  15246.086  13702.220374   \n2351315  1.065877e+13  8.629172e+09  316427.4  14898.092  14160.549731   \n\n         Comlang  Contig  OECD_o  OECD_d  GATT_o  GATT_d       XPTOT_o  year  \\\n2328256      0.0     0.0     1.0     0.0     1.0     0.0  1.009660e+12  2013   \n2328350      0.0     0.0     1.0     0.0     1.0     1.0  1.009660e+12  2013   \n2328433      0.0     0.0     1.0     0.0     1.0     1.0  1.009660e+12  2013   \n2328687      0.0     0.0     1.0     0.0     1.0     1.0  1.009660e+12  2013   \n2328875      1.0     0.0     1.0     0.0     1.0     1.0  1.009660e+12  2013   \n...          ...     ...     ...     ...     ...     ...           ...   ...   \n2350578      1.0     0.0     1.0     0.0     1.0     1.0  1.009660e+12  2013   \n2350645      0.0     0.0     1.0     0.0     1.0     0.0  1.009660e+12  2013   \n2350897      1.0     0.0     1.0     0.0     1.0     1.0  1.009660e+12  2013   \n2351181      1.0     0.0     1.0     0.0     1.0     1.0  1.009660e+12  2013   \n2351315      1.0     0.0     1.0     0.0     1.0     1.0  1.009660e+12  2013   \n\n                 FLOW       IPTOT_d       IPTOT_o       XPTOT_d iso_o iso_d  \\\n2328256  9.918583e+08  5.355286e+09  1.450988e+12  4.257171e+08   USA   AFG   \n2328350  1.015641e+09  1.422024e+10  1.450988e+12  4.239514e+10   USA   AGO   \n2328433  5.232510e+07  3.133526e+09  1.450988e+12  1.470210e+09   USA   ALB   \n2328687  1.720541e+10  1.648221e+11  1.450988e+12  2.424315e+11   USA   ARE   \n2328875  5.192647e+09  4.733664e+10  1.450988e+12  5.258155e+10   USA   ARG   \n...               ...           ...           ...           ...   ...   ...   \n2350578  1.997924e+07  3.037680e+08  1.450988e+12  1.141149e+08   USA   WSM   \n2350645  3.646560e+08  9.887240e+09  1.450988e+12  6.797389e+09   USA   YEM   \n2350897  4.627225e+09  7.245120e+10  1.450988e+12  8.031384e+10   USA   ZAF   \n2351181  1.301096e+08  6.515267e+09  1.450988e+12  6.770876e+09   USA   ZMB   \n2351315  4.258754e+07  3.244361e+09  1.450988e+12  2.243481e+09   USA   ZWE   \n\n             forecast  \n2328256  9.817014e+08  \n2328350  1.013332e+09  \n2328433  1.242794e+08  \n2328687  1.719364e+10  \n2328875  5.179830e+09  \n...               ...  \n2350578 -5.724973e+06  \n2350645  3.624593e+08  \n2350897  4.619280e+09  \n2351181  1.447119e+08  \n2351315  4.896067e+07  \n\n[181 rows x 20 columns]",
      "text/html": "<div>\n<style scoped>\n    .dataframe tbody tr th:only-of-type {\n        vertical-align: middle;\n    }\n\n    .dataframe tbody tr th {\n        vertical-align: top;\n    }\n\n    .dataframe thead th {\n        text-align: right;\n    }\n</style>\n<table border=\"1\" class=\"dataframe\">\n  <thead>\n    <tr style=\"text-align: right;\">\n      <th></th>\n      <th>GDP_o</th>\n      <th>GDP_d</th>\n      <th>POP_o</th>\n      <th>POP_d</th>\n      <th>Distw</th>\n      <th>Comlang</th>\n      <th>Contig</th>\n      <th>OECD_o</th>\n      <th>OECD_d</th>\n      <th>GATT_o</th>\n      <th>GATT_d</th>\n      <th>XPTOT_o</th>\n      <th>year</th>\n      <th>FLOW</th>\n      <th>IPTOT_d</th>\n      <th>IPTOT_o</th>\n      <th>XPTOT_d</th>\n      <th>iso_o</th>\n      <th>iso_d</th>\n      <th>forecast</th>\n    </tr>\n  </thead>\n  <tbody>\n    <tr>\n      <th>2328256</th>\n      <td>1.065877e+13</td>\n      <td>1.282286e+10</td>\n      <td>316427.4</td>\n      <td>30682.500</td>\n      <td>11626.578951</td>\n      <td>0.0</td>\n      <td>0.0</td>\n      <td>1.0</td>\n      <td>0.0</td>\n      <td>1.0</td>\n      <td>0.0</td>\n      <td>1.009660e+12</td>\n      <td>2013</td>\n      <td>9.918583e+08</td>\n      <td>5.355286e+09</td>\n      <td>1.450988e+12</td>\n      <td>4.257171e+08</td>\n      <td>USA</td>\n      <td>AFG</td>\n      <td>9.817014e+08</td>\n    </tr>\n    <tr>\n      <th>2328350</th>\n      <td>1.065877e+13</td>\n      <td>7.990138e+10</td>\n      <td>316427.4</td>\n      <td>23448.201</td>\n      <td>12153.605553</td>\n      <td>0.0</td>\n      <td>0.0</td>\n      <td>1.0</td>\n      <td>0.0</td>\n      <td>1.0</td>\n      <td>1.0</td>\n      <td>1.009660e+12</td>\n      <td>2013</td>\n      <td>1.015641e+09</td>\n      <td>1.422024e+10</td>\n      <td>1.450988e+12</td>\n      <td>4.239514e+10</td>\n      <td>USA</td>\n      <td>AGO</td>\n      <td>1.013332e+09</td>\n    </tr>\n    <tr>\n      <th>2328433</th>\n      <td>1.065877e+13</td>\n      <td>8.175526e+09</td>\n      <td>316427.4</td>\n      <td>2896.652</td>\n      <td>8882.747080</td>\n      <td>0.0</td>\n      <td>0.0</td>\n      <td>1.0</td>\n      <td>0.0</td>\n      <td>1.0</td>\n      <td>1.0</td>\n      <td>1.009660e+12</td>\n      <td>2013</td>\n      <td>5.232510e+07</td>\n      <td>3.133526e+09</td>\n      <td>1.450988e+12</td>\n      <td>1.470210e+09</td>\n      <td>USA</td>\n      <td>ALB</td>\n      <td>1.242794e+08</td>\n    </tr>\n    <tr>\n      <th>2328687</th>\n      <td>1.065877e+13</td>\n      <td>2.476717e+11</td>\n      <td>316427.4</td>\n      <td>9039.978</td>\n      <td>12196.149826</td>\n      <td>0.0</td>\n      <td>0.0</td>\n      <td>1.0</td>\n      <td>0.0</td>\n      <td>1.0</td>\n      <td>1.0</td>\n      <td>1.009660e+12</td>\n      <td>2013</td>\n      <td>1.720541e+10</td>\n      <td>1.648221e+11</td>\n      <td>1.450988e+12</td>\n      <td>2.424315e+11</td>\n      <td>USA</td>\n      <td>ARE</td>\n      <td>1.719364e+10</td>\n    </tr>\n    <tr>\n      <th>2328875</th>\n      <td>1.065877e+13</td>\n      <td>3.991050e+11</td>\n      <td>316427.4</td>\n      <td>42538.305</td>\n      <td>8678.352247</td>\n      <td>1.0</td>\n      <td>0.0</td>\n      <td>1.0</td>\n      <td>0.0</td>\n      <td>1.0</td>\n      <td>1.0</td>\n      <td>1.009660e+12</td>\n      <td>2013</td>\n      <td>5.192647e+09</td>\n      <td>4.733664e+10</td>\n      <td>1.450988e+12</td>\n      <td>5.258155e+10</td>\n      <td>USA</td>\n      <td>ARG</td>\n      <td>5.179830e+09</td>\n    </tr>\n    <tr>\n      <th>...</th>\n      <td>...</td>\n      <td>...</td>\n      <td>...</td>\n      <td>...</td>\n      <td>...</td>\n      <td>...</td>\n      <td>...</td>\n      <td>...</td>\n      <td>...</td>\n      <td>...</td>\n      <td>...</td>\n      <td>...</td>\n      <td>...</td>\n      <td>...</td>\n      <td>...</td>\n      <td>...</td>\n      <td>...</td>\n      <td>...</td>\n      <td>...</td>\n      <td>...</td>\n    </tr>\n    <tr>\n      <th>2350578</th>\n      <td>1.065877e+13</td>\n      <td>5.090125e+08</td>\n      <td>316427.4</td>\n      <td>190.390</td>\n      <td>10017.215222</td>\n      <td>1.0</td>\n      <td>0.0</td>\n      <td>1.0</td>\n      <td>0.0</td>\n      <td>1.0</td>\n      <td>1.0</td>\n      <td>1.009660e+12</td>\n      <td>2013</td>\n      <td>1.997924e+07</td>\n      <td>3.037680e+08</td>\n      <td>1.450988e+12</td>\n      <td>1.141149e+08</td>\n      <td>USA</td>\n      <td>WSM</td>\n      <td>-5.724973e+06</td>\n    </tr>\n    <tr>\n      <th>2350645</th>\n      <td>1.065877e+13</td>\n      <td>2.299869e+10</td>\n      <td>316427.4</td>\n      <td>25533.217</td>\n      <td>12630.027024</td>\n      <td>0.0</td>\n      <td>0.0</td>\n      <td>1.0</td>\n      <td>0.0</td>\n      <td>1.0</td>\n      <td>0.0</td>\n      <td>1.009660e+12</td>\n      <td>2013</td>\n      <td>3.646560e+08</td>\n      <td>9.887240e+09</td>\n      <td>1.450988e+12</td>\n      <td>6.797389e+09</td>\n      <td>USA</td>\n      <td>YEM</td>\n      <td>3.624593e+08</td>\n    </tr>\n    <tr>\n      <th>2350897</th>\n      <td>1.065877e+13</td>\n      <td>2.341530e+11</td>\n      <td>316427.4</td>\n      <td>53192.215</td>\n      <td>14418.611678</td>\n      <td>1.0</td>\n      <td>0.0</td>\n      <td>1.0</td>\n      <td>0.0</td>\n      <td>1.0</td>\n      <td>1.0</td>\n      <td>1.009660e+12</td>\n      <td>2013</td>\n      <td>4.627225e+09</td>\n      <td>7.245120e+10</td>\n      <td>1.450988e+12</td>\n      <td>8.031384e+10</td>\n      <td>USA</td>\n      <td>ZAF</td>\n      <td>4.619280e+09</td>\n    </tr>\n    <tr>\n      <th>2351181</th>\n      <td>1.065877e+13</td>\n      <td>1.793963e+10</td>\n      <td>316427.4</td>\n      <td>15246.086</td>\n      <td>13702.220374</td>\n      <td>1.0</td>\n      <td>0.0</td>\n      <td>1.0</td>\n      <td>0.0</td>\n      <td>1.0</td>\n      <td>1.0</td>\n      <td>1.009660e+12</td>\n      <td>2013</td>\n      <td>1.301096e+08</td>\n      <td>6.515267e+09</td>\n      <td>1.450988e+12</td>\n      <td>6.770876e+09</td>\n      <td>USA</td>\n      <td>ZMB</td>\n      <td>1.447119e+08</td>\n    </tr>\n    <tr>\n      <th>2351315</th>\n      <td>1.065877e+13</td>\n      <td>8.629172e+09</td>\n      <td>316427.4</td>\n      <td>14898.092</td>\n      <td>14160.549731</td>\n      <td>1.0</td>\n      <td>0.0</td>\n      <td>1.0</td>\n      <td>0.0</td>\n      <td>1.0</td>\n      <td>1.0</td>\n      <td>1.009660e+12</td>\n      <td>2013</td>\n      <td>4.258754e+07</td>\n      <td>3.244361e+09</td>\n      <td>1.450988e+12</td>\n      <td>2.243481e+09</td>\n      <td>USA</td>\n      <td>ZWE</td>\n      <td>4.896067e+07</td>\n    </tr>\n  </tbody>\n</table>\n<p>181 rows × 20 columns</p>\n</div>"
     },
     "execution_count": 45,
     "metadata": {},
     "output_type": "execute_result"
    }
   ],
   "source": [
    "data"
   ],
   "metadata": {
    "collapsed": false,
    "pycharm": {
     "name": "#%%\n"
    }
   }
  },
  {
   "cell_type": "code",
   "execution_count": 50,
   "outputs": [
    {
     "data": {
      "text/plain": "[<matplotlib.lines.Line2D at 0x15a6a1940>]"
     },
     "execution_count": 50,
     "metadata": {},
     "output_type": "execute_result"
    },
    {
     "data": {
      "text/plain": "<Figure size 432x288 with 1 Axes>",
      "image/png": "[encoded data removed]"
     },
     "metadata": {
      "needs_background": "light"
     },
     "output_type": "display_data"
    }
   ],
   "source": [
    "plt.plot(data[\"FLOW\"])\n",
    "plt.plot(data[\"forecast\"])\n"
   ],
   "metadata": {
    "collapsed": false,
    "pycharm": {
     "name": "#%%\n"
    }
   }
  },
  {
   "cell_type": "code",
   "execution_count": 47,
   "outputs": [
    {
     "data": {
      "text/plain": "[<matplotlib.lines.Line2D at 0x2fd027370>]"
     },
     "execution_count": 47,
     "metadata": {},
     "output_type": "execute_result"
    },
    {
     "data": {
      "text/plain": "<Figure size 432x288 with 1 Axes>",
      "image/png": "[encoded data removed]"
     },
     "metadata": {
      "needs_background": "light"
     },
     "output_type": "display_data"
    }
   ],
   "source": [
    "plt.plot(data[\"FLOW\"], data[\"forecast\"])"
   ],
   "metadata": {
    "collapsed": false,
    "pycharm": {
     "name": "#%%\n"
    }
   }
  },
  {
   "cell_type": "code",
   "execution_count": null,
   "outputs": [],
   "source": [],
   "metadata": {
    "collapsed": false,
    "pycharm": {
     "name": "#%%\n"
    }
   }
  }
 ],
 "metadata": {
  "kernelspec": {
   "display_name": "Python 3",
   "language": "python",
   "name": "python3"
  },
  "language_info": {
   "codemirror_mode": {
    "name": "ipython",
    "version": 2
   },
   "file_extension": ".py",
   "mimetype": "text/x-python",
   "name": "python",
   "nbconvert_exporter": "python",
   "pygments_lexer": "ipython2",
   "version": "2.7.6"
  }
 },
 "nbformat": 4,
 "nbformat_minor": 0
}