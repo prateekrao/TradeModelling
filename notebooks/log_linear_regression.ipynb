{
 "cells": [
  {
   "cell_type": "markdown",
   "source": [
    "# Paper Recreation"
   ],
   "metadata": {
    "collapsed": false,
    "pycharm": {
     "name": "#%% md\n"
    }
   }
  },
  {
   "cell_type": "code",
   "execution_count": 1,
   "outputs": [],
   "source": [
    "import numpy as np\n",
    "import pandas as pd\n",
    "import matplotlib.pyplot as plt\n",
    "import seaborn as sns"
   ],
   "metadata": {
    "collapsed": false,
    "pycharm": {
     "name": "#%%\n"
    }
   }
  },
  {
   "cell_type": "markdown",
   "source": [
    "## Data Cleaning"
   ],
   "metadata": {
    "collapsed": false,
    "pycharm": {
     "name": "#%% md\n"
    }
   }
  },
  {
   "cell_type": "code",
   "execution_count": 2,
   "outputs": [],
   "source": [
    "PATH = \"../datasets/tradhist.csv\""
   ],
   "metadata": {
    "collapsed": false,
    "pycharm": {
     "name": "#%%\n"
    }
   }
  },
  {
   "cell_type": "code",
   "execution_count": 3,
   "outputs": [
    {
     "name": "stderr",
     "output_type": "stream",
     "text": [
      "/var/folders/qc/xp9q1kcj79315fgc2jdgwtv00000gn/T/ipykernel_4434/3758478907.py:1: DtypeWarning: Columns (8,12,14,21,24,28,33,45,46,51) have mixed types. Specify dtype option on import or set low_memory=False.\n",
      "  df = pd.read_csv(PATH)\n"
     ]
    }
   ],
   "source": [
    "df = pd.read_csv(PATH)"
   ],
   "metadata": {
    "collapsed": false,
    "pycharm": {
     "name": "#%%\n"
    }
   }
  },
  {
   "cell_type": "code",
   "execution_count": 4,
   "outputs": [],
   "source": [
    "features = [\"GDP_o\", \"GDP_d\", \"POP_o\", \"POP_d\", \"Distw\", \"Comlang\", \"Contig\", \"OECD_o\", \"OECD_d\",\n",
    "              \"GATT_o\", \"GATT_d\", \"XPTOT_o\", \"year\", \"FLOW\"]"
   ],
   "metadata": {
    "collapsed": false,
    "pycharm": {
     "name": "#%%\n"
    }
   }
  },
  {
   "cell_type": "code",
   "execution_count": 5,
   "outputs": [],
   "source": [
    "df = df[features]"
   ],
   "metadata": {
    "collapsed": false,
    "pycharm": {
     "name": "#%%\n"
    }
   }
  },
  {
   "cell_type": "markdown",
   "source": [
    "Dropping all years below 2009 and FLOW < 100GBP"
   ],
   "metadata": {
    "collapsed": false,
    "pycharm": {
     "name": "#%% md\n"
    }
   }
  },
  {
   "cell_type": "code",
   "execution_count": 6,
   "outputs": [],
   "source": [
    "cleaned_df = df.loc[(df[\"year\"] > 2008) & (df[\"FLOW\"] > 100)].dropna()"
   ],
   "metadata": {
    "collapsed": false,
    "pycharm": {
     "name": "#%%\n"
    }
   }
  },
  {
   "cell_type": "code",
   "execution_count": 7,
   "outputs": [
    {
     "data": {
      "text/plain": "(129557, 14)"
     },
     "execution_count": 7,
     "metadata": {},
     "output_type": "execute_result"
    }
   ],
   "source": [
    "cleaned_df.shape"
   ],
   "metadata": {
    "collapsed": false,
    "pycharm": {
     "name": "#%%\n"
    }
   }
  },
  {
   "cell_type": "markdown",
   "source": [
    "Applying log transforms to obtain a smoother distribution of data"
   ],
   "metadata": {
    "collapsed": false,
    "pycharm": {
     "name": "#%% md\n"
    }
   }
  },
  {
   "cell_type": "code",
   "execution_count": 8,
   "outputs": [
    {
     "data": {
      "text/plain": "(array([ 4013.,  8447., 14809., 19914., 24771., 25528., 19087.,  9965.,\n         2768.,   255.]),\n array([ 4.60636947,  6.78283688,  8.95930429, 11.1357717 , 13.31223911,\n        15.48870653, 17.66517394, 19.84164135, 22.01810876, 24.19457617,\n        26.37104358]),\n <BarContainer object of 10 artists>)"
     },
     "execution_count": 8,
     "metadata": {},
     "output_type": "execute_result"
    },
    {
     "data": {
      "text/plain": "<Figure size 432x288 with 1 Axes>",
      "image/png": "[encoded data removed]"
     },
     "metadata": {
      "needs_background": "light"
     },
     "output_type": "display_data"
    }
   ],
   "source": [
    "plt.hist(np.log(cleaned_df[\"FLOW\"]))"
   ],
   "metadata": {
    "collapsed": false,
    "pycharm": {
     "name": "#%%\n"
    }
   }
  },
  {
   "cell_type": "code",
   "execution_count": 9,
   "outputs": [
    {
     "data": {
      "text/plain": "(array([  131.,   679.,  6580.,  9980., 25124., 28313., 25348., 18928.,\n        11434.,  3040.]),\n array([16.67179086, 18.00435223, 19.33691359, 20.66947496, 22.00203632,\n        23.33459769, 24.66715906, 25.99972042, 27.33228179, 28.66484315,\n        29.99740452]),\n <BarContainer object of 10 artists>)"
     },
     "execution_count": 9,
     "metadata": {},
     "output_type": "execute_result"
    },
    {
     "data": {
      "text/plain": "<Figure size 432x288 with 1 Axes>",
      "image/png": "[encoded data removed]"
     },
     "metadata": {
      "needs_background": "light"
     },
     "output_type": "display_data"
    }
   ],
   "source": [
    "plt.hist(np.log(cleaned_df[\"GDP_d\"]))"
   ],
   "metadata": {
    "collapsed": false,
    "pycharm": {
     "name": "#%%\n"
    }
   }
  },
  {
   "cell_type": "code",
   "execution_count": 10,
   "outputs": [
    {
     "data": {
      "text/plain": "                GDP_o         GDP_d      POP_o      POP_d         Distw  \\\n1707     1.613070e+09  1.119100e+10    101.936  28809.168  13168.223762   \n1839     1.604113e+09  1.627569e+11    101.416   7705.423  12773.079714   \n1841     1.613070e+09  2.175294e+11    101.936   8734.722  12773.079714   \n1874     1.604113e+09  2.417646e+11    101.416  40798.640   5187.787570   \n1875     1.597046e+09  2.987639e+11    101.597  41222.875   5187.787570   \n...               ...           ...        ...        ...           ...   \n2502422  6.097825e+09  1.311544e+10  13973.897  13917.439    583.795386   \n2502423  6.838230e+09  1.464204e+10  14255.592  14343.526    583.795386   \n2502424  7.845171e+09  1.614464e+10  14565.482  14786.581    583.795386   \n2502425  8.629172e+09  1.793963e+10  14898.092  15246.086    583.795386   \n2502426  8.627889e+09  1.649053e+10  15245.855  15721.343    583.795386   \n\n         Comlang  Contig  OECD_o  OECD_d  GATT_o  GATT_d       XPTOT_o  year  \\\n1707         0.0     0.0     0.0     0.0     0.0     0.0  2.671829e+09  2011   \n1839         0.0     0.0     0.0     0.0     0.0     1.0  1.363620e+09  2009   \n1841         0.0     0.0     0.0     0.0     0.0     1.0  2.671829e+09  2011   \n1874         0.0     0.0     0.0     0.0     0.0     1.0  1.363620e+09  2009   \n1875         0.0     0.0     0.0     0.0     0.0     1.0  1.848131e+08  2010   \n...          ...     ...     ...     ...     ...     ...           ...   ...   \n2502422      1.0     1.0     0.0     0.0     1.0     1.0  2.070475e+09  2010   \n2502423      1.0     1.0     0.0     0.0     1.0     1.0  2.192061e+09  2011   \n2502424      1.0     1.0     0.0     0.0     1.0     1.0  2.457760e+09  2012   \n2502425      1.0     1.0     0.0     0.0     1.0     1.0  2.243481e+09  2013   \n2502426      1.0     1.0     0.0     0.0     1.0     1.0  2.089376e+09  2014   \n\n                FLOW  \n1707        60232.73  \n1839        11195.58  \n1841       113576.80  \n1874       894681.06  \n1875          166.97  \n...              ...  \n2502422  46558256.00  \n2502423  55171376.00  \n2502424  58787336.00  \n2502425  77869780.00  \n2502426  62405360.00  \n\n[129557 rows x 14 columns]",
      "text/html": "<div>\n<style scoped>\n    .dataframe tbody tr th:only-of-type {\n        vertical-align: middle;\n    }\n\n    .dataframe tbody tr th {\n        vertical-align: top;\n    }\n\n    .dataframe thead th {\n        text-align: right;\n    }\n</style>\n<table border=\"1\" class=\"dataframe\">\n  <thead>\n    <tr style=\"text-align: right;\">\n      <th></th>\n      <th>GDP_o</th>\n      <th>GDP_d</th>\n      <th>POP_o</th>\n      <th>POP_d</th>\n      <th>Distw</th>\n      <th>Comlang</th>\n      <th>Contig</th>\n      <th>OECD_o</th>\n      <th>OECD_d</th>\n      <th>GATT_o</th>\n      <th>GATT_d</th>\n      <th>XPTOT_o</th>\n      <th>year</th>\n      <th>FLOW</th>\n    </tr>\n  </thead>\n  <tbody>\n    <tr>\n      <th>1707</th>\n      <td>1.613070e+09</td>\n      <td>1.119100e+10</td>\n      <td>101.936</td>\n      <td>28809.168</td>\n      <td>13168.223762</td>\n      <td>0.0</td>\n      <td>0.0</td>\n      <td>0.0</td>\n      <td>0.0</td>\n      <td>0.0</td>\n      <td>0.0</td>\n      <td>2.671829e+09</td>\n      <td>2011</td>\n      <td>60232.73</td>\n    </tr>\n    <tr>\n      <th>1839</th>\n      <td>1.604113e+09</td>\n      <td>1.627569e+11</td>\n      <td>101.416</td>\n      <td>7705.423</td>\n      <td>12773.079714</td>\n      <td>0.0</td>\n      <td>0.0</td>\n      <td>0.0</td>\n      <td>0.0</td>\n      <td>0.0</td>\n      <td>1.0</td>\n      <td>1.363620e+09</td>\n      <td>2009</td>\n      <td>11195.58</td>\n    </tr>\n    <tr>\n      <th>1841</th>\n      <td>1.613070e+09</td>\n      <td>2.175294e+11</td>\n      <td>101.936</td>\n      <td>8734.722</td>\n      <td>12773.079714</td>\n      <td>0.0</td>\n      <td>0.0</td>\n      <td>0.0</td>\n      <td>0.0</td>\n      <td>0.0</td>\n      <td>1.0</td>\n      <td>2.671829e+09</td>\n      <td>2011</td>\n      <td>113576.80</td>\n    </tr>\n    <tr>\n      <th>1874</th>\n      <td>1.604113e+09</td>\n      <td>2.417646e+11</td>\n      <td>101.416</td>\n      <td>40798.640</td>\n      <td>5187.787570</td>\n      <td>0.0</td>\n      <td>0.0</td>\n      <td>0.0</td>\n      <td>0.0</td>\n      <td>0.0</td>\n      <td>1.0</td>\n      <td>1.363620e+09</td>\n      <td>2009</td>\n      <td>894681.06</td>\n    </tr>\n    <tr>\n      <th>1875</th>\n      <td>1.597046e+09</td>\n      <td>2.987639e+11</td>\n      <td>101.597</td>\n      <td>41222.875</td>\n      <td>5187.787570</td>\n      <td>0.0</td>\n      <td>0.0</td>\n      <td>0.0</td>\n      <td>0.0</td>\n      <td>0.0</td>\n      <td>1.0</td>\n      <td>1.848131e+08</td>\n      <td>2010</td>\n      <td>166.97</td>\n    </tr>\n    <tr>\n      <th>...</th>\n      <td>...</td>\n      <td>...</td>\n      <td>...</td>\n      <td>...</td>\n      <td>...</td>\n      <td>...</td>\n      <td>...</td>\n      <td>...</td>\n      <td>...</td>\n      <td>...</td>\n      <td>...</td>\n      <td>...</td>\n      <td>...</td>\n      <td>...</td>\n    </tr>\n    <tr>\n      <th>2502422</th>\n      <td>6.097825e+09</td>\n      <td>1.311544e+10</td>\n      <td>13973.897</td>\n      <td>13917.439</td>\n      <td>583.795386</td>\n      <td>1.0</td>\n      <td>1.0</td>\n      <td>0.0</td>\n      <td>0.0</td>\n      <td>1.0</td>\n      <td>1.0</td>\n      <td>2.070475e+09</td>\n      <td>2010</td>\n      <td>46558256.00</td>\n    </tr>\n    <tr>\n      <th>2502423</th>\n      <td>6.838230e+09</td>\n      <td>1.464204e+10</td>\n      <td>14255.592</td>\n      <td>14343.526</td>\n      <td>583.795386</td>\n      <td>1.0</td>\n      <td>1.0</td>\n      <td>0.0</td>\n      <td>0.0</td>\n      <td>1.0</td>\n      <td>1.0</td>\n      <td>2.192061e+09</td>\n      <td>2011</td>\n      <td>55171376.00</td>\n    </tr>\n    <tr>\n      <th>2502424</th>\n      <td>7.845171e+09</td>\n      <td>1.614464e+10</td>\n      <td>14565.482</td>\n      <td>14786.581</td>\n      <td>583.795386</td>\n      <td>1.0</td>\n      <td>1.0</td>\n      <td>0.0</td>\n      <td>0.0</td>\n      <td>1.0</td>\n      <td>1.0</td>\n      <td>2.457760e+09</td>\n      <td>2012</td>\n      <td>58787336.00</td>\n    </tr>\n    <tr>\n      <th>2502425</th>\n      <td>8.629172e+09</td>\n      <td>1.793963e+10</td>\n      <td>14898.092</td>\n      <td>15246.086</td>\n      <td>583.795386</td>\n      <td>1.0</td>\n      <td>1.0</td>\n      <td>0.0</td>\n      <td>0.0</td>\n      <td>1.0</td>\n      <td>1.0</td>\n      <td>2.243481e+09</td>\n      <td>2013</td>\n      <td>77869780.00</td>\n    </tr>\n    <tr>\n      <th>2502426</th>\n      <td>8.627889e+09</td>\n      <td>1.649053e+10</td>\n      <td>15245.855</td>\n      <td>15721.343</td>\n      <td>583.795386</td>\n      <td>1.0</td>\n      <td>1.0</td>\n      <td>0.0</td>\n      <td>0.0</td>\n      <td>1.0</td>\n      <td>1.0</td>\n      <td>2.089376e+09</td>\n      <td>2014</td>\n      <td>62405360.00</td>\n    </tr>\n  </tbody>\n</table>\n<p>129557 rows × 14 columns</p>\n</div>"
     },
     "execution_count": 10,
     "metadata": {},
     "output_type": "execute_result"
    }
   ],
   "source": [
    "cleaned_df"
   ],
   "metadata": {
    "collapsed": false,
    "pycharm": {
     "name": "#%%\n"
    }
   }
  },
  {
   "cell_type": "code",
   "execution_count": 11,
   "outputs": [],
   "source": [
    "transformed_df = np.log(cleaned_df[[\"GDP_o\", \"GDP_d\", \"POP_o\", \"POP_d\", \"Distw\", \"XPTOT_o\", \"FLOW\"]])"
   ],
   "metadata": {
    "collapsed": false,
    "pycharm": {
     "name": "#%%\n"
    }
   }
  },
  {
   "cell_type": "code",
   "execution_count": 12,
   "outputs": [],
   "source": [
    "remaining_df = cleaned_df[[\"Comlang\", \"Contig\", \"OECD_o\", \"OECD_d\",\n",
    "                           \"GATT_o\", \"GATT_d\", \"year\"]]"
   ],
   "metadata": {
    "collapsed": false,
    "pycharm": {
     "name": "#%%\n"
    }
   }
  },
  {
   "cell_type": "code",
   "execution_count": 13,
   "outputs": [
    {
     "data": {
      "text/plain": "         Comlang  Contig  OECD_o  OECD_d  GATT_o  GATT_d  year\n1707         0.0     0.0     0.0     0.0     0.0     0.0  2011\n1839         0.0     0.0     0.0     0.0     0.0     1.0  2009\n1841         0.0     0.0     0.0     0.0     0.0     1.0  2011\n1874         0.0     0.0     0.0     0.0     0.0     1.0  2009\n1875         0.0     0.0     0.0     0.0     0.0     1.0  2010\n...          ...     ...     ...     ...     ...     ...   ...\n2502422      1.0     1.0     0.0     0.0     1.0     1.0  2010\n2502423      1.0     1.0     0.0     0.0     1.0     1.0  2011\n2502424      1.0     1.0     0.0     0.0     1.0     1.0  2012\n2502425      1.0     1.0     0.0     0.0     1.0     1.0  2013\n2502426      1.0     1.0     0.0     0.0     1.0     1.0  2014\n\n[129557 rows x 7 columns]",
      "text/html": "<div>\n<style scoped>\n    .dataframe tbody tr th:only-of-type {\n        vertical-align: middle;\n    }\n\n    .dataframe tbody tr th {\n        vertical-align: top;\n    }\n\n    .dataframe thead th {\n        text-align: right;\n    }\n</style>\n<table border=\"1\" class=\"dataframe\">\n  <thead>\n    <tr style=\"text-align: right;\">\n      <th></th>\n      <th>Comlang</th>\n      <th>Contig</th>\n      <th>OECD_o</th>\n      <th>OECD_d</th>\n      <th>GATT_o</th>\n      <th>GATT_d</th>\n      <th>year</th>\n    </tr>\n  </thead>\n  <tbody>\n    <tr>\n      <th>1707</th>\n      <td>0.0</td>\n      <td>0.0</td>\n      <td>0.0</td>\n      <td>0.0</td>\n      <td>0.0</td>\n      <td>0.0</td>\n      <td>2011</td>\n    </tr>\n    <tr>\n      <th>1839</th>\n      <td>0.0</td>\n      <td>0.0</td>\n      <td>0.0</td>\n      <td>0.0</td>\n      <td>0.0</td>\n      <td>1.0</td>\n      <td>2009</td>\n    </tr>\n    <tr>\n      <th>1841</th>\n      <td>0.0</td>\n      <td>0.0</td>\n      <td>0.0</td>\n      <td>0.0</td>\n      <td>0.0</td>\n      <td>1.0</td>\n      <td>2011</td>\n    </tr>\n    <tr>\n      <th>1874</th>\n      <td>0.0</td>\n      <td>0.0</td>\n      <td>0.0</td>\n      <td>0.0</td>\n      <td>0.0</td>\n      <td>1.0</td>\n      <td>2009</td>\n    </tr>\n    <tr>\n      <th>1875</th>\n      <td>0.0</td>\n      <td>0.0</td>\n      <td>0.0</td>\n      <td>0.0</td>\n      <td>0.0</td>\n      <td>1.0</td>\n      <td>2010</td>\n    </tr>\n    <tr>\n      <th>...</th>\n      <td>...</td>\n      <td>...</td>\n      <td>...</td>\n      <td>...</td>\n      <td>...</td>\n      <td>...</td>\n      <td>...</td>\n    </tr>\n    <tr>\n      <th>2502422</th>\n      <td>1.0</td>\n      <td>1.0</td>\n      <td>0.0</td>\n      <td>0.0</td>\n      <td>1.0</td>\n      <td>1.0</td>\n      <td>2010</td>\n    </tr>\n    <tr>\n      <th>2502423</th>\n      <td>1.0</td>\n      <td>1.0</td>\n      <td>0.0</td>\n      <td>0.0</td>\n      <td>1.0</td>\n      <td>1.0</td>\n      <td>2011</td>\n    </tr>\n    <tr>\n      <th>2502424</th>\n      <td>1.0</td>\n      <td>1.0</td>\n      <td>0.0</td>\n      <td>0.0</td>\n      <td>1.0</td>\n      <td>1.0</td>\n      <td>2012</td>\n    </tr>\n    <tr>\n      <th>2502425</th>\n      <td>1.0</td>\n      <td>1.0</td>\n      <td>0.0</td>\n      <td>0.0</td>\n      <td>1.0</td>\n      <td>1.0</td>\n      <td>2013</td>\n    </tr>\n    <tr>\n      <th>2502426</th>\n      <td>1.0</td>\n      <td>1.0</td>\n      <td>0.0</td>\n      <td>0.0</td>\n      <td>1.0</td>\n      <td>1.0</td>\n      <td>2014</td>\n    </tr>\n  </tbody>\n</table>\n<p>129557 rows × 7 columns</p>\n</div>"
     },
     "execution_count": 13,
     "metadata": {},
     "output_type": "execute_result"
    }
   ],
   "source": [
    "remaining_df"
   ],
   "metadata": {
    "collapsed": false,
    "pycharm": {
     "name": "#%%\n"
    }
   }
  },
  {
   "cell_type": "code",
   "execution_count": 14,
   "outputs": [
    {
     "data": {
      "text/plain": "             GDP_o      GDP_d     POP_o      POP_d     Distw    XPTOT_o  \\\n1707     21.201405  23.138376  4.624345  10.268449  9.485562  21.706029   \n1839     21.195837  25.815523  4.619231   8.949680  9.455095  21.033409   \n1841     21.201405  26.105600  4.624345   9.075061  9.455095  21.706029   \n1874     21.195837  26.211230  4.619231  10.616404  8.554063  21.033409   \n1875     21.191422  26.422919  4.621014  10.626749  8.554063  19.034855   \n...            ...        ...       ...        ...       ...        ...   \n2502422  22.531198  23.297056  9.544946   9.540898  6.369551  21.451044   \n2502423  22.645795  23.407163  9.564905   9.571054  6.369551  21.508108   \n2502424  22.783164  23.504854  9.586410   9.601475  6.369551  21.622516   \n2502425  22.878414  23.610278  9.608988   9.632078  6.369551  21.531294   \n2502426  22.878266  23.526052  9.632063   9.662774  6.369551  21.460131   \n\n              FLOW  \n1707     11.005971  \n1839      9.323274  \n1841     11.640235  \n1874     13.704223  \n1875      5.117814  \n...            ...  \n2502422  17.656215  \n2502423  17.825955  \n2502424  17.889437  \n2502425  18.170549  \n2502426  17.949162  \n\n[129557 rows x 7 columns]",
      "text/html": "<div>\n<style scoped>\n    .dataframe tbody tr th:only-of-type {\n        vertical-align: middle;\n    }\n\n    .dataframe tbody tr th {\n        vertical-align: top;\n    }\n\n    .dataframe thead th {\n        text-align: right;\n    }\n</style>\n<table border=\"1\" class=\"dataframe\">\n  <thead>\n    <tr style=\"text-align: right;\">\n      <th></th>\n      <th>GDP_o</th>\n      <th>GDP_d</th>\n      <th>POP_o</th>\n      <th>POP_d</th>\n      <th>Distw</th>\n      <th>XPTOT_o</th>\n      <th>FLOW</th>\n    </tr>\n  </thead>\n  <tbody>\n    <tr>\n      <th>1707</th>\n      <td>21.201405</td>\n      <td>23.138376</td>\n      <td>4.624345</td>\n      <td>10.268449</td>\n      <td>9.485562</td>\n      <td>21.706029</td>\n      <td>11.005971</td>\n    </tr>\n    <tr>\n      <th>1839</th>\n      <td>21.195837</td>\n      <td>25.815523</td>\n      <td>4.619231</td>\n      <td>8.949680</td>\n      <td>9.455095</td>\n      <td>21.033409</td>\n      <td>9.323274</td>\n    </tr>\n    <tr>\n      <th>1841</th>\n      <td>21.201405</td>\n      <td>26.105600</td>\n      <td>4.624345</td>\n      <td>9.075061</td>\n      <td>9.455095</td>\n      <td>21.706029</td>\n      <td>11.640235</td>\n    </tr>\n    <tr>\n      <th>1874</th>\n      <td>21.195837</td>\n      <td>26.211230</td>\n      <td>4.619231</td>\n      <td>10.616404</td>\n      <td>8.554063</td>\n      <td>21.033409</td>\n      <td>13.704223</td>\n    </tr>\n    <tr>\n      <th>1875</th>\n      <td>21.191422</td>\n      <td>26.422919</td>\n      <td>4.621014</td>\n      <td>10.626749</td>\n      <td>8.554063</td>\n      <td>19.034855</td>\n      <td>5.117814</td>\n    </tr>\n    <tr>\n      <th>...</th>\n      <td>...</td>\n      <td>...</td>\n      <td>...</td>\n      <td>...</td>\n      <td>...</td>\n      <td>...</td>\n      <td>...</td>\n    </tr>\n    <tr>\n      <th>2502422</th>\n      <td>22.531198</td>\n      <td>23.297056</td>\n      <td>9.544946</td>\n      <td>9.540898</td>\n      <td>6.369551</td>\n      <td>21.451044</td>\n      <td>17.656215</td>\n    </tr>\n    <tr>\n      <th>2502423</th>\n      <td>22.645795</td>\n      <td>23.407163</td>\n      <td>9.564905</td>\n      <td>9.571054</td>\n      <td>6.369551</td>\n      <td>21.508108</td>\n      <td>17.825955</td>\n    </tr>\n    <tr>\n      <th>2502424</th>\n      <td>22.783164</td>\n      <td>23.504854</td>\n      <td>9.586410</td>\n      <td>9.601475</td>\n      <td>6.369551</td>\n      <td>21.622516</td>\n      <td>17.889437</td>\n    </tr>\n    <tr>\n      <th>2502425</th>\n      <td>22.878414</td>\n      <td>23.610278</td>\n      <td>9.608988</td>\n      <td>9.632078</td>\n      <td>6.369551</td>\n      <td>21.531294</td>\n      <td>18.170549</td>\n    </tr>\n    <tr>\n      <th>2502426</th>\n      <td>22.878266</td>\n      <td>23.526052</td>\n      <td>9.632063</td>\n      <td>9.662774</td>\n      <td>6.369551</td>\n      <td>21.460131</td>\n      <td>17.949162</td>\n    </tr>\n  </tbody>\n</table>\n<p>129557 rows × 7 columns</p>\n</div>"
     },
     "execution_count": 14,
     "metadata": {},
     "output_type": "execute_result"
    }
   ],
   "source": [
    "transformed_df"
   ],
   "metadata": {
    "collapsed": false,
    "pycharm": {
     "name": "#%%\n"
    }
   }
  },
  {
   "cell_type": "code",
   "execution_count": 15,
   "outputs": [],
   "source": [
    "final_df = pd.merge(transformed_df, remaining_df, left_index=True, right_index=True)"
   ],
   "metadata": {
    "collapsed": false,
    "pycharm": {
     "name": "#%%\n"
    }
   }
  },
  {
   "cell_type": "code",
   "execution_count": 16,
   "outputs": [
    {
     "data": {
      "text/plain": "             GDP_o      GDP_d     POP_o      POP_d     Distw    XPTOT_o  \\\n1707     21.201405  23.138376  4.624345  10.268449  9.485562  21.706029   \n1839     21.195837  25.815523  4.619231   8.949680  9.455095  21.033409   \n1841     21.201405  26.105600  4.624345   9.075061  9.455095  21.706029   \n1874     21.195837  26.211230  4.619231  10.616404  8.554063  21.033409   \n1875     21.191422  26.422919  4.621014  10.626749  8.554063  19.034855   \n...            ...        ...       ...        ...       ...        ...   \n2502422  22.531198  23.297056  9.544946   9.540898  6.369551  21.451044   \n2502423  22.645795  23.407163  9.564905   9.571054  6.369551  21.508108   \n2502424  22.783164  23.504854  9.586410   9.601475  6.369551  21.622516   \n2502425  22.878414  23.610278  9.608988   9.632078  6.369551  21.531294   \n2502426  22.878266  23.526052  9.632063   9.662774  6.369551  21.460131   \n\n              FLOW  Comlang  Contig  OECD_o  OECD_d  GATT_o  GATT_d  year  \n1707     11.005971      0.0     0.0     0.0     0.0     0.0     0.0  2011  \n1839      9.323274      0.0     0.0     0.0     0.0     0.0     1.0  2009  \n1841     11.640235      0.0     0.0     0.0     0.0     0.0     1.0  2011  \n1874     13.704223      0.0     0.0     0.0     0.0     0.0     1.0  2009  \n1875      5.117814      0.0     0.0     0.0     0.0     0.0     1.0  2010  \n...            ...      ...     ...     ...     ...     ...     ...   ...  \n2502422  17.656215      1.0     1.0     0.0     0.0     1.0     1.0  2010  \n2502423  17.825955      1.0     1.0     0.0     0.0     1.0     1.0  2011  \n2502424  17.889437      1.0     1.0     0.0     0.0     1.0     1.0  2012  \n2502425  18.170549      1.0     1.0     0.0     0.0     1.0     1.0  2013  \n2502426  17.949162      1.0     1.0     0.0     0.0     1.0     1.0  2014  \n\n[129557 rows x 14 columns]",
      "text/html": "<div>\n<style scoped>\n    .dataframe tbody tr th:only-of-type {\n        vertical-align: middle;\n    }\n\n    .dataframe tbody tr th {\n        vertical-align: top;\n    }\n\n    .dataframe thead th {\n        text-align: right;\n    }\n</style>\n<table border=\"1\" class=\"dataframe\">\n  <thead>\n    <tr style=\"text-align: right;\">\n      <th></th>\n      <th>GDP_o</th>\n      <th>GDP_d</th>\n      <th>POP_o</th>\n      <th>POP_d</th>\n      <th>Distw</th>\n      <th>XPTOT_o</th>\n      <th>FLOW</th>\n      <th>Comlang</th>\n      <th>Contig</th>\n      <th>OECD_o</th>\n      <th>OECD_d</th>\n      <th>GATT_o</th>\n      <th>GATT_d</th>\n      <th>year</th>\n    </tr>\n  </thead>\n  <tbody>\n    <tr>\n      <th>1707</th>\n      <td>21.201405</td>\n      <td>23.138376</td>\n      <td>4.624345</td>\n      <td>10.268449</td>\n      <td>9.485562</td>\n      <td>21.706029</td>\n      <td>11.005971</td>\n      <td>0.0</td>\n      <td>0.0</td>\n      <td>0.0</td>\n      <td>0.0</td>\n      <td>0.0</td>\n      <td>0.0</td>\n      <td>2011</td>\n    </tr>\n    <tr>\n      <th>1839</th>\n      <td>21.195837</td>\n      <td>25.815523</td>\n      <td>4.619231</td>\n      <td>8.949680</td>\n      <td>9.455095</td>\n      <td>21.033409</td>\n      <td>9.323274</td>\n      <td>0.0</td>\n      <td>0.0</td>\n      <td>0.0</td>\n      <td>0.0</td>\n      <td>0.0</td>\n      <td>1.0</td>\n      <td>2009</td>\n    </tr>\n    <tr>\n      <th>1841</th>\n      <td>21.201405</td>\n      <td>26.105600</td>\n      <td>4.624345</td>\n      <td>9.075061</td>\n      <td>9.455095</td>\n      <td>21.706029</td>\n      <td>11.640235</td>\n      <td>0.0</td>\n      <td>0.0</td>\n      <td>0.0</td>\n      <td>0.0</td>\n      <td>0.0</td>\n      <td>1.0</td>\n      <td>2011</td>\n    </tr>\n    <tr>\n      <th>1874</th>\n      <td>21.195837</td>\n      <td>26.211230</td>\n      <td>4.619231</td>\n      <td>10.616404</td>\n      <td>8.554063</td>\n      <td>21.033409</td>\n      <td>13.704223</td>\n      <td>0.0</td>\n      <td>0.0</td>\n      <td>0.0</td>\n      <td>0.0</td>\n      <td>0.0</td>\n      <td>1.0</td>\n      <td>2009</td>\n    </tr>\n    <tr>\n      <th>1875</th>\n      <td>21.191422</td>\n      <td>26.422919</td>\n      <td>4.621014</td>\n      <td>10.626749</td>\n      <td>8.554063</td>\n      <td>19.034855</td>\n      <td>5.117814</td>\n      <td>0.0</td>\n      <td>0.0</td>\n      <td>0.0</td>\n      <td>0.0</td>\n      <td>0.0</td>\n      <td>1.0</td>\n      <td>2010</td>\n    </tr>\n    <tr>\n      <th>...</th>\n      <td>...</td>\n      <td>...</td>\n      <td>...</td>\n      <td>...</td>\n      <td>...</td>\n      <td>...</td>\n      <td>...</td>\n      <td>...</td>\n      <td>...</td>\n      <td>...</td>\n      <td>...</td>\n      <td>...</td>\n      <td>...</td>\n      <td>...</td>\n    </tr>\n    <tr>\n      <th>2502422</th>\n      <td>22.531198</td>\n      <td>23.297056</td>\n      <td>9.544946</td>\n      <td>9.540898</td>\n      <td>6.369551</td>\n      <td>21.451044</td>\n      <td>17.656215</td>\n      <td>1.0</td>\n      <td>1.0</td>\n      <td>0.0</td>\n      <td>0.0</td>\n      <td>1.0</td>\n      <td>1.0</td>\n      <td>2010</td>\n    </tr>\n    <tr>\n      <th>2502423</th>\n      <td>22.645795</td>\n      <td>23.407163</td>\n      <td>9.564905</td>\n      <td>9.571054</td>\n      <td>6.369551</td>\n      <td>21.508108</td>\n      <td>17.825955</td>\n      <td>1.0</td>\n      <td>1.0</td>\n      <td>0.0</td>\n      <td>0.0</td>\n      <td>1.0</td>\n      <td>1.0</td>\n      <td>2011</td>\n    </tr>\n    <tr>\n      <th>2502424</th>\n      <td>22.783164</td>\n      <td>23.504854</td>\n      <td>9.586410</td>\n      <td>9.601475</td>\n      <td>6.369551</td>\n      <td>21.622516</td>\n      <td>17.889437</td>\n      <td>1.0</td>\n      <td>1.0</td>\n      <td>0.0</td>\n      <td>0.0</td>\n      <td>1.0</td>\n      <td>1.0</td>\n      <td>2012</td>\n    </tr>\n    <tr>\n      <th>2502425</th>\n      <td>22.878414</td>\n      <td>23.610278</td>\n      <td>9.608988</td>\n      <td>9.632078</td>\n      <td>6.369551</td>\n      <td>21.531294</td>\n      <td>18.170549</td>\n      <td>1.0</td>\n      <td>1.0</td>\n      <td>0.0</td>\n      <td>0.0</td>\n      <td>1.0</td>\n      <td>1.0</td>\n      <td>2013</td>\n    </tr>\n    <tr>\n      <th>2502426</th>\n      <td>22.878266</td>\n      <td>23.526052</td>\n      <td>9.632063</td>\n      <td>9.662774</td>\n      <td>6.369551</td>\n      <td>21.460131</td>\n      <td>17.949162</td>\n      <td>1.0</td>\n      <td>1.0</td>\n      <td>0.0</td>\n      <td>0.0</td>\n      <td>1.0</td>\n      <td>1.0</td>\n      <td>2014</td>\n    </tr>\n  </tbody>\n</table>\n<p>129557 rows × 14 columns</p>\n</div>"
     },
     "execution_count": 16,
     "metadata": {},
     "output_type": "execute_result"
    }
   ],
   "source": [
    "final_df"
   ],
   "metadata": {
    "collapsed": false,
    "pycharm": {
     "name": "#%%\n"
    }
   }
  },
  {
   "cell_type": "code",
   "execution_count": 17,
   "outputs": [],
   "source": [
    "from sklearn.model_selection import train_test_split\n",
    "\n",
    "final_df = final_df.drop([\"year\"], axis=1)"
   ],
   "metadata": {
    "collapsed": false,
    "pycharm": {
     "name": "#%%\n"
    }
   }
  },
  {
   "cell_type": "code",
   "execution_count": 18,
   "outputs": [
    {
     "data": {
      "text/plain": "             GDP_o      GDP_d     POP_o      POP_d     Distw    XPTOT_o  \\\n1707     21.201405  23.138376  4.624345  10.268449  9.485562  21.706029   \n1839     21.195837  25.815523  4.619231   8.949680  9.455095  21.033409   \n1841     21.201405  26.105600  4.624345   9.075061  9.455095  21.706029   \n1874     21.195837  26.211230  4.619231  10.616404  8.554063  21.033409   \n1875     21.191422  26.422919  4.621014  10.626749  8.554063  19.034855   \n...            ...        ...       ...        ...       ...        ...   \n2502422  22.531198  23.297056  9.544946   9.540898  6.369551  21.451044   \n2502423  22.645795  23.407163  9.564905   9.571054  6.369551  21.508108   \n2502424  22.783164  23.504854  9.586410   9.601475  6.369551  21.622516   \n2502425  22.878414  23.610278  9.608988   9.632078  6.369551  21.531294   \n2502426  22.878266  23.526052  9.632063   9.662774  6.369551  21.460131   \n\n              FLOW  Comlang  Contig  OECD_o  OECD_d  GATT_o  GATT_d  \n1707     11.005971      0.0     0.0     0.0     0.0     0.0     0.0  \n1839      9.323274      0.0     0.0     0.0     0.0     0.0     1.0  \n1841     11.640235      0.0     0.0     0.0     0.0     0.0     1.0  \n1874     13.704223      0.0     0.0     0.0     0.0     0.0     1.0  \n1875      5.117814      0.0     0.0     0.0     0.0     0.0     1.0  \n...            ...      ...     ...     ...     ...     ...     ...  \n2502422  17.656215      1.0     1.0     0.0     0.0     1.0     1.0  \n2502423  17.825955      1.0     1.0     0.0     0.0     1.0     1.0  \n2502424  17.889437      1.0     1.0     0.0     0.0     1.0     1.0  \n2502425  18.170549      1.0     1.0     0.0     0.0     1.0     1.0  \n2502426  17.949162      1.0     1.0     0.0     0.0     1.0     1.0  \n\n[129557 rows x 13 columns]",
      "text/html": "<div>\n<style scoped>\n    .dataframe tbody tr th:only-of-type {\n        vertical-align: middle;\n    }\n\n    .dataframe tbody tr th {\n        vertical-align: top;\n    }\n\n    .dataframe thead th {\n        text-align: right;\n    }\n</style>\n<table border=\"1\" class=\"dataframe\">\n  <thead>\n    <tr style=\"text-align: right;\">\n      <th></th>\n      <th>GDP_o</th>\n      <th>GDP_d</th>\n      <th>POP_o</th>\n      <th>POP_d</th>\n      <th>Distw</th>\n      <th>XPTOT_o</th>\n      <th>FLOW</th>\n      <th>Comlang</th>\n      <th>Contig</th>\n      <th>OECD_o</th>\n      <th>OECD_d</th>\n      <th>GATT_o</th>\n      <th>GATT_d</th>\n    </tr>\n  </thead>\n  <tbody>\n    <tr>\n      <th>1707</th>\n      <td>21.201405</td>\n      <td>23.138376</td>\n      <td>4.624345</td>\n      <td>10.268449</td>\n      <td>9.485562</td>\n      <td>21.706029</td>\n      <td>11.005971</td>\n      <td>0.0</td>\n      <td>0.0</td>\n      <td>0.0</td>\n      <td>0.0</td>\n      <td>0.0</td>\n      <td>0.0</td>\n    </tr>\n    <tr>\n      <th>1839</th>\n      <td>21.195837</td>\n      <td>25.815523</td>\n      <td>4.619231</td>\n      <td>8.949680</td>\n      <td>9.455095</td>\n      <td>21.033409</td>\n      <td>9.323274</td>\n      <td>0.0</td>\n      <td>0.0</td>\n      <td>0.0</td>\n      <td>0.0</td>\n      <td>0.0</td>\n      <td>1.0</td>\n    </tr>\n    <tr>\n      <th>1841</th>\n      <td>21.201405</td>\n      <td>26.105600</td>\n      <td>4.624345</td>\n      <td>9.075061</td>\n      <td>9.455095</td>\n      <td>21.706029</td>\n      <td>11.640235</td>\n      <td>0.0</td>\n      <td>0.0</td>\n      <td>0.0</td>\n      <td>0.0</td>\n      <td>0.0</td>\n      <td>1.0</td>\n    </tr>\n    <tr>\n      <th>1874</th>\n      <td>21.195837</td>\n      <td>26.211230</td>\n      <td>4.619231</td>\n      <td>10.616404</td>\n      <td>8.554063</td>\n      <td>21.033409</td>\n      <td>13.704223</td>\n      <td>0.0</td>\n      <td>0.0</td>\n      <td>0.0</td>\n      <td>0.0</td>\n      <td>0.0</td>\n      <td>1.0</td>\n    </tr>\n    <tr>\n      <th>1875</th>\n      <td>21.191422</td>\n      <td>26.422919</td>\n      <td>4.621014</td>\n      <td>10.626749</td>\n      <td>8.554063</td>\n      <td>19.034855</td>\n      <td>5.117814</td>\n      <td>0.0</td>\n      <td>0.0</td>\n      <td>0.0</td>\n      <td>0.0</td>\n      <td>0.0</td>\n      <td>1.0</td>\n    </tr>\n    <tr>\n      <th>...</th>\n      <td>...</td>\n      <td>...</td>\n      <td>...</td>\n      <td>...</td>\n      <td>...</td>\n      <td>...</td>\n      <td>...</td>\n      <td>...</td>\n      <td>...</td>\n      <td>...</td>\n      <td>...</td>\n      <td>...</td>\n      <td>...</td>\n    </tr>\n    <tr>\n      <th>2502422</th>\n      <td>22.531198</td>\n      <td>23.297056</td>\n      <td>9.544946</td>\n      <td>9.540898</td>\n      <td>6.369551</td>\n      <td>21.451044</td>\n      <td>17.656215</td>\n      <td>1.0</td>\n      <td>1.0</td>\n      <td>0.0</td>\n      <td>0.0</td>\n      <td>1.0</td>\n      <td>1.0</td>\n    </tr>\n    <tr>\n      <th>2502423</th>\n      <td>22.645795</td>\n      <td>23.407163</td>\n      <td>9.564905</td>\n      <td>9.571054</td>\n      <td>6.369551</td>\n      <td>21.508108</td>\n      <td>17.825955</td>\n      <td>1.0</td>\n      <td>1.0</td>\n      <td>0.0</td>\n      <td>0.0</td>\n      <td>1.0</td>\n      <td>1.0</td>\n    </tr>\n    <tr>\n      <th>2502424</th>\n      <td>22.783164</td>\n      <td>23.504854</td>\n      <td>9.586410</td>\n      <td>9.601475</td>\n      <td>6.369551</td>\n      <td>21.622516</td>\n      <td>17.889437</td>\n      <td>1.0</td>\n      <td>1.0</td>\n      <td>0.0</td>\n      <td>0.0</td>\n      <td>1.0</td>\n      <td>1.0</td>\n    </tr>\n    <tr>\n      <th>2502425</th>\n      <td>22.878414</td>\n      <td>23.610278</td>\n      <td>9.608988</td>\n      <td>9.632078</td>\n      <td>6.369551</td>\n      <td>21.531294</td>\n      <td>18.170549</td>\n      <td>1.0</td>\n      <td>1.0</td>\n      <td>0.0</td>\n      <td>0.0</td>\n      <td>1.0</td>\n      <td>1.0</td>\n    </tr>\n    <tr>\n      <th>2502426</th>\n      <td>22.878266</td>\n      <td>23.526052</td>\n      <td>9.632063</td>\n      <td>9.662774</td>\n      <td>6.369551</td>\n      <td>21.460131</td>\n      <td>17.949162</td>\n      <td>1.0</td>\n      <td>1.0</td>\n      <td>0.0</td>\n      <td>0.0</td>\n      <td>1.0</td>\n      <td>1.0</td>\n    </tr>\n  </tbody>\n</table>\n<p>129557 rows × 13 columns</p>\n</div>"
     },
     "execution_count": 18,
     "metadata": {},
     "output_type": "execute_result"
    }
   ],
   "source": [
    "final_df"
   ],
   "metadata": {
    "collapsed": false,
    "pycharm": {
     "name": "#%%\n"
    }
   }
  },
  {
   "cell_type": "code",
   "execution_count": 19,
   "outputs": [],
   "source": [
    "X = final_df[[\"GDP_o\", \"GDP_d\", \"POP_o\", \"POP_d\", \"Distw\", \"Comlang\", \"Contig\", \"OECD_o\", \"OECD_d\",\"GATT_o\", \"GATT_d\", \"XPTOT_o\"]]\n",
    "\n",
    "y = final_df[[\"FLOW\"]]"
   ],
   "metadata": {
    "collapsed": false,
    "pycharm": {
     "name": "#%%\n"
    }
   }
  },
  {
   "cell_type": "code",
   "execution_count": 20,
   "outputs": [],
   "source": [
    "X_train, X_test, y_train, y_test = train_test_split(X, y, test_size=0.3, random_state=42)"
   ],
   "metadata": {
    "collapsed": false,
    "pycharm": {
     "name": "#%%\n"
    }
   }
  },
  {
   "cell_type": "code",
   "execution_count": 21,
   "outputs": [
    {
     "data": {
      "text/plain": "LinearRegression()",
      "text/html": "<style>#sk-container-id-1 {color: black;background-color: white;}#sk-container-id-1 pre{padding: 0;}#sk-container-id-1 div.sk-toggleable {background-color: white;}#sk-container-id-1 label.sk-toggleable__label {cursor: pointer;display: block;width: 100%;margin-bottom: 0;padding: 0.3em;box-sizing: border-box;text-align: center;}#sk-container-id-1 label.sk-toggleable__label-arrow:before {content: \"▸\";float: left;margin-right: 0.25em;color: #696969;}#sk-container-id-1 label.sk-toggleable__label-arrow:hover:before {color: black;}#sk-container-id-1 div.sk-estimator:hover label.sk-toggleable__label-arrow:before {color: black;}#sk-container-id-1 div.sk-toggleable__content {max-height: 0;max-width: 0;overflow: hidden;text-align: left;background-color: #f0f8ff;}#sk-container-id-1 div.sk-toggleable__content pre {margin: 0.2em;color: black;border-radius: 0.25em;background-color: #f0f8ff;}#sk-container-id-1 input.sk-toggleable__control:checked~div.sk-toggleable__content {max-height: 200px;max-width: 100%;overflow: auto;}#sk-container-id-1 input.sk-toggleable__control:checked~label.sk-toggleable__label-arrow:before {content: \"▾\";}#sk-container-id-1 div.sk-estimator input.sk-toggleable__control:checked~label.sk-toggleable__label {background-color: #d4ebff;}#sk-container-id-1 div.sk-label input.sk-toggleable__control:checked~label.sk-toggleable__label {background-color: #d4ebff;}#sk-container-id-1 input.sk-hidden--visually {border: 0;clip: rect(1px 1px 1px 1px);clip: rect(1px, 1px, 1px, 1px);height: 1px;margin: -1px;overflow: hidden;padding: 0;position: absolute;width: 1px;}#sk-container-id-1 div.sk-estimator {font-family: monospace;background-color: #f0f8ff;border: 1px dotted black;border-radius: 0.25em;box-sizing: border-box;margin-bottom: 0.5em;}#sk-container-id-1 div.sk-estimator:hover {background-color: #d4ebff;}#sk-container-id-1 div.sk-parallel-item::after {content: \"\";width: 100%;border-bottom: 1px solid gray;flex-grow: 1;}#sk-container-id-1 div.sk-label:hover label.sk-toggleable__label {background-color: #d4ebff;}#sk-container-id-1 div.sk-serial::before {content: \"\";position: absolute;border-left: 1px solid gray;box-sizing: border-box;top: 0;bottom: 0;left: 50%;z-index: 0;}#sk-container-id-1 div.sk-serial {display: flex;flex-direction: column;align-items: center;background-color: white;padding-right: 0.2em;padding-left: 0.2em;position: relative;}#sk-container-id-1 div.sk-item {position: relative;z-index: 1;}#sk-container-id-1 div.sk-parallel {display: flex;align-items: stretch;justify-content: center;background-color: white;position: relative;}#sk-container-id-1 div.sk-item::before, #sk-container-id-1 div.sk-parallel-item::before {content: \"\";position: absolute;border-left: 1px solid gray;box-sizing: border-box;top: 0;bottom: 0;left: 50%;z-index: -1;}#sk-container-id-1 div.sk-parallel-item {display: flex;flex-direction: column;z-index: 1;position: relative;background-color: white;}#sk-container-id-1 div.sk-parallel-item:first-child::after {align-self: flex-end;width: 50%;}#sk-container-id-1 div.sk-parallel-item:last-child::after {align-self: flex-start;width: 50%;}#sk-container-id-1 div.sk-parallel-item:only-child::after {width: 0;}#sk-container-id-1 div.sk-dashed-wrapped {border: 1px dashed gray;margin: 0 0.4em 0.5em 0.4em;box-sizing: border-box;padding-bottom: 0.4em;background-color: white;}#sk-container-id-1 div.sk-label label {font-family: monospace;font-weight: bold;display: inline-block;line-height: 1.2em;}#sk-container-id-1 div.sk-label-container {text-align: center;}#sk-container-id-1 div.sk-container {/* jupyter's `normalize.less` sets `[hidden] { display: none; }` but bootstrap.min.css set `[hidden] { display: none !important; }` so we also need the `!important` here to be able to override the default hidden behavior on the sphinx rendered scikit-learn.org. See: https://github.com/scikit-learn/scikit-learn/issues/21755 */display: inline-block !important;position: relative;}#sk-container-id-1 div.sk-text-repr-fallback {display: none;}</style><div id=\"sk-container-id-1\" class=\"sk-top-container\"><div class=\"sk-text-repr-fallback\"><pre>LinearRegression()</pre><b>In a Jupyter environment, please rerun this cell to show the HTML representation or trust the notebook. <br />On GitHub, the HTML representation is unable to render, please try loading this page with nbviewer.org.</b></div><div class=\"sk-container\" hidden><div class=\"sk-item\"><div class=\"sk-estimator sk-toggleable\"><input class=\"sk-toggleable__control sk-hidden--visually\" id=\"sk-estimator-id-1\" type=\"checkbox\" checked><label for=\"sk-estimator-id-1\" class=\"sk-toggleable__label sk-toggleable__label-arrow\">LinearRegression</label><div class=\"sk-toggleable__content\"><pre>LinearRegression()</pre></div></div></div></div></div>"
     },
     "execution_count": 21,
     "metadata": {},
     "output_type": "execute_result"
    }
   ],
   "source": [
    "from sklearn.linear_model import LinearRegression\n",
    "\n",
    "lr = LinearRegression()\n",
    "lr.fit(X_train, y_train)"
   ],
   "metadata": {
    "collapsed": false,
    "pycharm": {
     "name": "#%%\n"
    }
   }
  },
  {
   "cell_type": "code",
   "execution_count": 22,
   "outputs": [
    {
     "data": {
      "text/plain": "0.6535032103895009"
     },
     "execution_count": 22,
     "metadata": {},
     "output_type": "execute_result"
    }
   ],
   "source": [
    "lr.score(X_test, y_test)"
   ],
   "metadata": {
    "collapsed": false,
    "pycharm": {
     "name": "#%%\n"
    }
   }
  },
  {
   "cell_type": "code",
   "execution_count": 23,
   "outputs": [],
   "source": [
    "from sklearn.svm import SVR\n",
    "\n",
    "svm_reg = SVR()"
   ],
   "metadata": {
    "collapsed": false,
    "pycharm": {
     "name": "#%%\n"
    }
   }
  },
  {
   "cell_type": "code",
   "execution_count": 24,
   "outputs": [
    {
     "data": {
      "text/plain": "(90689, 1)"
     },
     "execution_count": 24,
     "metadata": {},
     "output_type": "execute_result"
    }
   ],
   "source": [
    "np.reshape(y_train, (y_train.shape[0], )).shape"
   ],
   "metadata": {
    "collapsed": false,
    "pycharm": {
     "name": "#%%\n"
    }
   }
  },
  {
   "cell_type": "code",
   "execution_count": 26,
   "outputs": [
    {
     "data": {
      "text/plain": "SVR()",
      "text/html": "<style>#sk-container-id-2 {color: black;background-color: white;}#sk-container-id-2 pre{padding: 0;}#sk-container-id-2 div.sk-toggleable {background-color: white;}#sk-container-id-2 label.sk-toggleable__label {cursor: pointer;display: block;width: 100%;margin-bottom: 0;padding: 0.3em;box-sizing: border-box;text-align: center;}#sk-container-id-2 label.sk-toggleable__label-arrow:before {content: \"▸\";float: left;margin-right: 0.25em;color: #696969;}#sk-container-id-2 label.sk-toggleable__label-arrow:hover:before {color: black;}#sk-container-id-2 div.sk-estimator:hover label.sk-toggleable__label-arrow:before {color: black;}#sk-container-id-2 div.sk-toggleable__content {max-height: 0;max-width: 0;overflow: hidden;text-align: left;background-color: #f0f8ff;}#sk-container-id-2 div.sk-toggleable__content pre {margin: 0.2em;color: black;border-radius: 0.25em;background-color: #f0f8ff;}#sk-container-id-2 input.sk-toggleable__control:checked~div.sk-toggleable__content {max-height: 200px;max-width: 100%;overflow: auto;}#sk-container-id-2 input.sk-toggleable__control:checked~label.sk-toggleable__label-arrow:before {content: \"▾\";}#sk-container-id-2 div.sk-estimator input.sk-toggleable__control:checked~label.sk-toggleable__label {background-color: #d4ebff;}#sk-container-id-2 div.sk-label input.sk-toggleable__control:checked~label.sk-toggleable__label {background-color: #d4ebff;}#sk-container-id-2 input.sk-hidden--visually {border: 0;clip: rect(1px 1px 1px 1px);clip: rect(1px, 1px, 1px, 1px);height: 1px;margin: -1px;overflow: hidden;padding: 0;position: absolute;width: 1px;}#sk-container-id-2 div.sk-estimator {font-family: monospace;background-color: #f0f8ff;border: 1px dotted black;border-radius: 0.25em;box-sizing: border-box;margin-bottom: 0.5em;}#sk-container-id-2 div.sk-estimator:hover {background-color: #d4ebff;}#sk-container-id-2 div.sk-parallel-item::after {content: \"\";width: 100%;border-bottom: 1px solid gray;flex-grow: 1;}#sk-container-id-2 div.sk-label:hover label.sk-toggleable__label {background-color: #d4ebff;}#sk-container-id-2 div.sk-serial::before {content: \"\";position: absolute;border-left: 1px solid gray;box-sizing: border-box;top: 0;bottom: 0;left: 50%;z-index: 0;}#sk-container-id-2 div.sk-serial {display: flex;flex-direction: column;align-items: center;background-color: white;padding-right: 0.2em;padding-left: 0.2em;position: relative;}#sk-container-id-2 div.sk-item {position: relative;z-index: 1;}#sk-container-id-2 div.sk-parallel {display: flex;align-items: stretch;justify-content: center;background-color: white;position: relative;}#sk-container-id-2 div.sk-item::before, #sk-container-id-2 div.sk-parallel-item::before {content: \"\";position: absolute;border-left: 1px solid gray;box-sizing: border-box;top: 0;bottom: 0;left: 50%;z-index: -1;}#sk-container-id-2 div.sk-parallel-item {display: flex;flex-direction: column;z-index: 1;position: relative;background-color: white;}#sk-container-id-2 div.sk-parallel-item:first-child::after {align-self: flex-end;width: 50%;}#sk-container-id-2 div.sk-parallel-item:last-child::after {align-self: flex-start;width: 50%;}#sk-container-id-2 div.sk-parallel-item:only-child::after {width: 0;}#sk-container-id-2 div.sk-dashed-wrapped {border: 1px dashed gray;margin: 0 0.4em 0.5em 0.4em;box-sizing: border-box;padding-bottom: 0.4em;background-color: white;}#sk-container-id-2 div.sk-label label {font-family: monospace;font-weight: bold;display: inline-block;line-height: 1.2em;}#sk-container-id-2 div.sk-label-container {text-align: center;}#sk-container-id-2 div.sk-container {/* jupyter's `normalize.less` sets `[hidden] { display: none; }` but bootstrap.min.css set `[hidden] { display: none !important; }` so we also need the `!important` here to be able to override the default hidden behavior on the sphinx rendered scikit-learn.org. See: https://github.com/scikit-learn/scikit-learn/issues/21755 */display: inline-block !important;position: relative;}#sk-container-id-2 div.sk-text-repr-fallback {display: none;}</style><div id=\"sk-container-id-2\" class=\"sk-top-container\"><div class=\"sk-text-repr-fallback\"><pre>SVR()</pre><b>In a Jupyter environment, please rerun this cell to show the HTML representation or trust the notebook. <br />On GitHub, the HTML representation is unable to render, please try loading this page with nbviewer.org.</b></div><div class=\"sk-container\" hidden><div class=\"sk-item\"><div class=\"sk-estimator sk-toggleable\"><input class=\"sk-toggleable__control sk-hidden--visually\" id=\"sk-estimator-id-2\" type=\"checkbox\" checked><label for=\"sk-estimator-id-2\" class=\"sk-toggleable__label sk-toggleable__label-arrow\">SVR</label><div class=\"sk-toggleable__content\"><pre>SVR()</pre></div></div></div></div></div>"
     },
     "execution_count": 26,
     "metadata": {},
     "output_type": "execute_result"
    }
   ],
   "source": [
    "svm_reg.fit(X_train, y_train.values.ravel())"
   ],
   "metadata": {
    "collapsed": false,
    "pycharm": {
     "name": "#%%\n"
    }
   }
  },
  {
   "cell_type": "code",
   "execution_count": 27,
   "outputs": [
    {
     "data": {
      "text/plain": "0.670406562317613"
     },
     "execution_count": 27,
     "metadata": {},
     "output_type": "execute_result"
    }
   ],
   "source": [
    "svm_reg.score(X_test, y_test)"
   ],
   "metadata": {
    "collapsed": false,
    "pycharm": {
     "name": "#%%\n"
    }
   }
  }
 ],
 "metadata": {
  "kernelspec": {
   "display_name": "Python 3",
   "language": "python",
   "name": "python3"
  },
  "language_info": {
   "codemirror_mode": {
    "name": "ipython",
    "version": 2
   },
   "file_extension": ".py",
   "mimetype": "text/x-python",
   "name": "python",
   "nbconvert_exporter": "python",
   "pygments_lexer": "ipython2",
   "version": "2.7.6"
  }
 },
 "nbformat": 4,
 "nbformat_minor": 0
}