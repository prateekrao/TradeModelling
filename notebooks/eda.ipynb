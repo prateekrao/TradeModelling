{
 "cells": [
  {
   "cell_type": "markdown",
   "source": [
    "# EDA - Exploratory Data Analysis\n",
    "> 1. Understand the Data\n",
    "> 2. Clean The Data\n",
    "> 3. Data Reduction & Transformation\n",
    "> 4. Analyse relationship between Variables"
   ],
   "metadata": {
    "collapsed": false,
    "pycharm": {
     "name": "#%% md\n"
    }
   }
  },
  {
   "cell_type": "code",
   "execution_count": null,
   "outputs": [],
   "source": [
    "import matplotlib.pyplot as plt\n",
    "import numpy as np\n",
    "import pandas as pd\n",
    "import seaborn as sns"
   ],
   "metadata": {
    "collapsed": false,
    "pycharm": {
     "name": "#%%\n"
    }
   }
  },
  {
   "cell_type": "code",
   "execution_count": null,
   "outputs": [],
   "source": [
    "data = pd.read_csv('./tradhist.csv')"
   ],
   "metadata": {
    "collapsed": false,
    "pycharm": {
     "name": "#%%\n"
    }
   }
  },
  {
   "cell_type": "markdown",
   "source": [
    "#### 1. Understanding Data:\n",
    "> - Head\n",
    "> - Tail\n",
    "> - Description\n",
    "> - Shape\n",
    "> - Unique\n",
    "> - Categoricals Unique\n",
    "> - ANOVA"
   ],
   "metadata": {
    "collapsed": false,
    "pycharm": {
     "name": "#%% md\n"
    }
   }
  },
  {
   "cell_type": "code",
   "execution_count": null,
   "outputs": [],
   "source": [
    "data.head()"
   ],
   "metadata": {
    "collapsed": false,
    "pycharm": {
     "name": "#%%\n"
    }
   }
  },
  {
   "cell_type": "code",
   "execution_count": null,
   "outputs": [],
   "source": [
    "data.tail()"
   ],
   "metadata": {
    "collapsed": false,
    "pycharm": {
     "name": "#%%\n"
    }
   }
  },
  {
   "cell_type": "code",
   "execution_count": null,
   "outputs": [],
   "source": [
    "display(data.shape)\n",
    "data.describe()"
   ],
   "metadata": {
    "collapsed": false,
    "pycharm": {
     "name": "#%%\n"
    }
   }
  },
  {
   "cell_type": "code",
   "execution_count": null,
   "outputs": [],
   "source": [
    "data.nunique()"
   ],
   "metadata": {
    "collapsed": false,
    "pycharm": {
     "name": "#%%\n"
    }
   }
  },
  {
   "cell_type": "code",
   "execution_count": null,
   "outputs": [],
   "source": [
    "data.columns"
   ],
   "metadata": {
    "collapsed": false,
    "pycharm": {
     "name": "#%%\n"
    }
   }
  },
  {
   "cell_type": "code",
   "execution_count": null,
   "outputs": [],
   "source": [
    "plt.scatter(data[\"year\"], data[\"FLOW\"])"
   ],
   "metadata": {
    "collapsed": false,
    "pycharm": {
     "name": "#%%\n"
    }
   }
  },
  {
   "cell_type": "markdown",
   "source": [
    "#### 2. Clean The Data\n",
    "\n",
    "> - Detect Null Values\n",
    "> - Fill in Missing Values\n",
    ">   - Drop Row\n",
    ">   - Impute Values (Zero , Mean)\n",
    ">   - Replace Values\n",
    "> - Detect Outliers\n",
    ">   - Histogram/Box Plot\n",
    ">   - Robust Z score\n",
    ">   - IQR Method\n",
    ">   - Clustering\n",
    "> - Treat Outliers\n",
    ">   - Remove Outlier\n",
    ">   - Impute Outlier (Zero , Mean)\n",
    ">   - Scalling\n",
    ">   - Log Transformation\n",
    ">   - Cube Root Normalization\n",
    ">   - Box Cox Transformation\n"
   ],
   "metadata": {
    "collapsed": false,
    "pycharm": {
     "name": "#%% md\n"
    }
   }
  },
  {
   "cell_type": "code",
   "execution_count": null,
   "outputs": [],
   "source": [
    "data.isnull().sum()"
   ],
   "metadata": {
    "collapsed": false,
    "pycharm": {
     "name": "#%%\n"
    }
   }
  },
  {
   "cell_type": "code",
   "execution_count": null,
   "outputs": [],
   "source": [
    "colours = ['#000099', '#ffff00'] # specify the colours - yellow is missing. blue is not missing.\n",
    "sns.heatmap(data.isnull(), cmap=sns.color_palette(colours))"
   ],
   "metadata": {
    "collapsed": false,
    "pycharm": {
     "name": "#%%\n"
    }
   }
  },
  {
   "cell_type": "code",
   "execution_count": null,
   "outputs": [],
   "source": [
    "for col in data.columns:\n",
    "    pct_missing = np.mean(data[col].isnull())\n",
    "    if pct_missing<0.25 and pct_missing>0.01:\n",
    "        print('{} - {}%'.format(col, round(pct_missing*100)))"
   ],
   "metadata": {
    "collapsed": false,
    "pycharm": {
     "name": "#%%\n"
    }
   }
  },
  {
   "cell_type": "markdown",
   "source": [
    "### Looking at the Null Values:\n",
    "Setting threshold : 25% \n",
    "\n",
    "Drop columns :\n",
    "-   FLOW_0 - 76%\n",
    "-   SH_PRIM_o - 49%\n",
    "-   SOURCE_SH_PRIM_o - 49%\n",
    "-   SH_SECD_o - 49%\n",
    "-   SOURCE_SH_SECD_o - 49%\n",
    "-   SH_PRIM_d - 47%\n",
    "-   SOURCE_SH_PRIM_d - 47%\n",
    "-   SH_SECD_d - 47%\n",
    "-   SOURCE_SH_SECD_d - 47%\n",
    "-   BITARIFF - 100%\n",
    "-   TARIFF_o - 94%\n",
    "-   SOURCE_TARIFF_o - 94%\n",
    "-   TARIFF_d - 94%\n",
    "-   SOURCE_TARIFF_d - 94%\n",
    "-   SeaDist_SHRT - 37%\n",
    "-   SeaDist_2CST - 37%\n",
    "-   Metro - 99%\n",
    "-   Colo - 99%\n",
    "-   XCH_RATE_o - 45%\n",
    "-   SOURCE_XCH_o - 45%\n",
    "-   XCH_RATE_d - 40%\n",
    "-   SOURCE_XCH_d - 40%\n",
    "-   OECD_o - 28%\n",
    "-   OECD_d - 28%\n",
    "-   EU_o - 25%\n",
    "-   EU_d - 25%\n",
    "\n",
    "Impute Values for :\n",
    "\n",
    "-   FLOW - 24%\n",
    "-   SOURCE_TF - 24%\n",
    "-   GDP_o - 22%\n",
    "-   SOURCE_GDP_o - 22%\n",
    "-   GDP_d - 20%\n",
    "-   SOURCE_GDP_d - 20%\n",
    "-   POP_o - 13%\n",
    "-   POP_d - 11%\n",
    "-   SOURCE_POP_o - 13%\n",
    "-   SOURCE_POP_d - 11%\n",
    "-   IPTOT_o - 11%\n",
    "-   SOURCE_IPTOT_o - 11%\n",
    "-   IPTOT_d - 8%\n",
    "-   SOURCE_IPTOT_d - 8%\n",
    "-   XPTOT_o - 10%\n",
    "-   SOURCE_XPTOT_o - 10%\n",
    "-   XPTOT_d - 8%\n",
    "-   SOURCE_XPTOT_d - 8%\n",
    "-   Distw - 8%\n",
    "-   GATT_o - 15%\n",
    "-   GATT_d - 15%"
   ],
   "metadata": {
    "collapsed": false,
    "pycharm": {
     "name": "#%% md\n"
    }
   }
  },
  {
   "cell_type": "code",
   "execution_count": null,
   "outputs": [],
   "source": [
    "data = data.drop(columns=['SOURCE_SH_PRIM_o','FLOW_0','SH_PRIM_o','SH_SECD_o','SOURCE_SH_SECD_o','SH_PRIM_d','SOURCE_SH_PRIM_d','SH_SECD_d','SOURCE_SH_SECD_d','BITARIFF','TARIFF_o','SOURCE_TARIFF_o','TARIFF_d','SOURCE_TARIFF_d','SeaDist_SHRT','SeaDist_2CST','Metro','Colo','XCH_RATE_o','SOURCE_XCH_o','XCH_RATE_d','SOURCE_XCH_d','OECD_o','OECD_d','EU_o','EU_d'])"
   ],
   "metadata": {
    "collapsed": false,
    "pycharm": {
     "name": "#%%\n"
    }
   }
  },
  {
   "cell_type": "code",
   "execution_count": null,
   "outputs": [],
   "source": [
    "display(data.select_dtypes(include=[\"float\", 'int']).columns)\n",
    "display(data.columns)"
   ],
   "metadata": {
    "collapsed": false,
    "pycharm": {
     "name": "#%%\n"
    }
   }
  },
  {
   "cell_type": "markdown",
   "source": [
    "As Visible: \n",
    "\n",
    "1. There are rows columns with Non- Numeric data. We need to eliminate those columns, so we can perform imputation on the rest.\n",
    "\n",
    "2. We select the numeric columns and then remove all rows with strings from it .\n",
    "\n",
    "3. We remove all rows where Target Value FLOW = 0"
   ],
   "metadata": {
    "collapsed": false,
    "pycharm": {
     "name": "#%% md\n"
    }
   }
  },
  {
   "cell_type": "code",
   "execution_count": null,
   "outputs": [],
   "source": [
    "num_data = data[['year', 'FLOW', 'GDP_o', 'GDP_d', 'POP_o', 'POP_d','IPTOT_o', 'IPTOT_d', 'XPTOT_o', 'XPTOT_d', 'Distw', 'Dist_coord','Dist_o', 'Dist_d', 'Comlang', 'Contig', 'Curcol', 'Curcol_o','Curcol_d', 'Evercol', 'GATT_o', 'GATT_d']].copy()"
   ],
   "metadata": {
    "collapsed": false,
    "pycharm": {
     "name": "#%%\n"
    }
   }
  },
  {
   "cell_type": "code",
   "execution_count": null,
   "outputs": [],
   "source": [
    "num_data = num_data.dropna()\n",
    "num_data = num_data[num_data[\"FLOW\"] != 0]"
   ],
   "metadata": {
    "collapsed": false,
    "pycharm": {
     "name": "#%%\n"
    }
   }
  },
  {
   "cell_type": "code",
   "execution_count": null,
   "outputs": [],
   "source": [
    "num_data[num_data.columns].corr()['FLOW'][:]"
   ],
   "metadata": {
    "collapsed": false,
    "pycharm": {
     "name": "#%%\n"
    }
   }
  },
  {
   "cell_type": "markdown",
   "source": [
    "Taking Variables / Attributes with highest absolute Corelation effecting the target value.\n",
    "\n",
    "* year\n",
    "* Dist_d\n",
    "* GDP_o\n",
    "* GDP_d\n",
    "* IPTOT_o\n",
    "* IPTOT_d\n",
    "* XPTOT_o\n",
    "* XPTOT_d\n",
    "* Contig\n",
    "\n",
    "Hence:\n",
    "\n",
    "We can impute median values for :\n",
    "- POP_o\n",
    "- POP_d\n",
    "- IPTOT_o\n",
    "- IPTOT_d\n",
    "- XPTOT_d\n",
    "- Dist_coord\n",
    "- Dist_o\n",
    "- Dist_w\n",
    "- Curcol\n",
    "- Curcol_o\n",
    "- Curcol_d\n",
    "- Evercol\n",
    "- GATT_o\n",
    "- GATT_d\n",
    "\n",
    "For the rest , we drop any row with Non - numeric or Null value.\n"
   ],
   "metadata": {
    "collapsed": false,
    "pycharm": {
     "name": "#%% md\n"
    }
   }
  },
  {
   "cell_type": "code",
   "execution_count": null,
   "outputs": [],
   "source": [
    "num_data = data[['iso_d','year', 'FLOW', 'GDP_o', 'GDP_d', 'POP_o', 'POP_d','IPTOT_o', 'IPTOT_d', 'XPTOT_o', 'XPTOT_d', 'Distw', 'Dist_coord','Dist_o', 'Dist_d', 'Comlang', 'Contig', 'Curcol', 'Curcol_o','Curcol_d', 'Evercol', 'GATT_o', 'GATT_d']].copy()\n",
    "num_data = num_data[num_data[\"FLOW\"] != 0]\n",
    "\n",
    "display(num_data.describe())\n",
    "\n",
    "num_imp = ['year', 'FLOW', 'GDP_o', 'GDP_d', 'IPTOT_o', 'IPTOT_d', 'XPTOT_o', 'XPTOT_d', 'Dist_d', 'Contig',]\n",
    "for i in num_imp:\n",
    "    num_data = num_data[pd.to_numeric(num_data[i], errors='coerce').notnull()]\n",
    "\n",
    "num_fill = ['POP_o','POP_d','IPTOT_o','IPTOT_d','XPTOT_d','Dist_coord','Dist_o','Distw','Curcol','Curcol_o','Curcol_d','Evercol','GATT_o','GATT_d']\n",
    "for i in num_fill:\n",
    "    num_data[i].fillna(data[i].median(), inplace=True)\n",
    "\n",
    "num_data = num_data.dropna()\n",
    "num_data.describe()\n"
   ],
   "metadata": {
    "collapsed": false,
    "pycharm": {
     "name": "#%%\n"
    }
   }
  },
  {
   "cell_type": "code",
   "execution_count": null,
   "outputs": [],
   "source": [
    "data.groupby('year')['FLOW'].sum().plot(legend=True)"
   ],
   "metadata": {
    "collapsed": false,
    "pycharm": {
     "name": "#%%\n"
    }
   }
  },
  {
   "cell_type": "markdown",
   "source": [
    "Taking Variables / Attributes with highest absolute Corelation effecting the target value and removinf outliers.\n",
    "\n",
    "* year\n",
    "* Dist_d\n",
    "* GDP_o\n",
    "* GDP_d\n",
    "* IPTOT_o\n",
    "* IPTOT_d\n",
    "* XPTOT_o\n",
    "* XPTOT_d\n",
    "* Contig\n",
    "\n",
    "\n",
    "NEXT : DETECT OUTLIERS"
   ],
   "metadata": {
    "collapsed": false,
    "pycharm": {
     "name": "#%% md\n"
    }
   }
  },
  {
   "cell_type": "code",
   "execution_count": null,
   "outputs": [],
   "source": [
    "def scatter_plots(df1,df2,i):\n",
    "    fig, ax = plt.subplots(figsize=(10,4))\n",
    "    ax.scatter(df1,df2)\n",
    "    ax.set_xlabel(i)\n",
    "    ax.set_ylabel('FLOW')\n",
    "    plt.title(\"Scatter Plot\")\n",
    "    plt.show()\n",
    "for i in num_imp:\n",
    "    scatter_plots(num_data[i],num_data['FLOW'],i)"
   ],
   "metadata": {
    "collapsed": false,
    "pycharm": {
     "name": "#%%\n"
    }
   }
  },
  {
   "cell_type": "markdown",
   "source": [
    "Remove Outliers for Attributes with high coreltion:"
   ],
   "metadata": {
    "collapsed": false,
    "pycharm": {
     "name": "#%% md\n"
    }
   }
  },
  {
   "cell_type": "code",
   "execution_count": null,
   "outputs": [],
   "source": [
    "model_data = num_data[['iso_d','year', 'FLOW', 'GDP_o', 'GDP_d', 'IPTOT_o', 'IPTOT_d', 'XPTOT_o', 'XPTOT_d', 'Dist_d', 'Contig']]\n",
    "for i in num_imp[1:9]:\n",
    "    q_low = model_data[i].quantile(0.05)\n",
    "    q_hi  = model_data[i].quantile(0.95)\n",
    "\n",
    "    model_data = model_data[(model_data[i] < q_hi) & (model_data[i] > q_low)]\n",
    "\n",
    "model_data.describe()"
   ],
   "metadata": {
    "collapsed": false,
    "pycharm": {
     "name": "#%%\n"
    }
   }
  },
  {
   "cell_type": "code",
   "execution_count": null,
   "outputs": [],
   "source": [
    "sns.heatmap(model_data.corr(), annot=True, cmap='Blues')"
   ],
   "metadata": {
    "collapsed": false,
    "pycharm": {
     "name": "#%%\n"
    }
   }
  },
  {
   "cell_type": "markdown",
   "source": [
    "We see correlation between attributes :\n",
    "- IPTOT_o , XPTOT_o with GDP_o\n",
    "- IPTOT_d , XPTOT_d with GDP_d\n",
    "- IPTOT_0 with XPTOT_o\n",
    "- IPTOT_d with XPTOT_d\n",
    "\n",
    "- FLOW : GDP_o, GDP_d and XPTOT_o"
   ],
   "metadata": {
    "collapsed": false,
    "pycharm": {
     "name": "#%% md\n"
    }
   }
  },
  {
   "cell_type": "code",
   "execution_count": null,
   "outputs": [],
   "source": [
    "heatmap = sns.heatmap(model_data.corr(), cmap=\"coolwarm\")"
   ],
   "metadata": {
    "collapsed": false,
    "pycharm": {
     "name": "#%%\n"
    }
   }
  },
  {
   "cell_type": "markdown",
   "source": [
    "Check Trends of Flows in an year."
   ],
   "metadata": {
    "collapsed": false,
    "pycharm": {
     "name": "#%% md\n"
    }
   }
  },
  {
   "cell_type": "code",
   "execution_count": null,
   "outputs": [],
   "source": [
    "model_data.groupby('year')['FLOW'].count().plot()"
   ],
   "metadata": {
    "collapsed": false,
    "pycharm": {
     "name": "#%%\n"
    }
   }
  },
  {
   "cell_type": "code",
   "execution_count": null,
   "outputs": [],
   "source": [
    "model_data.groupby('iso_d')['FLOW'].plot(legend=True)"
   ],
   "metadata": {
    "collapsed": false,
    "pycharm": {
     "name": "#%%\n"
    }
   }
  }
 ],
 "metadata": {
  "kernelspec": {
   "display_name": "Python 3",
   "language": "python",
   "name": "python3"
  },
  "language_info": {
   "codemirror_mode": {
    "name": "ipython",
    "version": 3
   },
   "file_extension": ".py",
   "mimetype": "text/x-python",
   "name": "python",
   "nbconvert_exporter": "python",
   "pygments_lexer": "ipython3",
   "version": "3.10.4"
  },
  "orig_nbformat": 4,
  "vscode": {
   "interpreter": {
    "hash": "36e831f00b1b0671fc82a6def941ab7b3a03648d1f4417de77d0d77b06f65d14"
   }
  }
 },
 "nbformat": 4,
 "nbformat_minor": 2
}