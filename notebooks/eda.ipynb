{
 "cells": [
  {
   "cell_type": "markdown",
   "source": [
    "# Exploratory Data Analysis"
   ],
   "metadata": {
    "collapsed": false,
    "pycharm": {
     "name": "#%% md\n"
    }
   }
  },
  {
   "cell_type": "code",
   "execution_count": 54,
   "outputs": [],
   "source": [
    "import matplotlib.pyplot as plt\n",
    "import pandas as pd\n",
    "import numpy as np\n",
    "import seaborn as sns"
   ],
   "metadata": {
    "collapsed": false,
    "pycharm": {
     "name": "#%%\n"
    }
   }
  },
  {
   "cell_type": "code",
   "execution_count": 15,
   "outputs": [],
   "source": [
    "data_path = \"/Users/prateekrao/Prateek/Repos/TradeModelling/dataset/tradhist.csv\""
   ],
   "metadata": {
    "collapsed": false,
    "pycharm": {
     "name": "#%%\n"
    }
   }
  },
  {
   "cell_type": "code",
   "execution_count": 16,
   "outputs": [
    {
     "name": "stderr",
     "output_type": "stream",
     "text": [
      "/var/folders/qc/xp9q1kcj79315fgc2jdgwtv00000gn/T/ipykernel_54060/1675668717.py:1: DtypeWarning: Columns (8,12,14,21,24,28,33,45,46,51) have mixed types. Specify dtype option on import or set low_memory=False.\n",
      "  data = pd.read_csv(data_path)\n"
     ]
    }
   ],
   "source": [
    "data = pd.read_csv(data_path)"
   ],
   "metadata": {
    "collapsed": false,
    "pycharm": {
     "name": "#%%\n"
    }
   }
  },
  {
   "cell_type": "code",
   "execution_count": 17,
   "outputs": [
    {
     "data": {
      "text/plain": "   Unnamed: 0 iso_o iso_d  year  FLOW  FLOW_0 SOURCE_TF  GDP_o SOURCE_GDP_o  \\\n0           0   NaN  ADEN  1950   NaN     NaN       NaN    NaN          NaN   \n1           1   NaN  ADEN  1951   NaN     NaN       NaN    NaN          NaN   \n2           2   NaN  ADEN  1952   NaN     NaN       NaN    NaN          NaN   \n3           3   NaN  ADEN  1953   NaN     NaN       NaN    NaN          NaN   \n4           4   NaN  ADEN  1954   NaN     NaN       NaN    NaN          NaN   \n\n   GDP_d  ... CONTI_o  CONTI_d REGIO_o  REGIO_d OECD_o  OECD_d EU_o  EU_d  \\\n0    NaN  ...     NaN     ASIA     NaN   MIDEST    NaN     NaN  NaN   NaN   \n1    NaN  ...     NaN     ASIA     NaN   MIDEST    NaN     NaN  NaN   NaN   \n2    NaN  ...     NaN     ASIA     NaN   MIDEST    NaN     NaN  NaN   NaN   \n3    NaN  ...     NaN     ASIA     NaN   MIDEST    NaN     NaN  NaN   NaN   \n4    NaN  ...     NaN     ASIA     NaN   MIDEST    NaN     NaN  NaN   NaN   \n\n  GATT_o  GATT_d  \n0    NaN     NaN  \n1    NaN     NaN  \n2    NaN     NaN  \n3    NaN     NaN  \n4    NaN     NaN  \n\n[5 rows x 64 columns]",
      "text/html": "<div>\n<style scoped>\n    .dataframe tbody tr th:only-of-type {\n        vertical-align: middle;\n    }\n\n    .dataframe tbody tr th {\n        vertical-align: top;\n    }\n\n    .dataframe thead th {\n        text-align: right;\n    }\n</style>\n<table border=\"1\" class=\"dataframe\">\n  <thead>\n    <tr style=\"text-align: right;\">\n      <th></th>\n      <th>Unnamed: 0</th>\n      <th>iso_o</th>\n      <th>iso_d</th>\n      <th>year</th>\n      <th>FLOW</th>\n      <th>FLOW_0</th>\n      <th>SOURCE_TF</th>\n      <th>GDP_o</th>\n      <th>SOURCE_GDP_o</th>\n      <th>GDP_d</th>\n      <th>...</th>\n      <th>CONTI_o</th>\n      <th>CONTI_d</th>\n      <th>REGIO_o</th>\n      <th>REGIO_d</th>\n      <th>OECD_o</th>\n      <th>OECD_d</th>\n      <th>EU_o</th>\n      <th>EU_d</th>\n      <th>GATT_o</th>\n      <th>GATT_d</th>\n    </tr>\n  </thead>\n  <tbody>\n    <tr>\n      <th>0</th>\n      <td>0</td>\n      <td>NaN</td>\n      <td>ADEN</td>\n      <td>1950</td>\n      <td>NaN</td>\n      <td>NaN</td>\n      <td>NaN</td>\n      <td>NaN</td>\n      <td>NaN</td>\n      <td>NaN</td>\n      <td>...</td>\n      <td>NaN</td>\n      <td>ASIA</td>\n      <td>NaN</td>\n      <td>MIDEST</td>\n      <td>NaN</td>\n      <td>NaN</td>\n      <td>NaN</td>\n      <td>NaN</td>\n      <td>NaN</td>\n      <td>NaN</td>\n    </tr>\n    <tr>\n      <th>1</th>\n      <td>1</td>\n      <td>NaN</td>\n      <td>ADEN</td>\n      <td>1951</td>\n      <td>NaN</td>\n      <td>NaN</td>\n      <td>NaN</td>\n      <td>NaN</td>\n      <td>NaN</td>\n      <td>NaN</td>\n      <td>...</td>\n      <td>NaN</td>\n      <td>ASIA</td>\n      <td>NaN</td>\n      <td>MIDEST</td>\n      <td>NaN</td>\n      <td>NaN</td>\n      <td>NaN</td>\n      <td>NaN</td>\n      <td>NaN</td>\n      <td>NaN</td>\n    </tr>\n    <tr>\n      <th>2</th>\n      <td>2</td>\n      <td>NaN</td>\n      <td>ADEN</td>\n      <td>1952</td>\n      <td>NaN</td>\n      <td>NaN</td>\n      <td>NaN</td>\n      <td>NaN</td>\n      <td>NaN</td>\n      <td>NaN</td>\n      <td>...</td>\n      <td>NaN</td>\n      <td>ASIA</td>\n      <td>NaN</td>\n      <td>MIDEST</td>\n      <td>NaN</td>\n      <td>NaN</td>\n      <td>NaN</td>\n      <td>NaN</td>\n      <td>NaN</td>\n      <td>NaN</td>\n    </tr>\n    <tr>\n      <th>3</th>\n      <td>3</td>\n      <td>NaN</td>\n      <td>ADEN</td>\n      <td>1953</td>\n      <td>NaN</td>\n      <td>NaN</td>\n      <td>NaN</td>\n      <td>NaN</td>\n      <td>NaN</td>\n      <td>NaN</td>\n      <td>...</td>\n      <td>NaN</td>\n      <td>ASIA</td>\n      <td>NaN</td>\n      <td>MIDEST</td>\n      <td>NaN</td>\n      <td>NaN</td>\n      <td>NaN</td>\n      <td>NaN</td>\n      <td>NaN</td>\n      <td>NaN</td>\n    </tr>\n    <tr>\n      <th>4</th>\n      <td>4</td>\n      <td>NaN</td>\n      <td>ADEN</td>\n      <td>1954</td>\n      <td>NaN</td>\n      <td>NaN</td>\n      <td>NaN</td>\n      <td>NaN</td>\n      <td>NaN</td>\n      <td>NaN</td>\n      <td>...</td>\n      <td>NaN</td>\n      <td>ASIA</td>\n      <td>NaN</td>\n      <td>MIDEST</td>\n      <td>NaN</td>\n      <td>NaN</td>\n      <td>NaN</td>\n      <td>NaN</td>\n      <td>NaN</td>\n      <td>NaN</td>\n    </tr>\n  </tbody>\n</table>\n<p>5 rows × 64 columns</p>\n</div>"
     },
     "execution_count": 17,
     "metadata": {},
     "output_type": "execute_result"
    }
   ],
   "source": [
    "data.head()"
   ],
   "metadata": {
    "collapsed": false,
    "pycharm": {
     "name": "#%%\n"
    }
   }
  },
  {
   "cell_type": "code",
   "execution_count": 20,
   "outputs": [
    {
     "data": {
      "text/plain": "(2502427, 64)"
     },
     "execution_count": 20,
     "metadata": {},
     "output_type": "execute_result"
    }
   ],
   "source": [
    "data.shape"
   ],
   "metadata": {
    "collapsed": false,
    "pycharm": {
     "name": "#%%\n"
    }
   }
  },
  {
   "cell_type": "code",
   "execution_count": 21,
   "outputs": [
    {
     "name": "stdout",
     "output_type": "stream",
     "text": [
      "<class 'pandas.core.frame.DataFrame'>\n",
      "RangeIndex: 2502427 entries, 0 to 2502426\n",
      "Data columns (total 64 columns):\n",
      " #   Column            Dtype  \n",
      "---  ------            -----  \n",
      " 0   Unnamed: 0        int64  \n",
      " 1   iso_o             object \n",
      " 2   iso_d             object \n",
      " 3   year              int64  \n",
      " 4   FLOW              float64\n",
      " 5   FLOW_0            float64\n",
      " 6   SOURCE_TF         object \n",
      " 7   GDP_o             float64\n",
      " 8   SOURCE_GDP_o      object \n",
      " 9   GDP_d             float64\n",
      " 10  SOURCE_GDP_d      object \n",
      " 11  SH_PRIM_o         float64\n",
      " 12  SOURCE_SH_PRIM_o  object \n",
      " 13  SH_SECD_o         float64\n",
      " 14  SOURCE_SH_SECD_o  object \n",
      " 15  SH_PRIM_d         float64\n",
      " 16  SOURCE_SH_PRIM_d  object \n",
      " 17  SH_SECD_d         float64\n",
      " 18  SOURCE_SH_SECD_d  object \n",
      " 19  POP_o             float64\n",
      " 20  POP_d             float64\n",
      " 21  SOURCE_POP_o      object \n",
      " 22  SOURCE_POP_d      object \n",
      " 23  IPTOT_o           float64\n",
      " 24  SOURCE_IPTOT_o    object \n",
      " 25  IPTOT_d           float64\n",
      " 26  SOURCE_IPTOT_d    object \n",
      " 27  XPTOT_o           float64\n",
      " 28  SOURCE_XPTOT_o    object \n",
      " 29  XPTOT_d           float64\n",
      " 30  SOURCE_XPTOT_d    object \n",
      " 31  BITARIFF          float64\n",
      " 32  TARIFF_o          float64\n",
      " 33  SOURCE_TARIFF_o   object \n",
      " 34  TARIFF_d          float64\n",
      " 35  SOURCE_TARIFF_d   object \n",
      " 36  Distw             float64\n",
      " 37  Dist_coord        float64\n",
      " 38  Dist_o            float64\n",
      " 39  Dist_d            float64\n",
      " 40  SeaDist_SHRT      float64\n",
      " 41  SeaDist_2CST      float64\n",
      " 42  Comlang           float64\n",
      " 43  Contig            float64\n",
      " 44  Curcol            float64\n",
      " 45  Metro             object \n",
      " 46  Colo              object \n",
      " 47  Curcol_o          float64\n",
      " 48  Curcol_d          float64\n",
      " 49  Evercol           float64\n",
      " 50  XCH_RATE_o        float64\n",
      " 51  SOURCE_XCH_o      object \n",
      " 52  XCH_RATE_d        float64\n",
      " 53  SOURCE_XCH_d      object \n",
      " 54  CONTI_o           object \n",
      " 55  CONTI_d           object \n",
      " 56  REGIO_o           object \n",
      " 57  REGIO_d           object \n",
      " 58  OECD_o            float64\n",
      " 59  OECD_d            float64\n",
      " 60  EU_o              float64\n",
      " 61  EU_d              float64\n",
      " 62  GATT_o            float64\n",
      " 63  GATT_d            float64\n",
      "dtypes: float64(37), int64(2), object(25)\n",
      "memory usage: 1.2+ GB\n"
     ]
    }
   ],
   "source": [
    "data.info()"
   ],
   "metadata": {
    "collapsed": false,
    "pycharm": {
     "name": "#%%\n"
    }
   }
  },
  {
   "cell_type": "code",
   "execution_count": 26,
   "outputs": [
    {
     "data": {
      "text/plain": "Index(['Unnamed: 0', 'iso_o', 'iso_d', 'year', 'FLOW', 'FLOW_0', 'SOURCE_TF',\n       'GDP_o', 'SOURCE_GDP_o', 'GDP_d', 'SOURCE_GDP_d', 'SH_PRIM_o',\n       'SOURCE_SH_PRIM_o', 'SH_SECD_o', 'SOURCE_SH_SECD_o', 'SH_PRIM_d',\n       'SOURCE_SH_PRIM_d', 'SH_SECD_d', 'SOURCE_SH_SECD_d', 'POP_o', 'POP_d',\n       'SOURCE_POP_o', 'SOURCE_POP_d', 'IPTOT_o', 'SOURCE_IPTOT_o', 'IPTOT_d',\n       'SOURCE_IPTOT_d', 'XPTOT_o', 'SOURCE_XPTOT_o', 'XPTOT_d',\n       'SOURCE_XPTOT_d', 'BITARIFF', 'TARIFF_o', 'SOURCE_TARIFF_o', 'TARIFF_d',\n       'SOURCE_TARIFF_d', 'Distw', 'Dist_coord', 'Dist_o', 'Dist_d',\n       'SeaDist_SHRT', 'SeaDist_2CST', 'Comlang', 'Contig', 'Curcol', 'Metro',\n       'Colo', 'Curcol_o', 'Curcol_d', 'Evercol', 'XCH_RATE_o', 'SOURCE_XCH_o',\n       'XCH_RATE_d', 'SOURCE_XCH_d', 'CONTI_o', 'CONTI_d', 'REGIO_o',\n       'REGIO_d', 'OECD_o', 'OECD_d', 'EU_o', 'EU_d', 'GATT_o', 'GATT_d'],\n      dtype='object')"
     },
     "execution_count": 26,
     "metadata": {},
     "output_type": "execute_result"
    }
   ],
   "source": [
    "data.columns"
   ],
   "metadata": {
    "collapsed": false,
    "pycharm": {
     "name": "#%%\n"
    }
   }
  },
  {
   "cell_type": "markdown",
   "source": [
    "## We intend to use these features for preliminary analysis:\n",
    "\n",
    "* GDP_o\n",
    "* GDP_d\n",
    "* Dist\n",
    "* Comlang\n",
    "* XPTOT_o\n",
    "* Contig"
   ],
   "metadata": {
    "collapsed": false,
    "pycharm": {
     "name": "#%% md\n"
    }
   }
  },
  {
   "cell_type": "code",
   "execution_count": 30,
   "outputs": [],
   "source": [
    "df = data[[\"GDP_o\", \"GDP_d\", \"Distw\", 'XPTOT_o', \"FLOW\"]]"
   ],
   "metadata": {
    "collapsed": false,
    "pycharm": {
     "name": "#%%\n"
    }
   }
  },
  {
   "cell_type": "code",
   "execution_count": 31,
   "outputs": [
    {
     "data": {
      "text/plain": "                GDP_o         GDP_d       Distw       XPTOT_o        FLOW\n0                 NaN           NaN         NaN           NaN         NaN\n1                 NaN           NaN         NaN           NaN         NaN\n2                 NaN           NaN         NaN           NaN         NaN\n3                 NaN           NaN         NaN           NaN         NaN\n4                 NaN           NaN         NaN           NaN         NaN\n...               ...           ...         ...           ...         ...\n2502422  6.097825e+09  1.311544e+10  583.795386  2.070475e+09  46558256.0\n2502423  6.838230e+09  1.464204e+10  583.795386  2.192061e+09  55171376.0\n2502424  7.845171e+09  1.614464e+10  583.795386  2.457760e+09  58787336.0\n2502425  8.629172e+09  1.793963e+10  583.795386  2.243481e+09  77869780.0\n2502426  8.627889e+09  1.649053e+10  583.795386  2.089376e+09  62405360.0\n\n[2502427 rows x 5 columns]",
      "text/html": "<div>\n<style scoped>\n    .dataframe tbody tr th:only-of-type {\n        vertical-align: middle;\n    }\n\n    .dataframe tbody tr th {\n        vertical-align: top;\n    }\n\n    .dataframe thead th {\n        text-align: right;\n    }\n</style>\n<table border=\"1\" class=\"dataframe\">\n  <thead>\n    <tr style=\"text-align: right;\">\n      <th></th>\n      <th>GDP_o</th>\n      <th>GDP_d</th>\n      <th>Distw</th>\n      <th>XPTOT_o</th>\n      <th>FLOW</th>\n    </tr>\n  </thead>\n  <tbody>\n    <tr>\n      <th>0</th>\n      <td>NaN</td>\n      <td>NaN</td>\n      <td>NaN</td>\n      <td>NaN</td>\n      <td>NaN</td>\n    </tr>\n    <tr>\n      <th>1</th>\n      <td>NaN</td>\n      <td>NaN</td>\n      <td>NaN</td>\n      <td>NaN</td>\n      <td>NaN</td>\n    </tr>\n    <tr>\n      <th>2</th>\n      <td>NaN</td>\n      <td>NaN</td>\n      <td>NaN</td>\n      <td>NaN</td>\n      <td>NaN</td>\n    </tr>\n    <tr>\n      <th>3</th>\n      <td>NaN</td>\n      <td>NaN</td>\n      <td>NaN</td>\n      <td>NaN</td>\n      <td>NaN</td>\n    </tr>\n    <tr>\n      <th>4</th>\n      <td>NaN</td>\n      <td>NaN</td>\n      <td>NaN</td>\n      <td>NaN</td>\n      <td>NaN</td>\n    </tr>\n    <tr>\n      <th>...</th>\n      <td>...</td>\n      <td>...</td>\n      <td>...</td>\n      <td>...</td>\n      <td>...</td>\n    </tr>\n    <tr>\n      <th>2502422</th>\n      <td>6.097825e+09</td>\n      <td>1.311544e+10</td>\n      <td>583.795386</td>\n      <td>2.070475e+09</td>\n      <td>46558256.0</td>\n    </tr>\n    <tr>\n      <th>2502423</th>\n      <td>6.838230e+09</td>\n      <td>1.464204e+10</td>\n      <td>583.795386</td>\n      <td>2.192061e+09</td>\n      <td>55171376.0</td>\n    </tr>\n    <tr>\n      <th>2502424</th>\n      <td>7.845171e+09</td>\n      <td>1.614464e+10</td>\n      <td>583.795386</td>\n      <td>2.457760e+09</td>\n      <td>58787336.0</td>\n    </tr>\n    <tr>\n      <th>2502425</th>\n      <td>8.629172e+09</td>\n      <td>1.793963e+10</td>\n      <td>583.795386</td>\n      <td>2.243481e+09</td>\n      <td>77869780.0</td>\n    </tr>\n    <tr>\n      <th>2502426</th>\n      <td>8.627889e+09</td>\n      <td>1.649053e+10</td>\n      <td>583.795386</td>\n      <td>2.089376e+09</td>\n      <td>62405360.0</td>\n    </tr>\n  </tbody>\n</table>\n<p>2502427 rows × 5 columns</p>\n</div>"
     },
     "execution_count": 31,
     "metadata": {},
     "output_type": "execute_result"
    }
   ],
   "source": [
    "df"
   ],
   "metadata": {
    "collapsed": false,
    "pycharm": {
     "name": "#%%\n"
    }
   }
  },
  {
   "cell_type": "code",
   "execution_count": 33,
   "outputs": [],
   "source": [
    "corr = df.corr()"
   ],
   "metadata": {
    "collapsed": false,
    "pycharm": {
     "name": "#%%\n"
    }
   }
  },
  {
   "cell_type": "code",
   "execution_count": 44,
   "outputs": [
    {
     "data": {
      "text/plain": "<AxesSubplot:>"
     },
     "execution_count": 44,
     "metadata": {},
     "output_type": "execute_result"
    },
    {
     "data": {
      "text/plain": "<Figure size 432x288 with 2 Axes>",
      "image/png": "[encoded data removed]"
     },
     "metadata": {},
     "output_type": "display_data"
    }
   ],
   "source": [
    "sns.heatmap(corr, vmin=0, vmax=1, cmap=\"Blues\")"
   ],
   "metadata": {
    "collapsed": false,
    "pycharm": {
     "name": "#%%\n"
    }
   }
  },
  {
   "cell_type": "markdown",
   "source": [
    "We can see here that our target variable \"Flow\" has a high positive correlation between GDP_o, GDP_d and Distw"
   ],
   "metadata": {
    "collapsed": false,
    "pycharm": {
     "name": "#%% md\n"
    }
   }
  },
  {
   "cell_type": "code",
   "execution_count": 46,
   "outputs": [
    {
     "data": {
      "text/plain": "            GDP_o     GDP_d     Distw   XPTOT_o      FLOW\nGDP_o    1.000000  0.019926  0.016623  0.811927  0.190365\nGDP_d    0.019926  1.000000  0.014959  0.040187  0.219217\nDistw    0.016623  0.014959  1.000000 -0.002070 -0.034609\nXPTOT_o  0.811927  0.040187 -0.002070  1.000000  0.232177\nFLOW     0.190365  0.219217 -0.034609  0.232177  1.000000",
      "text/html": "<div>\n<style scoped>\n    .dataframe tbody tr th:only-of-type {\n        vertical-align: middle;\n    }\n\n    .dataframe tbody tr th {\n        vertical-align: top;\n    }\n\n    .dataframe thead th {\n        text-align: right;\n    }\n</style>\n<table border=\"1\" class=\"dataframe\">\n  <thead>\n    <tr style=\"text-align: right;\">\n      <th></th>\n      <th>GDP_o</th>\n      <th>GDP_d</th>\n      <th>Distw</th>\n      <th>XPTOT_o</th>\n      <th>FLOW</th>\n    </tr>\n  </thead>\n  <tbody>\n    <tr>\n      <th>GDP_o</th>\n      <td>1.000000</td>\n      <td>0.019926</td>\n      <td>0.016623</td>\n      <td>0.811927</td>\n      <td>0.190365</td>\n    </tr>\n    <tr>\n      <th>GDP_d</th>\n      <td>0.019926</td>\n      <td>1.000000</td>\n      <td>0.014959</td>\n      <td>0.040187</td>\n      <td>0.219217</td>\n    </tr>\n    <tr>\n      <th>Distw</th>\n      <td>0.016623</td>\n      <td>0.014959</td>\n      <td>1.000000</td>\n      <td>-0.002070</td>\n      <td>-0.034609</td>\n    </tr>\n    <tr>\n      <th>XPTOT_o</th>\n      <td>0.811927</td>\n      <td>0.040187</td>\n      <td>-0.002070</td>\n      <td>1.000000</td>\n      <td>0.232177</td>\n    </tr>\n    <tr>\n      <th>FLOW</th>\n      <td>0.190365</td>\n      <td>0.219217</td>\n      <td>-0.034609</td>\n      <td>0.232177</td>\n      <td>1.000000</td>\n    </tr>\n  </tbody>\n</table>\n</div>"
     },
     "execution_count": 46,
     "metadata": {},
     "output_type": "execute_result"
    }
   ],
   "source": [
    "corr"
   ],
   "metadata": {
    "collapsed": false,
    "pycharm": {
     "name": "#%%\n"
    }
   }
  },
  {
   "cell_type": "code",
   "execution_count": 48,
   "outputs": [],
   "source": [
    "corr1 = data[[\"GDP_o\", \"GDP_d\", \"Distw\", \"XPTOT_o\", \"Contig\", \"Comlang\", \"FLOW\"]].corr()"
   ],
   "metadata": {
    "collapsed": false,
    "pycharm": {
     "name": "#%%\n"
    }
   }
  },
  {
   "cell_type": "code",
   "execution_count": 49,
   "outputs": [
    {
     "data": {
      "text/plain": "            GDP_o     GDP_d     Distw   XPTOT_o    Contig   Comlang      FLOW\nGDP_o    1.000000  0.019926  0.016623  0.811927  0.002132  0.013087  0.190365\nGDP_d    0.019926  1.000000  0.014959  0.040187  0.002822  0.012615  0.219217\nDistw    0.016623  0.014959  1.000000 -0.002070 -0.205606 -0.066686 -0.034609\nXPTOT_o  0.811927  0.040187 -0.002070  1.000000  0.007648 -0.015303  0.232177\nContig   0.002132  0.002822 -0.205606  0.007648  1.000000  0.103934  0.083693\nComlang  0.013087  0.012615 -0.066686 -0.015303  0.103934  1.000000  0.014081\nFLOW     0.190365  0.219217 -0.034609  0.232177  0.083693  0.014081  1.000000",
      "text/html": "<div>\n<style scoped>\n    .dataframe tbody tr th:only-of-type {\n        vertical-align: middle;\n    }\n\n    .dataframe tbody tr th {\n        vertical-align: top;\n    }\n\n    .dataframe thead th {\n        text-align: right;\n    }\n</style>\n<table border=\"1\" class=\"dataframe\">\n  <thead>\n    <tr style=\"text-align: right;\">\n      <th></th>\n      <th>GDP_o</th>\n      <th>GDP_d</th>\n      <th>Distw</th>\n      <th>XPTOT_o</th>\n      <th>Contig</th>\n      <th>Comlang</th>\n      <th>FLOW</th>\n    </tr>\n  </thead>\n  <tbody>\n    <tr>\n      <th>GDP_o</th>\n      <td>1.000000</td>\n      <td>0.019926</td>\n      <td>0.016623</td>\n      <td>0.811927</td>\n      <td>0.002132</td>\n      <td>0.013087</td>\n      <td>0.190365</td>\n    </tr>\n    <tr>\n      <th>GDP_d</th>\n      <td>0.019926</td>\n      <td>1.000000</td>\n      <td>0.014959</td>\n      <td>0.040187</td>\n      <td>0.002822</td>\n      <td>0.012615</td>\n      <td>0.219217</td>\n    </tr>\n    <tr>\n      <th>Distw</th>\n      <td>0.016623</td>\n      <td>0.014959</td>\n      <td>1.000000</td>\n      <td>-0.002070</td>\n      <td>-0.205606</td>\n      <td>-0.066686</td>\n      <td>-0.034609</td>\n    </tr>\n    <tr>\n      <th>XPTOT_o</th>\n      <td>0.811927</td>\n      <td>0.040187</td>\n      <td>-0.002070</td>\n      <td>1.000000</td>\n      <td>0.007648</td>\n      <td>-0.015303</td>\n      <td>0.232177</td>\n    </tr>\n    <tr>\n      <th>Contig</th>\n      <td>0.002132</td>\n      <td>0.002822</td>\n      <td>-0.205606</td>\n      <td>0.007648</td>\n      <td>1.000000</td>\n      <td>0.103934</td>\n      <td>0.083693</td>\n    </tr>\n    <tr>\n      <th>Comlang</th>\n      <td>0.013087</td>\n      <td>0.012615</td>\n      <td>-0.066686</td>\n      <td>-0.015303</td>\n      <td>0.103934</td>\n      <td>1.000000</td>\n      <td>0.014081</td>\n    </tr>\n    <tr>\n      <th>FLOW</th>\n      <td>0.190365</td>\n      <td>0.219217</td>\n      <td>-0.034609</td>\n      <td>0.232177</td>\n      <td>0.083693</td>\n      <td>0.014081</td>\n      <td>1.000000</td>\n    </tr>\n  </tbody>\n</table>\n</div>"
     },
     "execution_count": 49,
     "metadata": {},
     "output_type": "execute_result"
    }
   ],
   "source": [
    "corr1"
   ],
   "metadata": {
    "collapsed": false,
    "pycharm": {
     "name": "#%%\n"
    }
   }
  },
  {
   "cell_type": "code",
   "execution_count": 52,
   "outputs": [
    {
     "data": {
      "text/plain": "<AxesSubplot:>"
     },
     "execution_count": 52,
     "metadata": {},
     "output_type": "execute_result"
    },
    {
     "data": {
      "text/plain": "<Figure size 432x288 with 2 Axes>",
      "image/png": "[encoded data removed]"
     },
     "metadata": {},
     "output_type": "display_data"
    }
   ],
   "source": [
    "sns.heatmap(corr1, cmap=\"Blues\")"
   ],
   "metadata": {
    "collapsed": false,
    "pycharm": {
     "name": "#%%\n"
    }
   }
  },
  {
   "cell_type": "markdown",
   "source": [
    "We can observe that there is a strong positive linear correlation between GDP_o, GDP_d, and XPTOT_o with respect to our target variable \"FLOW\""
   ],
   "metadata": {
    "collapsed": false,
    "pycharm": {
     "name": "#%% md\n"
    }
   }
  },
  {
   "cell_type": "code",
   "execution_count": 55,
   "outputs": [
    {
     "data": {
      "text/plain": "<matplotlib.collections.PathCollection at 0x13bef2df0>"
     },
     "execution_count": 55,
     "metadata": {},
     "output_type": "execute_result"
    },
    {
     "data": {
      "text/plain": "<Figure size 432x288 with 1 Axes>",
      "image/png": "[encoded data removed]"
     },
     "metadata": {},
     "output_type": "display_data"
    }
   ],
   "source": [
    "plt.scatter(data[\"GDP_o\"], data[\"FLOW\"])"
   ],
   "metadata": {
    "collapsed": false,
    "pycharm": {
     "name": "#%%\n"
    }
   }
  },
  {
   "cell_type": "code",
   "execution_count": null,
   "outputs": [],
   "source": [],
   "metadata": {
    "collapsed": false,
    "pycharm": {
     "name": "#%%\n"
    }
   }
  }
 ],
 "metadata": {
  "kernelspec": {
   "display_name": "Python 3",
   "language": "python",
   "name": "python3"
  },
  "language_info": {
   "codemirror_mode": {
    "name": "ipython",
    "version": 2
   },
   "file_extension": ".py",
   "mimetype": "text/x-python",
   "name": "python",
   "nbconvert_exporter": "python",
   "pygments_lexer": "ipython2",
   "version": "2.7.6"
  }
 },
 "nbformat": 4,
 "nbformat_minor": 0
}