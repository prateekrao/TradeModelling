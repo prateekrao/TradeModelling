{
 "cells": [
  {
   "cell_type": "markdown",
   "source": [
    "# Standard Imports"
   ],
   "metadata": {
    "collapsed": false,
    "pycharm": {
     "name": "#%% md\n"
    }
   }
  },
  {
   "cell_type": "code",
   "execution_count": 1,
   "outputs": [],
   "source": [
    "import numpy as np\n",
    "import pandas as pd"
   ],
   "metadata": {
    "collapsed": false,
    "pycharm": {
     "name": "#%%\n"
    }
   }
  },
  {
   "cell_type": "code",
   "execution_count": 2,
   "outputs": [],
   "source": [
    "import featuretools as ft\n",
    "import matplotlib.pyplot as plt\n",
    "import seaborn as sns\n",
    "import warnings\n",
    "warnings.filterwarnings('ignore')\n",
    "import lightgbm as lgb\n",
    "from xgboost import XGBRegressor\n",
    "\n",
    "from sklearn.model_selection import train_test_split\n",
    "from sklearn.model_selection import KFold\n",
    "from sklearn.metrics import roc_auc_score\n",
    "from sklearn.preprocessing import LabelEncoder"
   ],
   "metadata": {
    "collapsed": false,
    "pycharm": {
     "name": "#%%\n"
    }
   }
  },
  {
   "cell_type": "markdown",
   "source": [
    "# Create train-test datasets"
   ],
   "metadata": {
    "collapsed": false,
    "pycharm": {
     "name": "#%% md\n"
    }
   }
  },
  {
   "cell_type": "code",
   "execution_count": 3,
   "outputs": [],
   "source": [
    "PATH = \"../datasets/tradhist.csv\"\n",
    "df = pd.read_csv(PATH)"
   ],
   "metadata": {
    "collapsed": false,
    "pycharm": {
     "name": "#%%\n"
    }
   }
  },
  {
   "cell_type": "code",
   "execution_count": 4,
   "outputs": [
    {
     "data": {
      "text/plain": "Index(['Unnamed: 0', 'iso_o', 'iso_d', 'year', 'FLOW', 'FLOW_0', 'SOURCE_TF',\n       'GDP_o', 'SOURCE_GDP_o', 'GDP_d', 'SOURCE_GDP_d', 'SH_PRIM_o',\n       'SOURCE_SH_PRIM_o', 'SH_SECD_o', 'SOURCE_SH_SECD_o', 'SH_PRIM_d',\n       'SOURCE_SH_PRIM_d', 'SH_SECD_d', 'SOURCE_SH_SECD_d', 'POP_o', 'POP_d',\n       'SOURCE_POP_o', 'SOURCE_POP_d', 'IPTOT_o', 'SOURCE_IPTOT_o', 'IPTOT_d',\n       'SOURCE_IPTOT_d', 'XPTOT_o', 'SOURCE_XPTOT_o', 'XPTOT_d',\n       'SOURCE_XPTOT_d', 'BITARIFF', 'TARIFF_o', 'SOURCE_TARIFF_o', 'TARIFF_d',\n       'SOURCE_TARIFF_d', 'Distw', 'Dist_coord', 'Dist_o', 'Dist_d',\n       'SeaDist_SHRT', 'SeaDist_2CST', 'Comlang', 'Contig', 'Curcol', 'Metro',\n       'Colo', 'Curcol_o', 'Curcol_d', 'Evercol', 'XCH_RATE_o', 'SOURCE_XCH_o',\n       'XCH_RATE_d', 'SOURCE_XCH_d', 'CONTI_o', 'CONTI_d', 'REGIO_o',\n       'REGIO_d', 'OECD_o', 'OECD_d', 'EU_o', 'EU_d', 'GATT_o', 'GATT_d'],\n      dtype='object')"
     },
     "execution_count": 4,
     "metadata": {},
     "output_type": "execute_result"
    }
   ],
   "source": [
    "df.columns"
   ],
   "metadata": {
    "collapsed": false,
    "pycharm": {
     "name": "#%%\n"
    }
   }
  },
  {
   "cell_type": "code",
   "execution_count": 5,
   "outputs": [
    {
     "data": {
      "text/plain": "         Unnamed: 0 iso_o iso_d  year        FLOW  FLOW_0 SOURCE_TF  \\\n0                 0   NaN  ADEN  1950         NaN     NaN       NaN   \n1                 1   NaN  ADEN  1951         NaN     NaN       NaN   \n2                 2   NaN  ADEN  1952         NaN     NaN       NaN   \n3                 3   NaN  ADEN  1953         NaN     NaN       NaN   \n4                 4   NaN  ADEN  1954         NaN     NaN       NaN   \n...             ...   ...   ...   ...         ...     ...       ...   \n2502422     2502422   ZWE   ZMB  2010  46558256.0     NaN   DOTS_IP   \n2502423     2502423   ZWE   ZMB  2011  55171376.0     NaN   DOTS_IP   \n2502424     2502424   ZWE   ZMB  2012  58787336.0     NaN   DOTS_IP   \n2502425     2502425   ZWE   ZMB  2013  77869780.0     NaN   DOTS_IP   \n2502426     2502426   ZWE   ZMB  2014  62405360.0     NaN   DOTS_IP   \n\n                GDP_o SOURCE_GDP_o         GDP_d  ... CONTI_o  CONTI_d  \\\n0                 NaN          NaN           NaN  ...     NaN     ASIA   \n1                 NaN          NaN           NaN  ...     NaN     ASIA   \n2                 NaN          NaN           NaN  ...     NaN     ASIA   \n3                 NaN          NaN           NaN  ...     NaN     ASIA   \n4                 NaN          NaN           NaN  ...     NaN     ASIA   \n...               ...          ...           ...  ...     ...      ...   \n2502422  6.097825e+09          WDI  1.311544e+10  ...    AFRI     AFRI   \n2502423  6.838230e+09          WDI  1.464204e+10  ...    AFRI     AFRI   \n2502424  7.845171e+09          WDI  1.614464e+10  ...    AFRI     AFRI   \n2502425  8.629172e+09          WDI  1.793963e+10  ...    AFRI     AFRI   \n2502426  8.627889e+09          WDI  1.649053e+10  ...    AFRI     AFRI   \n\n        REGIO_o  REGIO_d OECD_o  OECD_d EU_o  EU_d GATT_o  GATT_d  \n0           NaN   MIDEST    NaN     NaN  NaN   NaN    NaN     NaN  \n1           NaN   MIDEST    NaN     NaN  NaN   NaN    NaN     NaN  \n2           NaN   MIDEST    NaN     NaN  NaN   NaN    NaN     NaN  \n3           NaN   MIDEST    NaN     NaN  NaN   NaN    NaN     NaN  \n4           NaN   MIDEST    NaN     NaN  NaN   NaN    NaN     NaN  \n...         ...      ...    ...     ...  ...   ...    ...     ...  \n2502422  STHAFR   STHAFR    0.0     0.0  0.0   0.0    1.0     1.0  \n2502423  STHAFR   STHAFR    0.0     0.0  0.0   0.0    1.0     1.0  \n2502424  STHAFR   STHAFR    0.0     0.0  0.0   0.0    1.0     1.0  \n2502425  STHAFR   STHAFR    0.0     0.0  0.0   0.0    1.0     1.0  \n2502426  STHAFR   STHAFR    0.0     0.0  0.0   0.0    1.0     1.0  \n\n[2502427 rows x 64 columns]",
      "text/html": "<div>\n<style scoped>\n    .dataframe tbody tr th:only-of-type {\n        vertical-align: middle;\n    }\n\n    .dataframe tbody tr th {\n        vertical-align: top;\n    }\n\n    .dataframe thead th {\n        text-align: right;\n    }\n</style>\n<table border=\"1\" class=\"dataframe\">\n  <thead>\n    <tr style=\"text-align: right;\">\n      <th></th>\n      <th>Unnamed: 0</th>\n      <th>iso_o</th>\n      <th>iso_d</th>\n      <th>year</th>\n      <th>FLOW</th>\n      <th>FLOW_0</th>\n      <th>SOURCE_TF</th>\n      <th>GDP_o</th>\n      <th>SOURCE_GDP_o</th>\n      <th>GDP_d</th>\n      <th>...</th>\n      <th>CONTI_o</th>\n      <th>CONTI_d</th>\n      <th>REGIO_o</th>\n      <th>REGIO_d</th>\n      <th>OECD_o</th>\n      <th>OECD_d</th>\n      <th>EU_o</th>\n      <th>EU_d</th>\n      <th>GATT_o</th>\n      <th>GATT_d</th>\n    </tr>\n  </thead>\n  <tbody>\n    <tr>\n      <th>0</th>\n      <td>0</td>\n      <td>NaN</td>\n      <td>ADEN</td>\n      <td>1950</td>\n      <td>NaN</td>\n      <td>NaN</td>\n      <td>NaN</td>\n      <td>NaN</td>\n      <td>NaN</td>\n      <td>NaN</td>\n      <td>...</td>\n      <td>NaN</td>\n      <td>ASIA</td>\n      <td>NaN</td>\n      <td>MIDEST</td>\n      <td>NaN</td>\n      <td>NaN</td>\n      <td>NaN</td>\n      <td>NaN</td>\n      <td>NaN</td>\n      <td>NaN</td>\n    </tr>\n    <tr>\n      <th>1</th>\n      <td>1</td>\n      <td>NaN</td>\n      <td>ADEN</td>\n      <td>1951</td>\n      <td>NaN</td>\n      <td>NaN</td>\n      <td>NaN</td>\n      <td>NaN</td>\n      <td>NaN</td>\n      <td>NaN</td>\n      <td>...</td>\n      <td>NaN</td>\n      <td>ASIA</td>\n      <td>NaN</td>\n      <td>MIDEST</td>\n      <td>NaN</td>\n      <td>NaN</td>\n      <td>NaN</td>\n      <td>NaN</td>\n      <td>NaN</td>\n      <td>NaN</td>\n    </tr>\n    <tr>\n      <th>2</th>\n      <td>2</td>\n      <td>NaN</td>\n      <td>ADEN</td>\n      <td>1952</td>\n      <td>NaN</td>\n      <td>NaN</td>\n      <td>NaN</td>\n      <td>NaN</td>\n      <td>NaN</td>\n      <td>NaN</td>\n      <td>...</td>\n      <td>NaN</td>\n      <td>ASIA</td>\n      <td>NaN</td>\n      <td>MIDEST</td>\n      <td>NaN</td>\n      <td>NaN</td>\n      <td>NaN</td>\n      <td>NaN</td>\n      <td>NaN</td>\n      <td>NaN</td>\n    </tr>\n    <tr>\n      <th>3</th>\n      <td>3</td>\n      <td>NaN</td>\n      <td>ADEN</td>\n      <td>1953</td>\n      <td>NaN</td>\n      <td>NaN</td>\n      <td>NaN</td>\n      <td>NaN</td>\n      <td>NaN</td>\n      <td>NaN</td>\n      <td>...</td>\n      <td>NaN</td>\n      <td>ASIA</td>\n      <td>NaN</td>\n      <td>MIDEST</td>\n      <td>NaN</td>\n      <td>NaN</td>\n      <td>NaN</td>\n      <td>NaN</td>\n      <td>NaN</td>\n      <td>NaN</td>\n    </tr>\n    <tr>\n      <th>4</th>\n      <td>4</td>\n      <td>NaN</td>\n      <td>ADEN</td>\n      <td>1954</td>\n      <td>NaN</td>\n      <td>NaN</td>\n      <td>NaN</td>\n      <td>NaN</td>\n      <td>NaN</td>\n      <td>NaN</td>\n      <td>...</td>\n      <td>NaN</td>\n      <td>ASIA</td>\n      <td>NaN</td>\n      <td>MIDEST</td>\n      <td>NaN</td>\n      <td>NaN</td>\n      <td>NaN</td>\n      <td>NaN</td>\n      <td>NaN</td>\n      <td>NaN</td>\n    </tr>\n    <tr>\n      <th>...</th>\n      <td>...</td>\n      <td>...</td>\n      <td>...</td>\n      <td>...</td>\n      <td>...</td>\n      <td>...</td>\n      <td>...</td>\n      <td>...</td>\n      <td>...</td>\n      <td>...</td>\n      <td>...</td>\n      <td>...</td>\n      <td>...</td>\n      <td>...</td>\n      <td>...</td>\n      <td>...</td>\n      <td>...</td>\n      <td>...</td>\n      <td>...</td>\n      <td>...</td>\n      <td>...</td>\n    </tr>\n    <tr>\n      <th>2502422</th>\n      <td>2502422</td>\n      <td>ZWE</td>\n      <td>ZMB</td>\n      <td>2010</td>\n      <td>46558256.0</td>\n      <td>NaN</td>\n      <td>DOTS_IP</td>\n      <td>6.097825e+09</td>\n      <td>WDI</td>\n      <td>1.311544e+10</td>\n      <td>...</td>\n      <td>AFRI</td>\n      <td>AFRI</td>\n      <td>STHAFR</td>\n      <td>STHAFR</td>\n      <td>0.0</td>\n      <td>0.0</td>\n      <td>0.0</td>\n      <td>0.0</td>\n      <td>1.0</td>\n      <td>1.0</td>\n    </tr>\n    <tr>\n      <th>2502423</th>\n      <td>2502423</td>\n      <td>ZWE</td>\n      <td>ZMB</td>\n      <td>2011</td>\n      <td>55171376.0</td>\n      <td>NaN</td>\n      <td>DOTS_IP</td>\n      <td>6.838230e+09</td>\n      <td>WDI</td>\n      <td>1.464204e+10</td>\n      <td>...</td>\n      <td>AFRI</td>\n      <td>AFRI</td>\n      <td>STHAFR</td>\n      <td>STHAFR</td>\n      <td>0.0</td>\n      <td>0.0</td>\n      <td>0.0</td>\n      <td>0.0</td>\n      <td>1.0</td>\n      <td>1.0</td>\n    </tr>\n    <tr>\n      <th>2502424</th>\n      <td>2502424</td>\n      <td>ZWE</td>\n      <td>ZMB</td>\n      <td>2012</td>\n      <td>58787336.0</td>\n      <td>NaN</td>\n      <td>DOTS_IP</td>\n      <td>7.845171e+09</td>\n      <td>WDI</td>\n      <td>1.614464e+10</td>\n      <td>...</td>\n      <td>AFRI</td>\n      <td>AFRI</td>\n      <td>STHAFR</td>\n      <td>STHAFR</td>\n      <td>0.0</td>\n      <td>0.0</td>\n      <td>0.0</td>\n      <td>0.0</td>\n      <td>1.0</td>\n      <td>1.0</td>\n    </tr>\n    <tr>\n      <th>2502425</th>\n      <td>2502425</td>\n      <td>ZWE</td>\n      <td>ZMB</td>\n      <td>2013</td>\n      <td>77869780.0</td>\n      <td>NaN</td>\n      <td>DOTS_IP</td>\n      <td>8.629172e+09</td>\n      <td>WDI</td>\n      <td>1.793963e+10</td>\n      <td>...</td>\n      <td>AFRI</td>\n      <td>AFRI</td>\n      <td>STHAFR</td>\n      <td>STHAFR</td>\n      <td>0.0</td>\n      <td>0.0</td>\n      <td>0.0</td>\n      <td>0.0</td>\n      <td>1.0</td>\n      <td>1.0</td>\n    </tr>\n    <tr>\n      <th>2502426</th>\n      <td>2502426</td>\n      <td>ZWE</td>\n      <td>ZMB</td>\n      <td>2014</td>\n      <td>62405360.0</td>\n      <td>NaN</td>\n      <td>DOTS_IP</td>\n      <td>8.627889e+09</td>\n      <td>WDI</td>\n      <td>1.649053e+10</td>\n      <td>...</td>\n      <td>AFRI</td>\n      <td>AFRI</td>\n      <td>STHAFR</td>\n      <td>STHAFR</td>\n      <td>0.0</td>\n      <td>0.0</td>\n      <td>0.0</td>\n      <td>0.0</td>\n      <td>1.0</td>\n      <td>1.0</td>\n    </tr>\n  </tbody>\n</table>\n<p>2502427 rows × 64 columns</p>\n</div>"
     },
     "execution_count": 5,
     "metadata": {},
     "output_type": "execute_result"
    }
   ],
   "source": [
    "df"
   ],
   "metadata": {
    "collapsed": false,
    "pycharm": {
     "name": "#%%\n"
    }
   }
  },
  {
   "cell_type": "code",
   "execution_count": 6,
   "outputs": [],
   "source": [
    "features = [\"GDP_o\", \"GDP_d\", \"POP_o\", \"POP_d\", \"Distw\", \"Comlang\", \"Contig\", \"OECD_o\", \"OECD_d\",\n",
    "            \"GATT_o\", \"GATT_d\", \"XPTOT_o\", \"year\", \"FLOW\", 'IPTOT_d', 'IPTOT_o', 'XPTOT_d']"
   ],
   "metadata": {
    "collapsed": false,
    "pycharm": {
     "name": "#%%\n"
    }
   }
  },
  {
   "cell_type": "code",
   "execution_count": 7,
   "outputs": [],
   "source": [
    "new_df = df[features]"
   ],
   "metadata": {
    "collapsed": false,
    "pycharm": {
     "name": "#%%\n"
    }
   }
  },
  {
   "cell_type": "code",
   "execution_count": 8,
   "outputs": [
    {
     "data": {
      "text/plain": "(2502427, 17)"
     },
     "execution_count": 8,
     "metadata": {},
     "output_type": "execute_result"
    }
   ],
   "source": [
    "new_df.shape"
   ],
   "metadata": {
    "collapsed": false,
    "pycharm": {
     "name": "#%%\n"
    }
   }
  },
  {
   "cell_type": "code",
   "execution_count": 9,
   "outputs": [
    {
     "data": {
      "text/plain": "                GDP_o         GDP_d      POP_o      POP_d       Distw  \\\n0                 NaN           NaN        NaN   4777.089         NaN   \n1                 NaN           NaN        NaN   4869.125         NaN   \n2                 NaN           NaN        NaN   4963.829         NaN   \n3                 NaN           NaN        NaN   5061.153         NaN   \n4                 NaN           NaN        NaN   5162.494         NaN   \n...               ...           ...        ...        ...         ...   \n2502422  6.097825e+09  1.311544e+10  13973.897  13917.439  583.795386   \n2502423  6.838230e+09  1.464204e+10  14255.592  14343.526  583.795386   \n2502424  7.845171e+09  1.614464e+10  14565.482  14786.581  583.795386   \n2502425  8.629172e+09  1.793963e+10  14898.092  15246.086  583.795386   \n2502426  8.627889e+09  1.649053e+10  15245.855  15721.343  583.795386   \n\n         Comlang  Contig  OECD_o  OECD_d  GATT_o  GATT_d       XPTOT_o  year  \\\n0            NaN     NaN     NaN     NaN     NaN     NaN           NaN  1950   \n1            NaN     NaN     NaN     NaN     NaN     NaN           NaN  1951   \n2            NaN     NaN     NaN     NaN     NaN     NaN           NaN  1952   \n3            NaN     NaN     NaN     NaN     NaN     NaN           NaN  1953   \n4            NaN     NaN     NaN     NaN     NaN     NaN           NaN  1954   \n...          ...     ...     ...     ...     ...     ...           ...   ...   \n2502422      1.0     1.0     0.0     0.0     1.0     1.0  2.070475e+09  2010   \n2502423      1.0     1.0     0.0     0.0     1.0     1.0  2.192061e+09  2011   \n2502424      1.0     1.0     0.0     0.0     1.0     1.0  2.457760e+09  2012   \n2502425      1.0     1.0     0.0     0.0     1.0     1.0  2.243481e+09  2013   \n2502426      1.0     1.0     0.0     0.0     1.0     1.0  2.089376e+09  2014   \n\n               FLOW       IPTOT_d       IPTOT_o       XPTOT_d  \n0               NaN  4.200000e+07           NaN  3.900000e+07  \n1               NaN  5.000000e+07           NaN  4.500000e+07  \n2               NaN  5.700000e+07           NaN  4.600000e+07  \n3               NaN  6.100000e+07           NaN  4.100000e+07  \n4               NaN  6.700000e+07           NaN  4.500000e+07  \n...             ...           ...           ...           ...  \n2502422  46558256.0  3.442585e+09  2.673542e+09  4.636377e+09  \n2502423  55171376.0  4.543546e+09  3.097955e+09  5.510135e+09  \n2502424  58787336.0  5.562818e+09  3.321382e+09  5.922680e+09  \n2502425  77869780.0  6.515267e+09  3.244361e+09  6.770876e+09  \n2502426  62405360.0  5.899204e+09  2.983128e+09  5.890915e+09  \n\n[2502427 rows x 17 columns]",
      "text/html": "<div>\n<style scoped>\n    .dataframe tbody tr th:only-of-type {\n        vertical-align: middle;\n    }\n\n    .dataframe tbody tr th {\n        vertical-align: top;\n    }\n\n    .dataframe thead th {\n        text-align: right;\n    }\n</style>\n<table border=\"1\" class=\"dataframe\">\n  <thead>\n    <tr style=\"text-align: right;\">\n      <th></th>\n      <th>GDP_o</th>\n      <th>GDP_d</th>\n      <th>POP_o</th>\n      <th>POP_d</th>\n      <th>Distw</th>\n      <th>Comlang</th>\n      <th>Contig</th>\n      <th>OECD_o</th>\n      <th>OECD_d</th>\n      <th>GATT_o</th>\n      <th>GATT_d</th>\n      <th>XPTOT_o</th>\n      <th>year</th>\n      <th>FLOW</th>\n      <th>IPTOT_d</th>\n      <th>IPTOT_o</th>\n      <th>XPTOT_d</th>\n    </tr>\n  </thead>\n  <tbody>\n    <tr>\n      <th>0</th>\n      <td>NaN</td>\n      <td>NaN</td>\n      <td>NaN</td>\n      <td>4777.089</td>\n      <td>NaN</td>\n      <td>NaN</td>\n      <td>NaN</td>\n      <td>NaN</td>\n      <td>NaN</td>\n      <td>NaN</td>\n      <td>NaN</td>\n      <td>NaN</td>\n      <td>1950</td>\n      <td>NaN</td>\n      <td>4.200000e+07</td>\n      <td>NaN</td>\n      <td>3.900000e+07</td>\n    </tr>\n    <tr>\n      <th>1</th>\n      <td>NaN</td>\n      <td>NaN</td>\n      <td>NaN</td>\n      <td>4869.125</td>\n      <td>NaN</td>\n      <td>NaN</td>\n      <td>NaN</td>\n      <td>NaN</td>\n      <td>NaN</td>\n      <td>NaN</td>\n      <td>NaN</td>\n      <td>NaN</td>\n      <td>1951</td>\n      <td>NaN</td>\n      <td>5.000000e+07</td>\n      <td>NaN</td>\n      <td>4.500000e+07</td>\n    </tr>\n    <tr>\n      <th>2</th>\n      <td>NaN</td>\n      <td>NaN</td>\n      <td>NaN</td>\n      <td>4963.829</td>\n      <td>NaN</td>\n      <td>NaN</td>\n      <td>NaN</td>\n      <td>NaN</td>\n      <td>NaN</td>\n      <td>NaN</td>\n      <td>NaN</td>\n      <td>NaN</td>\n      <td>1952</td>\n      <td>NaN</td>\n      <td>5.700000e+07</td>\n      <td>NaN</td>\n      <td>4.600000e+07</td>\n    </tr>\n    <tr>\n      <th>3</th>\n      <td>NaN</td>\n      <td>NaN</td>\n      <td>NaN</td>\n      <td>5061.153</td>\n      <td>NaN</td>\n      <td>NaN</td>\n      <td>NaN</td>\n      <td>NaN</td>\n      <td>NaN</td>\n      <td>NaN</td>\n      <td>NaN</td>\n      <td>NaN</td>\n      <td>1953</td>\n      <td>NaN</td>\n      <td>6.100000e+07</td>\n      <td>NaN</td>\n      <td>4.100000e+07</td>\n    </tr>\n    <tr>\n      <th>4</th>\n      <td>NaN</td>\n      <td>NaN</td>\n      <td>NaN</td>\n      <td>5162.494</td>\n      <td>NaN</td>\n      <td>NaN</td>\n      <td>NaN</td>\n      <td>NaN</td>\n      <td>NaN</td>\n      <td>NaN</td>\n      <td>NaN</td>\n      <td>NaN</td>\n      <td>1954</td>\n      <td>NaN</td>\n      <td>6.700000e+07</td>\n      <td>NaN</td>\n      <td>4.500000e+07</td>\n    </tr>\n    <tr>\n      <th>...</th>\n      <td>...</td>\n      <td>...</td>\n      <td>...</td>\n      <td>...</td>\n      <td>...</td>\n      <td>...</td>\n      <td>...</td>\n      <td>...</td>\n      <td>...</td>\n      <td>...</td>\n      <td>...</td>\n      <td>...</td>\n      <td>...</td>\n      <td>...</td>\n      <td>...</td>\n      <td>...</td>\n      <td>...</td>\n    </tr>\n    <tr>\n      <th>2502422</th>\n      <td>6.097825e+09</td>\n      <td>1.311544e+10</td>\n      <td>13973.897</td>\n      <td>13917.439</td>\n      <td>583.795386</td>\n      <td>1.0</td>\n      <td>1.0</td>\n      <td>0.0</td>\n      <td>0.0</td>\n      <td>1.0</td>\n      <td>1.0</td>\n      <td>2.070475e+09</td>\n      <td>2010</td>\n      <td>46558256.0</td>\n      <td>3.442585e+09</td>\n      <td>2.673542e+09</td>\n      <td>4.636377e+09</td>\n    </tr>\n    <tr>\n      <th>2502423</th>\n      <td>6.838230e+09</td>\n      <td>1.464204e+10</td>\n      <td>14255.592</td>\n      <td>14343.526</td>\n      <td>583.795386</td>\n      <td>1.0</td>\n      <td>1.0</td>\n      <td>0.0</td>\n      <td>0.0</td>\n      <td>1.0</td>\n      <td>1.0</td>\n      <td>2.192061e+09</td>\n      <td>2011</td>\n      <td>55171376.0</td>\n      <td>4.543546e+09</td>\n      <td>3.097955e+09</td>\n      <td>5.510135e+09</td>\n    </tr>\n    <tr>\n      <th>2502424</th>\n      <td>7.845171e+09</td>\n      <td>1.614464e+10</td>\n      <td>14565.482</td>\n      <td>14786.581</td>\n      <td>583.795386</td>\n      <td>1.0</td>\n      <td>1.0</td>\n      <td>0.0</td>\n      <td>0.0</td>\n      <td>1.0</td>\n      <td>1.0</td>\n      <td>2.457760e+09</td>\n      <td>2012</td>\n      <td>58787336.0</td>\n      <td>5.562818e+09</td>\n      <td>3.321382e+09</td>\n      <td>5.922680e+09</td>\n    </tr>\n    <tr>\n      <th>2502425</th>\n      <td>8.629172e+09</td>\n      <td>1.793963e+10</td>\n      <td>14898.092</td>\n      <td>15246.086</td>\n      <td>583.795386</td>\n      <td>1.0</td>\n      <td>1.0</td>\n      <td>0.0</td>\n      <td>0.0</td>\n      <td>1.0</td>\n      <td>1.0</td>\n      <td>2.243481e+09</td>\n      <td>2013</td>\n      <td>77869780.0</td>\n      <td>6.515267e+09</td>\n      <td>3.244361e+09</td>\n      <td>6.770876e+09</td>\n    </tr>\n    <tr>\n      <th>2502426</th>\n      <td>8.627889e+09</td>\n      <td>1.649053e+10</td>\n      <td>15245.855</td>\n      <td>15721.343</td>\n      <td>583.795386</td>\n      <td>1.0</td>\n      <td>1.0</td>\n      <td>0.0</td>\n      <td>0.0</td>\n      <td>1.0</td>\n      <td>1.0</td>\n      <td>2.089376e+09</td>\n      <td>2014</td>\n      <td>62405360.0</td>\n      <td>5.899204e+09</td>\n      <td>2.983128e+09</td>\n      <td>5.890915e+09</td>\n    </tr>\n  </tbody>\n</table>\n<p>2502427 rows × 17 columns</p>\n</div>"
     },
     "execution_count": 9,
     "metadata": {},
     "output_type": "execute_result"
    }
   ],
   "source": [
    "new_df"
   ],
   "metadata": {
    "collapsed": false,
    "pycharm": {
     "name": "#%%\n"
    }
   }
  },
  {
   "cell_type": "code",
   "execution_count": 10,
   "outputs": [
    {
     "data": {
      "text/plain": "GDP_o      555396\nGDP_d      490671\nPOP_o      322514\nPOP_d      276342\nDistw      199813\nComlang      3003\nContig       3003\nOECD_o     712039\nOECD_d     712037\nGATT_o     363109\nGATT_d     363108\nXPTOT_o    256551\nyear            0\nFLOW       602737\nIPTOT_d    206730\nIPTOT_o    269437\nXPTOT_d    192973\ndtype: int64"
     },
     "execution_count": 10,
     "metadata": {},
     "output_type": "execute_result"
    }
   ],
   "source": [
    "new_df.isna().sum()"
   ],
   "metadata": {
    "collapsed": false,
    "pycharm": {
     "name": "#%%\n"
    }
   }
  },
  {
   "cell_type": "code",
   "execution_count": 11,
   "outputs": [],
   "source": [
    "cleaned_df = new_df.loc[(new_df[\"year\"] > 2008) & (new_df[\"FLOW\"] > 100)].dropna()"
   ],
   "metadata": {
    "collapsed": false,
    "pycharm": {
     "name": "#%%\n"
    }
   }
  },
  {
   "cell_type": "code",
   "execution_count": 12,
   "outputs": [
    {
     "data": {
      "text/plain": "(129408, 17)"
     },
     "execution_count": 12,
     "metadata": {},
     "output_type": "execute_result"
    }
   ],
   "source": [
    "cleaned_df.shape"
   ],
   "metadata": {
    "collapsed": false,
    "pycharm": {
     "name": "#%%\n"
    }
   }
  },
  {
   "cell_type": "code",
   "execution_count": 13,
   "outputs": [
    {
     "data": {
      "text/plain": "                GDP_o         GDP_d      POP_o      POP_d         Distw  \\\n1707     1.613070e+09  1.119100e+10    101.936  28809.168  13168.223762   \n1839     1.604113e+09  1.627569e+11    101.416   7705.423  12773.079714   \n1841     1.613070e+09  2.175294e+11    101.936   8734.722  12773.079714   \n1874     1.604113e+09  2.417646e+11    101.416  40798.640   5187.787570   \n1875     1.597046e+09  2.987639e+11    101.597  41222.875   5187.787570   \n...               ...           ...        ...        ...           ...   \n2502422  6.097825e+09  1.311544e+10  13973.897  13917.439    583.795386   \n2502423  6.838230e+09  1.464204e+10  14255.592  14343.526    583.795386   \n2502424  7.845171e+09  1.614464e+10  14565.482  14786.581    583.795386   \n2502425  8.629172e+09  1.793963e+10  14898.092  15246.086    583.795386   \n2502426  8.627889e+09  1.649053e+10  15245.855  15721.343    583.795386   \n\n         Comlang  Contig  OECD_o  OECD_d  GATT_o  GATT_d       XPTOT_o  year  \\\n1707         0.0     0.0     0.0     0.0     0.0     0.0  2.671829e+09  2011   \n1839         0.0     0.0     0.0     0.0     0.0     1.0  1.363620e+09  2009   \n1841         0.0     0.0     0.0     0.0     0.0     1.0  2.671829e+09  2011   \n1874         0.0     0.0     0.0     0.0     0.0     1.0  1.363620e+09  2009   \n1875         0.0     0.0     0.0     0.0     0.0     1.0  1.848131e+08  2010   \n...          ...     ...     ...     ...     ...     ...           ...   ...   \n2502422      1.0     1.0     0.0     0.0     1.0     1.0  2.070475e+09  2010   \n2502423      1.0     1.0     0.0     0.0     1.0     1.0  2.192061e+09  2011   \n2502424      1.0     1.0     0.0     0.0     1.0     1.0  2.457760e+09  2012   \n2502425      1.0     1.0     0.0     0.0     1.0     1.0  2.243481e+09  2013   \n2502426      1.0     1.0     0.0     0.0     1.0     1.0  2.089376e+09  2014   \n\n                FLOW       IPTOT_d       IPTOT_o       XPTOT_d  \n1707        60232.73  6.612774e+09  3.692892e+09  3.224723e+08  \n1839        11195.58  9.999943e+10  1.571841e+09  1.232484e+11  \n1841       113576.80  1.365564e+11  3.692892e+09  1.884906e+11  \n1874       894681.06  2.489420e+10  1.571841e+09  3.806315e+10  \n1875          166.97  3.636240e+10  9.023266e+08  4.582931e+10  \n...              ...           ...           ...           ...  \n2502422  46558256.00  3.442585e+09  2.673542e+09  4.636377e+09  \n2502423  55171376.00  4.543546e+09  3.097955e+09  5.510135e+09  \n2502424  58787336.00  5.562818e+09  3.321382e+09  5.922680e+09  \n2502425  77869780.00  6.515267e+09  3.244361e+09  6.770876e+09  \n2502426  62405360.00  5.899204e+09  2.983128e+09  5.890915e+09  \n\n[129408 rows x 17 columns]",
      "text/html": "<div>\n<style scoped>\n    .dataframe tbody tr th:only-of-type {\n        vertical-align: middle;\n    }\n\n    .dataframe tbody tr th {\n        vertical-align: top;\n    }\n\n    .dataframe thead th {\n        text-align: right;\n    }\n</style>\n<table border=\"1\" class=\"dataframe\">\n  <thead>\n    <tr style=\"text-align: right;\">\n      <th></th>\n      <th>GDP_o</th>\n      <th>GDP_d</th>\n      <th>POP_o</th>\n      <th>POP_d</th>\n      <th>Distw</th>\n      <th>Comlang</th>\n      <th>Contig</th>\n      <th>OECD_o</th>\n      <th>OECD_d</th>\n      <th>GATT_o</th>\n      <th>GATT_d</th>\n      <th>XPTOT_o</th>\n      <th>year</th>\n      <th>FLOW</th>\n      <th>IPTOT_d</th>\n      <th>IPTOT_o</th>\n      <th>XPTOT_d</th>\n    </tr>\n  </thead>\n  <tbody>\n    <tr>\n      <th>1707</th>\n      <td>1.613070e+09</td>\n      <td>1.119100e+10</td>\n      <td>101.936</td>\n      <td>28809.168</td>\n      <td>13168.223762</td>\n      <td>0.0</td>\n      <td>0.0</td>\n      <td>0.0</td>\n      <td>0.0</td>\n      <td>0.0</td>\n      <td>0.0</td>\n      <td>2.671829e+09</td>\n      <td>2011</td>\n      <td>60232.73</td>\n      <td>6.612774e+09</td>\n      <td>3.692892e+09</td>\n      <td>3.224723e+08</td>\n    </tr>\n    <tr>\n      <th>1839</th>\n      <td>1.604113e+09</td>\n      <td>1.627569e+11</td>\n      <td>101.416</td>\n      <td>7705.423</td>\n      <td>12773.079714</td>\n      <td>0.0</td>\n      <td>0.0</td>\n      <td>0.0</td>\n      <td>0.0</td>\n      <td>0.0</td>\n      <td>1.0</td>\n      <td>1.363620e+09</td>\n      <td>2009</td>\n      <td>11195.58</td>\n      <td>9.999943e+10</td>\n      <td>1.571841e+09</td>\n      <td>1.232484e+11</td>\n    </tr>\n    <tr>\n      <th>1841</th>\n      <td>1.613070e+09</td>\n      <td>2.175294e+11</td>\n      <td>101.936</td>\n      <td>8734.722</td>\n      <td>12773.079714</td>\n      <td>0.0</td>\n      <td>0.0</td>\n      <td>0.0</td>\n      <td>0.0</td>\n      <td>0.0</td>\n      <td>1.0</td>\n      <td>2.671829e+09</td>\n      <td>2011</td>\n      <td>113576.80</td>\n      <td>1.365564e+11</td>\n      <td>3.692892e+09</td>\n      <td>1.884906e+11</td>\n    </tr>\n    <tr>\n      <th>1874</th>\n      <td>1.604113e+09</td>\n      <td>2.417646e+11</td>\n      <td>101.416</td>\n      <td>40798.640</td>\n      <td>5187.787570</td>\n      <td>0.0</td>\n      <td>0.0</td>\n      <td>0.0</td>\n      <td>0.0</td>\n      <td>0.0</td>\n      <td>1.0</td>\n      <td>1.363620e+09</td>\n      <td>2009</td>\n      <td>894681.06</td>\n      <td>2.489420e+10</td>\n      <td>1.571841e+09</td>\n      <td>3.806315e+10</td>\n    </tr>\n    <tr>\n      <th>1875</th>\n      <td>1.597046e+09</td>\n      <td>2.987639e+11</td>\n      <td>101.597</td>\n      <td>41222.875</td>\n      <td>5187.787570</td>\n      <td>0.0</td>\n      <td>0.0</td>\n      <td>0.0</td>\n      <td>0.0</td>\n      <td>0.0</td>\n      <td>1.0</td>\n      <td>1.848131e+08</td>\n      <td>2010</td>\n      <td>166.97</td>\n      <td>3.636240e+10</td>\n      <td>9.023266e+08</td>\n      <td>4.582931e+10</td>\n    </tr>\n    <tr>\n      <th>...</th>\n      <td>...</td>\n      <td>...</td>\n      <td>...</td>\n      <td>...</td>\n      <td>...</td>\n      <td>...</td>\n      <td>...</td>\n      <td>...</td>\n      <td>...</td>\n      <td>...</td>\n      <td>...</td>\n      <td>...</td>\n      <td>...</td>\n      <td>...</td>\n      <td>...</td>\n      <td>...</td>\n      <td>...</td>\n    </tr>\n    <tr>\n      <th>2502422</th>\n      <td>6.097825e+09</td>\n      <td>1.311544e+10</td>\n      <td>13973.897</td>\n      <td>13917.439</td>\n      <td>583.795386</td>\n      <td>1.0</td>\n      <td>1.0</td>\n      <td>0.0</td>\n      <td>0.0</td>\n      <td>1.0</td>\n      <td>1.0</td>\n      <td>2.070475e+09</td>\n      <td>2010</td>\n      <td>46558256.00</td>\n      <td>3.442585e+09</td>\n      <td>2.673542e+09</td>\n      <td>4.636377e+09</td>\n    </tr>\n    <tr>\n      <th>2502423</th>\n      <td>6.838230e+09</td>\n      <td>1.464204e+10</td>\n      <td>14255.592</td>\n      <td>14343.526</td>\n      <td>583.795386</td>\n      <td>1.0</td>\n      <td>1.0</td>\n      <td>0.0</td>\n      <td>0.0</td>\n      <td>1.0</td>\n      <td>1.0</td>\n      <td>2.192061e+09</td>\n      <td>2011</td>\n      <td>55171376.00</td>\n      <td>4.543546e+09</td>\n      <td>3.097955e+09</td>\n      <td>5.510135e+09</td>\n    </tr>\n    <tr>\n      <th>2502424</th>\n      <td>7.845171e+09</td>\n      <td>1.614464e+10</td>\n      <td>14565.482</td>\n      <td>14786.581</td>\n      <td>583.795386</td>\n      <td>1.0</td>\n      <td>1.0</td>\n      <td>0.0</td>\n      <td>0.0</td>\n      <td>1.0</td>\n      <td>1.0</td>\n      <td>2.457760e+09</td>\n      <td>2012</td>\n      <td>58787336.00</td>\n      <td>5.562818e+09</td>\n      <td>3.321382e+09</td>\n      <td>5.922680e+09</td>\n    </tr>\n    <tr>\n      <th>2502425</th>\n      <td>8.629172e+09</td>\n      <td>1.793963e+10</td>\n      <td>14898.092</td>\n      <td>15246.086</td>\n      <td>583.795386</td>\n      <td>1.0</td>\n      <td>1.0</td>\n      <td>0.0</td>\n      <td>0.0</td>\n      <td>1.0</td>\n      <td>1.0</td>\n      <td>2.243481e+09</td>\n      <td>2013</td>\n      <td>77869780.00</td>\n      <td>6.515267e+09</td>\n      <td>3.244361e+09</td>\n      <td>6.770876e+09</td>\n    </tr>\n    <tr>\n      <th>2502426</th>\n      <td>8.627889e+09</td>\n      <td>1.649053e+10</td>\n      <td>15245.855</td>\n      <td>15721.343</td>\n      <td>583.795386</td>\n      <td>1.0</td>\n      <td>1.0</td>\n      <td>0.0</td>\n      <td>0.0</td>\n      <td>1.0</td>\n      <td>1.0</td>\n      <td>2.089376e+09</td>\n      <td>2014</td>\n      <td>62405360.00</td>\n      <td>5.899204e+09</td>\n      <td>2.983128e+09</td>\n      <td>5.890915e+09</td>\n    </tr>\n  </tbody>\n</table>\n<p>129408 rows × 17 columns</p>\n</div>"
     },
     "execution_count": 13,
     "metadata": {},
     "output_type": "execute_result"
    }
   ],
   "source": [
    "cleaned_df"
   ],
   "metadata": {
    "collapsed": false,
    "pycharm": {
     "name": "#%%\n"
    }
   }
  },
  {
   "cell_type": "code",
   "execution_count": 14,
   "outputs": [],
   "source": [
    "cleaned_df = cleaned_df.drop([\"year\"], axis=1)"
   ],
   "metadata": {
    "collapsed": false,
    "pycharm": {
     "name": "#%%\n"
    }
   }
  },
  {
   "cell_type": "code",
   "execution_count": 15,
   "outputs": [],
   "source": [
    "X = cleaned_df[[\"GDP_o\", \"GDP_d\", \"POP_o\", \"POP_d\", \"Distw\", \"Comlang\", \"Contig\", \"OECD_o\", \"OECD_d\",\n",
    "                \"GATT_o\", \"GATT_d\", \"XPTOT_o\", \"FLOW\", 'IPTOT_d', 'IPTOT_o', 'XPTOT_d']]\n",
    "\n",
    "y = cleaned_df[[\"FLOW\"]]"
   ],
   "metadata": {
    "collapsed": false,
    "pycharm": {
     "name": "#%%\n"
    }
   }
  },
  {
   "cell_type": "code",
   "execution_count": 32,
   "outputs": [],
   "source": [
    "X_train, X_test, y_train, y_test = train_test_split(X, y, test_size=0.25, random_state=42)"
   ],
   "metadata": {
    "collapsed": false,
    "pycharm": {
     "name": "#%%\n"
    }
   }
  },
  {
   "cell_type": "code",
   "execution_count": 35,
   "outputs": [
    {
     "data": {
      "text/plain": "(97056, 16)"
     },
     "execution_count": 35,
     "metadata": {},
     "output_type": "execute_result"
    }
   ],
   "source": [
    "X_train.shape"
   ],
   "metadata": {
    "collapsed": false,
    "pycharm": {
     "name": "#%%\n"
    }
   }
  },
  {
   "cell_type": "code",
   "execution_count": 36,
   "outputs": [
    {
     "data": {
      "text/plain": "(129408, 16)"
     },
     "execution_count": 36,
     "metadata": {},
     "output_type": "execute_result"
    }
   ],
   "source": [
    "X.shape"
   ],
   "metadata": {
    "collapsed": false,
    "pycharm": {
     "name": "#%%\n"
    }
   }
  },
  {
   "cell_type": "code",
   "execution_count": 19,
   "outputs": [],
   "source": [
    "feature_importances = np.zeros(cleaned_df.shape[1])"
   ],
   "metadata": {
    "collapsed": false,
    "pycharm": {
     "name": "#%%\n"
    }
   }
  },
  {
   "cell_type": "code",
   "execution_count": 37,
   "outputs": [],
   "source": [
    "#model = lgb.LGBMClassifier(objective='binary', boosting_type = 'goss',\n",
    "                           #n_estimators = 10000, class_weight = 'balanced')\n",
    "\n",
    "#model = lgb.LGBMRegressor(n_estimators=30000, class_weight='balanced')\n",
    "model = lgb.LGBMRegressor()"
   ],
   "metadata": {
    "collapsed": false,
    "pycharm": {
     "name": "#%%\n"
    }
   }
  },
  {
   "cell_type": "code",
   "execution_count": 38,
   "outputs": [],
   "source": [
    "train_features, valid_features, train_y, valid_y = train_test_split(X_train, y_train,\n",
    "                                                                    test_size = 0.25, random_state = 42)"
   ],
   "metadata": {
    "collapsed": false,
    "pycharm": {
     "name": "#%%\n"
    }
   }
  },
  {
   "cell_type": "code",
   "execution_count": 44,
   "outputs": [
    {
     "data": {
      "text/plain": "LGBMRegressor()",
      "text/html": "<style>#sk-container-id-3 {color: black;background-color: white;}#sk-container-id-3 pre{padding: 0;}#sk-container-id-3 div.sk-toggleable {background-color: white;}#sk-container-id-3 label.sk-toggleable__label {cursor: pointer;display: block;width: 100%;margin-bottom: 0;padding: 0.3em;box-sizing: border-box;text-align: center;}#sk-container-id-3 label.sk-toggleable__label-arrow:before {content: \"▸\";float: left;margin-right: 0.25em;color: #696969;}#sk-container-id-3 label.sk-toggleable__label-arrow:hover:before {color: black;}#sk-container-id-3 div.sk-estimator:hover label.sk-toggleable__label-arrow:before {color: black;}#sk-container-id-3 div.sk-toggleable__content {max-height: 0;max-width: 0;overflow: hidden;text-align: left;background-color: #f0f8ff;}#sk-container-id-3 div.sk-toggleable__content pre {margin: 0.2em;color: black;border-radius: 0.25em;background-color: #f0f8ff;}#sk-container-id-3 input.sk-toggleable__control:checked~div.sk-toggleable__content {max-height: 200px;max-width: 100%;overflow: auto;}#sk-container-id-3 input.sk-toggleable__control:checked~label.sk-toggleable__label-arrow:before {content: \"▾\";}#sk-container-id-3 div.sk-estimator input.sk-toggleable__control:checked~label.sk-toggleable__label {background-color: #d4ebff;}#sk-container-id-3 div.sk-label input.sk-toggleable__control:checked~label.sk-toggleable__label {background-color: #d4ebff;}#sk-container-id-3 input.sk-hidden--visually {border: 0;clip: rect(1px 1px 1px 1px);clip: rect(1px, 1px, 1px, 1px);height: 1px;margin: -1px;overflow: hidden;padding: 0;position: absolute;width: 1px;}#sk-container-id-3 div.sk-estimator {font-family: monospace;background-color: #f0f8ff;border: 1px dotted black;border-radius: 0.25em;box-sizing: border-box;margin-bottom: 0.5em;}#sk-container-id-3 div.sk-estimator:hover {background-color: #d4ebff;}#sk-container-id-3 div.sk-parallel-item::after {content: \"\";width: 100%;border-bottom: 1px solid gray;flex-grow: 1;}#sk-container-id-3 div.sk-label:hover label.sk-toggleable__label {background-color: #d4ebff;}#sk-container-id-3 div.sk-serial::before {content: \"\";position: absolute;border-left: 1px solid gray;box-sizing: border-box;top: 0;bottom: 0;left: 50%;z-index: 0;}#sk-container-id-3 div.sk-serial {display: flex;flex-direction: column;align-items: center;background-color: white;padding-right: 0.2em;padding-left: 0.2em;position: relative;}#sk-container-id-3 div.sk-item {position: relative;z-index: 1;}#sk-container-id-3 div.sk-parallel {display: flex;align-items: stretch;justify-content: center;background-color: white;position: relative;}#sk-container-id-3 div.sk-item::before, #sk-container-id-3 div.sk-parallel-item::before {content: \"\";position: absolute;border-left: 1px solid gray;box-sizing: border-box;top: 0;bottom: 0;left: 50%;z-index: -1;}#sk-container-id-3 div.sk-parallel-item {display: flex;flex-direction: column;z-index: 1;position: relative;background-color: white;}#sk-container-id-3 div.sk-parallel-item:first-child::after {align-self: flex-end;width: 50%;}#sk-container-id-3 div.sk-parallel-item:last-child::after {align-self: flex-start;width: 50%;}#sk-container-id-3 div.sk-parallel-item:only-child::after {width: 0;}#sk-container-id-3 div.sk-dashed-wrapped {border: 1px dashed gray;margin: 0 0.4em 0.5em 0.4em;box-sizing: border-box;padding-bottom: 0.4em;background-color: white;}#sk-container-id-3 div.sk-label label {font-family: monospace;font-weight: bold;display: inline-block;line-height: 1.2em;}#sk-container-id-3 div.sk-label-container {text-align: center;}#sk-container-id-3 div.sk-container {/* jupyter's `normalize.less` sets `[hidden] { display: none; }` but bootstrap.min.css set `[hidden] { display: none !important; }` so we also need the `!important` here to be able to override the default hidden behavior on the sphinx rendered scikit-learn.org. See: https://github.com/scikit-learn/scikit-learn/issues/21755 */display: inline-block !important;position: relative;}#sk-container-id-3 div.sk-text-repr-fallback {display: none;}</style><div id=\"sk-container-id-3\" class=\"sk-top-container\"><div class=\"sk-text-repr-fallback\"><pre>LGBMRegressor()</pre><b>In a Jupyter environment, please rerun this cell to show the HTML representation or trust the notebook. <br />On GitHub, the HTML representation is unable to render, please try loading this page with nbviewer.org.</b></div><div class=\"sk-container\" hidden><div class=\"sk-item\"><div class=\"sk-estimator sk-toggleable\"><input class=\"sk-toggleable__control sk-hidden--visually\" id=\"sk-estimator-id-3\" type=\"checkbox\" checked><label for=\"sk-estimator-id-3\" class=\"sk-toggleable__label sk-toggleable__label-arrow\">LGBMRegressor</label><div class=\"sk-toggleable__content\"><pre>LGBMRegressor()</pre></div></div></div></div></div>"
     },
     "execution_count": 44,
     "metadata": {},
     "output_type": "execute_result"
    }
   ],
   "source": [
    "\n",
    "model.fit(train_features, train_y, early_stopping_rounds=100, eval_set = [(valid_features, valid_y)],\n",
    "          eval_metric = 'rmse', verbose = 200)"
   ],
   "metadata": {
    "collapsed": false,
    "pycharm": {
     "name": "#%%\n"
    }
   }
  },
  {
   "cell_type": "code",
   "execution_count": 43,
   "outputs": [
    {
     "data": {
      "text/plain": "0.9173071855441898"
     },
     "execution_count": 43,
     "metadata": {},
     "output_type": "execute_result"
    }
   ],
   "source": [
    "model.score(X_test, y_test)"
   ],
   "metadata": {
    "collapsed": false,
    "pycharm": {
     "name": "#%%\n"
    }
   }
  },
  {
   "cell_type": "code",
   "execution_count": 21,
   "outputs": [],
   "source": [
    "for i in range(2):\n",
    "\n",
    "    # Split into training and validation set\n",
    "    train_features, valid_features, train_y, valid_y = train_test_split(X, y, test_size = 0.25, random_state = i)\n",
    "\n",
    "    # Train using early stopping\n",
    "    model.fit(train_features, train_y, early_stopping_rounds=100, eval_set = [(valid_features, valid_y)],\n",
    "              eval_metric = 'rmse', verbose = 200)\n",
    "\n",
    "    # Record the feature importances\n",
    "    feature_importances += model.feature_importances_"
   ],
   "metadata": {
    "collapsed": false,
    "pycharm": {
     "name": "#%%\n"
    }
   }
  },
  {
   "cell_type": "code",
   "execution_count": 22,
   "outputs": [
    {
     "data": {
      "text/plain": "    feature  importance\n12     FLOW       491.5\n4     Distw       413.5\n1     GDP_d       359.5\n2     POP_o       306.5\n11  XPTOT_o       286.5",
      "text/html": "<div>\n<style scoped>\n    .dataframe tbody tr th:only-of-type {\n        vertical-align: middle;\n    }\n\n    .dataframe tbody tr th {\n        vertical-align: top;\n    }\n\n    .dataframe thead th {\n        text-align: right;\n    }\n</style>\n<table border=\"1\" class=\"dataframe\">\n  <thead>\n    <tr style=\"text-align: right;\">\n      <th></th>\n      <th>feature</th>\n      <th>importance</th>\n    </tr>\n  </thead>\n  <tbody>\n    <tr>\n      <th>12</th>\n      <td>FLOW</td>\n      <td>491.5</td>\n    </tr>\n    <tr>\n      <th>4</th>\n      <td>Distw</td>\n      <td>413.5</td>\n    </tr>\n    <tr>\n      <th>1</th>\n      <td>GDP_d</td>\n      <td>359.5</td>\n    </tr>\n    <tr>\n      <th>2</th>\n      <td>POP_o</td>\n      <td>306.5</td>\n    </tr>\n    <tr>\n      <th>11</th>\n      <td>XPTOT_o</td>\n      <td>286.5</td>\n    </tr>\n  </tbody>\n</table>\n</div>"
     },
     "execution_count": 22,
     "metadata": {},
     "output_type": "execute_result"
    }
   ],
   "source": [
    "feature_importances = feature_importances / 2\n",
    "feature_importances = pd.DataFrame({'feature': list(X.columns), 'importance': feature_importances}).sort_values('importance', ascending = False)\n",
    "\n",
    "feature_importances.head()"
   ],
   "metadata": {
    "collapsed": false,
    "pycharm": {
     "name": "#%%\n"
    }
   }
  },
  {
   "cell_type": "code",
   "execution_count": 23,
   "outputs": [
    {
     "name": "stdout",
     "output_type": "stream",
     "text": [
      "There are 1 features with 0.0 importance\n"
     ]
    },
    {
     "data": {
      "text/plain": "    feature  importance\n7    OECD_o        24.5\n5   Comlang        20.0\n8    OECD_d         9.5\n9    GATT_o         0.5\n10   GATT_d         0.0",
      "text/html": "<div>\n<style scoped>\n    .dataframe tbody tr th:only-of-type {\n        vertical-align: middle;\n    }\n\n    .dataframe tbody tr th {\n        vertical-align: top;\n    }\n\n    .dataframe thead th {\n        text-align: right;\n    }\n</style>\n<table border=\"1\" class=\"dataframe\">\n  <thead>\n    <tr style=\"text-align: right;\">\n      <th></th>\n      <th>feature</th>\n      <th>importance</th>\n    </tr>\n  </thead>\n  <tbody>\n    <tr>\n      <th>7</th>\n      <td>OECD_o</td>\n      <td>24.5</td>\n    </tr>\n    <tr>\n      <th>5</th>\n      <td>Comlang</td>\n      <td>20.0</td>\n    </tr>\n    <tr>\n      <th>8</th>\n      <td>OECD_d</td>\n      <td>9.5</td>\n    </tr>\n    <tr>\n      <th>9</th>\n      <td>GATT_o</td>\n      <td>0.5</td>\n    </tr>\n    <tr>\n      <th>10</th>\n      <td>GATT_d</td>\n      <td>0.0</td>\n    </tr>\n  </tbody>\n</table>\n</div>"
     },
     "execution_count": 23,
     "metadata": {},
     "output_type": "execute_result"
    }
   ],
   "source": [
    "zero_features = list(feature_importances[feature_importances['importance'] == 0.0]['feature'])\n",
    "print('There are %d features with 0.0 importance' % len(zero_features))\n",
    "feature_importances.tail()"
   ],
   "metadata": {
    "collapsed": false,
    "pycharm": {
     "name": "#%%\n"
    }
   }
  },
  {
   "cell_type": "code",
   "execution_count": 24,
   "outputs": [],
   "source": [
    "def plot_feature_importances(df, threshold = 0.9):\n",
    "    \"\"\"\n",
    "    Plots 15 most important features and the cumulative importance of features.\n",
    "    Prints the number of features needed to reach threshold cumulative importance.\n",
    "\n",
    "    Parameters\n",
    "    --------\n",
    "    df : dataframe\n",
    "        Dataframe of feature importances. Columns must be feature and importance\n",
    "    threshold : float, default = 0.9\n",
    "        Threshold for prining information about cumulative importances\n",
    "\n",
    "    Return\n",
    "    --------\n",
    "    df : dataframe\n",
    "        Dataframe ordered by feature importances with a normalized column (sums to 1)\n",
    "        and a cumulative importance column\n",
    "\n",
    "    \"\"\"\n",
    "\n",
    "    plt.rcParams['font.size'] = 18\n",
    "\n",
    "    # Sort features according to importance\n",
    "    df = df.sort_values('importance', ascending = False).reset_index()\n",
    "\n",
    "    # Normalize the feature importances to add up to one\n",
    "    df['importance_normalized'] = df['importance'] / df['importance'].sum()\n",
    "    df['cumulative_importance'] = np.cumsum(df['importance_normalized'])\n",
    "\n",
    "    # Make a horizontal bar chart of feature importances\n",
    "    plt.figure(figsize = (10, 6))\n",
    "    ax = plt.subplot()\n",
    "\n",
    "    # Need to reverse the index to plot most important on top\n",
    "    ax.barh(list(reversed(list(df.index[:15]))),\n",
    "            df['importance_normalized'].head(15),\n",
    "            align = 'center', edgecolor = 'k')\n",
    "\n",
    "    # Set the yticks and labels\n",
    "    ax.set_yticks(list(reversed(list(df.index[:15]))))\n",
    "    ax.set_yticklabels(df['feature'].head(15))\n",
    "\n",
    "    # Plot labeling\n",
    "    plt.xlabel('Normalized Importance'); plt.title('Feature Importances')\n",
    "    plt.show()\n",
    "\n",
    "    # Cumulative importance plot\n",
    "    plt.figure(figsize = (8, 6))\n",
    "    plt.plot(list(range(len(df))), df['cumulative_importance'], 'r-')\n",
    "    plt.xlabel('Number of Features'); plt.ylabel('Cumulative Importance');\n",
    "    plt.title('Cumulative Feature Importance');\n",
    "    plt.show();\n",
    "\n",
    "    importance_index = np.min(np.where(df['cumulative_importance'] > threshold))\n",
    "    print('%d features required for %0.2f of cumulative importance' % (importance_index + 1, threshold))\n",
    "\n",
    "    return df"
   ],
   "metadata": {
    "collapsed": false,
    "pycharm": {
     "name": "#%%\n"
    }
   }
  },
  {
   "cell_type": "code",
   "execution_count": 45,
   "outputs": [
    {
     "data": {
      "text/plain": "<Figure size 720x432 with 1 Axes>",
      "image/png": "[encoded data removed]"
     },
     "metadata": {
      "needs_background": "light"
     },
     "output_type": "display_data"
    },
    {
     "data": {
      "text/plain": "<Figure size 576x432 with 1 Axes>",
      "image/png": "[encoded data removed]"
     },
     "metadata": {
      "needs_background": "light"
     },
     "output_type": "display_data"
    },
    {
     "name": "stdout",
     "output_type": "stream",
     "text": [
      "9 features required for 0.90 of cumulative importance\n"
     ]
    },
    {
     "data": {
      "text/plain": "<Figure size 432x288 with 1 Axes>",
      "image/png": "[encoded data removed]"
     },
     "metadata": {
      "needs_background": "light"
     },
     "output_type": "display_data"
    }
   ],
   "source": [
    "norm_feature_importances = plot_feature_importances(feature_importances)\n",
    "plt.xlabel(\"Normalized Importance\")\n",
    "plt.ylabel(\"Features\")\n",
    "plt.title(\"Feature Importances\")\n",
    "plt.show()"
   ],
   "metadata": {
    "collapsed": false,
    "pycharm": {
     "name": "#%%\n"
    }
   }
  },
  {
   "cell_type": "markdown",
   "source": [],
   "metadata": {
    "collapsed": false,
    "pycharm": {
     "name": "#%% md\n"
    }
   }
  },
  {
   "cell_type": "code",
   "execution_count": 27,
   "outputs": [
    {
     "data": {
      "text/plain": "0.9672289423137956"
     },
     "execution_count": 27,
     "metadata": {},
     "output_type": "execute_result"
    }
   ],
   "source": [
    "model.score(X_test, y_test)"
   ],
   "metadata": {
    "collapsed": false,
    "pycharm": {
     "name": "#%%\n"
    }
   }
  },
  {
   "cell_type": "code",
   "execution_count": null,
   "outputs": [],
   "source": [],
   "metadata": {
    "collapsed": false,
    "pycharm": {
     "name": "#%%\n"
    }
   }
  }
 ],
 "metadata": {
  "kernelspec": {
   "display_name": "Python 3",
   "language": "python",
   "name": "python3"
  },
  "language_info": {
   "codemirror_mode": {
    "name": "ipython",
    "version": 2
   },
   "file_extension": ".py",
   "mimetype": "text/x-python",
   "name": "python",
   "nbconvert_exporter": "python",
   "pygments_lexer": "ipython2",
   "version": "2.7.6"
  }
 },
 "nbformat": 4,
 "nbformat_minor": 0
}