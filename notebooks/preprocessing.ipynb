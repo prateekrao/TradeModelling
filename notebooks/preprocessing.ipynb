{
 "cells": [
  {
   "cell_type": "markdown",
   "source": [],
   "metadata": {
    "collapsed": false,
    "pycharm": {
     "name": "#%% md\n"
    }
   }
  },
  {
   "cell_type": "markdown",
   "source": [
    "# Data Preprocessing"
   ],
   "metadata": {
    "collapsed": false,
    "pycharm": {
     "name": "#%% md\n"
    }
   }
  },
  {
   "cell_type": "code",
   "execution_count": 1,
   "outputs": [],
   "source": [
    "import math\n",
    "\n",
    "import numpy as np\n",
    "import pandas as pd\n",
    "import matplotlib.pyplot as plt\n",
    "import seaborn as sns"
   ],
   "metadata": {
    "collapsed": false,
    "pycharm": {
     "name": "#%%\n"
    }
   }
  },
  {
   "cell_type": "markdown",
   "source": [
    "## Data Cleaning\n",
    "\n",
    "**Scheme:**\n",
    "\n",
    "- Select a feature space where there are no missing values : Drop all values where interested numerical feature values are 0.\n",
    "- Remove all trade flows where flow is less than 100GBP (may not be economically significant and may cause outlier issues.\n",
    "- Taking a log of the data to achieve smoother distribution of the data."
   ],
   "metadata": {
    "collapsed": false,
    "pycharm": {
     "name": "#%% md\n"
    }
   }
  },
  {
   "cell_type": "markdown",
   "source": [
    "(notes)\n",
    "\n",
    "- Build visualization to show that 100 GBP is outlier -- or find outlier using boxplot ?\n",
    "- Show that log smoothens the data."
   ],
   "metadata": {
    "collapsed": false,
    "pycharm": {
     "name": "#%% md\n"
    }
   }
  },
  {
   "cell_type": "markdown",
   "source": [
    "Selection of Feature Space and Dropping of Values\n",
    ": Choosing feature space according to domain knowlegde - would be further refined by correlation analysis and other feature selection methods."
   ],
   "metadata": {
    "collapsed": false,
    "pycharm": {
     "name": "#%% md\n"
    }
   }
  },
  {
   "cell_type": "code",
   "execution_count": 2,
   "outputs": [
    {
     "name": "stderr",
     "output_type": "stream",
     "text": [
      "/var/folders/qc/xp9q1kcj79315fgc2jdgwtv00000gn/T/ipykernel_20068/115515687.py:3: DtypeWarning: Columns (8,12,14,21,24,28,33,45,46,51) have mixed types. Specify dtype option on import or set low_memory=False.\n",
      "  df = pd.read_csv(data_path)\n"
     ]
    }
   ],
   "source": [
    "data_path = \"/Users/prateekrao/Prateek/Repos/TradeModelling/dataset/tradhist.csv\"\n",
    "\n",
    "df = pd.read_csv(data_path)"
   ],
   "metadata": {
    "collapsed": false,
    "pycharm": {
     "name": "#%%\n"
    }
   }
  },
  {
   "cell_type": "code",
   "execution_count": 8,
   "outputs": [
    {
     "data": {
      "text/plain": "   Unnamed: 0 iso_o iso_d  year  FLOW  FLOW_0 SOURCE_TF  GDP_o SOURCE_GDP_o  \\\n0           0   NaN  ADEN  1950   NaN     NaN       NaN    NaN          NaN   \n1           1   NaN  ADEN  1951   NaN     NaN       NaN    NaN          NaN   \n2           2   NaN  ADEN  1952   NaN     NaN       NaN    NaN          NaN   \n3           3   NaN  ADEN  1953   NaN     NaN       NaN    NaN          NaN   \n4           4   NaN  ADEN  1954   NaN     NaN       NaN    NaN          NaN   \n\n   GDP_d  ... CONTI_o  CONTI_d REGIO_o  REGIO_d OECD_o  OECD_d EU_o  EU_d  \\\n0    NaN  ...     NaN     ASIA     NaN   MIDEST    NaN     NaN  NaN   NaN   \n1    NaN  ...     NaN     ASIA     NaN   MIDEST    NaN     NaN  NaN   NaN   \n2    NaN  ...     NaN     ASIA     NaN   MIDEST    NaN     NaN  NaN   NaN   \n3    NaN  ...     NaN     ASIA     NaN   MIDEST    NaN     NaN  NaN   NaN   \n4    NaN  ...     NaN     ASIA     NaN   MIDEST    NaN     NaN  NaN   NaN   \n\n  GATT_o  GATT_d  \n0    NaN     NaN  \n1    NaN     NaN  \n2    NaN     NaN  \n3    NaN     NaN  \n4    NaN     NaN  \n\n[5 rows x 64 columns]",
      "text/html": "<div>\n<style scoped>\n    .dataframe tbody tr th:only-of-type {\n        vertical-align: middle;\n    }\n\n    .dataframe tbody tr th {\n        vertical-align: top;\n    }\n\n    .dataframe thead th {\n        text-align: right;\n    }\n</style>\n<table border=\"1\" class=\"dataframe\">\n  <thead>\n    <tr style=\"text-align: right;\">\n      <th></th>\n      <th>Unnamed: 0</th>\n      <th>iso_o</th>\n      <th>iso_d</th>\n      <th>year</th>\n      <th>FLOW</th>\n      <th>FLOW_0</th>\n      <th>SOURCE_TF</th>\n      <th>GDP_o</th>\n      <th>SOURCE_GDP_o</th>\n      <th>GDP_d</th>\n      <th>...</th>\n      <th>CONTI_o</th>\n      <th>CONTI_d</th>\n      <th>REGIO_o</th>\n      <th>REGIO_d</th>\n      <th>OECD_o</th>\n      <th>OECD_d</th>\n      <th>EU_o</th>\n      <th>EU_d</th>\n      <th>GATT_o</th>\n      <th>GATT_d</th>\n    </tr>\n  </thead>\n  <tbody>\n    <tr>\n      <th>0</th>\n      <td>0</td>\n      <td>NaN</td>\n      <td>ADEN</td>\n      <td>1950</td>\n      <td>NaN</td>\n      <td>NaN</td>\n      <td>NaN</td>\n      <td>NaN</td>\n      <td>NaN</td>\n      <td>NaN</td>\n      <td>...</td>\n      <td>NaN</td>\n      <td>ASIA</td>\n      <td>NaN</td>\n      <td>MIDEST</td>\n      <td>NaN</td>\n      <td>NaN</td>\n      <td>NaN</td>\n      <td>NaN</td>\n      <td>NaN</td>\n      <td>NaN</td>\n    </tr>\n    <tr>\n      <th>1</th>\n      <td>1</td>\n      <td>NaN</td>\n      <td>ADEN</td>\n      <td>1951</td>\n      <td>NaN</td>\n      <td>NaN</td>\n      <td>NaN</td>\n      <td>NaN</td>\n      <td>NaN</td>\n      <td>NaN</td>\n      <td>...</td>\n      <td>NaN</td>\n      <td>ASIA</td>\n      <td>NaN</td>\n      <td>MIDEST</td>\n      <td>NaN</td>\n      <td>NaN</td>\n      <td>NaN</td>\n      <td>NaN</td>\n      <td>NaN</td>\n      <td>NaN</td>\n    </tr>\n    <tr>\n      <th>2</th>\n      <td>2</td>\n      <td>NaN</td>\n      <td>ADEN</td>\n      <td>1952</td>\n      <td>NaN</td>\n      <td>NaN</td>\n      <td>NaN</td>\n      <td>NaN</td>\n      <td>NaN</td>\n      <td>NaN</td>\n      <td>...</td>\n      <td>NaN</td>\n      <td>ASIA</td>\n      <td>NaN</td>\n      <td>MIDEST</td>\n      <td>NaN</td>\n      <td>NaN</td>\n      <td>NaN</td>\n      <td>NaN</td>\n      <td>NaN</td>\n      <td>NaN</td>\n    </tr>\n    <tr>\n      <th>3</th>\n      <td>3</td>\n      <td>NaN</td>\n      <td>ADEN</td>\n      <td>1953</td>\n      <td>NaN</td>\n      <td>NaN</td>\n      <td>NaN</td>\n      <td>NaN</td>\n      <td>NaN</td>\n      <td>NaN</td>\n      <td>...</td>\n      <td>NaN</td>\n      <td>ASIA</td>\n      <td>NaN</td>\n      <td>MIDEST</td>\n      <td>NaN</td>\n      <td>NaN</td>\n      <td>NaN</td>\n      <td>NaN</td>\n      <td>NaN</td>\n      <td>NaN</td>\n    </tr>\n    <tr>\n      <th>4</th>\n      <td>4</td>\n      <td>NaN</td>\n      <td>ADEN</td>\n      <td>1954</td>\n      <td>NaN</td>\n      <td>NaN</td>\n      <td>NaN</td>\n      <td>NaN</td>\n      <td>NaN</td>\n      <td>NaN</td>\n      <td>...</td>\n      <td>NaN</td>\n      <td>ASIA</td>\n      <td>NaN</td>\n      <td>MIDEST</td>\n      <td>NaN</td>\n      <td>NaN</td>\n      <td>NaN</td>\n      <td>NaN</td>\n      <td>NaN</td>\n      <td>NaN</td>\n    </tr>\n  </tbody>\n</table>\n<p>5 rows × 64 columns</p>\n</div>"
     },
     "execution_count": 8,
     "metadata": {},
     "output_type": "execute_result"
    }
   ],
   "source": [
    "df.head(5)"
   ],
   "metadata": {
    "collapsed": false,
    "pycharm": {
     "name": "#%%\n"
    }
   }
  },
  {
   "cell_type": "code",
   "execution_count": 9,
   "outputs": [
    {
     "data": {
      "text/plain": "Index(['Unnamed: 0', 'iso_o', 'iso_d', 'year', 'FLOW', 'FLOW_0', 'SOURCE_TF',\n       'GDP_o', 'SOURCE_GDP_o', 'GDP_d', 'SOURCE_GDP_d', 'SH_PRIM_o',\n       'SOURCE_SH_PRIM_o', 'SH_SECD_o', 'SOURCE_SH_SECD_o', 'SH_PRIM_d',\n       'SOURCE_SH_PRIM_d', 'SH_SECD_d', 'SOURCE_SH_SECD_d', 'POP_o', 'POP_d',\n       'SOURCE_POP_o', 'SOURCE_POP_d', 'IPTOT_o', 'SOURCE_IPTOT_o', 'IPTOT_d',\n       'SOURCE_IPTOT_d', 'XPTOT_o', 'SOURCE_XPTOT_o', 'XPTOT_d',\n       'SOURCE_XPTOT_d', 'BITARIFF', 'TARIFF_o', 'SOURCE_TARIFF_o', 'TARIFF_d',\n       'SOURCE_TARIFF_d', 'Distw', 'Dist_coord', 'Dist_o', 'Dist_d',\n       'SeaDist_SHRT', 'SeaDist_2CST', 'Comlang', 'Contig', 'Curcol', 'Metro',\n       'Colo', 'Curcol_o', 'Curcol_d', 'Evercol', 'XCH_RATE_o', 'SOURCE_XCH_o',\n       'XCH_RATE_d', 'SOURCE_XCH_d', 'CONTI_o', 'CONTI_d', 'REGIO_o',\n       'REGIO_d', 'OECD_o', 'OECD_d', 'EU_o', 'EU_d', 'GATT_o', 'GATT_d'],\n      dtype='object')"
     },
     "execution_count": 9,
     "metadata": {},
     "output_type": "execute_result"
    }
   ],
   "source": [
    "df.columns"
   ],
   "metadata": {
    "collapsed": false,
    "pycharm": {
     "name": "#%%\n"
    }
   }
  },
  {
   "cell_type": "markdown",
   "source": [
    "For the initial preprocessing step of selection of feature space, we will take up many attributes, and narrow it down after correlation analysis and fitting models to find best features."
   ],
   "metadata": {
    "collapsed": false,
    "pycharm": {
     "name": "#%% md\n"
    }
   }
  },
  {
   "cell_type": "code",
   "execution_count": 16,
   "outputs": [
    {
     "data": {
      "text/plain": "Unnamed: 0        91283\niso_o               ATG\niso_d               BMU\nyear               1995\nFLOW          1205521.8\n                ...    \nOECD_d              0.0\nEU_o                0.0\nEU_d                0.0\nGATT_o              1.0\nGATT_d              0.0\nName: 91283, Length: 64, dtype: object"
     },
     "execution_count": 16,
     "metadata": {},
     "output_type": "execute_result"
    }
   ],
   "source": [
    "df.iloc[91283]"
   ],
   "metadata": {
    "collapsed": false,
    "pycharm": {
     "name": "#%%\n"
    }
   }
  },
  {
   "cell_type": "code",
   "execution_count": 46,
   "outputs": [],
   "source": [
    "feature_df = df[[\"iso_o\", \"iso_d\", \"year\", \"FLOW\", \"GDP_o\", \"GDP_d\", \"IPTOT_o\", \"IPTOT_d\",\n",
    "                       \"XPTOT_o\", \"XPTOT_d\", \"Distw\", \"Dist_coord\", \"SeaDist_SHRT\",\n",
    "                        \"Comlang\", \"Contig\", \"POP_o\", \"POP_d\",\"OECD_o\", \"OECD_d\", \"GATT_o\", \"GATT_d\", \"CONTI_o\", \"CONTI_d\"]]"
   ],
   "metadata": {
    "collapsed": false,
    "pycharm": {
     "name": "#%%\n"
    }
   }
  },
  {
   "cell_type": "code",
   "execution_count": 47,
   "outputs": [
    {
     "data": {
      "text/plain": "        iso_o iso_d  year        FLOW         GDP_o         GDP_d  \\\n0         NaN  ADEN  1950         NaN           NaN           NaN   \n1         NaN  ADEN  1951         NaN           NaN           NaN   \n2         NaN  ADEN  1952         NaN           NaN           NaN   \n3         NaN  ADEN  1953         NaN           NaN           NaN   \n4         NaN  ADEN  1954         NaN           NaN           NaN   \n...       ...   ...   ...         ...           ...           ...   \n2502422   ZWE   ZMB  2010  46558256.0  6.097825e+09  1.311544e+10   \n2502423   ZWE   ZMB  2011  55171376.0  6.838230e+09  1.464204e+10   \n2502424   ZWE   ZMB  2012  58787336.0  7.845171e+09  1.614464e+10   \n2502425   ZWE   ZMB  2013  77869780.0  8.629172e+09  1.793963e+10   \n2502426   ZWE   ZMB  2014  62405360.0  8.627889e+09  1.649053e+10   \n\n              IPTOT_o       IPTOT_d       XPTOT_o       XPTOT_d  ...  Comlang  \\\n0                 NaN  4.200000e+07           NaN  3.900000e+07  ...      NaN   \n1                 NaN  5.000000e+07           NaN  4.500000e+07  ...      NaN   \n2                 NaN  5.700000e+07           NaN  4.600000e+07  ...      NaN   \n3                 NaN  6.100000e+07           NaN  4.100000e+07  ...      NaN   \n4                 NaN  6.700000e+07           NaN  4.500000e+07  ...      NaN   \n...               ...           ...           ...           ...  ...      ...   \n2502422  2.673542e+09  3.442585e+09  2.070475e+09  4.636377e+09  ...      1.0   \n2502423  3.097955e+09  4.543546e+09  2.192061e+09  5.510135e+09  ...      1.0   \n2502424  3.321382e+09  5.562818e+09  2.457760e+09  5.922680e+09  ...      1.0   \n2502425  3.244361e+09  6.515267e+09  2.243481e+09  6.770876e+09  ...      1.0   \n2502426  2.983128e+09  5.899204e+09  2.089376e+09  5.890915e+09  ...      1.0   \n\n         Contig      POP_o      POP_d  OECD_o  OECD_d  GATT_o  GATT_d  \\\n0           NaN        NaN   4777.089     NaN     NaN     NaN     NaN   \n1           NaN        NaN   4869.125     NaN     NaN     NaN     NaN   \n2           NaN        NaN   4963.829     NaN     NaN     NaN     NaN   \n3           NaN        NaN   5061.153     NaN     NaN     NaN     NaN   \n4           NaN        NaN   5162.494     NaN     NaN     NaN     NaN   \n...         ...        ...        ...     ...     ...     ...     ...   \n2502422     1.0  13973.897  13917.439     0.0     0.0     1.0     1.0   \n2502423     1.0  14255.592  14343.526     0.0     0.0     1.0     1.0   \n2502424     1.0  14565.482  14786.581     0.0     0.0     1.0     1.0   \n2502425     1.0  14898.092  15246.086     0.0     0.0     1.0     1.0   \n2502426     1.0  15245.855  15721.343     0.0     0.0     1.0     1.0   \n\n         CONTI_o  CONTI_d  \n0            NaN     ASIA  \n1            NaN     ASIA  \n2            NaN     ASIA  \n3            NaN     ASIA  \n4            NaN     ASIA  \n...          ...      ...  \n2502422     AFRI     AFRI  \n2502423     AFRI     AFRI  \n2502424     AFRI     AFRI  \n2502425     AFRI     AFRI  \n2502426     AFRI     AFRI  \n\n[2502427 rows x 23 columns]",
      "text/html": "<div>\n<style scoped>\n    .dataframe tbody tr th:only-of-type {\n        vertical-align: middle;\n    }\n\n    .dataframe tbody tr th {\n        vertical-align: top;\n    }\n\n    .dataframe thead th {\n        text-align: right;\n    }\n</style>\n<table border=\"1\" class=\"dataframe\">\n  <thead>\n    <tr style=\"text-align: right;\">\n      <th></th>\n      <th>iso_o</th>\n      <th>iso_d</th>\n      <th>year</th>\n      <th>FLOW</th>\n      <th>GDP_o</th>\n      <th>GDP_d</th>\n      <th>IPTOT_o</th>\n      <th>IPTOT_d</th>\n      <th>XPTOT_o</th>\n      <th>XPTOT_d</th>\n      <th>...</th>\n      <th>Comlang</th>\n      <th>Contig</th>\n      <th>POP_o</th>\n      <th>POP_d</th>\n      <th>OECD_o</th>\n      <th>OECD_d</th>\n      <th>GATT_o</th>\n      <th>GATT_d</th>\n      <th>CONTI_o</th>\n      <th>CONTI_d</th>\n    </tr>\n  </thead>\n  <tbody>\n    <tr>\n      <th>0</th>\n      <td>NaN</td>\n      <td>ADEN</td>\n      <td>1950</td>\n      <td>NaN</td>\n      <td>NaN</td>\n      <td>NaN</td>\n      <td>NaN</td>\n      <td>4.200000e+07</td>\n      <td>NaN</td>\n      <td>3.900000e+07</td>\n      <td>...</td>\n      <td>NaN</td>\n      <td>NaN</td>\n      <td>NaN</td>\n      <td>4777.089</td>\n      <td>NaN</td>\n      <td>NaN</td>\n      <td>NaN</td>\n      <td>NaN</td>\n      <td>NaN</td>\n      <td>ASIA</td>\n    </tr>\n    <tr>\n      <th>1</th>\n      <td>NaN</td>\n      <td>ADEN</td>\n      <td>1951</td>\n      <td>NaN</td>\n      <td>NaN</td>\n      <td>NaN</td>\n      <td>NaN</td>\n      <td>5.000000e+07</td>\n      <td>NaN</td>\n      <td>4.500000e+07</td>\n      <td>...</td>\n      <td>NaN</td>\n      <td>NaN</td>\n      <td>NaN</td>\n      <td>4869.125</td>\n      <td>NaN</td>\n      <td>NaN</td>\n      <td>NaN</td>\n      <td>NaN</td>\n      <td>NaN</td>\n      <td>ASIA</td>\n    </tr>\n    <tr>\n      <th>2</th>\n      <td>NaN</td>\n      <td>ADEN</td>\n      <td>1952</td>\n      <td>NaN</td>\n      <td>NaN</td>\n      <td>NaN</td>\n      <td>NaN</td>\n      <td>5.700000e+07</td>\n      <td>NaN</td>\n      <td>4.600000e+07</td>\n      <td>...</td>\n      <td>NaN</td>\n      <td>NaN</td>\n      <td>NaN</td>\n      <td>4963.829</td>\n      <td>NaN</td>\n      <td>NaN</td>\n      <td>NaN</td>\n      <td>NaN</td>\n      <td>NaN</td>\n      <td>ASIA</td>\n    </tr>\n    <tr>\n      <th>3</th>\n      <td>NaN</td>\n      <td>ADEN</td>\n      <td>1953</td>\n      <td>NaN</td>\n      <td>NaN</td>\n      <td>NaN</td>\n      <td>NaN</td>\n      <td>6.100000e+07</td>\n      <td>NaN</td>\n      <td>4.100000e+07</td>\n      <td>...</td>\n      <td>NaN</td>\n      <td>NaN</td>\n      <td>NaN</td>\n      <td>5061.153</td>\n      <td>NaN</td>\n      <td>NaN</td>\n      <td>NaN</td>\n      <td>NaN</td>\n      <td>NaN</td>\n      <td>ASIA</td>\n    </tr>\n    <tr>\n      <th>4</th>\n      <td>NaN</td>\n      <td>ADEN</td>\n      <td>1954</td>\n      <td>NaN</td>\n      <td>NaN</td>\n      <td>NaN</td>\n      <td>NaN</td>\n      <td>6.700000e+07</td>\n      <td>NaN</td>\n      <td>4.500000e+07</td>\n      <td>...</td>\n      <td>NaN</td>\n      <td>NaN</td>\n      <td>NaN</td>\n      <td>5162.494</td>\n      <td>NaN</td>\n      <td>NaN</td>\n      <td>NaN</td>\n      <td>NaN</td>\n      <td>NaN</td>\n      <td>ASIA</td>\n    </tr>\n    <tr>\n      <th>...</th>\n      <td>...</td>\n      <td>...</td>\n      <td>...</td>\n      <td>...</td>\n      <td>...</td>\n      <td>...</td>\n      <td>...</td>\n      <td>...</td>\n      <td>...</td>\n      <td>...</td>\n      <td>...</td>\n      <td>...</td>\n      <td>...</td>\n      <td>...</td>\n      <td>...</td>\n      <td>...</td>\n      <td>...</td>\n      <td>...</td>\n      <td>...</td>\n      <td>...</td>\n      <td>...</td>\n    </tr>\n    <tr>\n      <th>2502422</th>\n      <td>ZWE</td>\n      <td>ZMB</td>\n      <td>2010</td>\n      <td>46558256.0</td>\n      <td>6.097825e+09</td>\n      <td>1.311544e+10</td>\n      <td>2.673542e+09</td>\n      <td>3.442585e+09</td>\n      <td>2.070475e+09</td>\n      <td>4.636377e+09</td>\n      <td>...</td>\n      <td>1.0</td>\n      <td>1.0</td>\n      <td>13973.897</td>\n      <td>13917.439</td>\n      <td>0.0</td>\n      <td>0.0</td>\n      <td>1.0</td>\n      <td>1.0</td>\n      <td>AFRI</td>\n      <td>AFRI</td>\n    </tr>\n    <tr>\n      <th>2502423</th>\n      <td>ZWE</td>\n      <td>ZMB</td>\n      <td>2011</td>\n      <td>55171376.0</td>\n      <td>6.838230e+09</td>\n      <td>1.464204e+10</td>\n      <td>3.097955e+09</td>\n      <td>4.543546e+09</td>\n      <td>2.192061e+09</td>\n      <td>5.510135e+09</td>\n      <td>...</td>\n      <td>1.0</td>\n      <td>1.0</td>\n      <td>14255.592</td>\n      <td>14343.526</td>\n      <td>0.0</td>\n      <td>0.0</td>\n      <td>1.0</td>\n      <td>1.0</td>\n      <td>AFRI</td>\n      <td>AFRI</td>\n    </tr>\n    <tr>\n      <th>2502424</th>\n      <td>ZWE</td>\n      <td>ZMB</td>\n      <td>2012</td>\n      <td>58787336.0</td>\n      <td>7.845171e+09</td>\n      <td>1.614464e+10</td>\n      <td>3.321382e+09</td>\n      <td>5.562818e+09</td>\n      <td>2.457760e+09</td>\n      <td>5.922680e+09</td>\n      <td>...</td>\n      <td>1.0</td>\n      <td>1.0</td>\n      <td>14565.482</td>\n      <td>14786.581</td>\n      <td>0.0</td>\n      <td>0.0</td>\n      <td>1.0</td>\n      <td>1.0</td>\n      <td>AFRI</td>\n      <td>AFRI</td>\n    </tr>\n    <tr>\n      <th>2502425</th>\n      <td>ZWE</td>\n      <td>ZMB</td>\n      <td>2013</td>\n      <td>77869780.0</td>\n      <td>8.629172e+09</td>\n      <td>1.793963e+10</td>\n      <td>3.244361e+09</td>\n      <td>6.515267e+09</td>\n      <td>2.243481e+09</td>\n      <td>6.770876e+09</td>\n      <td>...</td>\n      <td>1.0</td>\n      <td>1.0</td>\n      <td>14898.092</td>\n      <td>15246.086</td>\n      <td>0.0</td>\n      <td>0.0</td>\n      <td>1.0</td>\n      <td>1.0</td>\n      <td>AFRI</td>\n      <td>AFRI</td>\n    </tr>\n    <tr>\n      <th>2502426</th>\n      <td>ZWE</td>\n      <td>ZMB</td>\n      <td>2014</td>\n      <td>62405360.0</td>\n      <td>8.627889e+09</td>\n      <td>1.649053e+10</td>\n      <td>2.983128e+09</td>\n      <td>5.899204e+09</td>\n      <td>2.089376e+09</td>\n      <td>5.890915e+09</td>\n      <td>...</td>\n      <td>1.0</td>\n      <td>1.0</td>\n      <td>15245.855</td>\n      <td>15721.343</td>\n      <td>0.0</td>\n      <td>0.0</td>\n      <td>1.0</td>\n      <td>1.0</td>\n      <td>AFRI</td>\n      <td>AFRI</td>\n    </tr>\n  </tbody>\n</table>\n<p>2502427 rows × 23 columns</p>\n</div>"
     },
     "execution_count": 47,
     "metadata": {},
     "output_type": "execute_result"
    }
   ],
   "source": [
    "feature_df"
   ],
   "metadata": {
    "collapsed": false,
    "pycharm": {
     "name": "#%%\n"
    }
   }
  },
  {
   "cell_type": "markdown",
   "source": [
    "As observed above, we have 25,02,427 instances of trade, ranging from 1827 - 2014.\n",
    "Here, we will eliminate data instances where some of the main features, such as `iso_o`, `iso_d`, etc. are NULL, since we can't predict anything about this."
   ],
   "metadata": {
    "collapsed": false,
    "pycharm": {
     "name": "#%% md\n"
    }
   }
  },
  {
   "cell_type": "code",
   "execution_count": 48,
   "outputs": [
    {
     "data": {
      "text/plain": "        iso_o iso_d  year  FLOW        GDP_o        GDP_d      IPTOT_o  \\\n0         NaN  ADEN  1950   NaN          NaN          NaN          NaN   \n1         NaN  ADEN  1951   NaN          NaN          NaN          NaN   \n2         NaN  ADEN  1952   NaN          NaN          NaN          NaN   \n3         NaN  ADEN  1953   NaN          NaN          NaN          NaN   \n4         NaN  ADEN  1954   NaN          NaN          NaN          NaN   \n...       ...   ...   ...   ...          ...          ...          ...   \n2502371   ZWE   ZMB  1959   NaN  351250020.0  189500000.0  150000000.0   \n2502372   ZWE   ZMB  1960   NaN  376250000.0  209500000.0  157000000.0   \n2502373   ZWE   ZMB  1961   NaN  397500000.0  203000000.0  155000000.0   \n2502374   ZWE   ZMB  1962   NaN  405000000.0  200500000.0  143000000.0   \n2502375   ZWE   ZMB  1963   NaN  437500000.0  210000000.0  135000000.0   \n\n            IPTOT_d     XPTOT_o      XPTOT_d  ...  Comlang  Contig     POP_o  \\\n0        42000000.0         NaN   39000000.0  ...      NaN     NaN       NaN   \n1        50000000.0         NaN   45000000.0  ...      NaN     NaN       NaN   \n2        57000000.0         NaN   46000000.0  ...      NaN     NaN       NaN   \n3        61000000.0         NaN   41000000.0  ...      NaN     NaN       NaN   \n4        67000000.0         NaN   45000000.0  ...      NaN     NaN       NaN   \n...             ...         ...          ...  ...      ...     ...       ...   \n2502371         NaN  57000000.0  117500000.0  ...      1.0     1.0  3886.947   \n2502372  75000030.0  61785740.0  129285770.0  ...      1.0     1.0  3752.390   \n2502373  81428610.0  71428600.0  119642910.0  ...      1.0     1.0  3876.638   \n2502374  62500028.0  72857176.0  119642910.0  ...      1.0     1.0  4006.262   \n2502375  58571456.0  75000030.0  128928630.0  ...      1.0     1.0  4140.804   \n\n            POP_d  OECD_o  OECD_d  GATT_o  GATT_d  CONTI_o  CONTI_d  \n0        4777.089     NaN     NaN     NaN     NaN      NaN     ASIA  \n1        4869.125     NaN     NaN     NaN     NaN      NaN     ASIA  \n2        4963.829     NaN     NaN     NaN     NaN      NaN     ASIA  \n3        5061.153     NaN     NaN     NaN     NaN      NaN     ASIA  \n4        5162.494     NaN     NaN     NaN     NaN      NaN     ASIA  \n...           ...     ...     ...     ...     ...      ...      ...  \n2502371  3173.000     NaN     NaN     1.0     0.0     AFRI     AFRI  \n2502372  3049.586     NaN     NaN     1.0     0.0     AFRI     AFRI  \n2502373  3142.848     0.0     0.0     1.0     0.0     AFRI     AFRI  \n2502374  3240.664     0.0     0.0     1.0     0.0     AFRI     AFRI  \n2502375  3342.894     0.0     0.0     1.0     0.0     AFRI     AFRI  \n\n[602737 rows x 23 columns]",
      "text/html": "<div>\n<style scoped>\n    .dataframe tbody tr th:only-of-type {\n        vertical-align: middle;\n    }\n\n    .dataframe tbody tr th {\n        vertical-align: top;\n    }\n\n    .dataframe thead th {\n        text-align: right;\n    }\n</style>\n<table border=\"1\" class=\"dataframe\">\n  <thead>\n    <tr style=\"text-align: right;\">\n      <th></th>\n      <th>iso_o</th>\n      <th>iso_d</th>\n      <th>year</th>\n      <th>FLOW</th>\n      <th>GDP_o</th>\n      <th>GDP_d</th>\n      <th>IPTOT_o</th>\n      <th>IPTOT_d</th>\n      <th>XPTOT_o</th>\n      <th>XPTOT_d</th>\n      <th>...</th>\n      <th>Comlang</th>\n      <th>Contig</th>\n      <th>POP_o</th>\n      <th>POP_d</th>\n      <th>OECD_o</th>\n      <th>OECD_d</th>\n      <th>GATT_o</th>\n      <th>GATT_d</th>\n      <th>CONTI_o</th>\n      <th>CONTI_d</th>\n    </tr>\n  </thead>\n  <tbody>\n    <tr>\n      <th>0</th>\n      <td>NaN</td>\n      <td>ADEN</td>\n      <td>1950</td>\n      <td>NaN</td>\n      <td>NaN</td>\n      <td>NaN</td>\n      <td>NaN</td>\n      <td>42000000.0</td>\n      <td>NaN</td>\n      <td>39000000.0</td>\n      <td>...</td>\n      <td>NaN</td>\n      <td>NaN</td>\n      <td>NaN</td>\n      <td>4777.089</td>\n      <td>NaN</td>\n      <td>NaN</td>\n      <td>NaN</td>\n      <td>NaN</td>\n      <td>NaN</td>\n      <td>ASIA</td>\n    </tr>\n    <tr>\n      <th>1</th>\n      <td>NaN</td>\n      <td>ADEN</td>\n      <td>1951</td>\n      <td>NaN</td>\n      <td>NaN</td>\n      <td>NaN</td>\n      <td>NaN</td>\n      <td>50000000.0</td>\n      <td>NaN</td>\n      <td>45000000.0</td>\n      <td>...</td>\n      <td>NaN</td>\n      <td>NaN</td>\n      <td>NaN</td>\n      <td>4869.125</td>\n      <td>NaN</td>\n      <td>NaN</td>\n      <td>NaN</td>\n      <td>NaN</td>\n      <td>NaN</td>\n      <td>ASIA</td>\n    </tr>\n    <tr>\n      <th>2</th>\n      <td>NaN</td>\n      <td>ADEN</td>\n      <td>1952</td>\n      <td>NaN</td>\n      <td>NaN</td>\n      <td>NaN</td>\n      <td>NaN</td>\n      <td>57000000.0</td>\n      <td>NaN</td>\n      <td>46000000.0</td>\n      <td>...</td>\n      <td>NaN</td>\n      <td>NaN</td>\n      <td>NaN</td>\n      <td>4963.829</td>\n      <td>NaN</td>\n      <td>NaN</td>\n      <td>NaN</td>\n      <td>NaN</td>\n      <td>NaN</td>\n      <td>ASIA</td>\n    </tr>\n    <tr>\n      <th>3</th>\n      <td>NaN</td>\n      <td>ADEN</td>\n      <td>1953</td>\n      <td>NaN</td>\n      <td>NaN</td>\n      <td>NaN</td>\n      <td>NaN</td>\n      <td>61000000.0</td>\n      <td>NaN</td>\n      <td>41000000.0</td>\n      <td>...</td>\n      <td>NaN</td>\n      <td>NaN</td>\n      <td>NaN</td>\n      <td>5061.153</td>\n      <td>NaN</td>\n      <td>NaN</td>\n      <td>NaN</td>\n      <td>NaN</td>\n      <td>NaN</td>\n      <td>ASIA</td>\n    </tr>\n    <tr>\n      <th>4</th>\n      <td>NaN</td>\n      <td>ADEN</td>\n      <td>1954</td>\n      <td>NaN</td>\n      <td>NaN</td>\n      <td>NaN</td>\n      <td>NaN</td>\n      <td>67000000.0</td>\n      <td>NaN</td>\n      <td>45000000.0</td>\n      <td>...</td>\n      <td>NaN</td>\n      <td>NaN</td>\n      <td>NaN</td>\n      <td>5162.494</td>\n      <td>NaN</td>\n      <td>NaN</td>\n      <td>NaN</td>\n      <td>NaN</td>\n      <td>NaN</td>\n      <td>ASIA</td>\n    </tr>\n    <tr>\n      <th>...</th>\n      <td>...</td>\n      <td>...</td>\n      <td>...</td>\n      <td>...</td>\n      <td>...</td>\n      <td>...</td>\n      <td>...</td>\n      <td>...</td>\n      <td>...</td>\n      <td>...</td>\n      <td>...</td>\n      <td>...</td>\n      <td>...</td>\n      <td>...</td>\n      <td>...</td>\n      <td>...</td>\n      <td>...</td>\n      <td>...</td>\n      <td>...</td>\n      <td>...</td>\n      <td>...</td>\n    </tr>\n    <tr>\n      <th>2502371</th>\n      <td>ZWE</td>\n      <td>ZMB</td>\n      <td>1959</td>\n      <td>NaN</td>\n      <td>351250020.0</td>\n      <td>189500000.0</td>\n      <td>150000000.0</td>\n      <td>NaN</td>\n      <td>57000000.0</td>\n      <td>117500000.0</td>\n      <td>...</td>\n      <td>1.0</td>\n      <td>1.0</td>\n      <td>3886.947</td>\n      <td>3173.000</td>\n      <td>NaN</td>\n      <td>NaN</td>\n      <td>1.0</td>\n      <td>0.0</td>\n      <td>AFRI</td>\n      <td>AFRI</td>\n    </tr>\n    <tr>\n      <th>2502372</th>\n      <td>ZWE</td>\n      <td>ZMB</td>\n      <td>1960</td>\n      <td>NaN</td>\n      <td>376250000.0</td>\n      <td>209500000.0</td>\n      <td>157000000.0</td>\n      <td>75000030.0</td>\n      <td>61785740.0</td>\n      <td>129285770.0</td>\n      <td>...</td>\n      <td>1.0</td>\n      <td>1.0</td>\n      <td>3752.390</td>\n      <td>3049.586</td>\n      <td>NaN</td>\n      <td>NaN</td>\n      <td>1.0</td>\n      <td>0.0</td>\n      <td>AFRI</td>\n      <td>AFRI</td>\n    </tr>\n    <tr>\n      <th>2502373</th>\n      <td>ZWE</td>\n      <td>ZMB</td>\n      <td>1961</td>\n      <td>NaN</td>\n      <td>397500000.0</td>\n      <td>203000000.0</td>\n      <td>155000000.0</td>\n      <td>81428610.0</td>\n      <td>71428600.0</td>\n      <td>119642910.0</td>\n      <td>...</td>\n      <td>1.0</td>\n      <td>1.0</td>\n      <td>3876.638</td>\n      <td>3142.848</td>\n      <td>0.0</td>\n      <td>0.0</td>\n      <td>1.0</td>\n      <td>0.0</td>\n      <td>AFRI</td>\n      <td>AFRI</td>\n    </tr>\n    <tr>\n      <th>2502374</th>\n      <td>ZWE</td>\n      <td>ZMB</td>\n      <td>1962</td>\n      <td>NaN</td>\n      <td>405000000.0</td>\n      <td>200500000.0</td>\n      <td>143000000.0</td>\n      <td>62500028.0</td>\n      <td>72857176.0</td>\n      <td>119642910.0</td>\n      <td>...</td>\n      <td>1.0</td>\n      <td>1.0</td>\n      <td>4006.262</td>\n      <td>3240.664</td>\n      <td>0.0</td>\n      <td>0.0</td>\n      <td>1.0</td>\n      <td>0.0</td>\n      <td>AFRI</td>\n      <td>AFRI</td>\n    </tr>\n    <tr>\n      <th>2502375</th>\n      <td>ZWE</td>\n      <td>ZMB</td>\n      <td>1963</td>\n      <td>NaN</td>\n      <td>437500000.0</td>\n      <td>210000000.0</td>\n      <td>135000000.0</td>\n      <td>58571456.0</td>\n      <td>75000030.0</td>\n      <td>128928630.0</td>\n      <td>...</td>\n      <td>1.0</td>\n      <td>1.0</td>\n      <td>4140.804</td>\n      <td>3342.894</td>\n      <td>0.0</td>\n      <td>0.0</td>\n      <td>1.0</td>\n      <td>0.0</td>\n      <td>AFRI</td>\n      <td>AFRI</td>\n    </tr>\n  </tbody>\n</table>\n<p>602737 rows × 23 columns</p>\n</div>"
     },
     "execution_count": 48,
     "metadata": {},
     "output_type": "execute_result"
    }
   ],
   "source": [
    "feature_df[pd.isna(feature_df[\"FLOW\"])]"
   ],
   "metadata": {
    "collapsed": false,
    "pycharm": {
     "name": "#%%\n"
    }
   }
  },
  {
   "cell_type": "markdown",
   "source": [
    "About 602k values don't have any value associated with `FLOW`, which is our target variable. Hence, we will remove these from the dataframe. We also don't have any use of values where `iso_o` and `iso_d` are NULL, hence we will remove this as well."
   ],
   "metadata": {
    "collapsed": false,
    "pycharm": {
     "name": "#%% md\n"
    }
   }
  },
  {
   "cell_type": "code",
   "execution_count": 50,
   "outputs": [],
   "source": [
    "cleaned_df = feature_df.dropna()"
   ],
   "metadata": {
    "collapsed": false,
    "pycharm": {
     "name": "#%%\n"
    }
   }
  },
  {
   "cell_type": "code",
   "execution_count": 51,
   "outputs": [
    {
     "data": {
      "text/plain": "        iso_o iso_d  year          FLOW         GDP_o         GDP_d  \\\n9517      AFG   ALB  2001  0.000000e+00  1.710009e+09  2.820826e+09   \n9518      AFG   ALB  2002  0.000000e+00  2.754842e+09  2.959186e+09   \n9519      AFG   ALB  2003  0.000000e+00  2.807356e+09  3.519844e+09   \n9520      AFG   ALB  2004  0.000000e+00  2.886814e+09  3.995233e+09   \n9521      AFG   ALB  2005  8.425100e+02  3.451279e+09  4.487185e+09   \n...       ...   ...   ...           ...           ...           ...   \n2502309   ZWE   ZAF  2010  1.362836e+08  6.097825e+09  2.429183e+11   \n2502310   ZWE   ZAF  2011  2.963509e+08  6.838230e+09  2.600151e+11   \n2502311   ZWE   ZAF  2012  2.643870e+08  7.845171e+09  2.515643e+11   \n2502312   ZWE   ZAF  2013  2.402471e+08  8.629172e+09  2.341530e+11   \n2502313   ZWE   ZAF  2014  1.235077e+08  8.627889e+09  2.126283e+11   \n\n              IPTOT_o       IPTOT_d       XPTOT_o       XPTOT_d  ...  Comlang  \\\n9517     1.178135e+09  9.277187e+08  6.461683e+07  2.456777e+08  ...      0.0   \n9518     1.636031e+09  1.001869e+09  6.455996e+07  2.350390e+08  ...      0.0   \n9519     1.286804e+09  1.134494e+09  1.405804e+08  2.853600e+08  ...      0.0   \n9520     1.189034e+09  1.253008e+09  1.665849e+08  3.348490e+08  ...      0.0   \n9521     1.358902e+09  1.438833e+09  2.111992e+08  3.475448e+08  ...      0.0   \n...               ...           ...           ...           ...  ...      ...   \n2502309  2.673542e+09  5.884947e+10  2.070475e+09  5.911786e+10  ...      1.0   \n2502310  3.097955e+09  6.839961e+10  2.192061e+09  7.758460e+10  ...      1.0   \n2502311  3.321382e+09  7.224269e+10  2.457760e+09  8.144235e+10  ...      1.0   \n2502312  3.244361e+09  7.245120e+10  2.243481e+09  8.031384e+10  ...      1.0   \n2502313  2.983128e+09  6.646986e+10  2.089376e+09  7.388984e+10  ...      1.0   \n\n         Contig      POP_o      POP_d  OECD_o  OECD_d  GATT_o  GATT_d  \\\n9517        0.0  20531.160   3060.173     0.0     0.0     0.0     1.0   \n9518        0.0  21487.078   3051.010     0.0     0.0     0.0     1.0   \n9519        0.0  22507.367   3039.616     0.0     0.0     0.0     1.0   \n9520        0.0  23499.850   3026.939     0.0     0.0     0.0     1.0   \n9521        0.0  24399.947   3011.487     0.0     0.0     0.0     1.0   \n...         ...        ...        ...     ...     ...     ...     ...   \n2502309     1.0  13973.897  50771.824     0.0     0.0     1.0     1.0   \n2502310     1.0  14255.592  51549.957     0.0     0.0     1.0     1.0   \n2502311     1.0  14565.482  52356.380     0.0     0.0     1.0     1.0   \n2502312     1.0  14898.092  53192.215     0.0     0.0     1.0     1.0   \n2502313     1.0  15245.855  54058.650     0.0     0.0     1.0     1.0   \n\n         CONTI_o  CONTI_d  \n9517        ASIA    EUROP  \n9518        ASIA    EUROP  \n9519        ASIA    EUROP  \n9520        ASIA    EUROP  \n9521        ASIA    EUROP  \n...          ...      ...  \n2502309     AFRI     AFRI  \n2502310     AFRI     AFRI  \n2502311     AFRI     AFRI  \n2502312     AFRI     AFRI  \n2502313     AFRI     AFRI  \n\n[749777 rows x 23 columns]",
      "text/html": "<div>\n<style scoped>\n    .dataframe tbody tr th:only-of-type {\n        vertical-align: middle;\n    }\n\n    .dataframe tbody tr th {\n        vertical-align: top;\n    }\n\n    .dataframe thead th {\n        text-align: right;\n    }\n</style>\n<table border=\"1\" class=\"dataframe\">\n  <thead>\n    <tr style=\"text-align: right;\">\n      <th></th>\n      <th>iso_o</th>\n      <th>iso_d</th>\n      <th>year</th>\n      <th>FLOW</th>\n      <th>GDP_o</th>\n      <th>GDP_d</th>\n      <th>IPTOT_o</th>\n      <th>IPTOT_d</th>\n      <th>XPTOT_o</th>\n      <th>XPTOT_d</th>\n      <th>...</th>\n      <th>Comlang</th>\n      <th>Contig</th>\n      <th>POP_o</th>\n      <th>POP_d</th>\n      <th>OECD_o</th>\n      <th>OECD_d</th>\n      <th>GATT_o</th>\n      <th>GATT_d</th>\n      <th>CONTI_o</th>\n      <th>CONTI_d</th>\n    </tr>\n  </thead>\n  <tbody>\n    <tr>\n      <th>9517</th>\n      <td>AFG</td>\n      <td>ALB</td>\n      <td>2001</td>\n      <td>0.000000e+00</td>\n      <td>1.710009e+09</td>\n      <td>2.820826e+09</td>\n      <td>1.178135e+09</td>\n      <td>9.277187e+08</td>\n      <td>6.461683e+07</td>\n      <td>2.456777e+08</td>\n      <td>...</td>\n      <td>0.0</td>\n      <td>0.0</td>\n      <td>20531.160</td>\n      <td>3060.173</td>\n      <td>0.0</td>\n      <td>0.0</td>\n      <td>0.0</td>\n      <td>1.0</td>\n      <td>ASIA</td>\n      <td>EUROP</td>\n    </tr>\n    <tr>\n      <th>9518</th>\n      <td>AFG</td>\n      <td>ALB</td>\n      <td>2002</td>\n      <td>0.000000e+00</td>\n      <td>2.754842e+09</td>\n      <td>2.959186e+09</td>\n      <td>1.636031e+09</td>\n      <td>1.001869e+09</td>\n      <td>6.455996e+07</td>\n      <td>2.350390e+08</td>\n      <td>...</td>\n      <td>0.0</td>\n      <td>0.0</td>\n      <td>21487.078</td>\n      <td>3051.010</td>\n      <td>0.0</td>\n      <td>0.0</td>\n      <td>0.0</td>\n      <td>1.0</td>\n      <td>ASIA</td>\n      <td>EUROP</td>\n    </tr>\n    <tr>\n      <th>9519</th>\n      <td>AFG</td>\n      <td>ALB</td>\n      <td>2003</td>\n      <td>0.000000e+00</td>\n      <td>2.807356e+09</td>\n      <td>3.519844e+09</td>\n      <td>1.286804e+09</td>\n      <td>1.134494e+09</td>\n      <td>1.405804e+08</td>\n      <td>2.853600e+08</td>\n      <td>...</td>\n      <td>0.0</td>\n      <td>0.0</td>\n      <td>22507.367</td>\n      <td>3039.616</td>\n      <td>0.0</td>\n      <td>0.0</td>\n      <td>0.0</td>\n      <td>1.0</td>\n      <td>ASIA</td>\n      <td>EUROP</td>\n    </tr>\n    <tr>\n      <th>9520</th>\n      <td>AFG</td>\n      <td>ALB</td>\n      <td>2004</td>\n      <td>0.000000e+00</td>\n      <td>2.886814e+09</td>\n      <td>3.995233e+09</td>\n      <td>1.189034e+09</td>\n      <td>1.253008e+09</td>\n      <td>1.665849e+08</td>\n      <td>3.348490e+08</td>\n      <td>...</td>\n      <td>0.0</td>\n      <td>0.0</td>\n      <td>23499.850</td>\n      <td>3026.939</td>\n      <td>0.0</td>\n      <td>0.0</td>\n      <td>0.0</td>\n      <td>1.0</td>\n      <td>ASIA</td>\n      <td>EUROP</td>\n    </tr>\n    <tr>\n      <th>9521</th>\n      <td>AFG</td>\n      <td>ALB</td>\n      <td>2005</td>\n      <td>8.425100e+02</td>\n      <td>3.451279e+09</td>\n      <td>4.487185e+09</td>\n      <td>1.358902e+09</td>\n      <td>1.438833e+09</td>\n      <td>2.111992e+08</td>\n      <td>3.475448e+08</td>\n      <td>...</td>\n      <td>0.0</td>\n      <td>0.0</td>\n      <td>24399.947</td>\n      <td>3011.487</td>\n      <td>0.0</td>\n      <td>0.0</td>\n      <td>0.0</td>\n      <td>1.0</td>\n      <td>ASIA</td>\n      <td>EUROP</td>\n    </tr>\n    <tr>\n      <th>...</th>\n      <td>...</td>\n      <td>...</td>\n      <td>...</td>\n      <td>...</td>\n      <td>...</td>\n      <td>...</td>\n      <td>...</td>\n      <td>...</td>\n      <td>...</td>\n      <td>...</td>\n      <td>...</td>\n      <td>...</td>\n      <td>...</td>\n      <td>...</td>\n      <td>...</td>\n      <td>...</td>\n      <td>...</td>\n      <td>...</td>\n      <td>...</td>\n      <td>...</td>\n      <td>...</td>\n    </tr>\n    <tr>\n      <th>2502309</th>\n      <td>ZWE</td>\n      <td>ZAF</td>\n      <td>2010</td>\n      <td>1.362836e+08</td>\n      <td>6.097825e+09</td>\n      <td>2.429183e+11</td>\n      <td>2.673542e+09</td>\n      <td>5.884947e+10</td>\n      <td>2.070475e+09</td>\n      <td>5.911786e+10</td>\n      <td>...</td>\n      <td>1.0</td>\n      <td>1.0</td>\n      <td>13973.897</td>\n      <td>50771.824</td>\n      <td>0.0</td>\n      <td>0.0</td>\n      <td>1.0</td>\n      <td>1.0</td>\n      <td>AFRI</td>\n      <td>AFRI</td>\n    </tr>\n    <tr>\n      <th>2502310</th>\n      <td>ZWE</td>\n      <td>ZAF</td>\n      <td>2011</td>\n      <td>2.963509e+08</td>\n      <td>6.838230e+09</td>\n      <td>2.600151e+11</td>\n      <td>3.097955e+09</td>\n      <td>6.839961e+10</td>\n      <td>2.192061e+09</td>\n      <td>7.758460e+10</td>\n      <td>...</td>\n      <td>1.0</td>\n      <td>1.0</td>\n      <td>14255.592</td>\n      <td>51549.957</td>\n      <td>0.0</td>\n      <td>0.0</td>\n      <td>1.0</td>\n      <td>1.0</td>\n      <td>AFRI</td>\n      <td>AFRI</td>\n    </tr>\n    <tr>\n      <th>2502311</th>\n      <td>ZWE</td>\n      <td>ZAF</td>\n      <td>2012</td>\n      <td>2.643870e+08</td>\n      <td>7.845171e+09</td>\n      <td>2.515643e+11</td>\n      <td>3.321382e+09</td>\n      <td>7.224269e+10</td>\n      <td>2.457760e+09</td>\n      <td>8.144235e+10</td>\n      <td>...</td>\n      <td>1.0</td>\n      <td>1.0</td>\n      <td>14565.482</td>\n      <td>52356.380</td>\n      <td>0.0</td>\n      <td>0.0</td>\n      <td>1.0</td>\n      <td>1.0</td>\n      <td>AFRI</td>\n      <td>AFRI</td>\n    </tr>\n    <tr>\n      <th>2502312</th>\n      <td>ZWE</td>\n      <td>ZAF</td>\n      <td>2013</td>\n      <td>2.402471e+08</td>\n      <td>8.629172e+09</td>\n      <td>2.341530e+11</td>\n      <td>3.244361e+09</td>\n      <td>7.245120e+10</td>\n      <td>2.243481e+09</td>\n      <td>8.031384e+10</td>\n      <td>...</td>\n      <td>1.0</td>\n      <td>1.0</td>\n      <td>14898.092</td>\n      <td>53192.215</td>\n      <td>0.0</td>\n      <td>0.0</td>\n      <td>1.0</td>\n      <td>1.0</td>\n      <td>AFRI</td>\n      <td>AFRI</td>\n    </tr>\n    <tr>\n      <th>2502313</th>\n      <td>ZWE</td>\n      <td>ZAF</td>\n      <td>2014</td>\n      <td>1.235077e+08</td>\n      <td>8.627889e+09</td>\n      <td>2.126283e+11</td>\n      <td>2.983128e+09</td>\n      <td>6.646986e+10</td>\n      <td>2.089376e+09</td>\n      <td>7.388984e+10</td>\n      <td>...</td>\n      <td>1.0</td>\n      <td>1.0</td>\n      <td>15245.855</td>\n      <td>54058.650</td>\n      <td>0.0</td>\n      <td>0.0</td>\n      <td>1.0</td>\n      <td>1.0</td>\n      <td>AFRI</td>\n      <td>AFRI</td>\n    </tr>\n  </tbody>\n</table>\n<p>749777 rows × 23 columns</p>\n</div>"
     },
     "execution_count": 51,
     "metadata": {},
     "output_type": "execute_result"
    }
   ],
   "source": [
    "cleaned_df"
   ],
   "metadata": {
    "collapsed": false,
    "pycharm": {
     "name": "#%%\n"
    }
   }
  },
  {
   "cell_type": "code",
   "execution_count": 57,
   "outputs": [
    {
     "data": {
      "text/plain": "<AxesSubplot:>"
     },
     "execution_count": 57,
     "metadata": {},
     "output_type": "execute_result"
    },
    {
     "data": {
      "text/plain": "<Figure size 432x288 with 1 Axes>",
      "image/png": "[encoded data removed]"
     },
     "metadata": {
      "needs_background": "light"
     },
     "output_type": "display_data"
    }
   ],
   "source": [
    "cleaned_df['FLOW'].plot()"
   ],
   "metadata": {
    "collapsed": false,
    "pycharm": {
     "name": "#%%\n"
    }
   }
  }
 ],
 "metadata": {
  "kernelspec": {
   "display_name": "Python 3",
   "language": "python",
   "name": "python3"
  },
  "language_info": {
   "codemirror_mode": {
    "name": "ipython",
    "version": 2
   },
   "file_extension": ".py",
   "mimetype": "text/x-python",
   "name": "python",
   "nbconvert_exporter": "python",
   "pygments_lexer": "ipython2",
   "version": "2.7.6"
  }
 },
 "nbformat": 4,
 "nbformat_minor": 0
}