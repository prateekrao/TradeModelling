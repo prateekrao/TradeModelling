{
 "cells": [
  {
   "cell_type": "markdown",
   "source": [
    "# Data Preprocessing"
   ],
   "metadata": {
    "collapsed": false,
    "pycharm": {
     "name": "#%% md\n"
    }
   }
  },
  {
   "cell_type": "markdown",
   "source": [
    "This notebook is aimed at understanding the data in smaller blocks, and exploring different feature spaces."
   ],
   "metadata": {
    "collapsed": false,
    "pycharm": {
     "name": "#%% md\n"
    }
   }
  },
  {
   "cell_type": "code",
   "execution_count": 2,
   "outputs": [],
   "source": [
    "import numpy as np\n",
    "import pandas as pd\n",
    "import matplotlib.pyplot as plt\n",
    "import seaborn as sns"
   ],
   "metadata": {
    "collapsed": false,
    "pycharm": {
     "name": "#%%\n"
    }
   }
  },
  {
   "cell_type": "code",
   "execution_count": 3,
   "outputs": [],
   "source": [
    "PATH = \"../datasets/tradhist.csv\""
   ],
   "metadata": {
    "collapsed": false,
    "pycharm": {
     "name": "#%%\n"
    }
   }
  },
  {
   "cell_type": "code",
   "execution_count": 5,
   "outputs": [
    {
     "name": "stderr",
     "output_type": "stream",
     "text": [
      "/var/folders/qc/xp9q1kcj79315fgc2jdgwtv00000gn/T/ipykernel_62071/3758478907.py:1: DtypeWarning: Columns (8,12,14,21,24,28,33,45,46,51) have mixed types. Specify dtype option on import or set low_memory=False.\n",
      "  df = pd.read_csv(PATH)\n"
     ]
    }
   ],
   "source": [
    "df = pd.read_csv(PATH)"
   ],
   "metadata": {
    "collapsed": false,
    "pycharm": {
     "name": "#%%\n"
    }
   }
  },
  {
   "cell_type": "code",
   "execution_count": 13,
   "outputs": [
    {
     "data": {
      "text/plain": "        iso_o iso_d  year        FLOW         GDP_o         GDP_d  \\\n0         NaN  ADEN  1950         NaN           NaN           NaN   \n1         NaN  ADEN  1951         NaN           NaN           NaN   \n2         NaN  ADEN  1952         NaN           NaN           NaN   \n3         NaN  ADEN  1953         NaN           NaN           NaN   \n4         NaN  ADEN  1954         NaN           NaN           NaN   \n...       ...   ...   ...         ...           ...           ...   \n2502422   ZWE   ZMB  2010  46558256.0  6.097825e+09  1.311544e+10   \n2502423   ZWE   ZMB  2011  55171376.0  6.838230e+09  1.464204e+10   \n2502424   ZWE   ZMB  2012  58787336.0  7.845171e+09  1.614464e+10   \n2502425   ZWE   ZMB  2013  77869780.0  8.629172e+09  1.793963e+10   \n2502426   ZWE   ZMB  2014  62405360.0  8.627889e+09  1.649053e+10   \n\n              IPTOT_o       IPTOT_d       XPTOT_o       XPTOT_d  ...  Comlang  \\\n0                 NaN  4.200000e+07           NaN  3.900000e+07  ...      NaN   \n1                 NaN  5.000000e+07           NaN  4.500000e+07  ...      NaN   \n2                 NaN  5.700000e+07           NaN  4.600000e+07  ...      NaN   \n3                 NaN  6.100000e+07           NaN  4.100000e+07  ...      NaN   \n4                 NaN  6.700000e+07           NaN  4.500000e+07  ...      NaN   \n...               ...           ...           ...           ...  ...      ...   \n2502422  2.673542e+09  3.442585e+09  2.070475e+09  4.636377e+09  ...      1.0   \n2502423  3.097955e+09  4.543546e+09  2.192061e+09  5.510135e+09  ...      1.0   \n2502424  3.321382e+09  5.562818e+09  2.457760e+09  5.922680e+09  ...      1.0   \n2502425  3.244361e+09  6.515267e+09  2.243481e+09  6.770876e+09  ...      1.0   \n2502426  2.983128e+09  5.899204e+09  2.089376e+09  5.890915e+09  ...      1.0   \n\n         Contig      POP_o      POP_d  OECD_o  OECD_d  GATT_o  GATT_d  \\\n0           NaN        NaN   4777.089     NaN     NaN     NaN     NaN   \n1           NaN        NaN   4869.125     NaN     NaN     NaN     NaN   \n2           NaN        NaN   4963.829     NaN     NaN     NaN     NaN   \n3           NaN        NaN   5061.153     NaN     NaN     NaN     NaN   \n4           NaN        NaN   5162.494     NaN     NaN     NaN     NaN   \n...         ...        ...        ...     ...     ...     ...     ...   \n2502422     1.0  13973.897  13917.439     0.0     0.0     1.0     1.0   \n2502423     1.0  14255.592  14343.526     0.0     0.0     1.0     1.0   \n2502424     1.0  14565.482  14786.581     0.0     0.0     1.0     1.0   \n2502425     1.0  14898.092  15246.086     0.0     0.0     1.0     1.0   \n2502426     1.0  15245.855  15721.343     0.0     0.0     1.0     1.0   \n\n         CONTI_o  CONTI_d  \n0            NaN     ASIA  \n1            NaN     ASIA  \n2            NaN     ASIA  \n3            NaN     ASIA  \n4            NaN     ASIA  \n...          ...      ...  \n2502422     AFRI     AFRI  \n2502423     AFRI     AFRI  \n2502424     AFRI     AFRI  \n2502425     AFRI     AFRI  \n2502426     AFRI     AFRI  \n\n[2502427 rows x 23 columns]",
      "text/html": "<div>\n<style scoped>\n    .dataframe tbody tr th:only-of-type {\n        vertical-align: middle;\n    }\n\n    .dataframe tbody tr th {\n        vertical-align: top;\n    }\n\n    .dataframe thead th {\n        text-align: right;\n    }\n</style>\n<table border=\"1\" class=\"dataframe\">\n  <thead>\n    <tr style=\"text-align: right;\">\n      <th></th>\n      <th>iso_o</th>\n      <th>iso_d</th>\n      <th>year</th>\n      <th>FLOW</th>\n      <th>GDP_o</th>\n      <th>GDP_d</th>\n      <th>IPTOT_o</th>\n      <th>IPTOT_d</th>\n      <th>XPTOT_o</th>\n      <th>XPTOT_d</th>\n      <th>...</th>\n      <th>Comlang</th>\n      <th>Contig</th>\n      <th>POP_o</th>\n      <th>POP_d</th>\n      <th>OECD_o</th>\n      <th>OECD_d</th>\n      <th>GATT_o</th>\n      <th>GATT_d</th>\n      <th>CONTI_o</th>\n      <th>CONTI_d</th>\n    </tr>\n  </thead>\n  <tbody>\n    <tr>\n      <th>0</th>\n      <td>NaN</td>\n      <td>ADEN</td>\n      <td>1950</td>\n      <td>NaN</td>\n      <td>NaN</td>\n      <td>NaN</td>\n      <td>NaN</td>\n      <td>4.200000e+07</td>\n      <td>NaN</td>\n      <td>3.900000e+07</td>\n      <td>...</td>\n      <td>NaN</td>\n      <td>NaN</td>\n      <td>NaN</td>\n      <td>4777.089</td>\n      <td>NaN</td>\n      <td>NaN</td>\n      <td>NaN</td>\n      <td>NaN</td>\n      <td>NaN</td>\n      <td>ASIA</td>\n    </tr>\n    <tr>\n      <th>1</th>\n      <td>NaN</td>\n      <td>ADEN</td>\n      <td>1951</td>\n      <td>NaN</td>\n      <td>NaN</td>\n      <td>NaN</td>\n      <td>NaN</td>\n      <td>5.000000e+07</td>\n      <td>NaN</td>\n      <td>4.500000e+07</td>\n      <td>...</td>\n      <td>NaN</td>\n      <td>NaN</td>\n      <td>NaN</td>\n      <td>4869.125</td>\n      <td>NaN</td>\n      <td>NaN</td>\n      <td>NaN</td>\n      <td>NaN</td>\n      <td>NaN</td>\n      <td>ASIA</td>\n    </tr>\n    <tr>\n      <th>2</th>\n      <td>NaN</td>\n      <td>ADEN</td>\n      <td>1952</td>\n      <td>NaN</td>\n      <td>NaN</td>\n      <td>NaN</td>\n      <td>NaN</td>\n      <td>5.700000e+07</td>\n      <td>NaN</td>\n      <td>4.600000e+07</td>\n      <td>...</td>\n      <td>NaN</td>\n      <td>NaN</td>\n      <td>NaN</td>\n      <td>4963.829</td>\n      <td>NaN</td>\n      <td>NaN</td>\n      <td>NaN</td>\n      <td>NaN</td>\n      <td>NaN</td>\n      <td>ASIA</td>\n    </tr>\n    <tr>\n      <th>3</th>\n      <td>NaN</td>\n      <td>ADEN</td>\n      <td>1953</td>\n      <td>NaN</td>\n      <td>NaN</td>\n      <td>NaN</td>\n      <td>NaN</td>\n      <td>6.100000e+07</td>\n      <td>NaN</td>\n      <td>4.100000e+07</td>\n      <td>...</td>\n      <td>NaN</td>\n      <td>NaN</td>\n      <td>NaN</td>\n      <td>5061.153</td>\n      <td>NaN</td>\n      <td>NaN</td>\n      <td>NaN</td>\n      <td>NaN</td>\n      <td>NaN</td>\n      <td>ASIA</td>\n    </tr>\n    <tr>\n      <th>4</th>\n      <td>NaN</td>\n      <td>ADEN</td>\n      <td>1954</td>\n      <td>NaN</td>\n      <td>NaN</td>\n      <td>NaN</td>\n      <td>NaN</td>\n      <td>6.700000e+07</td>\n      <td>NaN</td>\n      <td>4.500000e+07</td>\n      <td>...</td>\n      <td>NaN</td>\n      <td>NaN</td>\n      <td>NaN</td>\n      <td>5162.494</td>\n      <td>NaN</td>\n      <td>NaN</td>\n      <td>NaN</td>\n      <td>NaN</td>\n      <td>NaN</td>\n      <td>ASIA</td>\n    </tr>\n    <tr>\n      <th>...</th>\n      <td>...</td>\n      <td>...</td>\n      <td>...</td>\n      <td>...</td>\n      <td>...</td>\n      <td>...</td>\n      <td>...</td>\n      <td>...</td>\n      <td>...</td>\n      <td>...</td>\n      <td>...</td>\n      <td>...</td>\n      <td>...</td>\n      <td>...</td>\n      <td>...</td>\n      <td>...</td>\n      <td>...</td>\n      <td>...</td>\n      <td>...</td>\n      <td>...</td>\n      <td>...</td>\n    </tr>\n    <tr>\n      <th>2502422</th>\n      <td>ZWE</td>\n      <td>ZMB</td>\n      <td>2010</td>\n      <td>46558256.0</td>\n      <td>6.097825e+09</td>\n      <td>1.311544e+10</td>\n      <td>2.673542e+09</td>\n      <td>3.442585e+09</td>\n      <td>2.070475e+09</td>\n      <td>4.636377e+09</td>\n      <td>...</td>\n      <td>1.0</td>\n      <td>1.0</td>\n      <td>13973.897</td>\n      <td>13917.439</td>\n      <td>0.0</td>\n      <td>0.0</td>\n      <td>1.0</td>\n      <td>1.0</td>\n      <td>AFRI</td>\n      <td>AFRI</td>\n    </tr>\n    <tr>\n      <th>2502423</th>\n      <td>ZWE</td>\n      <td>ZMB</td>\n      <td>2011</td>\n      <td>55171376.0</td>\n      <td>6.838230e+09</td>\n      <td>1.464204e+10</td>\n      <td>3.097955e+09</td>\n      <td>4.543546e+09</td>\n      <td>2.192061e+09</td>\n      <td>5.510135e+09</td>\n      <td>...</td>\n      <td>1.0</td>\n      <td>1.0</td>\n      <td>14255.592</td>\n      <td>14343.526</td>\n      <td>0.0</td>\n      <td>0.0</td>\n      <td>1.0</td>\n      <td>1.0</td>\n      <td>AFRI</td>\n      <td>AFRI</td>\n    </tr>\n    <tr>\n      <th>2502424</th>\n      <td>ZWE</td>\n      <td>ZMB</td>\n      <td>2012</td>\n      <td>58787336.0</td>\n      <td>7.845171e+09</td>\n      <td>1.614464e+10</td>\n      <td>3.321382e+09</td>\n      <td>5.562818e+09</td>\n      <td>2.457760e+09</td>\n      <td>5.922680e+09</td>\n      <td>...</td>\n      <td>1.0</td>\n      <td>1.0</td>\n      <td>14565.482</td>\n      <td>14786.581</td>\n      <td>0.0</td>\n      <td>0.0</td>\n      <td>1.0</td>\n      <td>1.0</td>\n      <td>AFRI</td>\n      <td>AFRI</td>\n    </tr>\n    <tr>\n      <th>2502425</th>\n      <td>ZWE</td>\n      <td>ZMB</td>\n      <td>2013</td>\n      <td>77869780.0</td>\n      <td>8.629172e+09</td>\n      <td>1.793963e+10</td>\n      <td>3.244361e+09</td>\n      <td>6.515267e+09</td>\n      <td>2.243481e+09</td>\n      <td>6.770876e+09</td>\n      <td>...</td>\n      <td>1.0</td>\n      <td>1.0</td>\n      <td>14898.092</td>\n      <td>15246.086</td>\n      <td>0.0</td>\n      <td>0.0</td>\n      <td>1.0</td>\n      <td>1.0</td>\n      <td>AFRI</td>\n      <td>AFRI</td>\n    </tr>\n    <tr>\n      <th>2502426</th>\n      <td>ZWE</td>\n      <td>ZMB</td>\n      <td>2014</td>\n      <td>62405360.0</td>\n      <td>8.627889e+09</td>\n      <td>1.649053e+10</td>\n      <td>2.983128e+09</td>\n      <td>5.899204e+09</td>\n      <td>2.089376e+09</td>\n      <td>5.890915e+09</td>\n      <td>...</td>\n      <td>1.0</td>\n      <td>1.0</td>\n      <td>15245.855</td>\n      <td>15721.343</td>\n      <td>0.0</td>\n      <td>0.0</td>\n      <td>1.0</td>\n      <td>1.0</td>\n      <td>AFRI</td>\n      <td>AFRI</td>\n    </tr>\n  </tbody>\n</table>\n<p>2502427 rows × 23 columns</p>\n</div>"
     },
     "execution_count": 13,
     "metadata": {},
     "output_type": "execute_result"
    }
   ],
   "source": [
    "df"
   ],
   "metadata": {
    "collapsed": false,
    "pycharm": {
     "name": "#%%\n"
    }
   }
  },
  {
   "cell_type": "code",
   "execution_count": 14,
   "outputs": [],
   "source": [
    "df = df[[\"iso_o\", \"iso_d\", \"year\", \"FLOW\", \"GDP_o\", \"GDP_d\", \"IPTOT_o\", \"IPTOT_d\",\n",
    "                 \"XPTOT_o\", \"XPTOT_d\", \"Distw\", \"Dist_coord\", \"SeaDist_SHRT\",\n",
    "                 \"Comlang\", \"Contig\", \"POP_o\", \"POP_d\",\"OECD_o\", \"OECD_d\", \"GATT_o\", \"GATT_d\", \"CONTI_o\", \"CONTI_d\"]]"
   ],
   "metadata": {
    "collapsed": false,
    "pycharm": {
     "name": "#%%\n"
    }
   }
  },
  {
   "cell_type": "markdown",
   "source": [
    "> We will drop all values which have NaN for our target variable `FLOW`"
   ],
   "metadata": {
    "collapsed": false,
    "pycharm": {
     "name": "#%% md\n"
    }
   }
  },
  {
   "cell_type": "code",
   "execution_count": 15,
   "outputs": [],
   "source": [
    "df = df.dropna(subset=['FLOW'])"
   ],
   "metadata": {
    "collapsed": false,
    "pycharm": {
     "name": "#%%\n"
    }
   }
  },
  {
   "cell_type": "code",
   "execution_count": 16,
   "outputs": [
    {
     "data": {
      "text/plain": "          iso_o   iso_d  year         FLOW         GDP_o         GDP_d  \\\n1501     2SICIL  AUTHUN  1838    492920.70           NaN           NaN   \n1502     2SICIL     BEL  1834     38164.50           NaN           NaN   \n1503     2SICIL     BEL  1835     30052.34           NaN  6.113328e+07   \n1504     2SICIL     BEL  1836     44906.54           NaN  6.820465e+07   \n1505     2SICIL     BEL  1837     33957.27           NaN  7.146246e+07   \n...         ...     ...   ...          ...           ...           ...   \n2502422     ZWE     ZMB  2010  46558256.00  6.097825e+09  1.311544e+10   \n2502423     ZWE     ZMB  2011  55171376.00  6.838230e+09  1.464204e+10   \n2502424     ZWE     ZMB  2012  58787336.00  7.845171e+09  1.614464e+10   \n2502425     ZWE     ZMB  2013  77869780.00  8.629172e+09  1.793963e+10   \n2502426     ZWE     ZMB  2014  62405360.00  8.627889e+09  1.649053e+10   \n\n              IPTOT_o       IPTOT_d       XPTOT_o       XPTOT_d  ...  Comlang  \\\n1501              NaN  1.015852e+07           NaN  1.035482e+07  ...      0.0   \n1502              NaN  7.171259e+06           NaN  4.669327e+06  ...      0.0   \n1503              NaN  6.767636e+06           NaN  5.409698e+06  ...      0.0   \n1504              NaN  7.668378e+06           NaN  5.931506e+06  ...      0.0   \n1505              NaN  8.206626e+06           NaN  5.307154e+06  ...      0.0   \n...               ...           ...           ...           ...  ...      ...   \n2502422  2.673542e+09  3.442585e+09  2.070475e+09  4.636377e+09  ...      1.0   \n2502423  3.097955e+09  4.543546e+09  2.192061e+09  5.510135e+09  ...      1.0   \n2502424  3.321382e+09  5.562818e+09  2.457760e+09  5.922680e+09  ...      1.0   \n2502425  3.244361e+09  6.515267e+09  2.243481e+09  6.770876e+09  ...      1.0   \n2502426  2.983128e+09  5.899204e+09  2.089376e+09  5.890915e+09  ...      1.0   \n\n         Contig      POP_o      POP_d  OECD_o  OECD_d  GATT_o  GATT_d  \\\n1501        0.0        NaN   3680.000     NaN     NaN     NaN     NaN   \n1502        0.0        NaN   3879.000     NaN     NaN     NaN     NaN   \n1503        0.0        NaN   3912.000     NaN     NaN     NaN     NaN   \n1504        0.0        NaN   3945.000     NaN     NaN     NaN     NaN   \n1505        0.0        NaN   3978.000     NaN     NaN     NaN     NaN   \n...         ...        ...        ...     ...     ...     ...     ...   \n2502422     1.0  13973.897  13917.439     0.0     0.0     1.0     1.0   \n2502423     1.0  14255.592  14343.526     0.0     0.0     1.0     1.0   \n2502424     1.0  14565.482  14786.581     0.0     0.0     1.0     1.0   \n2502425     1.0  14898.092  15246.086     0.0     0.0     1.0     1.0   \n2502426     1.0  15245.855  15721.343     0.0     0.0     1.0     1.0   \n\n         CONTI_o  CONTI_d  \n1501       EUROP    EUROP  \n1502       EUROP    EUROP  \n1503       EUROP    EUROP  \n1504       EUROP    EUROP  \n1505       EUROP    EUROP  \n...          ...      ...  \n2502422     AFRI     AFRI  \n2502423     AFRI     AFRI  \n2502424     AFRI     AFRI  \n2502425     AFRI     AFRI  \n2502426     AFRI     AFRI  \n\n[1899690 rows x 23 columns]",
      "text/html": "<div>\n<style scoped>\n    .dataframe tbody tr th:only-of-type {\n        vertical-align: middle;\n    }\n\n    .dataframe tbody tr th {\n        vertical-align: top;\n    }\n\n    .dataframe thead th {\n        text-align: right;\n    }\n</style>\n<table border=\"1\" class=\"dataframe\">\n  <thead>\n    <tr style=\"text-align: right;\">\n      <th></th>\n      <th>iso_o</th>\n      <th>iso_d</th>\n      <th>year</th>\n      <th>FLOW</th>\n      <th>GDP_o</th>\n      <th>GDP_d</th>\n      <th>IPTOT_o</th>\n      <th>IPTOT_d</th>\n      <th>XPTOT_o</th>\n      <th>XPTOT_d</th>\n      <th>...</th>\n      <th>Comlang</th>\n      <th>Contig</th>\n      <th>POP_o</th>\n      <th>POP_d</th>\n      <th>OECD_o</th>\n      <th>OECD_d</th>\n      <th>GATT_o</th>\n      <th>GATT_d</th>\n      <th>CONTI_o</th>\n      <th>CONTI_d</th>\n    </tr>\n  </thead>\n  <tbody>\n    <tr>\n      <th>1501</th>\n      <td>2SICIL</td>\n      <td>AUTHUN</td>\n      <td>1838</td>\n      <td>492920.70</td>\n      <td>NaN</td>\n      <td>NaN</td>\n      <td>NaN</td>\n      <td>1.015852e+07</td>\n      <td>NaN</td>\n      <td>1.035482e+07</td>\n      <td>...</td>\n      <td>0.0</td>\n      <td>0.0</td>\n      <td>NaN</td>\n      <td>3680.000</td>\n      <td>NaN</td>\n      <td>NaN</td>\n      <td>NaN</td>\n      <td>NaN</td>\n      <td>EUROP</td>\n      <td>EUROP</td>\n    </tr>\n    <tr>\n      <th>1502</th>\n      <td>2SICIL</td>\n      <td>BEL</td>\n      <td>1834</td>\n      <td>38164.50</td>\n      <td>NaN</td>\n      <td>NaN</td>\n      <td>NaN</td>\n      <td>7.171259e+06</td>\n      <td>NaN</td>\n      <td>4.669327e+06</td>\n      <td>...</td>\n      <td>0.0</td>\n      <td>0.0</td>\n      <td>NaN</td>\n      <td>3879.000</td>\n      <td>NaN</td>\n      <td>NaN</td>\n      <td>NaN</td>\n      <td>NaN</td>\n      <td>EUROP</td>\n      <td>EUROP</td>\n    </tr>\n    <tr>\n      <th>1503</th>\n      <td>2SICIL</td>\n      <td>BEL</td>\n      <td>1835</td>\n      <td>30052.34</td>\n      <td>NaN</td>\n      <td>6.113328e+07</td>\n      <td>NaN</td>\n      <td>6.767636e+06</td>\n      <td>NaN</td>\n      <td>5.409698e+06</td>\n      <td>...</td>\n      <td>0.0</td>\n      <td>0.0</td>\n      <td>NaN</td>\n      <td>3912.000</td>\n      <td>NaN</td>\n      <td>NaN</td>\n      <td>NaN</td>\n      <td>NaN</td>\n      <td>EUROP</td>\n      <td>EUROP</td>\n    </tr>\n    <tr>\n      <th>1504</th>\n      <td>2SICIL</td>\n      <td>BEL</td>\n      <td>1836</td>\n      <td>44906.54</td>\n      <td>NaN</td>\n      <td>6.820465e+07</td>\n      <td>NaN</td>\n      <td>7.668378e+06</td>\n      <td>NaN</td>\n      <td>5.931506e+06</td>\n      <td>...</td>\n      <td>0.0</td>\n      <td>0.0</td>\n      <td>NaN</td>\n      <td>3945.000</td>\n      <td>NaN</td>\n      <td>NaN</td>\n      <td>NaN</td>\n      <td>NaN</td>\n      <td>EUROP</td>\n      <td>EUROP</td>\n    </tr>\n    <tr>\n      <th>1505</th>\n      <td>2SICIL</td>\n      <td>BEL</td>\n      <td>1837</td>\n      <td>33957.27</td>\n      <td>NaN</td>\n      <td>7.146246e+07</td>\n      <td>NaN</td>\n      <td>8.206626e+06</td>\n      <td>NaN</td>\n      <td>5.307154e+06</td>\n      <td>...</td>\n      <td>0.0</td>\n      <td>0.0</td>\n      <td>NaN</td>\n      <td>3978.000</td>\n      <td>NaN</td>\n      <td>NaN</td>\n      <td>NaN</td>\n      <td>NaN</td>\n      <td>EUROP</td>\n      <td>EUROP</td>\n    </tr>\n    <tr>\n      <th>...</th>\n      <td>...</td>\n      <td>...</td>\n      <td>...</td>\n      <td>...</td>\n      <td>...</td>\n      <td>...</td>\n      <td>...</td>\n      <td>...</td>\n      <td>...</td>\n      <td>...</td>\n      <td>...</td>\n      <td>...</td>\n      <td>...</td>\n      <td>...</td>\n      <td>...</td>\n      <td>...</td>\n      <td>...</td>\n      <td>...</td>\n      <td>...</td>\n      <td>...</td>\n      <td>...</td>\n    </tr>\n    <tr>\n      <th>2502422</th>\n      <td>ZWE</td>\n      <td>ZMB</td>\n      <td>2010</td>\n      <td>46558256.00</td>\n      <td>6.097825e+09</td>\n      <td>1.311544e+10</td>\n      <td>2.673542e+09</td>\n      <td>3.442585e+09</td>\n      <td>2.070475e+09</td>\n      <td>4.636377e+09</td>\n      <td>...</td>\n      <td>1.0</td>\n      <td>1.0</td>\n      <td>13973.897</td>\n      <td>13917.439</td>\n      <td>0.0</td>\n      <td>0.0</td>\n      <td>1.0</td>\n      <td>1.0</td>\n      <td>AFRI</td>\n      <td>AFRI</td>\n    </tr>\n    <tr>\n      <th>2502423</th>\n      <td>ZWE</td>\n      <td>ZMB</td>\n      <td>2011</td>\n      <td>55171376.00</td>\n      <td>6.838230e+09</td>\n      <td>1.464204e+10</td>\n      <td>3.097955e+09</td>\n      <td>4.543546e+09</td>\n      <td>2.192061e+09</td>\n      <td>5.510135e+09</td>\n      <td>...</td>\n      <td>1.0</td>\n      <td>1.0</td>\n      <td>14255.592</td>\n      <td>14343.526</td>\n      <td>0.0</td>\n      <td>0.0</td>\n      <td>1.0</td>\n      <td>1.0</td>\n      <td>AFRI</td>\n      <td>AFRI</td>\n    </tr>\n    <tr>\n      <th>2502424</th>\n      <td>ZWE</td>\n      <td>ZMB</td>\n      <td>2012</td>\n      <td>58787336.00</td>\n      <td>7.845171e+09</td>\n      <td>1.614464e+10</td>\n      <td>3.321382e+09</td>\n      <td>5.562818e+09</td>\n      <td>2.457760e+09</td>\n      <td>5.922680e+09</td>\n      <td>...</td>\n      <td>1.0</td>\n      <td>1.0</td>\n      <td>14565.482</td>\n      <td>14786.581</td>\n      <td>0.0</td>\n      <td>0.0</td>\n      <td>1.0</td>\n      <td>1.0</td>\n      <td>AFRI</td>\n      <td>AFRI</td>\n    </tr>\n    <tr>\n      <th>2502425</th>\n      <td>ZWE</td>\n      <td>ZMB</td>\n      <td>2013</td>\n      <td>77869780.00</td>\n      <td>8.629172e+09</td>\n      <td>1.793963e+10</td>\n      <td>3.244361e+09</td>\n      <td>6.515267e+09</td>\n      <td>2.243481e+09</td>\n      <td>6.770876e+09</td>\n      <td>...</td>\n      <td>1.0</td>\n      <td>1.0</td>\n      <td>14898.092</td>\n      <td>15246.086</td>\n      <td>0.0</td>\n      <td>0.0</td>\n      <td>1.0</td>\n      <td>1.0</td>\n      <td>AFRI</td>\n      <td>AFRI</td>\n    </tr>\n    <tr>\n      <th>2502426</th>\n      <td>ZWE</td>\n      <td>ZMB</td>\n      <td>2014</td>\n      <td>62405360.00</td>\n      <td>8.627889e+09</td>\n      <td>1.649053e+10</td>\n      <td>2.983128e+09</td>\n      <td>5.899204e+09</td>\n      <td>2.089376e+09</td>\n      <td>5.890915e+09</td>\n      <td>...</td>\n      <td>1.0</td>\n      <td>1.0</td>\n      <td>15245.855</td>\n      <td>15721.343</td>\n      <td>0.0</td>\n      <td>0.0</td>\n      <td>1.0</td>\n      <td>1.0</td>\n      <td>AFRI</td>\n      <td>AFRI</td>\n    </tr>\n  </tbody>\n</table>\n<p>1899690 rows × 23 columns</p>\n</div>"
     },
     "execution_count": 16,
     "metadata": {},
     "output_type": "execute_result"
    }
   ],
   "source": [
    "df"
   ],
   "metadata": {
    "collapsed": false,
    "pycharm": {
     "name": "#%%\n"
    }
   }
  },
  {
   "cell_type": "code",
   "execution_count": 18,
   "outputs": [
    {
     "data": {
      "text/plain": "{'2SICIL',\n 'ABW',\n 'ADEN',\n 'AFG',\n 'AGO',\n 'ALASKA',\n 'ALB',\n 'ALSLOR',\n 'AND',\n 'ANT',\n 'AOFAEF',\n 'ARE',\n 'ARG',\n 'ARM',\n 'ASM',\n 'ATG',\n 'AUS',\n 'AUSNSW',\n 'AUSQUE',\n 'AUSSTH',\n 'AUSTAS',\n 'AUSVIC',\n 'AUSWST',\n 'AUT',\n 'AUTHUN',\n 'AZE',\n 'AZORES',\n 'BARBAR',\n 'BDI',\n 'BEL',\n 'BEN',\n 'BFA',\n 'BGD',\n 'BGR',\n 'BHR',\n 'BHS',\n 'BIH',\n 'BLM',\n 'BLR',\n 'BLZ',\n 'BMU',\n 'BOL',\n 'BRA',\n 'BRB',\n 'BREMEN',\n 'BRN',\n 'BTN',\n 'BWA',\n 'CAF',\n 'CAN',\n 'CANARY',\n 'CANPRINCED',\n 'CANQBCONT',\n 'CCK',\n 'CHE',\n 'CHISL',\n 'CHL',\n 'CHN',\n 'CIV',\n 'CMR',\n 'COD',\n 'COG',\n 'COK',\n 'COL',\n 'COM',\n 'CPV',\n 'CRI',\n 'CUB',\n 'CUW',\n 'CXR',\n 'CYM',\n 'CYP',\n 'CZE',\n 'CZSK',\n 'DANTZ',\n 'DEU',\n 'DEUAFRI',\n 'DEUNEWGUI',\n 'DEUWAF',\n 'DJI',\n 'DMA',\n 'DNK',\n 'DOM',\n 'DZA',\n 'ECU',\n 'EDEU',\n 'EGY',\n 'ERI',\n 'ESH',\n 'ESP',\n 'EST',\n 'ETH',\n 'FEDMYS',\n 'FIN',\n 'FIUME',\n 'FJI',\n 'FLK',\n 'FRA',\n 'FRAAEF',\n 'FRAAFRI',\n 'FRAAOF',\n 'FRAEAFRI',\n 'FRAIND',\n 'FRAOCEA',\n 'FRAWINDIES',\n 'FRO',\n 'FSM',\n 'GAB',\n 'GBR',\n 'GBRAFRI',\n 'GBRBORNEO',\n 'GBRIND',\n 'GBRMEDI',\n 'GBRPAPUA',\n 'GBRSOM',\n 'GBRWAFRI',\n 'GBRWINDIES',\n 'GEL',\n 'GEO',\n 'GHA',\n 'GIB',\n 'GIN',\n 'GLP',\n 'GMB',\n 'GNB',\n 'GNQ',\n 'GRC',\n 'GRD',\n 'GRL',\n 'GTM',\n 'GUF',\n 'GUM',\n 'GUY',\n 'HAMBG',\n 'HANOV',\n 'HANS',\n 'HKG',\n 'HND',\n 'HRV',\n 'HTI',\n 'HUN',\n 'HWI',\n 'IDN',\n 'IND',\n 'INDOCHI',\n 'IRL',\n 'IRN',\n 'IRQ',\n 'ISL',\n 'ISR',\n 'ITA',\n 'ITAEAFRI',\n 'ITASOM',\n 'JAM',\n 'JOR',\n 'JPN',\n 'KAZ',\n 'KEN',\n 'KGZ',\n 'KHM',\n 'KIR',\n 'KNA',\n 'KOR',\n 'KWANTU',\n 'KWT',\n 'LAO',\n 'LBN',\n 'LBR',\n 'LBY',\n 'LCA',\n 'LIE',\n 'LKA',\n 'LSO',\n 'LTU',\n 'LUBECK',\n 'LUX',\n 'LVA',\n 'MAC',\n 'MADEIRA',\n 'MANCHU',\n 'MAR',\n 'MARESP',\n 'MCO',\n 'MDA',\n 'MDG',\n 'MDV',\n 'MECKL',\n 'MEX',\n 'MHL',\n 'MKD',\n 'MLI',\n 'MLT',\n 'MMR',\n 'MNE',\n 'MNG',\n 'MOZ',\n 'MRT',\n 'MTQ',\n 'MUS',\n 'MWI',\n 'MYS',\n 'MYT',\n 'NAM',\n 'NCL',\n 'NER',\n 'NFK',\n 'NFLD',\n 'NGA',\n 'NIC',\n 'NLD',\n 'NOR',\n 'NPL',\n 'NRU',\n 'NZL',\n 'OLDENB',\n 'OMN',\n 'OTTO',\n 'PAK',\n 'PAN',\n 'PCN',\n 'PER',\n 'PHL',\n 'PLW',\n 'PNG',\n 'POL',\n 'PRI',\n 'PRK',\n 'PRT',\n 'PRTAFRI',\n 'PRTIND',\n 'PRTWAFRI',\n 'PRUS',\n 'PRY',\n 'PYF',\n 'QAT',\n 'REU',\n 'RHOD',\n 'ROM',\n 'ROME',\n 'RUS',\n 'RWA',\n 'RWABDI',\n 'SARD',\n 'SARRE',\n 'SAU',\n 'SCHLES',\n 'SDN',\n 'SEN',\n 'SGP',\n 'SGS',\n 'SHN',\n 'SLB',\n 'SLE',\n 'SLV',\n 'SMR',\n 'SOM',\n 'SPM',\n 'SRB',\n 'STP',\n 'STRAITS',\n 'SUR',\n 'SVK',\n 'SVN',\n 'SWE',\n 'SWENOR',\n 'SWZ',\n 'SYC',\n 'SYR',\n 'SYRLBN',\n 'TANGER',\n 'TCA',\n 'TCD',\n 'TEXAS',\n 'TGO',\n 'TGOCMR',\n 'THA',\n 'TJK',\n 'TKM',\n 'TLS',\n 'TON',\n 'TRIEST',\n 'TTO',\n 'TUN',\n 'TUR',\n 'TUSC',\n 'TUV',\n 'TWN',\n 'TZA',\n 'UGA',\n 'UKNLD',\n 'UKR',\n 'ULSTER',\n 'UNFEDMYS',\n 'URY',\n 'USA',\n 'USSR',\n 'UZB',\n 'VAT',\n 'VCT',\n 'VEN',\n 'VIR',\n 'VNM',\n 'VUT',\n 'WDEU',\n 'WLF',\n 'WSM',\n 'YAR',\n 'YEM',\n 'YMD',\n 'YUG',\n 'ZAF',\n 'ZAFCAP',\n 'ZAFNAT',\n 'ZAFORA',\n 'ZAFTRA',\n 'ZANZ',\n 'ZMB',\n 'ZOLL',\n 'ZWE'}"
     },
     "execution_count": 18,
     "metadata": {},
     "output_type": "execute_result"
    }
   ],
   "source": [
    "set(df[\"iso_o\"])"
   ],
   "metadata": {
    "collapsed": false,
    "pycharm": {
     "name": "#%%\n"
    }
   }
  },
  {
   "cell_type": "code",
   "execution_count": 26,
   "outputs": [
    {
     "data": {
      "text/plain": "         iso_o  iso_d   year   FLOW  GDP_o  GDP_d  IPTOT_o  IPTOT_d  XPTOT_o  \\\n7472     False  False  False  False   True  False    False    False    False   \n7473     False  False  False  False   True  False    False    False    False   \n7474     False  False  False  False   True  False    False    False    False   \n7475     False  False  False  False   True  False    False    False    False   \n7476     False  False  False  False   True  False    False    False    False   \n...        ...    ...    ...    ...    ...    ...      ...      ...      ...   \n2501647  False  False  False  False  False  False    False    False    False   \n2501648  False  False  False  False  False  False    False    False    False   \n2501649  False  False  False  False  False  False    False    False    False   \n2501650  False  False  False  False  False  False    False    False    False   \n2501651  False  False  False  False  False  False    False    False    False   \n\n         XPTOT_d  ...  Comlang  Contig  POP_o  POP_d  OECD_o  OECD_d  GATT_o  \\\n7472       False  ...    False   False  False  False   False   False   False   \n7473       False  ...    False   False  False  False   False   False   False   \n7474       False  ...    False   False  False  False   False   False   False   \n7475       False  ...    False   False  False  False   False   False   False   \n7476       False  ...    False   False  False  False   False   False   False   \n...          ...  ...      ...     ...    ...    ...     ...     ...     ...   \n2501647    False  ...    False   False  False  False   False   False   False   \n2501648    False  ...    False   False  False  False   False   False   False   \n2501649    False  ...    False   False  False  False   False   False   False   \n2501650    False  ...    False   False  False  False   False   False   False   \n2501651    False  ...    False   False  False  False   False   False   False   \n\n         GATT_d  CONTI_o  CONTI_d  \n7472      False    False    False  \n7473      False    False    False  \n7474      False    False    False  \n7475      False    False    False  \n7476      False    False    False  \n...         ...      ...      ...  \n2501647   False    False    False  \n2501648   False    False    False  \n2501649   False    False    False  \n2501650   False    False    False  \n2501651   False    False    False  \n\n[39208 rows x 23 columns]",
      "text/html": "<div>\n<style scoped>\n    .dataframe tbody tr th:only-of-type {\n        vertical-align: middle;\n    }\n\n    .dataframe tbody tr th {\n        vertical-align: top;\n    }\n\n    .dataframe thead th {\n        text-align: right;\n    }\n</style>\n<table border=\"1\" class=\"dataframe\">\n  <thead>\n    <tr style=\"text-align: right;\">\n      <th></th>\n      <th>iso_o</th>\n      <th>iso_d</th>\n      <th>year</th>\n      <th>FLOW</th>\n      <th>GDP_o</th>\n      <th>GDP_d</th>\n      <th>IPTOT_o</th>\n      <th>IPTOT_d</th>\n      <th>XPTOT_o</th>\n      <th>XPTOT_d</th>\n      <th>...</th>\n      <th>Comlang</th>\n      <th>Contig</th>\n      <th>POP_o</th>\n      <th>POP_d</th>\n      <th>OECD_o</th>\n      <th>OECD_d</th>\n      <th>GATT_o</th>\n      <th>GATT_d</th>\n      <th>CONTI_o</th>\n      <th>CONTI_d</th>\n    </tr>\n  </thead>\n  <tbody>\n    <tr>\n      <th>7472</th>\n      <td>False</td>\n      <td>False</td>\n      <td>False</td>\n      <td>False</td>\n      <td>True</td>\n      <td>False</td>\n      <td>False</td>\n      <td>False</td>\n      <td>False</td>\n      <td>False</td>\n      <td>...</td>\n      <td>False</td>\n      <td>False</td>\n      <td>False</td>\n      <td>False</td>\n      <td>False</td>\n      <td>False</td>\n      <td>False</td>\n      <td>False</td>\n      <td>False</td>\n      <td>False</td>\n    </tr>\n    <tr>\n      <th>7473</th>\n      <td>False</td>\n      <td>False</td>\n      <td>False</td>\n      <td>False</td>\n      <td>True</td>\n      <td>False</td>\n      <td>False</td>\n      <td>False</td>\n      <td>False</td>\n      <td>False</td>\n      <td>...</td>\n      <td>False</td>\n      <td>False</td>\n      <td>False</td>\n      <td>False</td>\n      <td>False</td>\n      <td>False</td>\n      <td>False</td>\n      <td>False</td>\n      <td>False</td>\n      <td>False</td>\n    </tr>\n    <tr>\n      <th>7474</th>\n      <td>False</td>\n      <td>False</td>\n      <td>False</td>\n      <td>False</td>\n      <td>True</td>\n      <td>False</td>\n      <td>False</td>\n      <td>False</td>\n      <td>False</td>\n      <td>False</td>\n      <td>...</td>\n      <td>False</td>\n      <td>False</td>\n      <td>False</td>\n      <td>False</td>\n      <td>False</td>\n      <td>False</td>\n      <td>False</td>\n      <td>False</td>\n      <td>False</td>\n      <td>False</td>\n    </tr>\n    <tr>\n      <th>7475</th>\n      <td>False</td>\n      <td>False</td>\n      <td>False</td>\n      <td>False</td>\n      <td>True</td>\n      <td>False</td>\n      <td>False</td>\n      <td>False</td>\n      <td>False</td>\n      <td>False</td>\n      <td>...</td>\n      <td>False</td>\n      <td>False</td>\n      <td>False</td>\n      <td>False</td>\n      <td>False</td>\n      <td>False</td>\n      <td>False</td>\n      <td>False</td>\n      <td>False</td>\n      <td>False</td>\n    </tr>\n    <tr>\n      <th>7476</th>\n      <td>False</td>\n      <td>False</td>\n      <td>False</td>\n      <td>False</td>\n      <td>True</td>\n      <td>False</td>\n      <td>False</td>\n      <td>False</td>\n      <td>False</td>\n      <td>False</td>\n      <td>...</td>\n      <td>False</td>\n      <td>False</td>\n      <td>False</td>\n      <td>False</td>\n      <td>False</td>\n      <td>False</td>\n      <td>False</td>\n      <td>False</td>\n      <td>False</td>\n      <td>False</td>\n    </tr>\n    <tr>\n      <th>...</th>\n      <td>...</td>\n      <td>...</td>\n      <td>...</td>\n      <td>...</td>\n      <td>...</td>\n      <td>...</td>\n      <td>...</td>\n      <td>...</td>\n      <td>...</td>\n      <td>...</td>\n      <td>...</td>\n      <td>...</td>\n      <td>...</td>\n      <td>...</td>\n      <td>...</td>\n      <td>...</td>\n      <td>...</td>\n      <td>...</td>\n      <td>...</td>\n      <td>...</td>\n      <td>...</td>\n    </tr>\n    <tr>\n      <th>2501647</th>\n      <td>False</td>\n      <td>False</td>\n      <td>False</td>\n      <td>False</td>\n      <td>False</td>\n      <td>False</td>\n      <td>False</td>\n      <td>False</td>\n      <td>False</td>\n      <td>False</td>\n      <td>...</td>\n      <td>False</td>\n      <td>False</td>\n      <td>False</td>\n      <td>False</td>\n      <td>False</td>\n      <td>False</td>\n      <td>False</td>\n      <td>False</td>\n      <td>False</td>\n      <td>False</td>\n    </tr>\n    <tr>\n      <th>2501648</th>\n      <td>False</td>\n      <td>False</td>\n      <td>False</td>\n      <td>False</td>\n      <td>False</td>\n      <td>False</td>\n      <td>False</td>\n      <td>False</td>\n      <td>False</td>\n      <td>False</td>\n      <td>...</td>\n      <td>False</td>\n      <td>False</td>\n      <td>False</td>\n      <td>False</td>\n      <td>False</td>\n      <td>False</td>\n      <td>False</td>\n      <td>False</td>\n      <td>False</td>\n      <td>False</td>\n    </tr>\n    <tr>\n      <th>2501649</th>\n      <td>False</td>\n      <td>False</td>\n      <td>False</td>\n      <td>False</td>\n      <td>False</td>\n      <td>False</td>\n      <td>False</td>\n      <td>False</td>\n      <td>False</td>\n      <td>False</td>\n      <td>...</td>\n      <td>False</td>\n      <td>False</td>\n      <td>False</td>\n      <td>False</td>\n      <td>False</td>\n      <td>False</td>\n      <td>False</td>\n      <td>False</td>\n      <td>False</td>\n      <td>False</td>\n    </tr>\n    <tr>\n      <th>2501650</th>\n      <td>False</td>\n      <td>False</td>\n      <td>False</td>\n      <td>False</td>\n      <td>False</td>\n      <td>False</td>\n      <td>False</td>\n      <td>False</td>\n      <td>False</td>\n      <td>False</td>\n      <td>...</td>\n      <td>False</td>\n      <td>False</td>\n      <td>False</td>\n      <td>False</td>\n      <td>False</td>\n      <td>False</td>\n      <td>False</td>\n      <td>False</td>\n      <td>False</td>\n      <td>False</td>\n    </tr>\n    <tr>\n      <th>2501651</th>\n      <td>False</td>\n      <td>False</td>\n      <td>False</td>\n      <td>False</td>\n      <td>False</td>\n      <td>False</td>\n      <td>False</td>\n      <td>False</td>\n      <td>False</td>\n      <td>False</td>\n      <td>...</td>\n      <td>False</td>\n      <td>False</td>\n      <td>False</td>\n      <td>False</td>\n      <td>False</td>\n      <td>False</td>\n      <td>False</td>\n      <td>False</td>\n      <td>False</td>\n      <td>False</td>\n    </tr>\n  </tbody>\n</table>\n<p>39208 rows × 23 columns</p>\n</div>"
     },
     "execution_count": 26,
     "metadata": {},
     "output_type": "execute_result"
    }
   ],
   "source": [
    "df.loc[(df[\"iso_o\"] == \"USA\") | (df[\"iso_d\"] == \"USA\")].dropna(subset=[\"GDP_o\", \"GDP_d\", ])"
   ],
   "metadata": {
    "collapsed": false,
    "pycharm": {
     "name": "#%%\n"
    }
   }
  },
  {
   "cell_type": "code",
   "execution_count": 33,
   "outputs": [
    {
     "data": {
      "text/plain": "iso_o           1899690\niso_d           1899690\nyear            1899690\nFLOW            1899690\nGDP_o           1601579\nGDP_d           1597122\nIPTOT_o         1787562\nIPTOT_d         1779544\nXPTOT_o         1794707\nXPTOT_d         1786513\nDistw           1772917\nDist_coord      1899690\nSeaDist_SHRT    1295573\nComlang         1899690\nContig          1899690\nPOP_o           1726342\nPOP_d           1727923\nOECD_o          1424760\nOECD_d          1424760\nGATT_o          1664816\nGATT_d          1664816\nCONTI_o         1899690\nCONTI_d         1899690\ndtype: int64"
     },
     "execution_count": 33,
     "metadata": {},
     "output_type": "execute_result"
    }
   ],
   "source": [
    "df.count()"
   ],
   "metadata": {
    "collapsed": false,
    "pycharm": {
     "name": "#%%\n"
    }
   }
  },
  {
   "cell_type": "code",
   "execution_count": null,
   "outputs": [],
   "source": [],
   "metadata": {
    "collapsed": false,
    "pycharm": {
     "name": "#%%\n"
    }
   }
  }
 ],
 "metadata": {
  "kernelspec": {
   "display_name": "Python 3",
   "language": "python",
   "name": "python3"
  },
  "language_info": {
   "codemirror_mode": {
    "name": "ipython",
    "version": 2
   },
   "file_extension": ".py",
   "mimetype": "text/x-python",
   "name": "python",
   "nbconvert_exporter": "python",
   "pygments_lexer": "ipython2",
   "version": "2.7.6"
  }
 },
 "nbformat": 4,
 "nbformat_minor": 0
}